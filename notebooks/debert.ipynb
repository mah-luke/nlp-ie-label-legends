{
 "cells": [
  {
   "cell_type": "markdown",
   "metadata": {},
   "source": [
    "# Notebook for DeBERTa-v3-base"
   ]
  },
  {
   "cell_type": "code",
   "execution_count": 61,
   "metadata": {},
   "outputs": [
    {
     "name": "stdout",
     "output_type": "stream",
     "text": [
      "The autoreload extension is already loaded. To reload it, use:\n",
      "  %reload_ext autoreload\n"
     ]
    }
   ],
   "source": [
    "%load_ext autoreload\n",
    "%autoreload 2"
   ]
  },
  {
   "cell_type": "code",
   "execution_count": 62,
   "metadata": {},
   "outputs": [],
   "source": [
    "from conllu import TokenList\n",
    "import polars as pl\n",
    "from stanza.models.common.doc import Token\n",
    "from label_legends.preprocess import create_conllu, holdout, load_conllu, load_data, load_train, load_test, transform, load_vectorizer, reverse_vocabulary, vocabulary, ids_to_tokens, tokens_to_ids, vectorize_tokens, strip_stopwords\n",
    "import logging\n",
    "import mlflow\n",
    "from mlflow import MlflowClient\n",
    "from label_legends.result import calculate_scores, download_predictions, get_experiment, load_predictions, client, get_current\n",
    "import json\n",
    "\n",
    "logging.basicConfig(level=logging.INFO)"
   ]
  },
  {
   "cell_type": "markdown",
   "metadata": {},
   "source": [
    "# Importing dependencies for this specific model"
   ]
  },
  {
   "cell_type": "code",
   "execution_count": 63,
   "metadata": {},
   "outputs": [],
   "source": [
    "import torch\n",
    "from torch.utils.data import Dataset\n",
    "from sklearn.metrics import accuracy_score, precision_recall_fscore_support, confusion_matrix, ConfusionMatrixDisplay\n",
    "import time\n",
    "import numpy as np\n"
   ]
  },
  {
   "cell_type": "code",
   "execution_count": 64,
   "metadata": {},
   "outputs": [
    {
     "name": "stderr",
     "output_type": "stream",
     "text": [
      "Some weights of DebertaV2ForSequenceClassification were not initialized from the model checkpoint at microsoft/deberta-v3-base and are newly initialized: ['classifier.bias', 'classifier.weight', 'pooler.dense.bias', 'pooler.dense.weight']\n",
      "You should probably TRAIN this model on a down-stream task to be able to use it for predictions and inference.\n"
     ]
    }
   ],
   "source": [
    "from transformers import AutoModelForSequenceClassification, AutoConfig, DebertaV2Tokenizer, Trainer, TrainingArguments\n",
    "MODEL_NAME = 'microsoft/deberta-v3-base'\n",
    "model = AutoModelForSequenceClassification.from_pretrained(MODEL_NAME, num_labels=2)\n",
    "config = AutoConfig.from_pretrained(MODEL_NAME)\n",
    "tokenizer =DebertaV2Tokenizer.from_pretrained(MODEL_NAME)\n",
    "#DO I need the tokenizer here?"
   ]
  },
  {
   "cell_type": "code",
   "execution_count": 65,
   "metadata": {},
   "outputs": [
    {
     "data": {
      "text/html": [
       "<div><style>\n",
       ".dataframe > thead > tr,\n",
       ".dataframe > tbody > tr {\n",
       "  text-align: right;\n",
       "  white-space: pre-wrap;\n",
       "}\n",
       "</style>\n",
       "<small>shape: (60_000, 9)</small><table border=\"1\" class=\"dataframe\"><thead><tr><th>id</th><th>rewire_id</th><th>text</th><th>annotator</th><th>label_sexist</th><th>label_category</th><th>label_vector</th><th>split</th><th>tokens</th></tr><tr><td>i64</td><td>str</td><td>str</td><td>i64</td><td>str</td><td>str</td><td>str</td><td>str</td><td>list[str]</td></tr></thead><tbody><tr><td>0</td><td>&quot;sexism2022_english-0&quot;</td><td>&quot; I wonder what keeps that witc…</td><td>17</td><td>&quot;sexist&quot;</td><td>&quot;2. derogation&quot;</td><td>&quot;2.2 aggressive and emotive att…</td><td>&quot;train&quot;</td><td>[&quot;i&quot;, &quot;wonder&quot;, … &quot;😄&quot;]</td></tr><tr><td>1</td><td>&quot;sexism2022_english-0&quot;</td><td>&quot; I wonder what keeps that witc…</td><td>2</td><td>&quot;sexist&quot;</td><td>&quot;2. derogation&quot;</td><td>&quot;2.2 aggressive and emotive att…</td><td>&quot;train&quot;</td><td>[&quot;i&quot;, &quot;wonder&quot;, … &quot;😄&quot;]</td></tr><tr><td>10</td><td>&quot;sexism2022_english-100&quot;</td><td>&quot;Good for her! My grandson had …</td><td>3</td><td>&quot;not sexist&quot;</td><td>&quot;none&quot;</td><td>&quot;none&quot;</td><td>&quot;train&quot;</td><td>[&quot;good&quot;, &quot;for&quot;, … &quot;!&quot;]</td></tr><tr><td>100</td><td>&quot;sexism2022_english-10026&quot;</td><td>&quot;It is not insulting, it&#x27;s **ex…</td><td>14</td><td>&quot;sexist&quot;</td><td>&quot;2. derogation&quot;</td><td>&quot;2.1 descriptive attacks&quot;</td><td>&quot;test&quot;</td><td>[&quot;it&quot;, &quot;be&quot;, … &quot;.**&quot;]</td></tr><tr><td>1000</td><td>&quot;sexism2022_english-10297&quot;</td><td>&quot;The article said Madonna offer…</td><td>5</td><td>&quot;sexist&quot;</td><td>&quot;2. derogation&quot;</td><td>&quot;2.3 dehumanising attacks &amp; ove…</td><td>&quot;train&quot;</td><td>[&quot;the&quot;, &quot;article&quot;, … &quot;.&quot;]</td></tr><tr><td>&hellip;</td><td>&hellip;</td><td>&hellip;</td><td>&hellip;</td><td>&hellip;</td><td>&hellip;</td><td>&hellip;</td><td>&hellip;</td><td>&hellip;</td></tr><tr><td>9995</td><td>&quot;sexism2022_english-12996&quot;</td><td>&quot;Shudder.. if you had to have s…</td><td>17</td><td>&quot;sexist&quot;</td><td>&quot;2. derogation&quot;</td><td>&quot;2.3 dehumanising attacks &amp; ove…</td><td>&quot;test&quot;</td><td>[&quot;shudder&quot;, &quot;..&quot;, … &quot;.&quot;]</td></tr><tr><td>9996</td><td>&quot;sexism2022_english-12997&quot;</td><td>&quot;You mean one that forces women…</td><td>6</td><td>&quot;not sexist&quot;</td><td>&quot;none&quot;</td><td>&quot;none&quot;</td><td>&quot;train&quot;</td><td>[&quot;you&quot;, &quot;mean&quot;, … &quot;?&quot;]</td></tr><tr><td>9997</td><td>&quot;sexism2022_english-12997&quot;</td><td>&quot;You mean one that forces women…</td><td>4</td><td>&quot;not sexist&quot;</td><td>&quot;none&quot;</td><td>&quot;none&quot;</td><td>&quot;train&quot;</td><td>[&quot;you&quot;, &quot;mean&quot;, … &quot;?&quot;]</td></tr><tr><td>9998</td><td>&quot;sexism2022_english-12997&quot;</td><td>&quot;You mean one that forces women…</td><td>2</td><td>&quot;sexist&quot;</td><td>&quot;3. animosity&quot;</td><td>&quot;3.2 immutable gender differenc…</td><td>&quot;train&quot;</td><td>[&quot;you&quot;, &quot;mean&quot;, … &quot;?&quot;]</td></tr><tr><td>9999</td><td>&quot;sexism2022_english-12998&quot;</td><td>&quot;Gasoline. The answer 60% of Am…</td><td>9</td><td>&quot;sexist&quot;</td><td>&quot;1. threats, plans to harm and …</td><td>&quot;1.1 threats of harm&quot;</td><td>&quot;train&quot;</td><td>[&quot;gasoline&quot;, &quot;.&quot;, … &quot;.&quot;]</td></tr></tbody></table></div>"
      ],
      "text/plain": [
       "shape: (60_000, 9)\n",
       "┌──────┬─────────────┬─────────────┬───────────┬───┬─────────────┬────────────┬───────┬────────────┐\n",
       "│ id   ┆ rewire_id   ┆ text        ┆ annotator ┆ … ┆ label_categ ┆ label_vect ┆ split ┆ tokens     │\n",
       "│ ---  ┆ ---         ┆ ---         ┆ ---       ┆   ┆ ory         ┆ or         ┆ ---   ┆ ---        │\n",
       "│ i64  ┆ str         ┆ str         ┆ i64       ┆   ┆ ---         ┆ ---        ┆ str   ┆ list[str]  │\n",
       "│      ┆             ┆             ┆           ┆   ┆ str         ┆ str        ┆       ┆            │\n",
       "╞══════╪═════════════╪═════════════╪═══════════╪═══╪═════════════╪════════════╪═══════╪════════════╡\n",
       "│ 0    ┆ sexism2022_ ┆ I wonder    ┆ 17        ┆ … ┆ 2.          ┆ 2.2        ┆ train ┆ [\"i\",      │\n",
       "│      ┆ english-0   ┆ what keeps  ┆           ┆   ┆ derogation  ┆ aggressive ┆       ┆ \"wonder\",  │\n",
       "│      ┆             ┆ that witc…  ┆           ┆   ┆             ┆ and        ┆       ┆ … \"😄\"]    │\n",
       "│      ┆             ┆             ┆           ┆   ┆             ┆ emotive    ┆       ┆            │\n",
       "│      ┆             ┆             ┆           ┆   ┆             ┆ att…       ┆       ┆            │\n",
       "│ 1    ┆ sexism2022_ ┆ I wonder    ┆ 2         ┆ … ┆ 2.          ┆ 2.2        ┆ train ┆ [\"i\",      │\n",
       "│      ┆ english-0   ┆ what keeps  ┆           ┆   ┆ derogation  ┆ aggressive ┆       ┆ \"wonder\",  │\n",
       "│      ┆             ┆ that witc…  ┆           ┆   ┆             ┆ and        ┆       ┆ … \"😄\"]    │\n",
       "│      ┆             ┆             ┆           ┆   ┆             ┆ emotive    ┆       ┆            │\n",
       "│      ┆             ┆             ┆           ┆   ┆             ┆ att…       ┆       ┆            │\n",
       "│ 10   ┆ sexism2022_ ┆ Good for    ┆ 3         ┆ … ┆ none        ┆ none       ┆ train ┆ [\"good\",   │\n",
       "│      ┆ english-100 ┆ her! My     ┆           ┆   ┆             ┆            ┆       ┆ \"for\", …   │\n",
       "│      ┆             ┆ grandson    ┆           ┆   ┆             ┆            ┆       ┆ \"!\"]       │\n",
       "│      ┆             ┆ had …       ┆           ┆   ┆             ┆            ┆       ┆            │\n",
       "│ 100  ┆ sexism2022_ ┆ It is not   ┆ 14        ┆ … ┆ 2.          ┆ 2.1 descri ┆ test  ┆ [\"it\",     │\n",
       "│      ┆ english-100 ┆ insulting,  ┆           ┆   ┆ derogation  ┆ ptive      ┆       ┆ \"be\", …    │\n",
       "│      ┆ 26          ┆ it's **ex…  ┆           ┆   ┆             ┆ attacks    ┆       ┆ \".**\"]     │\n",
       "│ 1000 ┆ sexism2022_ ┆ The article ┆ 5         ┆ … ┆ 2.          ┆ 2.3 dehuma ┆ train ┆ [\"the\",    │\n",
       "│      ┆ english-102 ┆ said        ┆           ┆   ┆ derogation  ┆ nising     ┆       ┆ \"article\", │\n",
       "│      ┆ 97          ┆ Madonna     ┆           ┆   ┆             ┆ attacks &  ┆       ┆ … \".\"]     │\n",
       "│      ┆             ┆ offer…      ┆           ┆   ┆             ┆ ove…       ┆       ┆            │\n",
       "│ …    ┆ …           ┆ …           ┆ …         ┆ … ┆ …           ┆ …          ┆ …     ┆ …          │\n",
       "│ 9995 ┆ sexism2022_ ┆ Shudder..   ┆ 17        ┆ … ┆ 2.          ┆ 2.3 dehuma ┆ test  ┆ [\"shudder\" │\n",
       "│      ┆ english-129 ┆ if you had  ┆           ┆   ┆ derogation  ┆ nising     ┆       ┆ , \"..\", …  │\n",
       "│      ┆ 96          ┆ to have s…  ┆           ┆   ┆             ┆ attacks &  ┆       ┆ \".\"]       │\n",
       "│      ┆             ┆             ┆           ┆   ┆             ┆ ove…       ┆       ┆            │\n",
       "│ 9996 ┆ sexism2022_ ┆ You mean    ┆ 6         ┆ … ┆ none        ┆ none       ┆ train ┆ [\"you\",    │\n",
       "│      ┆ english-129 ┆ one that    ┆           ┆   ┆             ┆            ┆       ┆ \"mean\", …  │\n",
       "│      ┆ 97          ┆ forces      ┆           ┆   ┆             ┆            ┆       ┆ \"?\"]       │\n",
       "│      ┆             ┆ women…      ┆           ┆   ┆             ┆            ┆       ┆            │\n",
       "│ 9997 ┆ sexism2022_ ┆ You mean    ┆ 4         ┆ … ┆ none        ┆ none       ┆ train ┆ [\"you\",    │\n",
       "│      ┆ english-129 ┆ one that    ┆           ┆   ┆             ┆            ┆       ┆ \"mean\", …  │\n",
       "│      ┆ 97          ┆ forces      ┆           ┆   ┆             ┆            ┆       ┆ \"?\"]       │\n",
       "│      ┆             ┆ women…      ┆           ┆   ┆             ┆            ┆       ┆            │\n",
       "│ 9998 ┆ sexism2022_ ┆ You mean    ┆ 2         ┆ … ┆ 3.          ┆ 3.2        ┆ train ┆ [\"you\",    │\n",
       "│      ┆ english-129 ┆ one that    ┆           ┆   ┆ animosity   ┆ immutable  ┆       ┆ \"mean\", …  │\n",
       "│      ┆ 97          ┆ forces      ┆           ┆   ┆             ┆ gender     ┆       ┆ \"?\"]       │\n",
       "│      ┆             ┆ women…      ┆           ┆   ┆             ┆ differenc… ┆       ┆            │\n",
       "│ 9999 ┆ sexism2022_ ┆ Gasoline.   ┆ 9         ┆ … ┆ 1. threats, ┆ 1.1        ┆ train ┆ [\"gasoline │\n",
       "│      ┆ english-129 ┆ The answer  ┆           ┆   ┆ plans to    ┆ threats of ┆       ┆ \", \".\", …  │\n",
       "│      ┆ 98          ┆ 60% of Am…  ┆           ┆   ┆ harm and …  ┆ harm       ┆       ┆ \".\"]       │\n",
       "└──────┴─────────────┴─────────────┴───────────┴───┴─────────────┴────────────┴───────┴────────────┘"
      ]
     },
     "execution_count": 65,
     "metadata": {},
     "output_type": "execute_result"
    }
   ],
   "source": [
    "load_data().collect()"
   ]
  },
  {
   "cell_type": "markdown",
   "metadata": {},
   "source": [
    "### Splitting the dataset to training validation test"
   ]
  },
  {
   "cell_type": "code",
   "execution_count": 66,
   "metadata": {},
   "outputs": [],
   "source": [
    "val, tra = holdout()\n",
    "tra = transform(tra)\n",
    "val = transform(val)\n",
    "\n",
    "#Not needed as we have done this in the preprocessing\n",
    "# Convert 'label' column from string '0' and '1' to integer 0 and 1\n",
    "\"\"\"tra = tra.with_columns(\n",
    "    pl.col(\"label\").cast(pl.Int32)\n",
    ")\n",
    "val = val.with_columns(\n",
    "    pl.col(\"label\").cast(pl.Int32)\n",
    ")\"\"\"\n",
    "\n",
    "train_texts = tra[\"text\"].to_list()\n",
    "train_labels = tra[\"label\"].to_list()\n",
    "val_texts = val[\"text\"].to_list()\n",
    "val_labels = val[\"label\"].to_list()\n",
    "\n",
    "test = transform(load_test().collect())\n",
    "test_texts = test[\"text\"].to_list()\n",
    "test_labels = test[\"label\"].to_list()\n"
   ]
  },
  {
   "cell_type": "markdown",
   "metadata": {},
   "source": [
    "### Tokenizing the splits"
   ]
  },
  {
   "cell_type": "code",
   "execution_count": 67,
   "metadata": {},
   "outputs": [],
   "source": [
    "train_encodings = tokenizer(\n",
    "    train_texts,\n",
    "    truncation=True,\n",
    "    padding=True,\n",
    "    max_length=128,  # Adjust this as needed\n",
    "    return_tensors=\"pt\",\n",
    ")\n",
    "val_encodings = tokenizer(\n",
    "    val_texts,\n",
    "    truncation=True,\n",
    "    padding=True,\n",
    "    max_length=128,\n",
    "    return_tensors=\"pt\",\n",
    ")\n",
    "test_encodings = tokenizer(\n",
    "    test_texts,\n",
    "    truncation=True,\n",
    "    padding=True,\n",
    "    max_length=128,\n",
    "    return_tensors=\"pt\",\n",
    ")\n"
   ]
  },
  {
   "cell_type": "code",
   "execution_count": 68,
   "metadata": {},
   "outputs": [],
   "source": [
    "class SexistDataset(torch.utils.data.Dataset):\n",
    "    def __init__(self, encodings, labels):\n",
    "        self.encodings = encodings\n",
    "        self.labels = labels\n",
    "\n",
    "    def __getitem__(self, idx):\n",
    "        item = {key: torch.tensor(val[idx]) for key, val in self.encodings.items()}\n",
    "        item['labels'] = torch.tensor(self.labels[idx])\n",
    "        return item\n",
    "\n",
    "    def __len__(self):\n",
    "        return len(self.labels)\n",
    "\n",
    "    \n",
    "    \n",
    "def compute_metrics(pred):\n",
    "    labels = pred.label_ids\n",
    "    preds = pred.predictions.argmax(-1)\n",
    "    precision, recall, f1, _ = precision_recall_fscore_support(labels, preds, average=\"micro\")\n",
    "    acc = accuracy_score(labels, preds)\n",
    "    return {\n",
    "        'accuracy': acc,\n",
    "        'f1': f1,\n",
    "        'precision': precision,\n",
    "        'recall': recall\n",
    "    }"
   ]
  },
  {
   "cell_type": "code",
   "execution_count": 69,
   "metadata": {},
   "outputs": [],
   "source": [
    "train_dataset = SexistDataset(train_encodings, train_labels)\n",
    "val_dataset = SexistDataset(val_encodings, val_labels)\n",
    "test_dataset = SexistDataset(test_encodings, test_labels)"
   ]
  },
  {
   "cell_type": "code",
   "execution_count": 23,
   "metadata": {},
   "outputs": [
    {
     "name": "stderr",
     "output_type": "stream",
     "text": [
      "/Users/retipeter/Documents/TU Wien/NLP/nlp-ie-label-legends/.venv/lib/python3.12/site-packages/transformers/training_args.py:1575: FutureWarning: `evaluation_strategy` is deprecated and will be removed in version 4.46 of 🤗 Transformers. Use `eval_strategy` instead\n",
      "  warnings.warn(\n",
      "/var/folders/b6/1mflrv1s5s9b5pj5n4cg2hjw0000gn/T/ipykernel_72852/470661135.py:17: FutureWarning: `tokenizer` is deprecated and will be removed in version 5.0.0 for `Trainer.__init__`. Use `processing_class` instead.\n",
      "  trainer = Trainer(\n"
     ]
    }
   ],
   "source": [
    "training_args = TrainingArguments(\n",
    "    output_dir=\"./results\",\n",
    "    learning_rate=2e-5,\n",
    "    per_device_train_batch_size=8,\n",
    "    per_device_eval_batch_size=8,\n",
    "    num_train_epochs=3,\n",
    "    weight_decay=0.01,\n",
    "    logging_dir=\"./logs\",\n",
    "    save_total_limit=2,\n",
    "    evaluation_strategy=\"epoch\",  # Keep this for evaluation at the end of each epoch\n",
    "    logging_steps=100,  # Log less frequently than every step, but more often than every epoch\n",
    "    save_strategy=\"epoch\",  # Save checkpoints at the end of each epoch\n",
    "    load_best_model_at_end=True,  # Load best model based on evaluation loss\n",
    "    metric_for_best_model='eval_loss',  # Track evaluation loss for best model\n",
    ")\n",
    "\n",
    "trainer = Trainer(\n",
    "    model=model,\n",
    "    args=training_args,\n",
    "    train_dataset=train_dataset,\n",
    "    eval_dataset=val_dataset,\n",
    "    tokenizer=tokenizer,\n",
    "    compute_metrics=compute_metrics,\n",
    ")\n"
   ]
  },
  {
   "cell_type": "markdown",
   "metadata": {},
   "source": [
    "## Running the model"
   ]
  },
  {
   "cell_type": "code",
   "execution_count": 26,
   "metadata": {},
   "outputs": [
    {
     "name": "stderr",
     "output_type": "stream",
     "text": [
      "  0%|          | 0/11025 [00:00<?, ?it/s]/var/folders/b6/1mflrv1s5s9b5pj5n4cg2hjw0000gn/T/ipykernel_72852/2940528382.py:7: UserWarning: To copy construct from a tensor, it is recommended to use sourceTensor.clone().detach() or sourceTensor.clone().detach().requires_grad_(True), rather than torch.tensor(sourceTensor).\n",
      "  item = {key: torch.tensor(val[idx]) for key, val in self.encodings.items()}\n",
      "  1%|          | 100/11025 [00:38<1:07:03,  2.71it/s]"
     ]
    },
    {
     "name": "stdout",
     "output_type": "stream",
     "text": [
      "{'loss': 0.5795, 'grad_norm': 1.8887940645217896, 'learning_rate': 1.981859410430839e-05, 'epoch': 0.03}\n"
     ]
    },
    {
     "name": "stderr",
     "output_type": "stream",
     "text": [
      "  2%|▏         | 200/11025 [01:15<1:06:19,  2.72it/s]"
     ]
    },
    {
     "name": "stdout",
     "output_type": "stream",
     "text": [
      "{'loss': 0.5461, 'grad_norm': 6.557155132293701, 'learning_rate': 1.963718820861678e-05, 'epoch': 0.05}\n"
     ]
    },
    {
     "name": "stderr",
     "output_type": "stream",
     "text": [
      "  3%|▎         | 300/11025 [01:52<1:05:55,  2.71it/s]"
     ]
    },
    {
     "name": "stdout",
     "output_type": "stream",
     "text": [
      "{'loss': 0.5193, 'grad_norm': 14.155360221862793, 'learning_rate': 1.945578231292517e-05, 'epoch': 0.08}\n"
     ]
    },
    {
     "name": "stderr",
     "output_type": "stream",
     "text": [
      "  4%|▎         | 400/11025 [02:29<1:05:12,  2.72it/s]"
     ]
    },
    {
     "name": "stdout",
     "output_type": "stream",
     "text": [
      "{'loss': 0.4769, 'grad_norm': 1.0568448305130005, 'learning_rate': 1.9274376417233563e-05, 'epoch': 0.11}\n"
     ]
    },
    {
     "name": "stderr",
     "output_type": "stream",
     "text": [
      "  5%|▍         | 500/11025 [03:06<1:04:32,  2.72it/s]"
     ]
    },
    {
     "name": "stdout",
     "output_type": "stream",
     "text": [
      "{'loss': 0.4429, 'grad_norm': 8.496005058288574, 'learning_rate': 1.9092970521541953e-05, 'epoch': 0.14}\n"
     ]
    },
    {
     "name": "stderr",
     "output_type": "stream",
     "text": [
      "  5%|▌         | 600/11025 [03:43<1:04:41,  2.69it/s]"
     ]
    },
    {
     "name": "stdout",
     "output_type": "stream",
     "text": [
      "{'loss': 0.4518, 'grad_norm': 8.601648330688477, 'learning_rate': 1.8911564625850343e-05, 'epoch': 0.16}\n"
     ]
    },
    {
     "name": "stderr",
     "output_type": "stream",
     "text": [
      "  6%|▋         | 700/11025 [04:20<1:03:38,  2.70it/s]"
     ]
    },
    {
     "name": "stdout",
     "output_type": "stream",
     "text": [
      "{'loss': 0.479, 'grad_norm': 3.98360013961792, 'learning_rate': 1.8730158730158732e-05, 'epoch': 0.19}\n"
     ]
    },
    {
     "name": "stderr",
     "output_type": "stream",
     "text": [
      "  7%|▋         | 800/11025 [04:57<1:02:53,  2.71it/s]"
     ]
    },
    {
     "name": "stdout",
     "output_type": "stream",
     "text": [
      "{'loss': 0.4399, 'grad_norm': 4.519546031951904, 'learning_rate': 1.8548752834467122e-05, 'epoch': 0.22}\n"
     ]
    },
    {
     "name": "stderr",
     "output_type": "stream",
     "text": [
      "  8%|▊         | 900/11025 [05:34<1:02:17,  2.71it/s]"
     ]
    },
    {
     "name": "stdout",
     "output_type": "stream",
     "text": [
      "{'loss': 0.42, 'grad_norm': 5.970286846160889, 'learning_rate': 1.836734693877551e-05, 'epoch': 0.24}\n"
     ]
    },
    {
     "name": "stderr",
     "output_type": "stream",
     "text": [
      "  9%|▉         | 1000/11025 [06:10<1:01:08,  2.73it/s]"
     ]
    },
    {
     "name": "stdout",
     "output_type": "stream",
     "text": [
      "{'loss': 0.4085, 'grad_norm': 3.0715136528015137, 'learning_rate': 1.81859410430839e-05, 'epoch': 0.27}\n"
     ]
    },
    {
     "name": "stderr",
     "output_type": "stream",
     "text": [
      " 10%|▉         | 1100/11025 [06:47<1:00:54,  2.72it/s]"
     ]
    },
    {
     "name": "stdout",
     "output_type": "stream",
     "text": [
      "{'loss': 0.4317, 'grad_norm': 3.209310293197632, 'learning_rate': 1.8004535147392294e-05, 'epoch': 0.3}\n"
     ]
    },
    {
     "name": "stderr",
     "output_type": "stream",
     "text": [
      " 11%|█         | 1200/11025 [07:25<1:00:56,  2.69it/s]"
     ]
    },
    {
     "name": "stdout",
     "output_type": "stream",
     "text": [
      "{'loss': 0.3944, 'grad_norm': 1.058599829673767, 'learning_rate': 1.782312925170068e-05, 'epoch': 0.33}\n"
     ]
    },
    {
     "name": "stderr",
     "output_type": "stream",
     "text": [
      " 12%|█▏        | 1300/11025 [08:01<59:54,  2.71it/s]  "
     ]
    },
    {
     "name": "stdout",
     "output_type": "stream",
     "text": [
      "{'loss': 0.3974, 'grad_norm': 14.883304595947266, 'learning_rate': 1.7641723356009073e-05, 'epoch': 0.35}\n"
     ]
    },
    {
     "name": "stderr",
     "output_type": "stream",
     "text": [
      " 13%|█▎        | 1400/11025 [08:38<58:59,  2.72it/s]  "
     ]
    },
    {
     "name": "stdout",
     "output_type": "stream",
     "text": [
      "{'loss': 0.3931, 'grad_norm': 5.255669593811035, 'learning_rate': 1.7460317460317463e-05, 'epoch': 0.38}\n"
     ]
    },
    {
     "name": "stderr",
     "output_type": "stream",
     "text": [
      " 14%|█▎        | 1500/11025 [09:15<58:46,  2.70it/s]  "
     ]
    },
    {
     "name": "stdout",
     "output_type": "stream",
     "text": [
      "{'loss': 0.3961, 'grad_norm': 1.8459367752075195, 'learning_rate': 1.7278911564625852e-05, 'epoch': 0.41}\n"
     ]
    },
    {
     "name": "stderr",
     "output_type": "stream",
     "text": [
      " 15%|█▍        | 1600/11025 [09:52<57:52,  2.71it/s]  "
     ]
    },
    {
     "name": "stdout",
     "output_type": "stream",
     "text": [
      "{'loss': 0.3971, 'grad_norm': 8.854199409484863, 'learning_rate': 1.7097505668934242e-05, 'epoch': 0.44}\n"
     ]
    },
    {
     "name": "stderr",
     "output_type": "stream",
     "text": [
      " 15%|█▌        | 1700/11025 [10:29<57:17,  2.71it/s]"
     ]
    },
    {
     "name": "stdout",
     "output_type": "stream",
     "text": [
      "{'loss': 0.4454, 'grad_norm': 3.956153154373169, 'learning_rate': 1.691609977324263e-05, 'epoch': 0.46}\n"
     ]
    },
    {
     "name": "stderr",
     "output_type": "stream",
     "text": [
      " 16%|█▋        | 1800/11025 [11:06<56:41,  2.71it/s]"
     ]
    },
    {
     "name": "stdout",
     "output_type": "stream",
     "text": [
      "{'loss': 0.3927, 'grad_norm': 4.500953197479248, 'learning_rate': 1.673469387755102e-05, 'epoch': 0.49}\n"
     ]
    },
    {
     "name": "stderr",
     "output_type": "stream",
     "text": [
      " 17%|█▋        | 1900/11025 [11:43<56:33,  2.69it/s]"
     ]
    },
    {
     "name": "stdout",
     "output_type": "stream",
     "text": [
      "{'loss': 0.3807, 'grad_norm': 2.660168409347534, 'learning_rate': 1.655328798185941e-05, 'epoch': 0.52}\n"
     ]
    },
    {
     "name": "stderr",
     "output_type": "stream",
     "text": [
      " 18%|█▊        | 2000/11025 [12:21<57:32,  2.61it/s]"
     ]
    },
    {
     "name": "stdout",
     "output_type": "stream",
     "text": [
      "{'loss': 0.405, 'grad_norm': 6.890281677246094, 'learning_rate': 1.63718820861678e-05, 'epoch': 0.54}\n"
     ]
    },
    {
     "name": "stderr",
     "output_type": "stream",
     "text": [
      " 19%|█▉        | 2100/11025 [12:58<55:02,  2.70it/s]"
     ]
    },
    {
     "name": "stdout",
     "output_type": "stream",
     "text": [
      "{'loss': 0.3765, 'grad_norm': 3.054694414138794, 'learning_rate': 1.6190476190476193e-05, 'epoch': 0.57}\n"
     ]
    },
    {
     "name": "stderr",
     "output_type": "stream",
     "text": [
      " 20%|█▉        | 2200/11025 [13:35<54:07,  2.72it/s]"
     ]
    },
    {
     "name": "stdout",
     "output_type": "stream",
     "text": [
      "{'loss': 0.37, 'grad_norm': 2.0082945823669434, 'learning_rate': 1.6009070294784583e-05, 'epoch': 0.6}\n"
     ]
    },
    {
     "name": "stderr",
     "output_type": "stream",
     "text": [
      " 21%|██        | 2300/11025 [14:12<53:41,  2.71it/s]"
     ]
    },
    {
     "name": "stdout",
     "output_type": "stream",
     "text": [
      "{'loss': 0.4446, 'grad_norm': 8.985652923583984, 'learning_rate': 1.5827664399092972e-05, 'epoch': 0.63}\n"
     ]
    },
    {
     "name": "stderr",
     "output_type": "stream",
     "text": [
      " 22%|██▏       | 2400/11025 [14:49<53:47,  2.67it/s]"
     ]
    },
    {
     "name": "stdout",
     "output_type": "stream",
     "text": [
      "{'loss': 0.4011, 'grad_norm': 7.547424793243408, 'learning_rate': 1.5646258503401362e-05, 'epoch': 0.65}\n"
     ]
    },
    {
     "name": "stderr",
     "output_type": "stream",
     "text": [
      " 23%|██▎       | 2500/11025 [15:26<52:36,  2.70it/s]"
     ]
    },
    {
     "name": "stdout",
     "output_type": "stream",
     "text": [
      "{'loss': 0.3761, 'grad_norm': 9.5629243850708, 'learning_rate': 1.546485260770975e-05, 'epoch': 0.68}\n"
     ]
    },
    {
     "name": "stderr",
     "output_type": "stream",
     "text": [
      " 24%|██▎       | 2600/11025 [16:03<51:44,  2.71it/s]"
     ]
    },
    {
     "name": "stdout",
     "output_type": "stream",
     "text": [
      "{'loss': 0.4129, 'grad_norm': 8.632028579711914, 'learning_rate': 1.528344671201814e-05, 'epoch': 0.71}\n"
     ]
    },
    {
     "name": "stderr",
     "output_type": "stream",
     "text": [
      " 24%|██▍       | 2700/11025 [16:40<51:11,  2.71it/s]"
     ]
    },
    {
     "name": "stdout",
     "output_type": "stream",
     "text": [
      "{'loss': 0.3776, 'grad_norm': 4.64011287689209, 'learning_rate': 1.510204081632653e-05, 'epoch': 0.73}\n"
     ]
    },
    {
     "name": "stderr",
     "output_type": "stream",
     "text": [
      " 25%|██▌       | 2800/11025 [17:17<49:26,  2.77it/s]"
     ]
    },
    {
     "name": "stdout",
     "output_type": "stream",
     "text": [
      "{'loss': 0.3891, 'grad_norm': 2.892491340637207, 'learning_rate': 1.4920634920634922e-05, 'epoch': 0.76}\n"
     ]
    },
    {
     "name": "stderr",
     "output_type": "stream",
     "text": [
      " 26%|██▋       | 2900/11025 [19:53<49:54,  2.71it/s]   "
     ]
    },
    {
     "name": "stdout",
     "output_type": "stream",
     "text": [
      "{'loss': 0.3876, 'grad_norm': 12.65908145904541, 'learning_rate': 1.4739229024943311e-05, 'epoch': 0.79}\n"
     ]
    },
    {
     "name": "stderr",
     "output_type": "stream",
     "text": [
      " 27%|██▋       | 3000/11025 [20:30<49:13,  2.72it/s]"
     ]
    },
    {
     "name": "stdout",
     "output_type": "stream",
     "text": [
      "{'loss': 0.3759, 'grad_norm': 4.0728302001953125, 'learning_rate': 1.4557823129251703e-05, 'epoch': 0.82}\n"
     ]
    },
    {
     "name": "stderr",
     "output_type": "stream",
     "text": [
      " 28%|██▊       | 3100/11025 [21:07<48:31,  2.72it/s]"
     ]
    },
    {
     "name": "stdout",
     "output_type": "stream",
     "text": [
      "{'loss': 0.3902, 'grad_norm': 1.0634959936141968, 'learning_rate': 1.4376417233560092e-05, 'epoch': 0.84}\n"
     ]
    },
    {
     "name": "stderr",
     "output_type": "stream",
     "text": [
      " 29%|██▉       | 3200/11025 [21:44<48:03,  2.71it/s]"
     ]
    },
    {
     "name": "stdout",
     "output_type": "stream",
     "text": [
      "{'loss': 0.3373, 'grad_norm': 4.1765594482421875, 'learning_rate': 1.4195011337868484e-05, 'epoch': 0.87}\n"
     ]
    },
    {
     "name": "stderr",
     "output_type": "stream",
     "text": [
      " 30%|██▉       | 3300/11025 [22:21<47:23,  2.72it/s]"
     ]
    },
    {
     "name": "stdout",
     "output_type": "stream",
     "text": [
      "{'loss': 0.3951, 'grad_norm': 1.8797352313995361, 'learning_rate': 1.4013605442176872e-05, 'epoch': 0.9}\n"
     ]
    },
    {
     "name": "stderr",
     "output_type": "stream",
     "text": [
      " 31%|███       | 3400/11025 [22:58<46:50,  2.71it/s]"
     ]
    },
    {
     "name": "stdout",
     "output_type": "stream",
     "text": [
      "{'loss': 0.4218, 'grad_norm': 2.5846948623657227, 'learning_rate': 1.3832199546485261e-05, 'epoch': 0.93}\n"
     ]
    },
    {
     "name": "stderr",
     "output_type": "stream",
     "text": [
      " 32%|███▏      | 3500/11025 [23:34<46:29,  2.70it/s]"
     ]
    },
    {
     "name": "stdout",
     "output_type": "stream",
     "text": [
      "{'loss': 0.3401, 'grad_norm': 12.419594764709473, 'learning_rate': 1.3650793650793652e-05, 'epoch': 0.95}\n"
     ]
    },
    {
     "name": "stderr",
     "output_type": "stream",
     "text": [
      " 33%|███▎      | 3600/11025 [24:11<45:30,  2.72it/s]"
     ]
    },
    {
     "name": "stdout",
     "output_type": "stream",
     "text": [
      "{'loss': 0.4228, 'grad_norm': 5.562093257904053, 'learning_rate': 1.3469387755102042e-05, 'epoch': 0.98}\n"
     ]
    },
    {
     "name": "stderr",
     "output_type": "stream",
     "text": [
      "                                                    \n",
      " 33%|███▎      | 3675/11025 [27:00<46:24,  2.64it/s]"
     ]
    },
    {
     "name": "stdout",
     "output_type": "stream",
     "text": [
      "{'eval_loss': 0.33505699038505554, 'eval_accuracy': 0.8638888888888889, 'eval_f1': 0.8638888888888889, 'eval_precision': 0.8638888888888889, 'eval_recall': 0.8638888888888889, 'eval_runtime': 140.8363, 'eval_samples_per_second': 89.466, 'eval_steps_per_second': 11.183, 'epoch': 1.0}\n"
     ]
    },
    {
     "name": "stderr",
     "output_type": "stream",
     "text": [
      "/var/folders/b6/1mflrv1s5s9b5pj5n4cg2hjw0000gn/T/ipykernel_72852/2940528382.py:7: UserWarning: To copy construct from a tensor, it is recommended to use sourceTensor.clone().detach() or sourceTensor.clone().detach().requires_grad_(True), rather than torch.tensor(sourceTensor).\n",
      "  item = {key: torch.tensor(val[idx]) for key, val in self.encodings.items()}\n",
      " 34%|███▎      | 3700/11025 [27:12<45:59,  2.65it/s]   "
     ]
    },
    {
     "name": "stdout",
     "output_type": "stream",
     "text": [
      "{'loss': 0.3964, 'grad_norm': 2.894832134246826, 'learning_rate': 1.3287981859410433e-05, 'epoch': 1.01}\n"
     ]
    },
    {
     "name": "stderr",
     "output_type": "stream",
     "text": [
      " 34%|███▍      | 3800/11025 [27:49<44:26,  2.71it/s]"
     ]
    },
    {
     "name": "stdout",
     "output_type": "stream",
     "text": [
      "{'loss': 0.3446, 'grad_norm': 0.6119639873504639, 'learning_rate': 1.3106575963718821e-05, 'epoch': 1.03}\n"
     ]
    },
    {
     "name": "stderr",
     "output_type": "stream",
     "text": [
      " 35%|███▌      | 3900/11025 [28:26<43:41,  2.72it/s]"
     ]
    },
    {
     "name": "stdout",
     "output_type": "stream",
     "text": [
      "{'loss': 0.3084, 'grad_norm': 6.781388759613037, 'learning_rate': 1.2925170068027212e-05, 'epoch': 1.06}\n"
     ]
    },
    {
     "name": "stderr",
     "output_type": "stream",
     "text": [
      " 36%|███▋      | 4000/11025 [29:02<43:06,  2.72it/s]"
     ]
    },
    {
     "name": "stdout",
     "output_type": "stream",
     "text": [
      "{'loss': 0.342, 'grad_norm': 4.33773946762085, 'learning_rate': 1.2743764172335602e-05, 'epoch': 1.09}\n"
     ]
    },
    {
     "name": "stderr",
     "output_type": "stream",
     "text": [
      " 37%|███▋      | 4100/11025 [29:39<42:35,  2.71it/s]"
     ]
    },
    {
     "name": "stdout",
     "output_type": "stream",
     "text": [
      "{'loss': 0.3516, 'grad_norm': 3.1775600910186768, 'learning_rate': 1.2562358276643992e-05, 'epoch': 1.12}\n"
     ]
    },
    {
     "name": "stderr",
     "output_type": "stream",
     "text": [
      " 38%|███▊      | 4200/11025 [30:16<41:54,  2.71it/s]"
     ]
    },
    {
     "name": "stdout",
     "output_type": "stream",
     "text": [
      "{'loss': 0.3096, 'grad_norm': 15.63854694366455, 'learning_rate': 1.2380952380952383e-05, 'epoch': 1.14}\n"
     ]
    },
    {
     "name": "stderr",
     "output_type": "stream",
     "text": [
      " 39%|███▉      | 4300/11025 [30:53<40:55,  2.74it/s]"
     ]
    },
    {
     "name": "stdout",
     "output_type": "stream",
     "text": [
      "{'loss': 0.3265, 'grad_norm': 10.203651428222656, 'learning_rate': 1.219954648526077e-05, 'epoch': 1.17}\n"
     ]
    },
    {
     "name": "stderr",
     "output_type": "stream",
     "text": [
      " 40%|███▉      | 4400/11025 [31:30<40:17,  2.74it/s]"
     ]
    },
    {
     "name": "stdout",
     "output_type": "stream",
     "text": [
      "{'loss': 0.3461, 'grad_norm': 10.260486602783203, 'learning_rate': 1.2018140589569162e-05, 'epoch': 1.2}\n"
     ]
    },
    {
     "name": "stderr",
     "output_type": "stream",
     "text": [
      " 41%|████      | 4500/11025 [32:07<39:57,  2.72it/s]"
     ]
    },
    {
     "name": "stdout",
     "output_type": "stream",
     "text": [
      "{'loss': 0.2433, 'grad_norm': 21.30048370361328, 'learning_rate': 1.1836734693877552e-05, 'epoch': 1.22}\n"
     ]
    },
    {
     "name": "stderr",
     "output_type": "stream",
     "text": [
      " 42%|████▏     | 4600/11025 [32:43<39:24,  2.72it/s]"
     ]
    },
    {
     "name": "stdout",
     "output_type": "stream",
     "text": [
      "{'loss': 0.3516, 'grad_norm': 13.267343521118164, 'learning_rate': 1.1655328798185943e-05, 'epoch': 1.25}\n"
     ]
    },
    {
     "name": "stderr",
     "output_type": "stream",
     "text": [
      " 43%|████▎     | 4700/11025 [33:20<38:48,  2.72it/s]"
     ]
    },
    {
     "name": "stdout",
     "output_type": "stream",
     "text": [
      "{'loss': 0.3381, 'grad_norm': 11.548532485961914, 'learning_rate': 1.1473922902494332e-05, 'epoch': 1.28}\n"
     ]
    },
    {
     "name": "stderr",
     "output_type": "stream",
     "text": [
      " 44%|████▎     | 4800/11025 [33:57<38:16,  2.71it/s]"
     ]
    },
    {
     "name": "stdout",
     "output_type": "stream",
     "text": [
      "{'loss': 0.3571, 'grad_norm': 6.922317028045654, 'learning_rate': 1.1292517006802722e-05, 'epoch': 1.31}\n"
     ]
    },
    {
     "name": "stderr",
     "output_type": "stream",
     "text": [
      " 44%|████▍     | 4900/11025 [34:34<37:52,  2.70it/s]"
     ]
    },
    {
     "name": "stdout",
     "output_type": "stream",
     "text": [
      "{'loss': 0.3156, 'grad_norm': 9.378880500793457, 'learning_rate': 1.1111111111111113e-05, 'epoch': 1.33}\n"
     ]
    },
    {
     "name": "stderr",
     "output_type": "stream",
     "text": [
      " 45%|████▌     | 5000/11025 [35:11<36:55,  2.72it/s]"
     ]
    },
    {
     "name": "stdout",
     "output_type": "stream",
     "text": [
      "{'loss': 0.352, 'grad_norm': 9.70704174041748, 'learning_rate': 1.0929705215419501e-05, 'epoch': 1.36}\n"
     ]
    },
    {
     "name": "stderr",
     "output_type": "stream",
     "text": [
      " 46%|████▋     | 5100/11025 [35:48<36:25,  2.71it/s]"
     ]
    },
    {
     "name": "stdout",
     "output_type": "stream",
     "text": [
      "{'loss': 0.3657, 'grad_norm': 18.64288330078125, 'learning_rate': 1.0748299319727893e-05, 'epoch': 1.39}\n"
     ]
    },
    {
     "name": "stderr",
     "output_type": "stream",
     "text": [
      " 47%|████▋     | 5200/11025 [36:24<35:39,  2.72it/s]"
     ]
    },
    {
     "name": "stdout",
     "output_type": "stream",
     "text": [
      "{'loss': 0.2966, 'grad_norm': 5.730763912200928, 'learning_rate': 1.0566893424036282e-05, 'epoch': 1.41}\n"
     ]
    },
    {
     "name": "stderr",
     "output_type": "stream",
     "text": [
      " 48%|████▊     | 5300/11025 [37:01<34:52,  2.74it/s]"
     ]
    },
    {
     "name": "stdout",
     "output_type": "stream",
     "text": [
      "{'loss': 0.3746, 'grad_norm': 0.7152146697044373, 'learning_rate': 1.0385487528344672e-05, 'epoch': 1.44}\n"
     ]
    },
    {
     "name": "stderr",
     "output_type": "stream",
     "text": [
      " 49%|████▉     | 5400/11025 [37:38<34:27,  2.72it/s]"
     ]
    },
    {
     "name": "stdout",
     "output_type": "stream",
     "text": [
      "{'loss': 0.2905, 'grad_norm': 15.649313926696777, 'learning_rate': 1.0204081632653063e-05, 'epoch': 1.47}\n"
     ]
    },
    {
     "name": "stderr",
     "output_type": "stream",
     "text": [
      " 50%|████▉     | 5500/11025 [38:15<33:53,  2.72it/s]"
     ]
    },
    {
     "name": "stdout",
     "output_type": "stream",
     "text": [
      "{'loss': 0.3266, 'grad_norm': 11.472578048706055, 'learning_rate': 1.0022675736961451e-05, 'epoch': 1.5}\n"
     ]
    },
    {
     "name": "stderr",
     "output_type": "stream",
     "text": [
      " 51%|█████     | 5600/11025 [38:52<33:21,  2.71it/s]"
     ]
    },
    {
     "name": "stdout",
     "output_type": "stream",
     "text": [
      "{'loss': 0.3204, 'grad_norm': 3.415112018585205, 'learning_rate': 9.841269841269842e-06, 'epoch': 1.52}\n"
     ]
    },
    {
     "name": "stderr",
     "output_type": "stream",
     "text": [
      " 52%|█████▏    | 5700/11025 [39:29<32:44,  2.71it/s]"
     ]
    },
    {
     "name": "stdout",
     "output_type": "stream",
     "text": [
      "{'loss': 0.3331, 'grad_norm': 7.207555294036865, 'learning_rate': 9.659863945578232e-06, 'epoch': 1.55}\n"
     ]
    },
    {
     "name": "stderr",
     "output_type": "stream",
     "text": [
      " 53%|█████▎    | 5800/11025 [40:06<32:06,  2.71it/s]"
     ]
    },
    {
     "name": "stdout",
     "output_type": "stream",
     "text": [
      "{'loss': 0.2925, 'grad_norm': 8.084451675415039, 'learning_rate': 9.478458049886621e-06, 'epoch': 1.58}\n"
     ]
    },
    {
     "name": "stderr",
     "output_type": "stream",
     "text": [
      " 54%|█████▎    | 5900/11025 [40:43<31:27,  2.71it/s]"
     ]
    },
    {
     "name": "stdout",
     "output_type": "stream",
     "text": [
      "{'loss': 0.3291, 'grad_norm': 3.1626169681549072, 'learning_rate': 9.297052154195013e-06, 'epoch': 1.61}\n"
     ]
    },
    {
     "name": "stderr",
     "output_type": "stream",
     "text": [
      " 54%|█████▍    | 6000/11025 [41:20<30:52,  2.71it/s]"
     ]
    },
    {
     "name": "stdout",
     "output_type": "stream",
     "text": [
      "{'loss': 0.3267, 'grad_norm': 7.34704065322876, 'learning_rate': 9.115646258503402e-06, 'epoch': 1.63}\n"
     ]
    },
    {
     "name": "stderr",
     "output_type": "stream",
     "text": [
      " 55%|█████▌    | 6100/11025 [41:57<30:14,  2.71it/s]"
     ]
    },
    {
     "name": "stdout",
     "output_type": "stream",
     "text": [
      "{'loss': 0.3141, 'grad_norm': 2.1960933208465576, 'learning_rate': 8.934240362811792e-06, 'epoch': 1.66}\n"
     ]
    },
    {
     "name": "stderr",
     "output_type": "stream",
     "text": [
      " 56%|█████▌    | 6200/11025 [42:34<29:30,  2.72it/s]"
     ]
    },
    {
     "name": "stdout",
     "output_type": "stream",
     "text": [
      "{'loss': 0.3514, 'grad_norm': 9.914813041687012, 'learning_rate': 8.752834467120183e-06, 'epoch': 1.69}\n"
     ]
    },
    {
     "name": "stderr",
     "output_type": "stream",
     "text": [
      " 57%|█████▋    | 6300/11025 [43:10<29:03,  2.71it/s]"
     ]
    },
    {
     "name": "stdout",
     "output_type": "stream",
     "text": [
      "{'loss': 0.3217, 'grad_norm': 5.929183006286621, 'learning_rate': 8.571428571428571e-06, 'epoch': 1.71}\n"
     ]
    },
    {
     "name": "stderr",
     "output_type": "stream",
     "text": [
      " 58%|█████▊    | 6400/11025 [43:47<28:22,  2.72it/s]"
     ]
    },
    {
     "name": "stdout",
     "output_type": "stream",
     "text": [
      "{'loss': 0.3243, 'grad_norm': 6.368313312530518, 'learning_rate': 8.390022675736962e-06, 'epoch': 1.74}\n"
     ]
    },
    {
     "name": "stderr",
     "output_type": "stream",
     "text": [
      " 59%|█████▉    | 6500/11025 [44:24<27:49,  2.71it/s]"
     ]
    },
    {
     "name": "stdout",
     "output_type": "stream",
     "text": [
      "{'loss': 0.3212, 'grad_norm': 1.0078123807907104, 'learning_rate': 8.208616780045352e-06, 'epoch': 1.77}\n"
     ]
    },
    {
     "name": "stderr",
     "output_type": "stream",
     "text": [
      " 60%|█████▉    | 6600/11025 [45:01<27:12,  2.71it/s]"
     ]
    },
    {
     "name": "stdout",
     "output_type": "stream",
     "text": [
      "{'loss': 0.3087, 'grad_norm': 9.536394119262695, 'learning_rate': 8.027210884353741e-06, 'epoch': 1.8}\n"
     ]
    },
    {
     "name": "stderr",
     "output_type": "stream",
     "text": [
      " 61%|██████    | 6700/11025 [45:38<26:32,  2.72it/s]"
     ]
    },
    {
     "name": "stdout",
     "output_type": "stream",
     "text": [
      "{'loss': 0.3282, 'grad_norm': 9.00844955444336, 'learning_rate': 7.845804988662133e-06, 'epoch': 1.82}\n"
     ]
    },
    {
     "name": "stderr",
     "output_type": "stream",
     "text": [
      " 62%|██████▏   | 6800/11025 [46:15<25:56,  2.71it/s]"
     ]
    },
    {
     "name": "stdout",
     "output_type": "stream",
     "text": [
      "{'loss': 0.3426, 'grad_norm': 9.989607810974121, 'learning_rate': 7.664399092970522e-06, 'epoch': 1.85}\n"
     ]
    },
    {
     "name": "stderr",
     "output_type": "stream",
     "text": [
      " 63%|██████▎   | 6900/11025 [46:52<25:18,  2.72it/s]"
     ]
    },
    {
     "name": "stdout",
     "output_type": "stream",
     "text": [
      "{'loss': 0.3061, 'grad_norm': 6.494106292724609, 'learning_rate': 7.482993197278913e-06, 'epoch': 1.88}\n"
     ]
    },
    {
     "name": "stderr",
     "output_type": "stream",
     "text": [
      " 63%|██████▎   | 7000/11025 [47:29<25:09,  2.67it/s]"
     ]
    },
    {
     "name": "stdout",
     "output_type": "stream",
     "text": [
      "{'loss': 0.3076, 'grad_norm': 25.49379539489746, 'learning_rate': 7.301587301587301e-06, 'epoch': 1.9}\n"
     ]
    },
    {
     "name": "stderr",
     "output_type": "stream",
     "text": [
      " 64%|██████▍   | 7100/11025 [48:06<24:06,  2.71it/s]"
     ]
    },
    {
     "name": "stdout",
     "output_type": "stream",
     "text": [
      "{'loss': 0.3223, 'grad_norm': 0.9829422831535339, 'learning_rate': 7.120181405895692e-06, 'epoch': 1.93}\n"
     ]
    },
    {
     "name": "stderr",
     "output_type": "stream",
     "text": [
      " 65%|██████▌   | 7200/11025 [48:43<23:39,  2.69it/s]"
     ]
    },
    {
     "name": "stdout",
     "output_type": "stream",
     "text": [
      "{'loss': 0.3473, 'grad_norm': 2.818714141845703, 'learning_rate': 6.938775510204082e-06, 'epoch': 1.96}\n"
     ]
    },
    {
     "name": "stderr",
     "output_type": "stream",
     "text": [
      " 66%|██████▌   | 7300/11025 [49:19<22:52,  2.71it/s]"
     ]
    },
    {
     "name": "stdout",
     "output_type": "stream",
     "text": [
      "{'loss': 0.3475, 'grad_norm': 0.6745395660400391, 'learning_rate': 6.757369614512473e-06, 'epoch': 1.99}\n"
     ]
    },
    {
     "name": "stderr",
     "output_type": "stream",
     "text": [
      "                                                    \n",
      " 67%|██████▋   | 7350/11025 [51:59<22:31,  2.72it/s]"
     ]
    },
    {
     "name": "stdout",
     "output_type": "stream",
     "text": [
      "{'eval_loss': 0.3831699788570404, 'eval_accuracy': 0.8707936507936508, 'eval_f1': 0.8707936507936508, 'eval_precision': 0.8707936507936508, 'eval_recall': 0.8707936507936508, 'eval_runtime': 141.207, 'eval_samples_per_second': 89.231, 'eval_steps_per_second': 11.154, 'epoch': 2.0}\n"
     ]
    },
    {
     "name": "stderr",
     "output_type": "stream",
     "text": [
      "/var/folders/b6/1mflrv1s5s9b5pj5n4cg2hjw0000gn/T/ipykernel_72852/2940528382.py:7: UserWarning: To copy construct from a tensor, it is recommended to use sourceTensor.clone().detach() or sourceTensor.clone().detach().requires_grad_(True), rather than torch.tensor(sourceTensor).\n",
      "  item = {key: torch.tensor(val[idx]) for key, val in self.encodings.items()}\n",
      " 67%|██████▋   | 7400/11025 [52:20<22:16,  2.71it/s]   "
     ]
    },
    {
     "name": "stdout",
     "output_type": "stream",
     "text": [
      "{'loss': 0.318, 'grad_norm': 1.267188310623169, 'learning_rate': 6.575963718820862e-06, 'epoch': 2.01}\n"
     ]
    },
    {
     "name": "stderr",
     "output_type": "stream",
     "text": [
      " 68%|██████▊   | 7500/11025 [52:57<21:37,  2.72it/s]"
     ]
    },
    {
     "name": "stdout",
     "output_type": "stream",
     "text": [
      "{'loss': 0.2679, 'grad_norm': 0.1255238950252533, 'learning_rate': 6.394557823129253e-06, 'epoch': 2.04}\n"
     ]
    },
    {
     "name": "stderr",
     "output_type": "stream",
     "text": [
      " 69%|██████▉   | 7600/11025 [53:34<21:01,  2.71it/s]"
     ]
    },
    {
     "name": "stdout",
     "output_type": "stream",
     "text": [
      "{'loss': 0.2175, 'grad_norm': 20.092710494995117, 'learning_rate': 6.2131519274376415e-06, 'epoch': 2.07}\n"
     ]
    },
    {
     "name": "stderr",
     "output_type": "stream",
     "text": [
      " 70%|██████▉   | 7700/11025 [54:11<20:21,  2.72it/s]"
     ]
    },
    {
     "name": "stdout",
     "output_type": "stream",
     "text": [
      "{'loss': 0.3128, 'grad_norm': 1.8056213855743408, 'learning_rate': 6.031746031746032e-06, 'epoch': 2.1}\n"
     ]
    },
    {
     "name": "stderr",
     "output_type": "stream",
     "text": [
      " 71%|███████   | 7800/11025 [54:47<19:53,  2.70it/s]"
     ]
    },
    {
     "name": "stdout",
     "output_type": "stream",
     "text": [
      "{'loss': 0.2633, 'grad_norm': 23.048240661621094, 'learning_rate': 5.850340136054422e-06, 'epoch': 2.12}\n"
     ]
    },
    {
     "name": "stderr",
     "output_type": "stream",
     "text": [
      " 72%|███████▏  | 7900/11025 [55:24<19:06,  2.73it/s]"
     ]
    },
    {
     "name": "stdout",
     "output_type": "stream",
     "text": [
      "{'loss': 0.2493, 'grad_norm': 8.886220932006836, 'learning_rate': 5.668934240362812e-06, 'epoch': 2.15}\n"
     ]
    },
    {
     "name": "stderr",
     "output_type": "stream",
     "text": [
      " 73%|███████▎  | 8000/11025 [56:01<18:35,  2.71it/s]"
     ]
    },
    {
     "name": "stdout",
     "output_type": "stream",
     "text": [
      "{'loss': 0.3054, 'grad_norm': 36.90859603881836, 'learning_rate': 5.487528344671202e-06, 'epoch': 2.18}\n"
     ]
    },
    {
     "name": "stderr",
     "output_type": "stream",
     "text": [
      " 73%|███████▎  | 8100/11025 [56:38<17:55,  2.72it/s]"
     ]
    },
    {
     "name": "stdout",
     "output_type": "stream",
     "text": [
      "{'loss': 0.3053, 'grad_norm': 30.384233474731445, 'learning_rate': 5.306122448979593e-06, 'epoch': 2.2}\n"
     ]
    },
    {
     "name": "stderr",
     "output_type": "stream",
     "text": [
      " 74%|███████▍  | 8200/11025 [57:15<17:28,  2.70it/s]"
     ]
    },
    {
     "name": "stdout",
     "output_type": "stream",
     "text": [
      "{'loss': 0.2761, 'grad_norm': 7.6898722648620605, 'learning_rate': 5.124716553287983e-06, 'epoch': 2.23}\n"
     ]
    },
    {
     "name": "stderr",
     "output_type": "stream",
     "text": [
      " 75%|███████▌  | 8300/11025 [57:51<16:46,  2.71it/s]"
     ]
    },
    {
     "name": "stdout",
     "output_type": "stream",
     "text": [
      "{'loss': 0.3344, 'grad_norm': 7.2226948738098145, 'learning_rate': 4.943310657596373e-06, 'epoch': 2.26}\n"
     ]
    },
    {
     "name": "stderr",
     "output_type": "stream",
     "text": [
      " 76%|███████▌  | 8400/11025 [58:28<16:04,  2.72it/s]"
     ]
    },
    {
     "name": "stdout",
     "output_type": "stream",
     "text": [
      "{'loss': 0.2688, 'grad_norm': 0.5166671872138977, 'learning_rate': 4.761904761904762e-06, 'epoch': 2.29}\n"
     ]
    },
    {
     "name": "stderr",
     "output_type": "stream",
     "text": [
      " 77%|███████▋  | 8500/11025 [59:05<15:32,  2.71it/s]"
     ]
    },
    {
     "name": "stdout",
     "output_type": "stream",
     "text": [
      "{'loss': 0.2833, 'grad_norm': 3.897116184234619, 'learning_rate': 4.580498866213152e-06, 'epoch': 2.31}\n"
     ]
    },
    {
     "name": "stderr",
     "output_type": "stream",
     "text": [
      " 78%|███████▊  | 8600/11025 [59:42<14:53,  2.71it/s]"
     ]
    },
    {
     "name": "stdout",
     "output_type": "stream",
     "text": [
      "{'loss': 0.315, 'grad_norm': 0.2103673666715622, 'learning_rate': 4.399092970521542e-06, 'epoch': 2.34}\n"
     ]
    },
    {
     "name": "stderr",
     "output_type": "stream",
     "text": [
      " 79%|███████▉  | 8700/11025 [1:00:19<14:09,  2.74it/s]"
     ]
    },
    {
     "name": "stdout",
     "output_type": "stream",
     "text": [
      "{'loss': 0.297, 'grad_norm': 0.28199225664138794, 'learning_rate': 4.217687074829933e-06, 'epoch': 2.37}\n"
     ]
    },
    {
     "name": "stderr",
     "output_type": "stream",
     "text": [
      " 80%|███████▉  | 8800/11025 [1:00:56<13:37,  2.72it/s]"
     ]
    },
    {
     "name": "stdout",
     "output_type": "stream",
     "text": [
      "{'loss': 0.3006, 'grad_norm': 7.998861789703369, 'learning_rate': 4.036281179138322e-06, 'epoch': 2.39}\n"
     ]
    },
    {
     "name": "stderr",
     "output_type": "stream",
     "text": [
      " 81%|████████  | 8900/11025 [1:01:32<12:56,  2.74it/s]"
     ]
    },
    {
     "name": "stdout",
     "output_type": "stream",
     "text": [
      "{'loss': 0.2392, 'grad_norm': 7.915376663208008, 'learning_rate': 3.854875283446712e-06, 'epoch': 2.42}\n"
     ]
    },
    {
     "name": "stderr",
     "output_type": "stream",
     "text": [
      " 82%|████████▏ | 9000/11025 [1:02:09<12:20,  2.73it/s]"
     ]
    },
    {
     "name": "stdout",
     "output_type": "stream",
     "text": [
      "{'loss': 0.2935, 'grad_norm': 5.504988193511963, 'learning_rate': 3.6734693877551024e-06, 'epoch': 2.45}\n"
     ]
    },
    {
     "name": "stderr",
     "output_type": "stream",
     "text": [
      " 83%|████████▎ | 9100/11025 [1:02:46<11:49,  2.72it/s]"
     ]
    },
    {
     "name": "stdout",
     "output_type": "stream",
     "text": [
      "{'loss': 0.2709, 'grad_norm': 5.341680526733398, 'learning_rate': 3.492063492063492e-06, 'epoch': 2.48}\n"
     ]
    },
    {
     "name": "stderr",
     "output_type": "stream",
     "text": [
      " 83%|████████▎ | 9200/11025 [1:03:23<11:15,  2.70it/s]"
     ]
    },
    {
     "name": "stdout",
     "output_type": "stream",
     "text": [
      "{'loss': 0.3668, 'grad_norm': 1.675034761428833, 'learning_rate': 3.3106575963718824e-06, 'epoch': 2.5}\n"
     ]
    },
    {
     "name": "stderr",
     "output_type": "stream",
     "text": [
      " 84%|████████▍ | 9300/11025 [1:04:00<10:54,  2.63it/s]"
     ]
    },
    {
     "name": "stdout",
     "output_type": "stream",
     "text": [
      "{'loss': 0.2595, 'grad_norm': 0.9223145842552185, 'learning_rate': 3.1292517006802725e-06, 'epoch': 2.53}\n"
     ]
    },
    {
     "name": "stderr",
     "output_type": "stream",
     "text": [
      " 85%|████████▌ | 9400/11025 [1:04:37<09:58,  2.72it/s]"
     ]
    },
    {
     "name": "stdout",
     "output_type": "stream",
     "text": [
      "{'loss': 0.2862, 'grad_norm': 11.55428695678711, 'learning_rate': 2.947845804988662e-06, 'epoch': 2.56}\n"
     ]
    },
    {
     "name": "stderr",
     "output_type": "stream",
     "text": [
      " 86%|████████▌ | 9500/11025 [1:05:14<09:20,  2.72it/s]"
     ]
    },
    {
     "name": "stdout",
     "output_type": "stream",
     "text": [
      "{'loss': 0.2851, 'grad_norm': 1.1552919149398804, 'learning_rate': 2.7664399092970525e-06, 'epoch': 2.59}\n"
     ]
    },
    {
     "name": "stderr",
     "output_type": "stream",
     "text": [
      " 87%|████████▋ | 9600/11025 [1:05:51<08:43,  2.72it/s]"
     ]
    },
    {
     "name": "stdout",
     "output_type": "stream",
     "text": [
      "{'loss': 0.2958, 'grad_norm': 0.23802973330020905, 'learning_rate': 2.5850340136054425e-06, 'epoch': 2.61}\n"
     ]
    },
    {
     "name": "stderr",
     "output_type": "stream",
     "text": [
      " 88%|████████▊ | 9700/11025 [1:06:28<08:08,  2.71it/s]"
     ]
    },
    {
     "name": "stdout",
     "output_type": "stream",
     "text": [
      "{'loss': 0.3279, 'grad_norm': 0.46002396941185, 'learning_rate': 2.4036281179138325e-06, 'epoch': 2.64}\n"
     ]
    },
    {
     "name": "stderr",
     "output_type": "stream",
     "text": [
      " 89%|████████▉ | 9800/11025 [1:07:04<07:28,  2.73it/s]"
     ]
    },
    {
     "name": "stdout",
     "output_type": "stream",
     "text": [
      "{'loss': 0.2679, 'grad_norm': 12.855155944824219, 'learning_rate': 2.222222222222222e-06, 'epoch': 2.67}\n"
     ]
    },
    {
     "name": "stderr",
     "output_type": "stream",
     "text": [
      " 90%|████████▉ | 9900/11025 [1:07:41<06:54,  2.71it/s]"
     ]
    },
    {
     "name": "stdout",
     "output_type": "stream",
     "text": [
      "{'loss': 0.2765, 'grad_norm': 0.8737837672233582, 'learning_rate': 2.0408163265306125e-06, 'epoch': 2.69}\n"
     ]
    },
    {
     "name": "stderr",
     "output_type": "stream",
     "text": [
      " 91%|█████████ | 10000/11025 [1:08:18<06:16,  2.72it/s]"
     ]
    },
    {
     "name": "stdout",
     "output_type": "stream",
     "text": [
      "{'loss': 0.2892, 'grad_norm': 13.643295288085938, 'learning_rate': 1.8594104308390023e-06, 'epoch': 2.72}\n"
     ]
    },
    {
     "name": "stderr",
     "output_type": "stream",
     "text": [
      " 92%|█████████▏| 10100/11025 [1:08:55<05:39,  2.72it/s]"
     ]
    },
    {
     "name": "stdout",
     "output_type": "stream",
     "text": [
      "{'loss': 0.2497, 'grad_norm': 11.434124946594238, 'learning_rate': 1.6780045351473925e-06, 'epoch': 2.75}\n"
     ]
    },
    {
     "name": "stderr",
     "output_type": "stream",
     "text": [
      " 93%|█████████▎| 10200/11025 [1:09:32<05:04,  2.71it/s]"
     ]
    },
    {
     "name": "stdout",
     "output_type": "stream",
     "text": [
      "{'loss': 0.3092, 'grad_norm': 10.119606018066406, 'learning_rate': 1.4965986394557825e-06, 'epoch': 2.78}\n"
     ]
    },
    {
     "name": "stderr",
     "output_type": "stream",
     "text": [
      " 93%|█████████▎| 10300/11025 [1:10:09<04:28,  2.71it/s]"
     ]
    },
    {
     "name": "stdout",
     "output_type": "stream",
     "text": [
      "{'loss': 0.2799, 'grad_norm': 0.7776430249214172, 'learning_rate': 1.3151927437641723e-06, 'epoch': 2.8}\n"
     ]
    },
    {
     "name": "stderr",
     "output_type": "stream",
     "text": [
      " 94%|█████████▍| 10400/11025 [1:10:46<03:49,  2.72it/s]"
     ]
    },
    {
     "name": "stdout",
     "output_type": "stream",
     "text": [
      "{'loss': 0.295, 'grad_norm': 12.056020736694336, 'learning_rate': 1.1337868480725626e-06, 'epoch': 2.83}\n"
     ]
    },
    {
     "name": "stderr",
     "output_type": "stream",
     "text": [
      " 95%|█████████▌| 10500/11025 [1:11:23<03:13,  2.71it/s]"
     ]
    },
    {
     "name": "stdout",
     "output_type": "stream",
     "text": [
      "{'loss': 0.2992, 'grad_norm': 10.564102172851562, 'learning_rate': 9.523809523809525e-07, 'epoch': 2.86}\n"
     ]
    },
    {
     "name": "stderr",
     "output_type": "stream",
     "text": [
      " 96%|█████████▌| 10600/11025 [1:12:00<02:37,  2.70it/s]"
     ]
    },
    {
     "name": "stdout",
     "output_type": "stream",
     "text": [
      "{'loss': 0.2303, 'grad_norm': 9.34415340423584, 'learning_rate': 7.709750566893425e-07, 'epoch': 2.88}\n"
     ]
    },
    {
     "name": "stderr",
     "output_type": "stream",
     "text": [
      " 97%|█████████▋| 10700/11025 [1:12:37<01:59,  2.71it/s]"
     ]
    },
    {
     "name": "stdout",
     "output_type": "stream",
     "text": [
      "{'loss': 0.3218, 'grad_norm': 15.329351425170898, 'learning_rate': 5.895691609977325e-07, 'epoch': 2.91}\n"
     ]
    },
    {
     "name": "stderr",
     "output_type": "stream",
     "text": [
      " 98%|█████████▊| 10800/11025 [1:13:14<01:23,  2.69it/s]"
     ]
    },
    {
     "name": "stdout",
     "output_type": "stream",
     "text": [
      "{'loss': 0.2828, 'grad_norm': 0.8955135941505432, 'learning_rate': 4.0816326530612243e-07, 'epoch': 2.94}\n"
     ]
    },
    {
     "name": "stderr",
     "output_type": "stream",
     "text": [
      " 99%|█████████▉| 10900/11025 [1:13:51<00:46,  2.71it/s]"
     ]
    },
    {
     "name": "stdout",
     "output_type": "stream",
     "text": [
      "{'loss': 0.337, 'grad_norm': 0.8660726547241211, 'learning_rate': 2.267573696145125e-07, 'epoch': 2.97}\n"
     ]
    },
    {
     "name": "stderr",
     "output_type": "stream",
     "text": [
      "100%|█████████▉| 11000/11025 [1:18:33<00:09,  2.77it/s]  "
     ]
    },
    {
     "name": "stdout",
     "output_type": "stream",
     "text": [
      "{'loss': 0.286, 'grad_norm': 0.5793271660804749, 'learning_rate': 4.53514739229025e-08, 'epoch': 2.99}\n"
     ]
    },
    {
     "name": "stderr",
     "output_type": "stream",
     "text": [
      "100%|██████████| 11025/11025 [1:18:42<00:00,  2.77it/s]/var/folders/b6/1mflrv1s5s9b5pj5n4cg2hjw0000gn/T/ipykernel_72852/2940528382.py:7: UserWarning: To copy construct from a tensor, it is recommended to use sourceTensor.clone().detach() or sourceTensor.clone().detach().requires_grad_(True), rather than torch.tensor(sourceTensor).\n",
      "  item = {key: torch.tensor(val[idx]) for key, val in self.encodings.items()}\n",
      "                                                       \n",
      "100%|██████████| 11025/11025 [1:21:29<00:00,  2.77it/s]"
     ]
    },
    {
     "name": "stdout",
     "output_type": "stream",
     "text": [
      "{'eval_loss': 0.4618639051914215, 'eval_accuracy': 0.8684126984126984, 'eval_f1': 0.8684126984126984, 'eval_precision': 0.8684126984126984, 'eval_recall': 0.8684126984126984, 'eval_runtime': 164.3397, 'eval_samples_per_second': 76.67, 'eval_steps_per_second': 9.584, 'epoch': 3.0}\n"
     ]
    },
    {
     "name": "stderr",
     "output_type": "stream",
     "text": [
      "100%|██████████| 11025/11025 [1:21:32<00:00,  2.77it/s]"
     ]
    },
    {
     "name": "stdout",
     "output_type": "stream",
     "text": [
      "{'train_runtime': 4892.2685, 'train_samples_per_second': 18.028, 'train_steps_per_second': 2.254, 'train_loss': 0.34411954386704635, 'epoch': 3.0}\n"
     ]
    },
    {
     "name": "stderr",
     "output_type": "stream",
     "text": [
      "100%|██████████| 11025/11025 [1:21:33<00:00,  2.25it/s]\n",
      "/var/folders/b6/1mflrv1s5s9b5pj5n4cg2hjw0000gn/T/ipykernel_72852/2940528382.py:7: UserWarning: To copy construct from a tensor, it is recommended to use sourceTensor.clone().detach() or sourceTensor.clone().detach().requires_grad_(True), rather than torch.tensor(sourceTensor).\n",
      "  item = {key: torch.tensor(val[idx]) for key, val in self.encodings.items()}\n",
      "100%|██████████| 1575/1575 [02:20<00:00, 11.19it/s]\n"
     ]
    },
    {
     "data": {
      "text/html": [
       "<div><style>\n",
       ".dataframe > thead > tr,\n",
       ".dataframe > tbody > tr {\n",
       "  text-align: right;\n",
       "  white-space: pre-wrap;\n",
       "}\n",
       "</style>\n",
       "<small>shape: (1, 9)</small><table border=\"1\" class=\"dataframe\"><thead><tr><th>eval_loss</th><th>eval_accuracy</th><th>eval_f1</th><th>eval_precision</th><th>eval_recall</th><th>eval_runtime</th><th>eval_samples_per_second</th><th>eval_steps_per_second</th><th>epoch</th></tr><tr><td>f64</td><td>f64</td><td>f64</td><td>f64</td><td>f64</td><td>f64</td><td>f64</td><td>f64</td><td>f64</td></tr></thead><tbody><tr><td>0.335057</td><td>0.863889</td><td>0.863889</td><td>0.863889</td><td>0.863889</td><td>140.9585</td><td>89.388</td><td>11.174</td><td>3.0</td></tr></tbody></table></div>"
      ],
      "text/plain": [
       "shape: (1, 9)\n",
       "┌───────────┬────────────┬──────────┬────────────┬───┬────────────┬────────────┬───────────┬───────┐\n",
       "│ eval_loss ┆ eval_accur ┆ eval_f1  ┆ eval_preci ┆ … ┆ eval_runti ┆ eval_sampl ┆ eval_step ┆ epoch │\n",
       "│ ---       ┆ acy        ┆ ---      ┆ sion       ┆   ┆ me         ┆ es_per_sec ┆ s_per_sec ┆ ---   │\n",
       "│ f64       ┆ ---        ┆ f64      ┆ ---        ┆   ┆ ---        ┆ ond        ┆ ond       ┆ f64   │\n",
       "│           ┆ f64        ┆          ┆ f64        ┆   ┆ f64        ┆ ---        ┆ ---       ┆       │\n",
       "│           ┆            ┆          ┆            ┆   ┆            ┆ f64        ┆ f64       ┆       │\n",
       "╞═══════════╪════════════╪══════════╪════════════╪═══╪════════════╪════════════╪═══════════╪═══════╡\n",
       "│ 0.335057  ┆ 0.863889   ┆ 0.863889 ┆ 0.863889   ┆ … ┆ 140.9585   ┆ 89.388     ┆ 11.174    ┆ 3.0   │\n",
       "└───────────┴────────────┴──────────┴────────────┴───┴────────────┴────────────┴───────────┴───────┘"
      ]
     },
     "execution_count": 26,
     "metadata": {},
     "output_type": "execute_result"
    }
   ],
   "source": [
    "\n",
    "start_time = time.time()\n",
    "train_output = trainer.train()  # Returns a TrainOutput object\n",
    "training_time_manual = time.time() - start_time\n",
    "train_metrics = train_output.metrics  # Contains train_runtime, train_loss, etc.\n",
    "\n",
    "# Assume trainer.evaluate() has been run and returned results\n",
    "eval_results = trainer.evaluate()  # Contains eval_runtime, eval_accuracy, etc.\n",
    "\n",
    "# Combine training and evaluation metrics\n",
    "#all_metrics = {**train_metrics, **eval_results}\n",
    "metrics = {**eval_results}\n",
    "\n",
    "# Create a Polars DataFrame\n",
    "df = pl.DataFrame(metrics)\n",
    "df"
   ]
  },
  {
   "cell_type": "markdown",
   "metadata": {},
   "source": [
    "## Validation set predict"
   ]
  },
  {
   "cell_type": "code",
   "execution_count": 27,
   "metadata": {},
   "outputs": [
    {
     "name": "stderr",
     "output_type": "stream",
     "text": [
      "/var/folders/b6/1mflrv1s5s9b5pj5n4cg2hjw0000gn/T/ipykernel_72852/2940528382.py:7: UserWarning: To copy construct from a tensor, it is recommended to use sourceTensor.clone().detach() or sourceTensor.clone().detach().requires_grad_(True), rather than torch.tensor(sourceTensor).\n",
      "  item = {key: torch.tensor(val[idx]) for key, val in self.encodings.items()}\n",
      "100%|██████████| 1575/1575 [02:21<00:00, 11.15it/s]\n"
     ]
    }
   ],
   "source": [
    "predicted = trainer.predict(val_dataset)\n",
    "\n",
    "y_pred_val = np.argmax(predicted.predictions, axis=1) \n",
    "y_true_val = predicted.label_ids "
   ]
  },
  {
   "cell_type": "code",
   "execution_count": 36,
   "metadata": {},
   "outputs": [
    {
     "data": {
      "text/plain": [
       "PredictionOutput(predictions=array([[ 1.4283584 , -1.9602209 ],\n",
       "       [ 1.3240527 , -1.7595761 ],\n",
       "       [ 1.290572  , -1.6995648 ],\n",
       "       ...,\n",
       "       [ 0.9903713 , -1.2800969 ],\n",
       "       [ 0.68039113, -0.98649246],\n",
       "       [-1.2874719 ,  1.4352661 ]], dtype=float32), label_ids=array([0, 0, 0, ..., 0, 0, 1]), metrics={'test_loss': 0.33505699038505554, 'test_accuracy': 0.8638888888888889, 'test_f1': 0.8638888888888889, 'test_precision': 0.8638888888888889, 'test_recall': 0.8638888888888889, 'test_runtime': 141.3022, 'test_samples_per_second': 89.171, 'test_steps_per_second': 11.146})"
      ]
     },
     "execution_count": 36,
     "metadata": {},
     "output_type": "execute_result"
    }
   ],
   "source": [
    "predicted"
   ]
  },
  {
   "cell_type": "markdown",
   "metadata": {},
   "source": [
    "## Test set predict"
   ]
  },
  {
   "cell_type": "code",
   "execution_count": 70,
   "metadata": {},
   "outputs": [
    {
     "name": "stderr",
     "output_type": "stream",
     "text": [
      "/var/folders/b6/1mflrv1s5s9b5pj5n4cg2hjw0000gn/T/ipykernel_72852/2940528382.py:7: UserWarning: To copy construct from a tensor, it is recommended to use sourceTensor.clone().detach() or sourceTensor.clone().detach().requires_grad_(True), rather than torch.tensor(sourceTensor).\n",
      "  item = {key: torch.tensor(val[idx]) for key, val in self.encodings.items()}\n",
      "100%|██████████| 1500/1500 [02:12<00:00, 11.34it/s]\n"
     ]
    }
   ],
   "source": [
    "predicted_test = trainer.predict(test_dataset)\n",
    "\n",
    "y_pred = np.argmax(predicted_test.predictions, axis=1)\n",
    "y_true = predicted_test.label_ids\n",
    "\n"
   ]
  },
  {
   "cell_type": "code",
   "execution_count": 71,
   "metadata": {},
   "outputs": [
    {
     "data": {
      "text/plain": [
       "PredictionOutput(predictions=array([[-0.3255011 ,  0.46326792],\n",
       "       [ 0.8120784 , -1.1227341 ],\n",
       "       [ 0.8120784 , -1.1227341 ],\n",
       "       ...,\n",
       "       [-0.02612685, -0.04905798],\n",
       "       [-0.02612685, -0.04905798],\n",
       "       [-0.02612685, -0.04905798]], dtype=float32), label_ids=array([1, 0, 0, ..., 1, 0, 1]), metrics={'test_loss': 0.35576125979423523, 'test_accuracy': 0.8485, 'test_f1': 0.8485, 'test_precision': 0.8485, 'test_recall': 0.8485, 'test_runtime': 138.0274, 'test_samples_per_second': 86.939, 'test_steps_per_second': 10.867})"
      ]
     },
     "execution_count": 71,
     "metadata": {},
     "output_type": "execute_result"
    }
   ],
   "source": [
    "predicted_test"
   ]
  },
  {
   "cell_type": "markdown",
   "metadata": {},
   "source": [
    "## I got the logits of the model which need to be converted with sigmoid to get the probabilities of each class"
   ]
  },
  {
   "cell_type": "code",
   "execution_count": 55,
   "metadata": {},
   "outputs": [
    {
     "data": {
      "text/plain": [
       "tensor([[0.8066, 0.1234],\n",
       "        [0.7899, 0.1468],\n",
       "        [0.7842, 0.1545],\n",
       "        ...,\n",
       "        [0.7758, 0.1565],\n",
       "        [0.8436, 0.1170],\n",
       "        [0.8387, 0.1174]])"
      ]
     },
     "execution_count": 55,
     "metadata": {},
     "output_type": "execute_result"
    }
   ],
   "source": [
    "#Kind of uneccessary but I thought I needed it for the final output.\n",
    "#Didn't know how it worked so I investigated and found out that predicted_test.predictions are logits which need to be converted to get the probs of each class\n",
    "placeholder = torch.tensor(predicted_test.predictions)\n",
    "classes_predicted = torch.sigmoid(placeholder)\n",
    "classes_predicted"
   ]
  },
  {
   "cell_type": "code",
   "execution_count": 57,
   "metadata": {},
   "outputs": [
    {
     "data": {
      "text/plain": [
       "array([0, 0, 0, ..., 0, 0, 0])"
      ]
     },
     "execution_count": 57,
     "metadata": {},
     "output_type": "execute_result"
    }
   ],
   "source": [
    "y_pred"
   ]
  },
  {
   "cell_type": "markdown",
   "metadata": {},
   "source": [
    "## Confusion Matrix"
   ]
  },
  {
   "cell_type": "code",
   "execution_count": 72,
   "metadata": {},
   "outputs": [
    {
     "data": {
      "image/png": "[encoded data removed]",
      "text/plain": [
       "<Figure size 640x480 with 2 Axes>"
      ]
     },
     "metadata": {},
     "output_type": "display_data"
    }
   ],
   "source": [
    "from sklearn.metrics import confusion_matrix, ConfusionMatrixDisplay\n",
    "import matplotlib.pyplot as plt\n",
    "\n",
    "conf_matrix = confusion_matrix(y_true, y_pred)\n",
    "\n",
    "disp = ConfusionMatrixDisplay(confusion_matrix=conf_matrix)\n",
    "disp.plot(cmap=plt.cm.Blues)\n",
    "\n",
    "plt.title(\"Confusion Matrix\")\n",
    "plt.show()"
   ]
  },
  {
   "cell_type": "markdown",
   "metadata": {},
   "source": [
    "# New team standardized evaluation of the model"
   ]
  },
  {
   "cell_type": "code",
   "execution_count": 73,
   "metadata": {},
   "outputs": [
    {
     "name": "stdout",
     "output_type": "stream",
     "text": [
      "precision:\t0.7235\n",
      "recall:\t\t0.6738\n",
      "fscore:\t\t0.6978\n",
      "accuracy:\t0.8485\n",
      "tn: 8083\t fp: 802\n",
      "fn: 1016\t tp: 2099\n"
     ]
    }
   ],
   "source": [
    "scores = calculate_scores(y_true, y_pred)\n",
    "print(scores)"
   ]
  },
  {
   "cell_type": "code",
   "execution_count": 74,
   "metadata": {},
   "outputs": [],
   "source": [
    "mlflow.end_run()"
   ]
  },
  {
   "cell_type": "code",
   "execution_count": 75,
   "metadata": {},
   "outputs": [
    {
     "name": "stderr",
     "output_type": "stream",
     "text": [
      "Registered model 'DeBERTa-v3' already exists. Creating a new version of this model...\n",
      "Created version '7' of model 'DeBERTa-v3'.\n"
     ]
    }
   ],
   "source": [
    "with mlflow.start_run(\n",
    "        experiment_id=get_experiment().experiment_id, \n",
    "        run_name=\"DeBERTa-v3-base testing\"\n",
    "        ):\n",
    "    mlflow.log_param(\"model_name\", MODEL_NAME)\n",
    "    mlflow.log_param(\"max_length\", 128)\n",
    "    mlflow.log_param(\"learning_rate\", 5e-5)\n",
    "\n",
    "    mlflow.log_metrics(scores.asdict())\n",
    "    mlflow.set_tag(\"model\", \"DeBERTa-v3\")\n",
    "\n",
    "    mlflow.log_table({\"id\": test[\"id\"], \"prediction\": y_pred}, \"predictions_DeBERTa.json\")\n",
    "\n",
    "    #log the model\n",
    "    prediction_data = {\n",
    "        \"columns\": [\"id\", \"prediction\"],\n",
    "        \"data\": [[id_, pred.tolist()] for id_, pred in zip(test[\"id\"], y_pred)]\n",
    "    }\n",
    "    # Save to a JSON file\n",
    "    predictions_file = r\"../resource/mlflow/DeBERTa/predictions.json\"\n",
    "    with open(predictions_file, \"w\") as f:\n",
    "        json.dump(prediction_data, f, indent=4)\n",
    "        \n",
    "    # Log the JSON file as an artifact\n",
    "    mlflow.log_artifact(predictions_file)\n",
    "        \n",
    "    # Simulate model registration\n",
    "    mlflow.set_tag(\"registered_model_name\", \"DeBERTa-v3\")\n",
    "    mlflow.set_tag(\"model_alias\", \"current\")\n",
    "\n",
    "    # Register the model\n",
    "    model_uri = f\"runs:/{mlflow.active_run().info.run_id}/predictions_DeBERTa.json\"\n",
    "    registered_model = mlflow.register_model(model_uri=model_uri, name=\"DeBERTa-v3\") \n",
    "\n",
    "\n",
    "client().set_registered_model_alias(\"DeBERTa-v3\", \"current\", registered_model.version)"
   ]
  },
  {
   "cell_type": "code",
   "execution_count": 76,
   "metadata": {},
   "outputs": [
    {
     "data": {
      "text/plain": [
       "<ModelVersion: aliases=['current'], creation_timestamp=1734170527436, current_stage='None', description=None, last_updated_timestamp=1734170527436, name='DeBERTa-v3', run_id='aadef4ab91fb43929f374e8c1f6dea1a', run_link=None, source='file:///Users/retipeter/Documents/TU%20Wien/NLP/nlp-ie-label-legends/notebooks/mlruns/943899761474513424/aadef4ab91fb43929f374e8c1f6dea1a/artifacts/predictions_DeBERTa.json', status='READY', status_message=None, tags={}, user_id=None, version=7>"
      ]
     },
     "execution_count": 76,
     "metadata": {},
     "output_type": "execute_result"
    }
   ],
   "source": [
    "get_current(\"DeBERTa-v3\")"
   ]
  },
  {
   "cell_type": "code",
   "execution_count": 77,
   "metadata": {},
   "outputs": [
    {
     "data": {
      "text/html": [
       "<div><style>\n",
       ".dataframe > thead > tr,\n",
       ".dataframe > tbody > tr {\n",
       "  text-align: right;\n",
       "  white-space: pre-wrap;\n",
       "}\n",
       "</style>\n",
       "<small>shape: (5, 2)</small><table border=\"1\" class=\"dataframe\"><thead><tr><th>id</th><th>prediction</th></tr><tr><td>i64</td><td>i64</td></tr></thead><tbody><tr><td>100</td><td>1</td></tr><tr><td>10005</td><td>0</td></tr><tr><td>10006</td><td>0</td></tr><tr><td>10007</td><td>0</td></tr><tr><td>10008</td><td>0</td></tr></tbody></table></div>"
      ],
      "text/plain": [
       "shape: (5, 2)\n",
       "┌───────┬────────────┐\n",
       "│ id    ┆ prediction │\n",
       "│ ---   ┆ ---        │\n",
       "│ i64   ┆ i64        │\n",
       "╞═══════╪════════════╡\n",
       "│ 100   ┆ 1          │\n",
       "│ 10005 ┆ 0          │\n",
       "│ 10006 ┆ 0          │\n",
       "│ 10007 ┆ 0          │\n",
       "│ 10008 ┆ 0          │\n",
       "└───────┴────────────┘"
      ]
     },
     "execution_count": 77,
     "metadata": {},
     "output_type": "execute_result"
    }
   ],
   "source": [
    "load_predictions(\"DeBERTa\").head()"
   ]
  }
 ],
 "metadata": {
  "kernelspec": {
   "display_name": ".venv",
   "language": "python",
   "name": "python3"
  },
  "language_info": {
   "codemirror_mode": {
    "name": "ipython",
    "version": 3
   },
   "file_extension": ".py",
   "mimetype": "text/x-python",
   "name": "python",
   "nbconvert_exporter": "python",
   "pygments_lexer": "ipython3",
   "version": "3.12.7"
  }
 },
 "nbformat": 4,
 "nbformat_minor": 2
}
