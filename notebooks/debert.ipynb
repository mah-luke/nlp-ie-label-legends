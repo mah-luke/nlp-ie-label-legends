{
 "cells": [
  {
   "cell_type": "markdown",
   "metadata": {},
   "source": [
    "# Notebook for DeBERTa-v3-base"
   ]
  },
  {
   "cell_type": "code",
   "execution_count": 89,
   "metadata": {},
   "outputs": [
    {
     "name": "stdout",
     "output_type": "stream",
     "text": [
      "The autoreload extension is already loaded. To reload it, use:\n",
      "  %reload_ext autoreload\n"
     ]
    }
   ],
   "source": [
    "%load_ext autoreload\n",
    "%autoreload 2"
   ]
  },
  {
   "cell_type": "markdown",
   "metadata": {},
   "source": [
    "## Libraries"
   ]
  },
  {
   "cell_type": "code",
   "execution_count": 90,
   "metadata": {},
   "outputs": [],
   "source": [
    "from conllu import TokenList\n",
    "import polars as pl\n",
    "from stanza.models.common.doc import Token\n",
    "from label_legends.preprocess import create_conllu, holdout, load_conllu, load_data, load_train, load_test, transform, load_vectorizer, reverse_vocabulary, vocabulary, ids_to_tokens, tokens_to_ids, vectorize_tokens, strip_stopwords\n",
    "import logging\n",
    "import mlflow\n",
    "from mlflow import MlflowClient\n",
    "from label_legends.result import calculate_scores, download_predictions, get_experiment, load_predictions, client, get_current\n",
    "import json\n",
    "import torch\n",
    "from torch.utils.data import Dataset\n",
    "import time\n",
    "import numpy as np\n",
    "from transformers import AutoModelForSequenceClassification, AutoConfig, DebertaV2Tokenizer, Trainer, TrainingArguments\n",
    "\n",
    "\n",
    "logging.basicConfig(level=logging.INFO)"
   ]
  },
  {
   "cell_type": "markdown",
   "metadata": {},
   "source": [
    "## Training the model"
   ]
  },
  {
   "cell_type": "code",
   "execution_count": 91,
   "metadata": {},
   "outputs": [
    {
     "name": "stderr",
     "output_type": "stream",
     "text": [
      "Some weights of DebertaV2ForSequenceClassification were not initialized from the model checkpoint at microsoft/deberta-v3-base and are newly initialized: ['classifier.bias', 'classifier.weight', 'pooler.dense.bias', 'pooler.dense.weight']\n",
      "You should probably TRAIN this model on a down-stream task to be able to use it for predictions and inference.\n"
     ]
    }
   ],
   "source": [
    "MODEL_NAME = 'microsoft/deberta-v3-base'\n",
    "model = AutoModelForSequenceClassification.from_pretrained(MODEL_NAME, num_labels=2)\n",
    "config = AutoConfig.from_pretrained(MODEL_NAME)\n",
    "tokenizer =DebertaV2Tokenizer.from_pretrained(MODEL_NAME)"
   ]
  },
  {
   "cell_type": "code",
   "execution_count": 92,
   "metadata": {},
   "outputs": [
    {
     "data": {
      "text/html": [
       "<div><style>\n",
       ".dataframe > thead > tr,\n",
       ".dataframe > tbody > tr {\n",
       "  text-align: right;\n",
       "  white-space: pre-wrap;\n",
       "}\n",
       "</style>\n",
       "<small>shape: (60_000, 9)</small><table border=\"1\" class=\"dataframe\"><thead><tr><th>id</th><th>rewire_id</th><th>text</th><th>annotator</th><th>label_sexist</th><th>label_category</th><th>label_vector</th><th>split</th><th>tokens</th></tr><tr><td>i64</td><td>str</td><td>str</td><td>i64</td><td>str</td><td>str</td><td>str</td><td>str</td><td>list[str]</td></tr></thead><tbody><tr><td>0</td><td>&quot;sexism2022_english-0&quot;</td><td>&quot; I wonder what keeps that witc…</td><td>17</td><td>&quot;sexist&quot;</td><td>&quot;2. derogation&quot;</td><td>&quot;2.2 aggressive and emotive att…</td><td>&quot;train&quot;</td><td>[&quot;i&quot;, &quot;wonder&quot;, … &quot;😄&quot;]</td></tr><tr><td>1</td><td>&quot;sexism2022_english-0&quot;</td><td>&quot; I wonder what keeps that witc…</td><td>2</td><td>&quot;sexist&quot;</td><td>&quot;2. derogation&quot;</td><td>&quot;2.2 aggressive and emotive att…</td><td>&quot;train&quot;</td><td>[&quot;i&quot;, &quot;wonder&quot;, … &quot;😄&quot;]</td></tr><tr><td>10</td><td>&quot;sexism2022_english-100&quot;</td><td>&quot;Good for her! My grandson had …</td><td>3</td><td>&quot;not sexist&quot;</td><td>&quot;none&quot;</td><td>&quot;none&quot;</td><td>&quot;train&quot;</td><td>[&quot;good&quot;, &quot;for&quot;, … &quot;!&quot;]</td></tr><tr><td>100</td><td>&quot;sexism2022_english-10026&quot;</td><td>&quot;It is not insulting, it&#x27;s **ex…</td><td>14</td><td>&quot;sexist&quot;</td><td>&quot;2. derogation&quot;</td><td>&quot;2.1 descriptive attacks&quot;</td><td>&quot;test&quot;</td><td>[&quot;it&quot;, &quot;be&quot;, … &quot;.**&quot;]</td></tr><tr><td>1000</td><td>&quot;sexism2022_english-10297&quot;</td><td>&quot;The article said Madonna offer…</td><td>5</td><td>&quot;sexist&quot;</td><td>&quot;2. derogation&quot;</td><td>&quot;2.3 dehumanising attacks &amp; ove…</td><td>&quot;train&quot;</td><td>[&quot;the&quot;, &quot;article&quot;, … &quot;.&quot;]</td></tr><tr><td>&hellip;</td><td>&hellip;</td><td>&hellip;</td><td>&hellip;</td><td>&hellip;</td><td>&hellip;</td><td>&hellip;</td><td>&hellip;</td><td>&hellip;</td></tr><tr><td>9995</td><td>&quot;sexism2022_english-12996&quot;</td><td>&quot;Shudder.. if you had to have s…</td><td>17</td><td>&quot;sexist&quot;</td><td>&quot;2. derogation&quot;</td><td>&quot;2.3 dehumanising attacks &amp; ove…</td><td>&quot;test&quot;</td><td>[&quot;shudder&quot;, &quot;..&quot;, … &quot;.&quot;]</td></tr><tr><td>9996</td><td>&quot;sexism2022_english-12997&quot;</td><td>&quot;You mean one that forces women…</td><td>6</td><td>&quot;not sexist&quot;</td><td>&quot;none&quot;</td><td>&quot;none&quot;</td><td>&quot;train&quot;</td><td>[&quot;you&quot;, &quot;mean&quot;, … &quot;?&quot;]</td></tr><tr><td>9997</td><td>&quot;sexism2022_english-12997&quot;</td><td>&quot;You mean one that forces women…</td><td>4</td><td>&quot;not sexist&quot;</td><td>&quot;none&quot;</td><td>&quot;none&quot;</td><td>&quot;train&quot;</td><td>[&quot;you&quot;, &quot;mean&quot;, … &quot;?&quot;]</td></tr><tr><td>9998</td><td>&quot;sexism2022_english-12997&quot;</td><td>&quot;You mean one that forces women…</td><td>2</td><td>&quot;sexist&quot;</td><td>&quot;3. animosity&quot;</td><td>&quot;3.2 immutable gender differenc…</td><td>&quot;train&quot;</td><td>[&quot;you&quot;, &quot;mean&quot;, … &quot;?&quot;]</td></tr><tr><td>9999</td><td>&quot;sexism2022_english-12998&quot;</td><td>&quot;Gasoline. The answer 60% of Am…</td><td>9</td><td>&quot;sexist&quot;</td><td>&quot;1. threats, plans to harm and …</td><td>&quot;1.1 threats of harm&quot;</td><td>&quot;train&quot;</td><td>[&quot;gasoline&quot;, &quot;.&quot;, … &quot;.&quot;]</td></tr></tbody></table></div>"
      ],
      "text/plain": [
       "shape: (60_000, 9)\n",
       "┌──────┬─────────────┬─────────────┬───────────┬───┬─────────────┬────────────┬───────┬────────────┐\n",
       "│ id   ┆ rewire_id   ┆ text        ┆ annotator ┆ … ┆ label_categ ┆ label_vect ┆ split ┆ tokens     │\n",
       "│ ---  ┆ ---         ┆ ---         ┆ ---       ┆   ┆ ory         ┆ or         ┆ ---   ┆ ---        │\n",
       "│ i64  ┆ str         ┆ str         ┆ i64       ┆   ┆ ---         ┆ ---        ┆ str   ┆ list[str]  │\n",
       "│      ┆             ┆             ┆           ┆   ┆ str         ┆ str        ┆       ┆            │\n",
       "╞══════╪═════════════╪═════════════╪═══════════╪═══╪═════════════╪════════════╪═══════╪════════════╡\n",
       "│ 0    ┆ sexism2022_ ┆ I wonder    ┆ 17        ┆ … ┆ 2.          ┆ 2.2        ┆ train ┆ [\"i\",      │\n",
       "│      ┆ english-0   ┆ what keeps  ┆           ┆   ┆ derogation  ┆ aggressive ┆       ┆ \"wonder\",  │\n",
       "│      ┆             ┆ that witc…  ┆           ┆   ┆             ┆ and        ┆       ┆ … \"😄\"]    │\n",
       "│      ┆             ┆             ┆           ┆   ┆             ┆ emotive    ┆       ┆            │\n",
       "│      ┆             ┆             ┆           ┆   ┆             ┆ att…       ┆       ┆            │\n",
       "│ 1    ┆ sexism2022_ ┆ I wonder    ┆ 2         ┆ … ┆ 2.          ┆ 2.2        ┆ train ┆ [\"i\",      │\n",
       "│      ┆ english-0   ┆ what keeps  ┆           ┆   ┆ derogation  ┆ aggressive ┆       ┆ \"wonder\",  │\n",
       "│      ┆             ┆ that witc…  ┆           ┆   ┆             ┆ and        ┆       ┆ … \"😄\"]    │\n",
       "│      ┆             ┆             ┆           ┆   ┆             ┆ emotive    ┆       ┆            │\n",
       "│      ┆             ┆             ┆           ┆   ┆             ┆ att…       ┆       ┆            │\n",
       "│ 10   ┆ sexism2022_ ┆ Good for    ┆ 3         ┆ … ┆ none        ┆ none       ┆ train ┆ [\"good\",   │\n",
       "│      ┆ english-100 ┆ her! My     ┆           ┆   ┆             ┆            ┆       ┆ \"for\", …   │\n",
       "│      ┆             ┆ grandson    ┆           ┆   ┆             ┆            ┆       ┆ \"!\"]       │\n",
       "│      ┆             ┆ had …       ┆           ┆   ┆             ┆            ┆       ┆            │\n",
       "│ 100  ┆ sexism2022_ ┆ It is not   ┆ 14        ┆ … ┆ 2.          ┆ 2.1 descri ┆ test  ┆ [\"it\",     │\n",
       "│      ┆ english-100 ┆ insulting,  ┆           ┆   ┆ derogation  ┆ ptive      ┆       ┆ \"be\", …    │\n",
       "│      ┆ 26          ┆ it's **ex…  ┆           ┆   ┆             ┆ attacks    ┆       ┆ \".**\"]     │\n",
       "│ 1000 ┆ sexism2022_ ┆ The article ┆ 5         ┆ … ┆ 2.          ┆ 2.3 dehuma ┆ train ┆ [\"the\",    │\n",
       "│      ┆ english-102 ┆ said        ┆           ┆   ┆ derogation  ┆ nising     ┆       ┆ \"article\", │\n",
       "│      ┆ 97          ┆ Madonna     ┆           ┆   ┆             ┆ attacks &  ┆       ┆ … \".\"]     │\n",
       "│      ┆             ┆ offer…      ┆           ┆   ┆             ┆ ove…       ┆       ┆            │\n",
       "│ …    ┆ …           ┆ …           ┆ …         ┆ … ┆ …           ┆ …          ┆ …     ┆ …          │\n",
       "│ 9995 ┆ sexism2022_ ┆ Shudder..   ┆ 17        ┆ … ┆ 2.          ┆ 2.3 dehuma ┆ test  ┆ [\"shudder\" │\n",
       "│      ┆ english-129 ┆ if you had  ┆           ┆   ┆ derogation  ┆ nising     ┆       ┆ , \"..\", …  │\n",
       "│      ┆ 96          ┆ to have s…  ┆           ┆   ┆             ┆ attacks &  ┆       ┆ \".\"]       │\n",
       "│      ┆             ┆             ┆           ┆   ┆             ┆ ove…       ┆       ┆            │\n",
       "│ 9996 ┆ sexism2022_ ┆ You mean    ┆ 6         ┆ … ┆ none        ┆ none       ┆ train ┆ [\"you\",    │\n",
       "│      ┆ english-129 ┆ one that    ┆           ┆   ┆             ┆            ┆       ┆ \"mean\", …  │\n",
       "│      ┆ 97          ┆ forces      ┆           ┆   ┆             ┆            ┆       ┆ \"?\"]       │\n",
       "│      ┆             ┆ women…      ┆           ┆   ┆             ┆            ┆       ┆            │\n",
       "│ 9997 ┆ sexism2022_ ┆ You mean    ┆ 4         ┆ … ┆ none        ┆ none       ┆ train ┆ [\"you\",    │\n",
       "│      ┆ english-129 ┆ one that    ┆           ┆   ┆             ┆            ┆       ┆ \"mean\", …  │\n",
       "│      ┆ 97          ┆ forces      ┆           ┆   ┆             ┆            ┆       ┆ \"?\"]       │\n",
       "│      ┆             ┆ women…      ┆           ┆   ┆             ┆            ┆       ┆            │\n",
       "│ 9998 ┆ sexism2022_ ┆ You mean    ┆ 2         ┆ … ┆ 3.          ┆ 3.2        ┆ train ┆ [\"you\",    │\n",
       "│      ┆ english-129 ┆ one that    ┆           ┆   ┆ animosity   ┆ immutable  ┆       ┆ \"mean\", …  │\n",
       "│      ┆ 97          ┆ forces      ┆           ┆   ┆             ┆ gender     ┆       ┆ \"?\"]       │\n",
       "│      ┆             ┆ women…      ┆           ┆   ┆             ┆ differenc… ┆       ┆            │\n",
       "│ 9999 ┆ sexism2022_ ┆ Gasoline.   ┆ 9         ┆ … ┆ 1. threats, ┆ 1.1        ┆ train ┆ [\"gasoline │\n",
       "│      ┆ english-129 ┆ The answer  ┆           ┆   ┆ plans to    ┆ threats of ┆       ┆ \", \".\", …  │\n",
       "│      ┆ 98          ┆ 60% of Am…  ┆           ┆   ┆ harm and …  ┆ harm       ┆       ┆ \".\"]       │\n",
       "└──────┴─────────────┴─────────────┴───────────┴───┴─────────────┴────────────┴───────┴────────────┘"
      ]
     },
     "execution_count": 92,
     "metadata": {},
     "output_type": "execute_result"
    }
   ],
   "source": [
    "load_data().collect()"
   ]
  },
  {
   "cell_type": "markdown",
   "metadata": {},
   "source": [
    "### Splitting the dataset to training validation test"
   ]
  },
  {
   "cell_type": "code",
   "execution_count": 93,
   "metadata": {},
   "outputs": [],
   "source": [
    "val, tra = holdout()\n",
    "tra = transform(tra)\n",
    "val = transform(val)\n",
    "\n",
    "train_texts = tra[\"text\"].to_list()\n",
    "train_labels = tra[\"label\"].to_list()\n",
    "val_texts = val[\"text\"].to_list()\n",
    "val_labels = val[\"label\"].to_list()\n",
    "\n",
    "test = transform(load_test().collect())\n",
    "test_texts = test[\"text\"].to_list()\n",
    "test_labels = test[\"label\"].to_list()\n"
   ]
  },
  {
   "cell_type": "markdown",
   "metadata": {},
   "source": [
    "### Tokenizing the splits"
   ]
  },
  {
   "cell_type": "code",
   "execution_count": 94,
   "metadata": {},
   "outputs": [],
   "source": [
    "train_encodings = tokenizer(\n",
    "    train_texts,\n",
    "    truncation=True,\n",
    "    padding=True,\n",
    "    max_length=128,  \n",
    "    return_tensors=\"pt\",\n",
    ")\n",
    "val_encodings = tokenizer(\n",
    "    val_texts,\n",
    "    truncation=True,\n",
    "    padding=True,\n",
    "    max_length=128,\n",
    "    return_tensors=\"pt\",\n",
    ")\n",
    "test_encodings = tokenizer(\n",
    "    test_texts,\n",
    "    truncation=True,\n",
    "    padding=True,\n",
    "    max_length=128,\n",
    "    return_tensors=\"pt\",\n",
    ")\n"
   ]
  },
  {
   "cell_type": "code",
   "execution_count": 95,
   "metadata": {},
   "outputs": [],
   "source": [
    "class SexistDataset(torch.utils.data.Dataset):\n",
    "    def __init__(self, encodings, labels):\n",
    "        self.encodings = encodings\n",
    "        self.labels = labels\n",
    "\n",
    "    def __getitem__(self, idx):\n",
    "        item = {key: torch.tensor(val[idx]) for key, val in self.encodings.items()}\n",
    "        item['labels'] = torch.tensor(self.labels[idx])\n",
    "        return item\n",
    "\n",
    "    def __len__(self):\n",
    "        return len(self.labels)"
   ]
  },
  {
   "cell_type": "markdown",
   "metadata": {},
   "source": [
    "### Creating the final datasets"
   ]
  },
  {
   "cell_type": "code",
   "execution_count": 96,
   "metadata": {},
   "outputs": [],
   "source": [
    "train_dataset = SexistDataset(train_encodings, train_labels)\n",
    "val_dataset = SexistDataset(val_encodings, val_labels)\n",
    "test_dataset = SexistDataset(test_encodings, test_labels)"
   ]
  },
  {
   "cell_type": "markdown",
   "metadata": {},
   "source": [
    "### Training parameters set"
   ]
  },
  {
   "cell_type": "code",
   "execution_count": 97,
   "metadata": {},
   "outputs": [
    {
     "name": "stderr",
     "output_type": "stream",
     "text": [
      "/Users/retipeter/Documents/TU Wien/NLP/nlp-ie-label-legends/.venv/lib/python3.12/site-packages/transformers/training_args.py:1575: FutureWarning: `evaluation_strategy` is deprecated and will be removed in version 4.46 of 🤗 Transformers. Use `eval_strategy` instead\n",
      "  warnings.warn(\n",
      "/var/folders/b6/1mflrv1s5s9b5pj5n4cg2hjw0000gn/T/ipykernel_72852/2812231330.py:17: FutureWarning: `tokenizer` is deprecated and will be removed in version 5.0.0 for `Trainer.__init__`. Use `processing_class` instead.\n",
      "  trainer = Trainer(\n"
     ]
    }
   ],
   "source": [
    "training_args = TrainingArguments(\n",
    "    output_dir=\"./results\",\n",
    "    learning_rate=2e-5,\n",
    "    per_device_train_batch_size=8,\n",
    "    per_device_eval_batch_size=8,\n",
    "    num_train_epochs=3,\n",
    "    weight_decay=0.01,\n",
    "    logging_dir=\"./logs\",\n",
    "    save_total_limit=2,\n",
    "    evaluation_strategy=\"epoch\", \n",
    "    logging_steps=100,  \n",
    "    save_strategy=\"epoch\", \n",
    "    load_best_model_at_end=True, \n",
    "    metric_for_best_model='eval_loss', \n",
    ")\n",
    "\n",
    "trainer = Trainer(\n",
    "    model=model,\n",
    "    args=training_args,\n",
    "    train_dataset=train_dataset,\n",
    "    eval_dataset=val_dataset,\n",
    "    tokenizer=tokenizer,\n",
    ")\n"
   ]
  },
  {
   "cell_type": "markdown",
   "metadata": {},
   "source": [
    "## Running the model"
   ]
  },
  {
   "cell_type": "code",
   "execution_count": 98,
   "metadata": {},
   "outputs": [
    {
     "name": "stderr",
     "output_type": "stream",
     "text": [
      "  0%|          | 0/11025 [00:00<?, ?it/s]/var/folders/b6/1mflrv1s5s9b5pj5n4cg2hjw0000gn/T/ipykernel_72852/4073488752.py:7: UserWarning: To copy construct from a tensor, it is recommended to use sourceTensor.clone().detach() or sourceTensor.clone().detach().requires_grad_(True), rather than torch.tensor(sourceTensor).\n",
      "  item = {key: torch.tensor(val[idx]) for key, val in self.encodings.items()}\n",
      "  1%|          | 100/11025 [00:38<1:08:36,  2.65it/s]"
     ]
    },
    {
     "name": "stdout",
     "output_type": "stream",
     "text": [
      "{'loss': 0.5764, 'grad_norm': 2.0835654735565186, 'learning_rate': 1.981859410430839e-05, 'epoch': 0.03}\n"
     ]
    },
    {
     "name": "stderr",
     "output_type": "stream",
     "text": [
      "  2%|▏         | 200/11025 [01:16<1:06:26,  2.72it/s]"
     ]
    },
    {
     "name": "stdout",
     "output_type": "stream",
     "text": [
      "{'loss': 0.5265, 'grad_norm': 8.028223037719727, 'learning_rate': 1.963718820861678e-05, 'epoch': 0.05}\n"
     ]
    },
    {
     "name": "stderr",
     "output_type": "stream",
     "text": [
      "  3%|▎         | 300/11025 [01:54<1:09:07,  2.59it/s]"
     ]
    },
    {
     "name": "stdout",
     "output_type": "stream",
     "text": [
      "{'loss': 0.5031, 'grad_norm': 9.859118461608887, 'learning_rate': 1.945578231292517e-05, 'epoch': 0.08}\n"
     ]
    },
    {
     "name": "stderr",
     "output_type": "stream",
     "text": [
      "  4%|▎         | 400/11025 [02:31<1:05:53,  2.69it/s]"
     ]
    },
    {
     "name": "stdout",
     "output_type": "stream",
     "text": [
      "{'loss': 0.4642, 'grad_norm': 1.9171615839004517, 'learning_rate': 1.9274376417233563e-05, 'epoch': 0.11}\n"
     ]
    },
    {
     "name": "stderr",
     "output_type": "stream",
     "text": [
      "  5%|▍         | 500/11025 [03:09<1:06:00,  2.66it/s]"
     ]
    },
    {
     "name": "stdout",
     "output_type": "stream",
     "text": [
      "{'loss': 0.4161, 'grad_norm': 15.203277587890625, 'learning_rate': 1.9092970521541953e-05, 'epoch': 0.14}\n"
     ]
    },
    {
     "name": "stderr",
     "output_type": "stream",
     "text": [
      "  5%|▌         | 600/11025 [03:45<1:02:52,  2.76it/s]"
     ]
    },
    {
     "name": "stdout",
     "output_type": "stream",
     "text": [
      "{'loss': 0.4222, 'grad_norm': 10.431306838989258, 'learning_rate': 1.8911564625850343e-05, 'epoch': 0.16}\n"
     ]
    },
    {
     "name": "stderr",
     "output_type": "stream",
     "text": [
      "  6%|▋         | 700/11025 [04:23<1:05:09,  2.64it/s]"
     ]
    },
    {
     "name": "stdout",
     "output_type": "stream",
     "text": [
      "{'loss': 0.4518, 'grad_norm': 4.238683223724365, 'learning_rate': 1.8730158730158732e-05, 'epoch': 0.19}\n"
     ]
    },
    {
     "name": "stderr",
     "output_type": "stream",
     "text": [
      "  7%|▋         | 800/11025 [05:00<1:02:36,  2.72it/s]"
     ]
    },
    {
     "name": "stdout",
     "output_type": "stream",
     "text": [
      "{'loss': 0.417, 'grad_norm': 17.732154846191406, 'learning_rate': 1.8548752834467122e-05, 'epoch': 0.22}\n"
     ]
    },
    {
     "name": "stderr",
     "output_type": "stream",
     "text": [
      "  8%|▊         | 900/11025 [05:37<1:03:00,  2.68it/s]"
     ]
    },
    {
     "name": "stdout",
     "output_type": "stream",
     "text": [
      "{'loss': 0.4057, 'grad_norm': 6.413863182067871, 'learning_rate': 1.836734693877551e-05, 'epoch': 0.24}\n"
     ]
    },
    {
     "name": "stderr",
     "output_type": "stream",
     "text": [
      "  9%|▉         | 1000/11025 [06:15<1:02:08,  2.69it/s]"
     ]
    },
    {
     "name": "stdout",
     "output_type": "stream",
     "text": [
      "{'loss': 0.4036, 'grad_norm': 4.023458957672119, 'learning_rate': 1.81859410430839e-05, 'epoch': 0.27}\n"
     ]
    },
    {
     "name": "stderr",
     "output_type": "stream",
     "text": [
      " 10%|▉         | 1100/11025 [06:53<1:01:27,  2.69it/s]"
     ]
    },
    {
     "name": "stdout",
     "output_type": "stream",
     "text": [
      "{'loss': 0.4299, 'grad_norm': 4.905649662017822, 'learning_rate': 1.8004535147392294e-05, 'epoch': 0.3}\n"
     ]
    },
    {
     "name": "stderr",
     "output_type": "stream",
     "text": [
      " 11%|█         | 1200/11025 [07:30<1:00:51,  2.69it/s]"
     ]
    },
    {
     "name": "stdout",
     "output_type": "stream",
     "text": [
      "{'loss': 0.3901, 'grad_norm': 1.4741846323013306, 'learning_rate': 1.782312925170068e-05, 'epoch': 0.33}\n"
     ]
    },
    {
     "name": "stderr",
     "output_type": "stream",
     "text": [
      " 12%|█▏        | 1300/11025 [08:07<1:00:04,  2.70it/s]"
     ]
    },
    {
     "name": "stdout",
     "output_type": "stream",
     "text": [
      "{'loss': 0.3942, 'grad_norm': 7.662624835968018, 'learning_rate': 1.7641723356009073e-05, 'epoch': 0.35}\n"
     ]
    },
    {
     "name": "stderr",
     "output_type": "stream",
     "text": [
      " 13%|█▎        | 1400/11025 [08:45<59:49,  2.68it/s]  "
     ]
    },
    {
     "name": "stdout",
     "output_type": "stream",
     "text": [
      "{'loss': 0.3978, 'grad_norm': 5.8093647956848145, 'learning_rate': 1.7460317460317463e-05, 'epoch': 0.38}\n"
     ]
    },
    {
     "name": "stderr",
     "output_type": "stream",
     "text": [
      " 14%|█▎        | 1500/11025 [09:22<58:54,  2.69it/s]  "
     ]
    },
    {
     "name": "stdout",
     "output_type": "stream",
     "text": [
      "{'loss': 0.3834, 'grad_norm': 3.055901050567627, 'learning_rate': 1.7278911564625852e-05, 'epoch': 0.41}\n"
     ]
    },
    {
     "name": "stderr",
     "output_type": "stream",
     "text": [
      " 15%|█▍        | 1600/11025 [09:59<58:32,  2.68it/s]"
     ]
    },
    {
     "name": "stdout",
     "output_type": "stream",
     "text": [
      "{'loss': 0.399, 'grad_norm': 8.883439064025879, 'learning_rate': 1.7097505668934242e-05, 'epoch': 0.44}\n"
     ]
    },
    {
     "name": "stderr",
     "output_type": "stream",
     "text": [
      " 15%|█▌        | 1700/11025 [10:36<59:07,  2.63it/s]  "
     ]
    },
    {
     "name": "stdout",
     "output_type": "stream",
     "text": [
      "{'loss': 0.4317, 'grad_norm': 7.321454048156738, 'learning_rate': 1.691609977324263e-05, 'epoch': 0.46}\n"
     ]
    },
    {
     "name": "stderr",
     "output_type": "stream",
     "text": [
      " 16%|█▋        | 1800/11025 [11:14<57:47,  2.66it/s]  "
     ]
    },
    {
     "name": "stdout",
     "output_type": "stream",
     "text": [
      "{'loss': 0.3845, 'grad_norm': 5.168199062347412, 'learning_rate': 1.673469387755102e-05, 'epoch': 0.49}\n"
     ]
    },
    {
     "name": "stderr",
     "output_type": "stream",
     "text": [
      " 17%|█▋        | 1900/11025 [11:52<58:27,  2.60it/s]  "
     ]
    },
    {
     "name": "stdout",
     "output_type": "stream",
     "text": [
      "{'loss': 0.3749, 'grad_norm': 5.247435092926025, 'learning_rate': 1.655328798185941e-05, 'epoch': 0.52}\n"
     ]
    },
    {
     "name": "stderr",
     "output_type": "stream",
     "text": [
      " 18%|█▊        | 2000/11025 [12:30<56:06,  2.68it/s]  "
     ]
    },
    {
     "name": "stdout",
     "output_type": "stream",
     "text": [
      "{'loss': 0.3752, 'grad_norm': 14.192232131958008, 'learning_rate': 1.63718820861678e-05, 'epoch': 0.54}\n"
     ]
    },
    {
     "name": "stderr",
     "output_type": "stream",
     "text": [
      " 19%|█▉        | 2100/11025 [13:08<55:12,  2.69it/s]"
     ]
    },
    {
     "name": "stdout",
     "output_type": "stream",
     "text": [
      "{'loss': 0.3651, 'grad_norm': 3.737636089324951, 'learning_rate': 1.6190476190476193e-05, 'epoch': 0.57}\n"
     ]
    },
    {
     "name": "stderr",
     "output_type": "stream",
     "text": [
      " 20%|█▉        | 2200/11025 [13:45<55:10,  2.67it/s]"
     ]
    },
    {
     "name": "stdout",
     "output_type": "stream",
     "text": [
      "{'loss': 0.3807, 'grad_norm': 3.5279922485351562, 'learning_rate': 1.6009070294784583e-05, 'epoch': 0.6}\n"
     ]
    },
    {
     "name": "stderr",
     "output_type": "stream",
     "text": [
      " 21%|██        | 2300/11025 [14:22<54:09,  2.68it/s]"
     ]
    },
    {
     "name": "stdout",
     "output_type": "stream",
     "text": [
      "{'loss': 0.4251, 'grad_norm': 12.040055274963379, 'learning_rate': 1.5827664399092972e-05, 'epoch': 0.63}\n"
     ]
    },
    {
     "name": "stderr",
     "output_type": "stream",
     "text": [
      " 22%|██▏       | 2400/11025 [15:00<53:28,  2.69it/s]"
     ]
    },
    {
     "name": "stdout",
     "output_type": "stream",
     "text": [
      "{'loss': 0.3997, 'grad_norm': 7.4524617195129395, 'learning_rate': 1.5646258503401362e-05, 'epoch': 0.65}\n"
     ]
    },
    {
     "name": "stderr",
     "output_type": "stream",
     "text": [
      " 23%|██▎       | 2500/11025 [15:37<52:48,  2.69it/s]"
     ]
    },
    {
     "name": "stdout",
     "output_type": "stream",
     "text": [
      "{'loss': 0.3574, 'grad_norm': 9.666398048400879, 'learning_rate': 1.546485260770975e-05, 'epoch': 0.68}\n"
     ]
    },
    {
     "name": "stderr",
     "output_type": "stream",
     "text": [
      " 24%|██▎       | 2600/11025 [16:14<52:09,  2.69it/s]"
     ]
    },
    {
     "name": "stdout",
     "output_type": "stream",
     "text": [
      "{'loss': 0.4099, 'grad_norm': 7.061330318450928, 'learning_rate': 1.528344671201814e-05, 'epoch': 0.71}\n"
     ]
    },
    {
     "name": "stderr",
     "output_type": "stream",
     "text": [
      " 24%|██▍       | 2700/11025 [16:52<51:53,  2.67it/s]"
     ]
    },
    {
     "name": "stdout",
     "output_type": "stream",
     "text": [
      "{'loss': 0.3716, 'grad_norm': 3.5628724098205566, 'learning_rate': 1.510204081632653e-05, 'epoch': 0.73}\n"
     ]
    },
    {
     "name": "stderr",
     "output_type": "stream",
     "text": [
      " 25%|██▌       | 2800/11025 [17:32<51:05,  2.68it/s]  "
     ]
    },
    {
     "name": "stdout",
     "output_type": "stream",
     "text": [
      "{'loss': 0.3666, 'grad_norm': 4.259285926818848, 'learning_rate': 1.4920634920634922e-05, 'epoch': 0.76}\n"
     ]
    },
    {
     "name": "stderr",
     "output_type": "stream",
     "text": [
      " 26%|██▋       | 2900/11025 [18:10<49:58,  2.71it/s]  "
     ]
    },
    {
     "name": "stdout",
     "output_type": "stream",
     "text": [
      "{'loss': 0.3818, 'grad_norm': 4.207743167877197, 'learning_rate': 1.4739229024943311e-05, 'epoch': 0.79}\n"
     ]
    },
    {
     "name": "stderr",
     "output_type": "stream",
     "text": [
      " 27%|██▋       | 3000/11025 [18:48<49:45,  2.69it/s]"
     ]
    },
    {
     "name": "stdout",
     "output_type": "stream",
     "text": [
      "{'loss': 0.3681, 'grad_norm': 7.096469402313232, 'learning_rate': 1.4557823129251703e-05, 'epoch': 0.82}\n"
     ]
    },
    {
     "name": "stderr",
     "output_type": "stream",
     "text": [
      " 28%|██▊       | 3100/11025 [19:25<48:58,  2.70it/s]"
     ]
    },
    {
     "name": "stdout",
     "output_type": "stream",
     "text": [
      "{'loss': 0.3656, 'grad_norm': 1.336202621459961, 'learning_rate': 1.4376417233560092e-05, 'epoch': 0.84}\n"
     ]
    },
    {
     "name": "stderr",
     "output_type": "stream",
     "text": [
      " 29%|██▉       | 3200/11025 [20:02<48:07,  2.71it/s]"
     ]
    },
    {
     "name": "stdout",
     "output_type": "stream",
     "text": [
      "{'loss': 0.3208, 'grad_norm': 4.036442279815674, 'learning_rate': 1.4195011337868484e-05, 'epoch': 0.87}\n"
     ]
    },
    {
     "name": "stderr",
     "output_type": "stream",
     "text": [
      " 30%|██▉       | 3300/11025 [20:39<47:37,  2.70it/s]"
     ]
    },
    {
     "name": "stdout",
     "output_type": "stream",
     "text": [
      "{'loss': 0.3803, 'grad_norm': 5.149099349975586, 'learning_rate': 1.4013605442176872e-05, 'epoch': 0.9}\n"
     ]
    },
    {
     "name": "stderr",
     "output_type": "stream",
     "text": [
      " 31%|███       | 3400/11025 [21:16<46:53,  2.71it/s]"
     ]
    },
    {
     "name": "stdout",
     "output_type": "stream",
     "text": [
      "{'loss': 0.4171, 'grad_norm': 2.8452911376953125, 'learning_rate': 1.3832199546485261e-05, 'epoch': 0.93}\n"
     ]
    },
    {
     "name": "stderr",
     "output_type": "stream",
     "text": [
      " 32%|███▏      | 3500/11025 [21:53<46:16,  2.71it/s]"
     ]
    },
    {
     "name": "stdout",
     "output_type": "stream",
     "text": [
      "{'loss': 0.3251, 'grad_norm': 1.304904580116272, 'learning_rate': 1.3650793650793652e-05, 'epoch': 0.95}\n"
     ]
    },
    {
     "name": "stderr",
     "output_type": "stream",
     "text": [
      " 33%|███▎      | 3600/11025 [22:30<45:43,  2.71it/s]"
     ]
    },
    {
     "name": "stdout",
     "output_type": "stream",
     "text": [
      "{'loss': 0.4171, 'grad_norm': 6.169004440307617, 'learning_rate': 1.3469387755102042e-05, 'epoch': 0.98}\n"
     ]
    },
    {
     "name": "stderr",
     "output_type": "stream",
     "text": [
      "                                                    \n",
      " 33%|███▎      | 3675/11025 [25:16<45:29,  2.69it/s]"
     ]
    },
    {
     "name": "stdout",
     "output_type": "stream",
     "text": [
      "{'eval_loss': 0.3288102149963379, 'eval_runtime': 138.1317, 'eval_samples_per_second': 91.217, 'eval_steps_per_second': 11.402, 'epoch': 1.0}\n"
     ]
    },
    {
     "name": "stderr",
     "output_type": "stream",
     "text": [
      "/var/folders/b6/1mflrv1s5s9b5pj5n4cg2hjw0000gn/T/ipykernel_72852/4073488752.py:7: UserWarning: To copy construct from a tensor, it is recommended to use sourceTensor.clone().detach() or sourceTensor.clone().detach().requires_grad_(True), rather than torch.tensor(sourceTensor).\n",
      "  item = {key: torch.tensor(val[idx]) for key, val in self.encodings.items()}\n",
      " 34%|███▎      | 3700/11025 [25:27<45:19,  2.69it/s]   "
     ]
    },
    {
     "name": "stdout",
     "output_type": "stream",
     "text": [
      "{'loss': 0.3906, 'grad_norm': 2.726330041885376, 'learning_rate': 1.3287981859410433e-05, 'epoch': 1.01}\n"
     ]
    },
    {
     "name": "stderr",
     "output_type": "stream",
     "text": [
      " 34%|███▍      | 3800/11025 [26:04<45:00,  2.68it/s]"
     ]
    },
    {
     "name": "stdout",
     "output_type": "stream",
     "text": [
      "{'loss': 0.3138, 'grad_norm': 7.502457618713379, 'learning_rate': 1.3106575963718821e-05, 'epoch': 1.03}\n"
     ]
    },
    {
     "name": "stderr",
     "output_type": "stream",
     "text": [
      " 35%|███▌      | 3900/11025 [26:41<44:11,  2.69it/s]"
     ]
    },
    {
     "name": "stdout",
     "output_type": "stream",
     "text": [
      "{'loss': 0.2988, 'grad_norm': 13.665358543395996, 'learning_rate': 1.2925170068027212e-05, 'epoch': 1.06}\n"
     ]
    },
    {
     "name": "stderr",
     "output_type": "stream",
     "text": [
      " 36%|███▋      | 4000/11025 [27:19<43:21,  2.70it/s]"
     ]
    },
    {
     "name": "stdout",
     "output_type": "stream",
     "text": [
      "{'loss': 0.3075, 'grad_norm': 4.962534427642822, 'learning_rate': 1.2743764172335602e-05, 'epoch': 1.09}\n"
     ]
    },
    {
     "name": "stderr",
     "output_type": "stream",
     "text": [
      " 37%|███▋      | 4100/11025 [27:56<42:46,  2.70it/s]"
     ]
    },
    {
     "name": "stdout",
     "output_type": "stream",
     "text": [
      "{'loss': 0.355, 'grad_norm': 3.716488838195801, 'learning_rate': 1.2562358276643992e-05, 'epoch': 1.12}\n"
     ]
    },
    {
     "name": "stderr",
     "output_type": "stream",
     "text": [
      " 38%|███▊      | 4200/11025 [28:33<42:18,  2.69it/s]"
     ]
    },
    {
     "name": "stdout",
     "output_type": "stream",
     "text": [
      "{'loss': 0.3113, 'grad_norm': 31.872554779052734, 'learning_rate': 1.2380952380952383e-05, 'epoch': 1.14}\n"
     ]
    },
    {
     "name": "stderr",
     "output_type": "stream",
     "text": [
      " 39%|███▉      | 4300/11025 [29:10<41:24,  2.71it/s]"
     ]
    },
    {
     "name": "stdout",
     "output_type": "stream",
     "text": [
      "{'loss': 0.3145, 'grad_norm': 12.17998218536377, 'learning_rate': 1.219954648526077e-05, 'epoch': 1.17}\n"
     ]
    },
    {
     "name": "stderr",
     "output_type": "stream",
     "text": [
      " 40%|███▉      | 4400/11025 [29:47<41:17,  2.67it/s]"
     ]
    },
    {
     "name": "stdout",
     "output_type": "stream",
     "text": [
      "{'loss': 0.3176, 'grad_norm': 12.016297340393066, 'learning_rate': 1.2018140589569162e-05, 'epoch': 1.2}\n"
     ]
    },
    {
     "name": "stderr",
     "output_type": "stream",
     "text": [
      " 41%|████      | 4500/11025 [30:24<40:11,  2.71it/s]"
     ]
    },
    {
     "name": "stdout",
     "output_type": "stream",
     "text": [
      "{'loss': 0.2651, 'grad_norm': 7.964865684509277, 'learning_rate': 1.1836734693877552e-05, 'epoch': 1.22}\n"
     ]
    },
    {
     "name": "stderr",
     "output_type": "stream",
     "text": [
      " 42%|████▏     | 4600/11025 [31:01<39:32,  2.71it/s]"
     ]
    },
    {
     "name": "stdout",
     "output_type": "stream",
     "text": [
      "{'loss': 0.3528, 'grad_norm': 10.10000228881836, 'learning_rate': 1.1655328798185943e-05, 'epoch': 1.25}\n"
     ]
    },
    {
     "name": "stderr",
     "output_type": "stream",
     "text": [
      " 43%|████▎     | 4700/11025 [31:39<39:36,  2.66it/s]"
     ]
    },
    {
     "name": "stdout",
     "output_type": "stream",
     "text": [
      "{'loss': 0.3171, 'grad_norm': 7.953835487365723, 'learning_rate': 1.1473922902494332e-05, 'epoch': 1.28}\n"
     ]
    },
    {
     "name": "stderr",
     "output_type": "stream",
     "text": [
      " 44%|████▎     | 4800/11025 [32:16<39:06,  2.65it/s]"
     ]
    },
    {
     "name": "stdout",
     "output_type": "stream",
     "text": [
      "{'loss': 0.3573, 'grad_norm': 11.227317810058594, 'learning_rate': 1.1292517006802722e-05, 'epoch': 1.31}\n"
     ]
    },
    {
     "name": "stderr",
     "output_type": "stream",
     "text": [
      " 44%|████▍     | 4900/11025 [32:54<38:42,  2.64it/s]"
     ]
    },
    {
     "name": "stdout",
     "output_type": "stream",
     "text": [
      "{'loss': 0.3061, 'grad_norm': 4.870126724243164, 'learning_rate': 1.1111111111111113e-05, 'epoch': 1.33}\n"
     ]
    },
    {
     "name": "stderr",
     "output_type": "stream",
     "text": [
      " 45%|████▌     | 5000/11025 [33:32<37:09,  2.70it/s]"
     ]
    },
    {
     "name": "stdout",
     "output_type": "stream",
     "text": [
      "{'loss': 0.3369, 'grad_norm': 9.731133460998535, 'learning_rate': 1.0929705215419501e-05, 'epoch': 1.36}\n"
     ]
    },
    {
     "name": "stderr",
     "output_type": "stream",
     "text": [
      " 46%|████▋     | 5100/11025 [34:10<37:54,  2.61it/s]"
     ]
    },
    {
     "name": "stdout",
     "output_type": "stream",
     "text": [
      "{'loss': 0.3358, 'grad_norm': 9.1620454788208, 'learning_rate': 1.0748299319727893e-05, 'epoch': 1.39}\n"
     ]
    },
    {
     "name": "stderr",
     "output_type": "stream",
     "text": [
      " 47%|████▋     | 5200/11025 [34:49<36:54,  2.63it/s]"
     ]
    },
    {
     "name": "stdout",
     "output_type": "stream",
     "text": [
      "{'loss': 0.2941, 'grad_norm': 18.010732650756836, 'learning_rate': 1.0566893424036282e-05, 'epoch': 1.41}\n"
     ]
    },
    {
     "name": "stderr",
     "output_type": "stream",
     "text": [
      " 48%|████▊     | 5300/11025 [35:27<35:18,  2.70it/s]"
     ]
    },
    {
     "name": "stdout",
     "output_type": "stream",
     "text": [
      "{'loss': 0.376, 'grad_norm': 0.5778183937072754, 'learning_rate': 1.0385487528344672e-05, 'epoch': 1.44}\n"
     ]
    },
    {
     "name": "stderr",
     "output_type": "stream",
     "text": [
      " 49%|████▉     | 5400/11025 [36:05<34:51,  2.69it/s]"
     ]
    },
    {
     "name": "stdout",
     "output_type": "stream",
     "text": [
      "{'loss': 0.2732, 'grad_norm': 10.099592208862305, 'learning_rate': 1.0204081632653063e-05, 'epoch': 1.47}\n"
     ]
    },
    {
     "name": "stderr",
     "output_type": "stream",
     "text": [
      " 50%|████▉     | 5500/11025 [36:43<35:03,  2.63it/s]"
     ]
    },
    {
     "name": "stdout",
     "output_type": "stream",
     "text": [
      "{'loss': 0.3288, 'grad_norm': 17.639060974121094, 'learning_rate': 1.0022675736961451e-05, 'epoch': 1.5}\n"
     ]
    },
    {
     "name": "stderr",
     "output_type": "stream",
     "text": [
      " 51%|█████     | 5600/11025 [37:20<34:10,  2.65it/s]"
     ]
    },
    {
     "name": "stdout",
     "output_type": "stream",
     "text": [
      "{'loss': 0.3292, 'grad_norm': 4.405653953552246, 'learning_rate': 9.841269841269842e-06, 'epoch': 1.52}\n"
     ]
    },
    {
     "name": "stderr",
     "output_type": "stream",
     "text": [
      " 52%|█████▏    | 5700/11025 [37:58<33:24,  2.66it/s]"
     ]
    },
    {
     "name": "stdout",
     "output_type": "stream",
     "text": [
      "{'loss': 0.3252, 'grad_norm': 8.086126327514648, 'learning_rate': 9.659863945578232e-06, 'epoch': 1.55}\n"
     ]
    },
    {
     "name": "stderr",
     "output_type": "stream",
     "text": [
      " 53%|█████▎    | 5800/11025 [38:37<33:09,  2.63it/s]"
     ]
    },
    {
     "name": "stdout",
     "output_type": "stream",
     "text": [
      "{'loss': 0.2918, 'grad_norm': 5.71996545791626, 'learning_rate': 9.478458049886621e-06, 'epoch': 1.58}\n"
     ]
    },
    {
     "name": "stderr",
     "output_type": "stream",
     "text": [
      " 54%|█████▎    | 5900/11025 [39:15<32:03,  2.66it/s]"
     ]
    },
    {
     "name": "stdout",
     "output_type": "stream",
     "text": [
      "{'loss': 0.3361, 'grad_norm': 2.199155807495117, 'learning_rate': 9.297052154195013e-06, 'epoch': 1.61}\n"
     ]
    },
    {
     "name": "stderr",
     "output_type": "stream",
     "text": [
      " 54%|█████▍    | 6000/11025 [39:53<31:59,  2.62it/s]"
     ]
    },
    {
     "name": "stdout",
     "output_type": "stream",
     "text": [
      "{'loss': 0.3278, 'grad_norm': 6.188827991485596, 'learning_rate': 9.115646258503402e-06, 'epoch': 1.63}\n"
     ]
    },
    {
     "name": "stderr",
     "output_type": "stream",
     "text": [
      " 55%|█████▌    | 6100/11025 [40:31<32:37,  2.52it/s]"
     ]
    },
    {
     "name": "stdout",
     "output_type": "stream",
     "text": [
      "{'loss': 0.3067, 'grad_norm': 3.875086545944214, 'learning_rate': 8.934240362811792e-06, 'epoch': 1.66}\n"
     ]
    },
    {
     "name": "stderr",
     "output_type": "stream",
     "text": [
      " 56%|█████▌    | 6200/11025 [41:10<30:34,  2.63it/s]"
     ]
    },
    {
     "name": "stdout",
     "output_type": "stream",
     "text": [
      "{'loss': 0.3257, 'grad_norm': 12.854330062866211, 'learning_rate': 8.752834467120183e-06, 'epoch': 1.69}\n"
     ]
    },
    {
     "name": "stderr",
     "output_type": "stream",
     "text": [
      " 57%|█████▋    | 6300/11025 [41:49<29:29,  2.67it/s]"
     ]
    },
    {
     "name": "stdout",
     "output_type": "stream",
     "text": [
      "{'loss': 0.3237, 'grad_norm': 4.5853271484375, 'learning_rate': 8.571428571428571e-06, 'epoch': 1.71}\n"
     ]
    },
    {
     "name": "stderr",
     "output_type": "stream",
     "text": [
      " 58%|█████▊    | 6400/11025 [42:26<29:41,  2.60it/s]"
     ]
    },
    {
     "name": "stdout",
     "output_type": "stream",
     "text": [
      "{'loss': 0.3145, 'grad_norm': 10.376612663269043, 'learning_rate': 8.390022675736962e-06, 'epoch': 1.74}\n"
     ]
    },
    {
     "name": "stderr",
     "output_type": "stream",
     "text": [
      " 59%|█████▉    | 6500/11025 [43:05<29:36,  2.55it/s]"
     ]
    },
    {
     "name": "stdout",
     "output_type": "stream",
     "text": [
      "{'loss': 0.2963, 'grad_norm': 0.7873433232307434, 'learning_rate': 8.208616780045352e-06, 'epoch': 1.77}\n"
     ]
    },
    {
     "name": "stderr",
     "output_type": "stream",
     "text": [
      " 60%|█████▉    | 6600/11025 [43:45<28:52,  2.55it/s]"
     ]
    },
    {
     "name": "stdout",
     "output_type": "stream",
     "text": [
      "{'loss': 0.3011, 'grad_norm': 11.326220512390137, 'learning_rate': 8.027210884353741e-06, 'epoch': 1.8}\n"
     ]
    },
    {
     "name": "stderr",
     "output_type": "stream",
     "text": [
      " 61%|██████    | 6700/11025 [44:24<27:40,  2.60it/s]"
     ]
    },
    {
     "name": "stdout",
     "output_type": "stream",
     "text": [
      "{'loss': 0.3329, 'grad_norm': 5.492082595825195, 'learning_rate': 7.845804988662133e-06, 'epoch': 1.82}\n"
     ]
    },
    {
     "name": "stderr",
     "output_type": "stream",
     "text": [
      " 62%|██████▏   | 6800/11025 [45:03<27:35,  2.55it/s]"
     ]
    },
    {
     "name": "stdout",
     "output_type": "stream",
     "text": [
      "{'loss': 0.3208, 'grad_norm': 10.484877586364746, 'learning_rate': 7.664399092970522e-06, 'epoch': 1.85}\n"
     ]
    },
    {
     "name": "stderr",
     "output_type": "stream",
     "text": [
      " 63%|██████▎   | 6900/11025 [45:42<26:58,  2.55it/s]"
     ]
    },
    {
     "name": "stdout",
     "output_type": "stream",
     "text": [
      "{'loss': 0.3018, 'grad_norm': 0.7977584004402161, 'learning_rate': 7.482993197278913e-06, 'epoch': 1.88}\n"
     ]
    },
    {
     "name": "stderr",
     "output_type": "stream",
     "text": [
      " 63%|██████▎   | 7000/11025 [46:22<26:20,  2.55it/s]"
     ]
    },
    {
     "name": "stdout",
     "output_type": "stream",
     "text": [
      "{'loss': 0.3115, 'grad_norm': 8.072693824768066, 'learning_rate': 7.301587301587301e-06, 'epoch': 1.9}\n"
     ]
    },
    {
     "name": "stderr",
     "output_type": "stream",
     "text": [
      " 64%|██████▍   | 7100/11025 [47:01<25:47,  2.54it/s]"
     ]
    },
    {
     "name": "stdout",
     "output_type": "stream",
     "text": [
      "{'loss': 0.3082, 'grad_norm': 1.0881154537200928, 'learning_rate': 7.120181405895692e-06, 'epoch': 1.93}\n"
     ]
    },
    {
     "name": "stderr",
     "output_type": "stream",
     "text": [
      " 65%|██████▌   | 7200/11025 [47:41<25:41,  2.48it/s]"
     ]
    },
    {
     "name": "stdout",
     "output_type": "stream",
     "text": [
      "{'loss': 0.3576, 'grad_norm': 8.373588562011719, 'learning_rate': 6.938775510204082e-06, 'epoch': 1.96}\n"
     ]
    },
    {
     "name": "stderr",
     "output_type": "stream",
     "text": [
      " 66%|██████▌   | 7300/11025 [48:20<25:07,  2.47it/s]"
     ]
    },
    {
     "name": "stdout",
     "output_type": "stream",
     "text": [
      "{'loss': 0.3226, 'grad_norm': 3.468111038208008, 'learning_rate': 6.757369614512473e-06, 'epoch': 1.99}\n"
     ]
    },
    {
     "name": "stderr",
     "output_type": "stream",
     "text": [
      "                                                    \n",
      " 67%|██████▋   | 7350/11025 [51:02<24:25,  2.51it/s]"
     ]
    },
    {
     "name": "stdout",
     "output_type": "stream",
     "text": [
      "{'eval_loss': 0.38723477721214294, 'eval_runtime': 139.6539, 'eval_samples_per_second': 90.223, 'eval_steps_per_second': 11.278, 'epoch': 2.0}\n"
     ]
    },
    {
     "name": "stderr",
     "output_type": "stream",
     "text": [
      "/var/folders/b6/1mflrv1s5s9b5pj5n4cg2hjw0000gn/T/ipykernel_72852/4073488752.py:7: UserWarning: To copy construct from a tensor, it is recommended to use sourceTensor.clone().detach() or sourceTensor.clone().detach().requires_grad_(True), rather than torch.tensor(sourceTensor).\n",
      "  item = {key: torch.tensor(val[idx]) for key, val in self.encodings.items()}\n",
      " 67%|██████▋   | 7400/11025 [51:24<23:23,  2.58it/s]   "
     ]
    },
    {
     "name": "stdout",
     "output_type": "stream",
     "text": [
      "{'loss': 0.3017, 'grad_norm': 0.7620372176170349, 'learning_rate': 6.575963718820862e-06, 'epoch': 2.01}\n"
     ]
    },
    {
     "name": "stderr",
     "output_type": "stream",
     "text": [
      " 68%|██████▊   | 7500/11025 [52:02<21:52,  2.69it/s]"
     ]
    },
    {
     "name": "stdout",
     "output_type": "stream",
     "text": [
      "{'loss': 0.2354, 'grad_norm': 0.12345786392688751, 'learning_rate': 6.394557823129253e-06, 'epoch': 2.04}\n"
     ]
    },
    {
     "name": "stderr",
     "output_type": "stream",
     "text": [
      " 69%|██████▉   | 7600/11025 [52:41<21:54,  2.61it/s]"
     ]
    },
    {
     "name": "stdout",
     "output_type": "stream",
     "text": [
      "{'loss': 0.2089, 'grad_norm': 2.5865910053253174, 'learning_rate': 6.2131519274376415e-06, 'epoch': 2.07}\n"
     ]
    },
    {
     "name": "stderr",
     "output_type": "stream",
     "text": [
      " 70%|██████▉   | 7700/11025 [53:19<21:09,  2.62it/s]"
     ]
    },
    {
     "name": "stdout",
     "output_type": "stream",
     "text": [
      "{'loss': 0.322, 'grad_norm': 1.5571696758270264, 'learning_rate': 6.031746031746032e-06, 'epoch': 2.1}\n"
     ]
    },
    {
     "name": "stderr",
     "output_type": "stream",
     "text": [
      " 71%|███████   | 7800/11025 [53:58<20:17,  2.65it/s]"
     ]
    },
    {
     "name": "stdout",
     "output_type": "stream",
     "text": [
      "{'loss': 0.2571, 'grad_norm': 14.015165328979492, 'learning_rate': 5.850340136054422e-06, 'epoch': 2.12}\n"
     ]
    },
    {
     "name": "stderr",
     "output_type": "stream",
     "text": [
      " 72%|███████▏  | 7900/11025 [54:36<19:43,  2.64it/s]"
     ]
    },
    {
     "name": "stdout",
     "output_type": "stream",
     "text": [
      "{'loss': 0.2719, 'grad_norm': 9.405807495117188, 'learning_rate': 5.668934240362812e-06, 'epoch': 2.15}\n"
     ]
    },
    {
     "name": "stderr",
     "output_type": "stream",
     "text": [
      " 73%|███████▎  | 8000/11025 [55:15<19:14,  2.62it/s]"
     ]
    },
    {
     "name": "stdout",
     "output_type": "stream",
     "text": [
      "{'loss': 0.2697, 'grad_norm': 16.815431594848633, 'learning_rate': 5.487528344671202e-06, 'epoch': 2.18}\n"
     ]
    },
    {
     "name": "stderr",
     "output_type": "stream",
     "text": [
      " 73%|███████▎  | 8100/11025 [55:53<18:35,  2.62it/s]"
     ]
    },
    {
     "name": "stdout",
     "output_type": "stream",
     "text": [
      "{'loss': 0.3024, 'grad_norm': 13.109796524047852, 'learning_rate': 5.306122448979593e-06, 'epoch': 2.2}\n"
     ]
    },
    {
     "name": "stderr",
     "output_type": "stream",
     "text": [
      " 74%|███████▍  | 8200/11025 [56:32<18:00,  2.62it/s]"
     ]
    },
    {
     "name": "stdout",
     "output_type": "stream",
     "text": [
      "{'loss': 0.2475, 'grad_norm': 7.588737964630127, 'learning_rate': 5.124716553287983e-06, 'epoch': 2.23}\n"
     ]
    },
    {
     "name": "stderr",
     "output_type": "stream",
     "text": [
      " 75%|███████▌  | 8300/11025 [57:10<17:07,  2.65it/s]"
     ]
    },
    {
     "name": "stdout",
     "output_type": "stream",
     "text": [
      "{'loss': 0.334, 'grad_norm': 7.395362377166748, 'learning_rate': 4.943310657596373e-06, 'epoch': 2.26}\n"
     ]
    },
    {
     "name": "stderr",
     "output_type": "stream",
     "text": [
      " 76%|███████▌  | 8400/11025 [57:48<16:34,  2.64it/s]"
     ]
    },
    {
     "name": "stdout",
     "output_type": "stream",
     "text": [
      "{'loss': 0.278, 'grad_norm': 0.5666347146034241, 'learning_rate': 4.761904761904762e-06, 'epoch': 2.29}\n"
     ]
    },
    {
     "name": "stderr",
     "output_type": "stream",
     "text": [
      " 77%|███████▋  | 8500/11025 [58:26<16:00,  2.63it/s]"
     ]
    },
    {
     "name": "stdout",
     "output_type": "stream",
     "text": [
      "{'loss': 0.2717, 'grad_norm': 16.352190017700195, 'learning_rate': 4.580498866213152e-06, 'epoch': 2.31}\n"
     ]
    },
    {
     "name": "stderr",
     "output_type": "stream",
     "text": [
      " 78%|███████▊  | 8600/11025 [59:05<15:22,  2.63it/s]"
     ]
    },
    {
     "name": "stdout",
     "output_type": "stream",
     "text": [
      "{'loss': 0.3242, 'grad_norm': 0.25240209698677063, 'learning_rate': 4.399092970521542e-06, 'epoch': 2.34}\n"
     ]
    },
    {
     "name": "stderr",
     "output_type": "stream",
     "text": [
      " 79%|███████▉  | 8700/11025 [59:43<15:09,  2.56it/s]"
     ]
    },
    {
     "name": "stdout",
     "output_type": "stream",
     "text": [
      "{'loss': 0.2718, 'grad_norm': 0.47916367650032043, 'learning_rate': 4.217687074829933e-06, 'epoch': 2.37}\n"
     ]
    },
    {
     "name": "stderr",
     "output_type": "stream",
     "text": [
      " 80%|███████▉  | 8800/11025 [1:00:21<13:49,  2.68it/s]"
     ]
    },
    {
     "name": "stdout",
     "output_type": "stream",
     "text": [
      "{'loss': 0.3052, 'grad_norm': 8.761012077331543, 'learning_rate': 4.036281179138322e-06, 'epoch': 2.39}\n"
     ]
    },
    {
     "name": "stderr",
     "output_type": "stream",
     "text": [
      " 81%|████████  | 8900/11025 [1:00:59<13:08,  2.70it/s]"
     ]
    },
    {
     "name": "stdout",
     "output_type": "stream",
     "text": [
      "{'loss': 0.2335, 'grad_norm': 15.716368675231934, 'learning_rate': 3.854875283446712e-06, 'epoch': 2.42}\n"
     ]
    },
    {
     "name": "stderr",
     "output_type": "stream",
     "text": [
      " 82%|████████▏ | 9000/11025 [1:01:36<12:32,  2.69it/s]"
     ]
    },
    {
     "name": "stdout",
     "output_type": "stream",
     "text": [
      "{'loss': 0.2851, 'grad_norm': 8.429215431213379, 'learning_rate': 3.6734693877551024e-06, 'epoch': 2.45}\n"
     ]
    },
    {
     "name": "stderr",
     "output_type": "stream",
     "text": [
      " 83%|████████▎ | 9100/11025 [1:02:15<12:22,  2.59it/s]"
     ]
    },
    {
     "name": "stdout",
     "output_type": "stream",
     "text": [
      "{'loss': 0.2666, 'grad_norm': 7.176588535308838, 'learning_rate': 3.492063492063492e-06, 'epoch': 2.48}\n"
     ]
    },
    {
     "name": "stderr",
     "output_type": "stream",
     "text": [
      " 83%|████████▎ | 9200/11025 [1:02:53<11:37,  2.62it/s]"
     ]
    },
    {
     "name": "stdout",
     "output_type": "stream",
     "text": [
      "{'loss': 0.3671, 'grad_norm': 1.3219527006149292, 'learning_rate': 3.3106575963718824e-06, 'epoch': 2.5}\n"
     ]
    },
    {
     "name": "stderr",
     "output_type": "stream",
     "text": [
      " 84%|████████▍ | 9300/11025 [1:03:31<11:01,  2.61it/s]"
     ]
    },
    {
     "name": "stdout",
     "output_type": "stream",
     "text": [
      "{'loss': 0.2366, 'grad_norm': 0.8927417993545532, 'learning_rate': 3.1292517006802725e-06, 'epoch': 2.53}\n"
     ]
    },
    {
     "name": "stderr",
     "output_type": "stream",
     "text": [
      " 85%|████████▌ | 9400/11025 [1:04:10<10:07,  2.68it/s]"
     ]
    },
    {
     "name": "stdout",
     "output_type": "stream",
     "text": [
      "{'loss': 0.2866, 'grad_norm': 12.732004165649414, 'learning_rate': 2.947845804988662e-06, 'epoch': 2.56}\n"
     ]
    },
    {
     "name": "stderr",
     "output_type": "stream",
     "text": [
      " 86%|████████▌ | 9500/11025 [1:04:50<10:08,  2.50it/s]"
     ]
    },
    {
     "name": "stdout",
     "output_type": "stream",
     "text": [
      "{'loss': 0.2693, 'grad_norm': 0.7909669876098633, 'learning_rate': 2.7664399092970525e-06, 'epoch': 2.59}\n"
     ]
    },
    {
     "name": "stderr",
     "output_type": "stream",
     "text": [
      " 87%|████████▋ | 9600/11025 [1:05:29<09:03,  2.62it/s]"
     ]
    },
    {
     "name": "stdout",
     "output_type": "stream",
     "text": [
      "{'loss': 0.2809, 'grad_norm': 0.44463905692100525, 'learning_rate': 2.5850340136054425e-06, 'epoch': 2.61}\n"
     ]
    },
    {
     "name": "stderr",
     "output_type": "stream",
     "text": [
      " 88%|████████▊ | 9700/11025 [1:06:09<08:41,  2.54it/s]"
     ]
    },
    {
     "name": "stdout",
     "output_type": "stream",
     "text": [
      "{'loss': 0.3204, 'grad_norm': 0.9331309795379639, 'learning_rate': 2.4036281179138325e-06, 'epoch': 2.64}\n"
     ]
    },
    {
     "name": "stderr",
     "output_type": "stream",
     "text": [
      " 89%|████████▉ | 9800/11025 [1:06:47<07:31,  2.71it/s]"
     ]
    },
    {
     "name": "stdout",
     "output_type": "stream",
     "text": [
      "{'loss': 0.2878, 'grad_norm': 4.294024467468262, 'learning_rate': 2.222222222222222e-06, 'epoch': 2.67}\n"
     ]
    },
    {
     "name": "stderr",
     "output_type": "stream",
     "text": [
      " 90%|████████▉ | 9900/11025 [1:07:24<06:59,  2.68it/s]"
     ]
    },
    {
     "name": "stdout",
     "output_type": "stream",
     "text": [
      "{'loss': 0.2753, 'grad_norm': 1.3706518411636353, 'learning_rate': 2.0408163265306125e-06, 'epoch': 2.69}\n"
     ]
    },
    {
     "name": "stderr",
     "output_type": "stream",
     "text": [
      " 91%|█████████ | 10000/11025 [1:08:03<06:38,  2.57it/s]"
     ]
    },
    {
     "name": "stdout",
     "output_type": "stream",
     "text": [
      "{'loss': 0.2583, 'grad_norm': 13.41502857208252, 'learning_rate': 1.8594104308390023e-06, 'epoch': 2.72}\n"
     ]
    },
    {
     "name": "stderr",
     "output_type": "stream",
     "text": [
      " 92%|█████████▏| 10100/11025 [1:08:43<06:11,  2.49it/s]"
     ]
    },
    {
     "name": "stdout",
     "output_type": "stream",
     "text": [
      "{'loss': 0.2377, 'grad_norm': 1.0877403020858765, 'learning_rate': 1.6780045351473925e-06, 'epoch': 2.75}\n"
     ]
    },
    {
     "name": "stderr",
     "output_type": "stream",
     "text": [
      " 93%|█████████▎| 10200/11025 [1:09:22<05:22,  2.56it/s]"
     ]
    },
    {
     "name": "stdout",
     "output_type": "stream",
     "text": [
      "{'loss': 0.3059, 'grad_norm': 21.091299057006836, 'learning_rate': 1.4965986394557825e-06, 'epoch': 2.78}\n"
     ]
    },
    {
     "name": "stderr",
     "output_type": "stream",
     "text": [
      " 93%|█████████▎| 10300/11025 [1:10:01<04:42,  2.57it/s]"
     ]
    },
    {
     "name": "stdout",
     "output_type": "stream",
     "text": [
      "{'loss': 0.2782, 'grad_norm': 1.0138745307922363, 'learning_rate': 1.3151927437641723e-06, 'epoch': 2.8}\n"
     ]
    },
    {
     "name": "stderr",
     "output_type": "stream",
     "text": [
      " 94%|█████████▍| 10400/11025 [1:10:40<04:05,  2.55it/s]"
     ]
    },
    {
     "name": "stdout",
     "output_type": "stream",
     "text": [
      "{'loss': 0.2665, 'grad_norm': 11.537872314453125, 'learning_rate': 1.1337868480725626e-06, 'epoch': 2.83}\n"
     ]
    },
    {
     "name": "stderr",
     "output_type": "stream",
     "text": [
      " 95%|█████████▌| 10500/11025 [1:11:20<03:24,  2.56it/s]"
     ]
    },
    {
     "name": "stdout",
     "output_type": "stream",
     "text": [
      "{'loss': 0.3062, 'grad_norm': 16.593326568603516, 'learning_rate': 9.523809523809525e-07, 'epoch': 2.86}\n"
     ]
    },
    {
     "name": "stderr",
     "output_type": "stream",
     "text": [
      " 96%|█████████▌| 10600/11025 [1:11:59<02:46,  2.55it/s]"
     ]
    },
    {
     "name": "stdout",
     "output_type": "stream",
     "text": [
      "{'loss': 0.2276, 'grad_norm': 16.737773895263672, 'learning_rate': 7.709750566893425e-07, 'epoch': 2.88}\n"
     ]
    },
    {
     "name": "stderr",
     "output_type": "stream",
     "text": [
      " 97%|█████████▋| 10700/11025 [1:12:38<02:07,  2.55it/s]"
     ]
    },
    {
     "name": "stdout",
     "output_type": "stream",
     "text": [
      "{'loss': 0.3292, 'grad_norm': 22.915475845336914, 'learning_rate': 5.895691609977325e-07, 'epoch': 2.91}\n"
     ]
    },
    {
     "name": "stderr",
     "output_type": "stream",
     "text": [
      " 98%|█████████▊| 10800/11025 [1:13:17<01:27,  2.56it/s]"
     ]
    },
    {
     "name": "stdout",
     "output_type": "stream",
     "text": [
      "{'loss': 0.247, 'grad_norm': 0.33412912487983704, 'learning_rate': 4.0816326530612243e-07, 'epoch': 2.94}\n"
     ]
    },
    {
     "name": "stderr",
     "output_type": "stream",
     "text": [
      " 99%|█████████▉| 10900/11025 [1:13:57<00:48,  2.55it/s]"
     ]
    },
    {
     "name": "stdout",
     "output_type": "stream",
     "text": [
      "{'loss': 0.3104, 'grad_norm': 0.5845579504966736, 'learning_rate': 2.267573696145125e-07, 'epoch': 2.97}\n"
     ]
    },
    {
     "name": "stderr",
     "output_type": "stream",
     "text": [
      "100%|█████████▉| 11000/11025 [1:14:36<00:09,  2.55it/s]"
     ]
    },
    {
     "name": "stdout",
     "output_type": "stream",
     "text": [
      "{'loss': 0.2806, 'grad_norm': 0.4855920672416687, 'learning_rate': 4.53514739229025e-08, 'epoch': 2.99}\n"
     ]
    },
    {
     "name": "stderr",
     "output_type": "stream",
     "text": [
      "100%|██████████| 11025/11025 [1:14:46<00:00,  2.53it/s]/var/folders/b6/1mflrv1s5s9b5pj5n4cg2hjw0000gn/T/ipykernel_72852/4073488752.py:7: UserWarning: To copy construct from a tensor, it is recommended to use sourceTensor.clone().detach() or sourceTensor.clone().detach().requires_grad_(True), rather than torch.tensor(sourceTensor).\n",
      "  item = {key: torch.tensor(val[idx]) for key, val in self.encodings.items()}\n",
      "                                                       \n",
      "100%|██████████| 11025/11025 [1:17:07<00:00,  2.53it/s]"
     ]
    },
    {
     "name": "stdout",
     "output_type": "stream",
     "text": [
      "{'eval_loss': 0.47502976655960083, 'eval_runtime': 139.1165, 'eval_samples_per_second': 90.572, 'eval_steps_per_second': 11.321, 'epoch': 3.0}\n"
     ]
    },
    {
     "name": "stderr",
     "output_type": "stream",
     "text": [
      "100%|██████████| 11025/11025 [1:17:10<00:00,  2.53it/s]"
     ]
    },
    {
     "name": "stdout",
     "output_type": "stream",
     "text": [
      "{'train_runtime': 4630.5515, 'train_samples_per_second': 19.047, 'train_steps_per_second': 2.381, 'train_loss': 0.33481114450225485, 'epoch': 3.0}\n"
     ]
    },
    {
     "name": "stderr",
     "output_type": "stream",
     "text": [
      "100%|██████████| 11025/11025 [1:17:11<00:00,  2.38it/s]"
     ]
    },
    {
     "name": "stdout",
     "output_type": "stream",
     "text": [
      "Train time: 4631.740176916122\n",
      "Train Metrics: {'train_runtime': 4630.5515, 'train_samples_per_second': 19.047, 'train_steps_per_second': 2.381, 'total_flos': 4215299701989600.0, 'train_loss': 0.33481114450225485, 'epoch': 3.0}\n"
     ]
    },
    {
     "name": "stderr",
     "output_type": "stream",
     "text": [
      "\n"
     ]
    }
   ],
   "source": [
    "\n",
    "start_time = time.time()\n",
    "train_output = trainer.train()  \n",
    "training_time_manual = time.time() - start_time #calculating training time manually\n",
    "train_metrics = train_output.metrics  # Contains train_runtime, train_loss, etc.\n",
    "print(f\"Train time: {training_time_manual}\")\n",
    "print(f\"Train Metrics: {train_metrics}\")"
   ]
  },
  {
   "cell_type": "markdown",
   "metadata": {},
   "source": [
    "## Fit the model to the validation set and predict"
   ]
  },
  {
   "cell_type": "code",
   "execution_count": 99,
   "metadata": {},
   "outputs": [
    {
     "name": "stderr",
     "output_type": "stream",
     "text": [
      "/var/folders/b6/1mflrv1s5s9b5pj5n4cg2hjw0000gn/T/ipykernel_72852/4073488752.py:7: UserWarning: To copy construct from a tensor, it is recommended to use sourceTensor.clone().detach() or sourceTensor.clone().detach().requires_grad_(True), rather than torch.tensor(sourceTensor).\n",
      "  item = {key: torch.tensor(val[idx]) for key, val in self.encodings.items()}\n",
      "100%|██████████| 1575/1575 [02:26<00:00, 10.73it/s]\n"
     ]
    }
   ],
   "source": [
    "predicted = trainer.predict(val_dataset)\n",
    "\n",
    "y_pred_val = np.argmax(predicted.predictions, axis=1) \n",
    "y_true_val = predicted.label_ids "
   ]
  },
  {
   "cell_type": "markdown",
   "metadata": {},
   "source": [
    "## Fit the model to the test set and predict"
   ]
  },
  {
   "cell_type": "code",
   "execution_count": 100,
   "metadata": {},
   "outputs": [
    {
     "name": "stderr",
     "output_type": "stream",
     "text": [
      "/var/folders/b6/1mflrv1s5s9b5pj5n4cg2hjw0000gn/T/ipykernel_72852/4073488752.py:7: UserWarning: To copy construct from a tensor, it is recommended to use sourceTensor.clone().detach() or sourceTensor.clone().detach().requires_grad_(True), rather than torch.tensor(sourceTensor).\n",
      "  item = {key: torch.tensor(val[idx]) for key, val in self.encodings.items()}\n",
      "100%|██████████| 1500/1500 [02:22<00:00, 10.54it/s]"
     ]
    },
    {
     "name": "stdout",
     "output_type": "stream",
     "text": [
      "Test time: 142.45329785346985\n",
      "Test Metrics: {'test_loss': 0.35058698058128357, 'test_runtime': 142.4494, 'test_samples_per_second': 84.24, 'test_steps_per_second': 10.53}\n"
     ]
    },
    {
     "name": "stderr",
     "output_type": "stream",
     "text": [
      "\n"
     ]
    }
   ],
   "source": [
    "start_time_test = time.time()\n",
    "predicted_test = trainer.predict(test_dataset)\n",
    "test_time_manual = time.time() - start_time_test\n",
    "print(f\"Test time: {test_time_manual}\")\n",
    "test_metrics = predicted_test.metrics  # Contains train_runtime, train_loss, etc.\n",
    "print(f\"Test Metrics: {test_metrics}\")\n",
    "\n",
    "y_pred = np.argmax(predicted_test.predictions, axis=1)\n",
    "y_true = predicted_test.label_ids\n",
    "\n"
   ]
  },
  {
   "cell_type": "markdown",
   "metadata": {},
   "source": [
    "## Confusion Matrix"
   ]
  },
  {
   "cell_type": "code",
   "execution_count": 109,
   "metadata": {},
   "outputs": [
    {
     "data": {
      "image/png": "[encoded data removed]",
      "text/plain": [
       "<Figure size 640x480 with 2 Axes>"
      ]
     },
     "metadata": {},
     "output_type": "display_data"
    }
   ],
   "source": [
    "from sklearn.metrics import confusion_matrix, ConfusionMatrixDisplay\n",
    "import matplotlib.pyplot as plt\n",
    "\n",
    "conf_matrix = confusion_matrix(y_true, y_pred)\n",
    "\n",
    "disp = ConfusionMatrixDisplay(confusion_matrix=conf_matrix)\n",
    "disp.plot(cmap=plt.cm.Blues)\n",
    "\n",
    "plt.title(\"Confusion Matrix\")\n",
    "plt.show()"
   ]
  },
  {
   "cell_type": "markdown",
   "metadata": {},
   "source": [
    "## New team standardized evaluation of the model"
   ]
  },
  {
   "cell_type": "code",
   "execution_count": 102,
   "metadata": {},
   "outputs": [
    {
     "name": "stdout",
     "output_type": "stream",
     "text": [
      "precision:\t0.7326\n",
      "recall:\t\t0.6738\n",
      "fscore:\t\t0.7020\n",
      "accuracy:\t0.8515\n",
      "tn: 8119\t fp: 766\n",
      "fn: 1016\t tp: 2099\n"
     ]
    }
   ],
   "source": [
    "scores = calculate_scores(y_true, y_pred)\n",
    "print(scores)"
   ]
  },
  {
   "cell_type": "markdown",
   "metadata": {},
   "source": [
    "## New way of displaying the Confusion Matrix"
   ]
  },
  {
   "cell_type": "code",
   "execution_count": 103,
   "metadata": {},
   "outputs": [
    {
     "data": {
      "image/png": "[encoded data removed]",
      "text/plain": [
       "<Figure size 640x480 with 2 Axes>"
      ]
     },
     "metadata": {},
     "output_type": "display_data"
    }
   ],
   "source": [
    "disp = ConfusionMatrixDisplay(confusion_matrix=scores.confusion_matrix(), display_labels=[\"Not Sexist\", \"Sexist\"]).plot(cmap=\"Blues\")"
   ]
  },
  {
   "cell_type": "code",
   "execution_count": 104,
   "metadata": {},
   "outputs": [],
   "source": [
    "mlflow.end_run()"
   ]
  },
  {
   "cell_type": "markdown",
   "metadata": {},
   "source": [
    "## Report model to MlFlow"
   ]
  },
  {
   "cell_type": "code",
   "execution_count": 105,
   "metadata": {},
   "outputs": [
    {
     "name": "stderr",
     "output_type": "stream",
     "text": [
      "Registered model 'DeBERTa-v3' already exists. Creating a new version of this model...\n",
      "Created version '10' of model 'DeBERTa-v3'.\n"
     ]
    }
   ],
   "source": [
    "with mlflow.start_run(\n",
    "        experiment_id=get_experiment().experiment_id, \n",
    "        run_name=\"DeBERTa-v3-base testing\"\n",
    "        ):\n",
    "    mlflow.log_param(\"model_name\", MODEL_NAME)\n",
    "    mlflow.log_param(\"max_length\", 128)\n",
    "    mlflow.log_param(\"learning_rate\", 5e-5)\n",
    "\n",
    "    mlflow.log_metrics(scores.asdict())\n",
    "    mlflow.set_tag(\"model\", \"DeBERTa-v3\")\n",
    "\n",
    "    mlflow.log_table({\"id\": test[\"id\"], \"prediction\": y_pred}, \"predictions_DeBERTa.json\")\n",
    "    mlflow.log_figure(disp.figure_, \"confusion_matrix.png\")\n",
    "\n",
    "    #log the model\n",
    "    prediction_data = {\n",
    "        \"columns\": [\"id\", \"prediction\"],\n",
    "        \"data\": [[id_, pred.tolist()] for id_, pred in zip(test[\"id\"], y_pred)]\n",
    "    }\n",
    "    #save to a JSON file\n",
    "    predictions_file = r\"../resource/mlflow/DeBERTa/predictions.json\"\n",
    "    with open(predictions_file, \"w\") as f:\n",
    "        json.dump(prediction_data, f, indent=4)\n",
    "        \n",
    "    #log the JSON file \n",
    "    mlflow.log_artifact(predictions_file)\n",
    "        \n",
    "    #simulate model registration\n",
    "    mlflow.set_tag(\"registered_model_name\", \"DeBERTa-v3\")\n",
    "    mlflow.set_tag(\"model_alias\", \"current\")\n",
    "\n",
    "    #register the model\n",
    "    model_uri = f\"runs:/{mlflow.active_run().info.run_id}/predictions_DeBERTa.json\"\n",
    "    registered_model = mlflow.register_model(model_uri=model_uri, name=\"DeBERTa-v3\") \n",
    "\n",
    "\n",
    "client().set_registered_model_alias(\"DeBERTa-v3\", \"current\", registered_model.version)"
   ]
  },
  {
   "cell_type": "markdown",
   "metadata": {},
   "source": [
    "## Loading Predictions"
   ]
  },
  {
   "cell_type": "code",
   "execution_count": 106,
   "metadata": {},
   "outputs": [
    {
     "data": {
      "text/plain": [
       "<ModelVersion: aliases=['current'], creation_timestamp=1734293954036, current_stage='None', description=None, last_updated_timestamp=1734293954036, name='DeBERTa-v3', run_id='5365d26e9b8344b48d2adbd02a5af427', run_link=None, source='file:///Users/retipeter/Documents/TU%20Wien/NLP/nlp-ie-label-legends/notebooks/mlruns/943899761474513424/5365d26e9b8344b48d2adbd02a5af427/artifacts/predictions_DeBERTa.json', status='READY', status_message=None, tags={}, user_id=None, version=10>"
      ]
     },
     "execution_count": 106,
     "metadata": {},
     "output_type": "execute_result"
    }
   ],
   "source": [
    "get_current(\"DeBERTa-v3\")"
   ]
  },
  {
   "cell_type": "code",
   "execution_count": 107,
   "metadata": {},
   "outputs": [
    {
     "data": {
      "text/html": [
       "<div><style>\n",
       ".dataframe > thead > tr,\n",
       ".dataframe > tbody > tr {\n",
       "  text-align: right;\n",
       "  white-space: pre-wrap;\n",
       "}\n",
       "</style>\n",
       "<small>shape: (5, 2)</small><table border=\"1\" class=\"dataframe\"><thead><tr><th>id</th><th>prediction</th></tr><tr><td>i64</td><td>i64</td></tr></thead><tbody><tr><td>100</td><td>1</td></tr><tr><td>10005</td><td>0</td></tr><tr><td>10006</td><td>0</td></tr><tr><td>10007</td><td>0</td></tr><tr><td>10008</td><td>0</td></tr></tbody></table></div>"
      ],
      "text/plain": [
       "shape: (5, 2)\n",
       "┌───────┬────────────┐\n",
       "│ id    ┆ prediction │\n",
       "│ ---   ┆ ---        │\n",
       "│ i64   ┆ i64        │\n",
       "╞═══════╪════════════╡\n",
       "│ 100   ┆ 1          │\n",
       "│ 10005 ┆ 0          │\n",
       "│ 10006 ┆ 0          │\n",
       "│ 10007 ┆ 0          │\n",
       "│ 10008 ┆ 0          │\n",
       "└───────┴────────────┘"
      ]
     },
     "execution_count": 107,
     "metadata": {},
     "output_type": "execute_result"
    }
   ],
   "source": [
    "load_predictions(\"DeBERTa\").head()"
   ]
  },
  {
   "cell_type": "markdown",
   "metadata": {},
   "source": [
    "## *For me I got the logits of the model which need to be converted with sigmoid to get the probabilities of each class"
   ]
  },
  {
   "cell_type": "code",
   "execution_count": 108,
   "metadata": {},
   "outputs": [
    {
     "data": {
      "text/plain": [
       "tensor([[0.4151, 0.6027],\n",
       "        [0.7112, 0.3068],\n",
       "        [0.7112, 0.3068],\n",
       "        ...,\n",
       "        [0.4968, 0.5023],\n",
       "        [0.4968, 0.5023],\n",
       "        [0.4968, 0.5023]])"
      ]
     },
     "execution_count": 108,
     "metadata": {},
     "output_type": "execute_result"
    }
   ],
   "source": [
    "#Kind of uneccessary but I thought I needed it for the final output.\n",
    "#Didn't know how it worked so I investigated and found out that predicted_test.predictions are logits which need to be converted to get the probs of each class\n",
    "placeholder = torch.tensor(predicted_test.predictions)\n",
    "classes_predicted = torch.sigmoid(placeholder)\n",
    "classes_predicted"
   ]
  }
 ],
 "metadata": {
  "kernelspec": {
   "display_name": ".venv",
   "language": "python",
   "name": "python3"
  },
  "language_info": {
   "codemirror_mode": {
    "name": "ipython",
    "version": 3
   },
   "file_extension": ".py",
   "mimetype": "text/x-python",
   "name": "python",
   "nbconvert_exporter": "python",
   "pygments_lexer": "ipython3",
   "version": "3.12.7"
  }
 },
 "nbformat": 4,
 "nbformat_minor": 2
}
