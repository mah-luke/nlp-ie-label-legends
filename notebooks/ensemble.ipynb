{
 "cells": [
  {
   "cell_type": "markdown",
   "id": "8acacc73",
   "metadata": {
    "lines_to_next_cell": 0
   },
   "source": []
  },
  {
   "cell_type": "code",
   "execution_count": 1,
   "id": "0c190a6e",
   "metadata": {
    "lines_to_next_cell": 2
   },
   "outputs": [],
   "source": [
    "%load_ext autoreload\n",
    "%autoreload 2"
   ]
  },
  {
   "cell_type": "code",
   "execution_count": 2,
   "id": "28995f28",
   "metadata": {},
   "outputs": [
    {
     "data": {
      "text/plain": [
       "/home/lukas/Programming/uni/nlp-ie-label-legends/.venv/lib/python3.12/site-packages/tqdm/auto.py:21: TqdmWarning: IProgress not found. Please update jupyter and ipywidgets. See https://ipywidgets.readthedocs.io/en/stable/user_install.html\n",
       "  from .autonotebook import tqdm as notebook_tqdm\n"
      ]
     },
     "metadata": {},
     "output_type": "display_data"
    },
    {
     "data": {
      "text/plain": [
       "/home/lukas/Programming/uni/nlp-ie-label-legends/.venv/lib/python3.12/site-packages/transformers/training_args.py:1575: FutureWarning: `evaluation_strategy` is deprecated and will be removed in version 4.46 of 🤗 Transformers. Use `eval_strategy` instead\n",
       "  warnings.warn(\n"
      ]
     },
     "metadata": {},
     "output_type": "display_data"
    }
   ],
   "source": [
    "import numpy as np\n",
    "import polars\n",
    "from polars import DataFrame, Series, col\n",
    "from transformers import AutoModelForSequenceClassification\n",
    "from label_legends.deberta import load_dataset, load_deberta, load_dataset\n",
    "from label_legends.preprocess import holdout, load_data, load_test, transform\n",
    "from label_legends.female import predict_female\n",
    "from label_legends.swears_negative import predict_swear, predict_negative_sentiment\n",
    "from label_legends.result import calculate_scores\n",
    "from label_legends.util import ROOT"
   ]
  },
  {
   "cell_type": "markdown",
   "id": "77741141",
   "metadata": {},
   "source": [
    "# Use Deberta to create initial predictions:"
   ]
  },
  {
   "cell_type": "code",
   "execution_count": 3,
   "id": "70fec1e3",
   "metadata": {
    "lines_to_next_cell": 2
   },
   "outputs": [
    {
     "data": {
      "text/plain": [
       "/home/lukas/.local/share/uv/python/cpython-3.12.5-linux-x86_64-gnu/lib/python3.12/multiprocessing/popen_fork.py:66: RuntimeWarning: Using fork() can cause Polars to deadlock in the child process.\n",
       "In addition, using fork() with Python in general is a recipe for mysterious\n",
       "deadlocks and crashes.\n",
       "\n",
       "The most likely reason you are seeing this error is because you are using the\n",
       "multiprocessing module on Linux, which uses fork() by default. This will be\n",
       "fixed in Python 3.14. Until then, you want to use the \"spawn\" context instead.\n",
       "\n",
       "See https://docs.pola.rs/user-guide/misc/multiprocessing/ for details.\n",
       "\n",
       "  self.pid = os.fork()\n",
       "Some weights of DebertaV2ForSequenceClassification were not initialized from the model checkpoint at microsoft/deberta-v3-base and are newly initialized: ['classifier.bias', 'classifier.weight', 'pooler.dense.bias', 'pooler.dense.weight']\n",
       "You should probably TRAIN this model on a down-stream task to be able to use it for predictions and inference.\n"
      ]
     },
     "metadata": {},
     "output_type": "display_data"
    },
    {
     "data": {
      "text/plain": [
       "/home/lukas/.local/share/uv/python/cpython-3.12.5-linux-x86_64-gnu/lib/python3.12/multiprocessing/popen_fork.py:66: RuntimeWarning: Using fork() can cause Polars to deadlock in the child process.\n",
       "In addition, using fork() with Python in general is a recipe for mysterious\n",
       "deadlocks and crashes.\n",
       "\n",
       "The most likely reason you are seeing this error is because you are using the\n",
       "multiprocessing module on Linux, which uses fork() by default. This will be\n",
       "fixed in Python 3.14. Until then, you want to use the \"spawn\" context instead.\n",
       "\n",
       "See https://docs.pola.rs/user-guide/misc/multiprocessing/ for details.\n",
       "\n",
       "  self.pid = os.fork()\n"
      ]
     },
     "metadata": {},
     "output_type": "display_data"
    },
    {
     "data": {
      "text/plain": [
       "/home/lukas/Programming/uni/nlp-ie-label-legends/.venv/lib/python3.12/site-packages/sklearn/feature_extraction/text.py:521: UserWarning: The parameter 'token_pattern' will not be used since 'tokenizer' is not None'\n",
       "  warnings.warn(\n"
      ]
     },
     "metadata": {},
     "output_type": "display_data"
    }
   ],
   "source": [
    "deberta = load_deberta()"
   ]
  },
  {
   "cell_type": "code",
   "execution_count": 4,
   "id": "13f1c998",
   "metadata": {
    "lines_to_next_cell": 2
   },
   "outputs": [
    {
     "data": {
      "text/plain": [
       "/home/lukas/Programming/uni/nlp-ie-label-legends/src/label_legends/deberta.py:55: UserWarning: To copy construct from a tensor, it is recommended to use sourceTensor.clone().detach() or sourceTensor.clone().detach().requires_grad_(True), rather than torch.tensor(sourceTensor).\n",
       "  item = {key: torch.tensor(val[idx]) for key, val in self.encodings.items()}\n"
      ]
     },
     "metadata": {},
     "output_type": "display_data"
    },
    {
     "data": {
      "text/html": [
       "\n",
       "    <div>\n",
       "      \n",
       "      <progress value='2' max='9190' style='width:300px; height:20px; vertical-align: middle;'></progress>\n",
       "      [   2/9190 : < :, Epoch 0.00/5]\n",
       "    </div>\n",
       "    <table border=\"1\" class=\"dataframe\">\n",
       "  <thead>\n",
       " <tr style=\"text-align: left;\">\n",
       "      <th>Epoch</th>\n",
       "      <th>Training Loss</th>\n",
       "      <th>Validation Loss</th>\n",
       "    </tr>\n",
       "  </thead>\n",
       "  <tbody>\n",
       "  </tbody>\n",
       "</table><p>"
      ],
      "text/plain": [
       "<IPython.core.display.HTML object>"
      ]
     },
     "metadata": {},
     "output_type": "display_data"
    },
    {
     "data": {
      "text/plain": [
       "/home/lukas/Programming/uni/nlp-ie-label-legends/src/label_legends/deberta.py:55: UserWarning: To copy construct from a tensor, it is recommended to use sourceTensor.clone().detach() or sourceTensor.clone().detach().requires_grad_(True), rather than torch.tensor(sourceTensor).\n",
       "  item = {key: torch.tensor(val[idx]) for key, val in self.encodings.items()}\n"
      ]
     },
     "metadata": {},
     "output_type": "display_data"
    },
    {
     "data": {
      "text/plain": [
       "/home/lukas/Programming/uni/nlp-ie-label-legends/src/label_legends/deberta.py:55: UserWarning: To copy construct from a tensor, it is recommended to use sourceTensor.clone().detach() or sourceTensor.clone().detach().requires_grad_(True), rather than torch.tensor(sourceTensor).\n",
       "  item = {key: torch.tensor(val[idx]) for key, val in self.encodings.items()}\n"
      ]
     },
     "metadata": {},
     "output_type": "display_data"
    },
    {
     "data": {
      "text/plain": [
       "/home/lukas/Programming/uni/nlp-ie-label-legends/src/label_legends/deberta.py:55: UserWarning: To copy construct from a tensor, it is recommended to use sourceTensor.clone().detach() or sourceTensor.clone().detach().requires_grad_(True), rather than torch.tensor(sourceTensor).\n",
       "  item = {key: torch.tensor(val[idx]) for key, val in self.encodings.items()}\n"
      ]
     },
     "metadata": {},
     "output_type": "display_data"
    },
    {
     "data": {
      "text/plain": [
       "/home/lukas/Programming/uni/nlp-ie-label-legends/src/label_legends/deberta.py:55: UserWarning: To copy construct from a tensor, it is recommended to use sourceTensor.clone().detach() or sourceTensor.clone().detach().requires_grad_(True), rather than torch.tensor(sourceTensor).\n",
       "  item = {key: torch.tensor(val[idx]) for key, val in self.encodings.items()}\n"
      ]
     },
     "metadata": {},
     "output_type": "display_data"
    },
    {
     "data": {
      "text/plain": [
       "/home/lukas/Programming/uni/nlp-ie-label-legends/src/label_legends/deberta.py:55: UserWarning: To copy construct from a tensor, it is recommended to use sourceTensor.clone().detach() or sourceTensor.clone().detach().requires_grad_(True), rather than torch.tensor(sourceTensor).\n",
       "  item = {key: torch.tensor(val[idx]) for key, val in self.encodings.items()}\n"
      ]
     },
     "metadata": {},
     "output_type": "display_data"
    },
    {
     "data": {
      "text/plain": [
       "🏃 View run ./results at: https://mlflow.mahluke.page/#/experiments/0/runs/3ac4da83be204dc79696e67af5d6f2f6\n",
       "🧪 View experiment at: https://mlflow.mahluke.page/#/experiments/0\n"
      ]
     },
     "metadata": {},
     "output_type": "display_data"
    },
    {
     "data": {
      "text/plain": [
       "{'train_runtime': 3821.6682,\n",
       " 'train_samples_per_second': 38.465,\n",
       " 'train_steps_per_second': 2.405,\n",
       " 'total_flos': 7025499503316000.0,\n",
       " 'train_loss': 0.2741721511276295,\n",
       " 'epoch': 5.0}"
      ]
     },
     "metadata": {},
     "output_type": "display_data"
    }
   ],
   "source": [
    "train_out = deberta.train()\n",
    "train_out.metrics"
   ]
  },
  {
   "cell_type": "code",
   "execution_count": 5,
   "id": "0851f2c6",
   "metadata": {
    "lines_to_next_cell": 0
   },
   "outputs": [
    {
     "data": {
      "text/plain": [
       "/home/lukas/Programming/uni/nlp-ie-label-legends/src/label_legends/deberta.py:55: UserWarning: To copy construct from a tensor, it is recommended to use sourceTensor.clone().detach() or sourceTensor.clone().detach().requires_grad_(True), rather than torch.tensor(sourceTensor).\n",
       "  item = {key: torch.tensor(val[idx]) for key, val in self.encodings.items()}\n"
      ]
     },
     "metadata": {},
     "output_type": "display_data"
    },
    {
     "data": {
      "text/html": [
       "\n",
       "    <div>\n",
       "      \n",
       "      <progress value='1' max='750' style='width:300px; height:20px; vertical-align: middle;'></progress>\n",
       "      [  1/750 : < :]\n",
       "    </div>\n",
       "    "
      ],
      "text/plain": [
       "<IPython.core.display.HTML object>"
      ]
     },
     "metadata": {},
     "output_type": "display_data"
    },
    {
     "data": {
      "text/plain": [
       "PredictionOutput(predictions=array([[-0.82901084,  0.8538155 ],\n",
       "       [ 1.5196092 , -0.93007046],\n",
       "       [ 1.5196092 , -0.93007046],\n",
       "       ...,\n",
       "       [ 0.28441924, -0.00646599],\n",
       "       [ 0.28441924, -0.00646599],\n",
       "       [ 0.28441924, -0.00646599]], dtype=float32), label_ids=array([1, 0, 0, ..., 1, 0, 1]), metrics={'test_loss': 0.3585379719734192, 'test_precision': 0.7245005257623555, 'test_recall': 0.6635634028892455, 'test_fscore': 0.6926943699731903, 'test_accuracy': 0.8471666666666666, 'test_tp': 2067, 'test_tn': 8099, 'test_fp': 786, 'test_fn': 1048, 'test_runtime': 77.9195, 'test_samples_per_second': 154.005, 'test_steps_per_second': 9.625})"
      ]
     },
     "metadata": {},
     "output_type": "display_data"
    }
   ],
   "source": [
    "test = load_test().collect()\n",
    "test_transformed = transform(test)\n",
    "deberta_prediction = deberta.predict(load_dataset(test_transformed[\"text\"].to_list(), test_transformed[\"label\"].to_list()))\n",
    "deberta_prediction"
   ]
  },
  {
   "cell_type": "code",
   "execution_count": 6,
   "id": "21b9bfc9",
   "metadata": {
    "lines_to_next_cell": 0
   },
   "outputs": [
    {
     "data": {
      "text/html": [
       "<div><style>\n",
       ".dataframe > thead > tr,\n",
       ".dataframe > tbody > tr {\n",
       "  text-align: right;\n",
       "  white-space: pre-wrap;\n",
       "}\n",
       "</style>\n",
       "<small>shape: (5, 3)</small><table border=\"1\" class=\"dataframe\"><thead><tr><th>id</th><th>label</th><th>deberta</th></tr><tr><td>i64</td><td>i64</td><td>i64</td></tr></thead><tbody><tr><td>100</td><td>1</td><td>1</td></tr><tr><td>10005</td><td>0</td><td>0</td></tr><tr><td>10006</td><td>0</td><td>0</td></tr><tr><td>10007</td><td>0</td><td>0</td></tr><tr><td>10008</td><td>0</td><td>0</td></tr></tbody></table></div>"
      ],
      "text/plain": [
       "shape: (5, 3)\n",
       "┌───────┬───────┬─────────┐\n",
       "│ id    ┆ label ┆ deberta │\n",
       "│ ---   ┆ ---   ┆ ---     │\n",
       "│ i64   ┆ i64   ┆ i64     │\n",
       "╞═══════╪═══════╪═════════╡\n",
       "│ 100   ┆ 1     ┆ 1       │\n",
       "│ 10005 ┆ 0     ┆ 0       │\n",
       "│ 10006 ┆ 0     ┆ 0       │\n",
       "│ 10007 ┆ 0     ┆ 0       │\n",
       "│ 10008 ┆ 0     ┆ 0       │\n",
       "└───────┴───────┴─────────┘"
      ]
     },
     "metadata": {},
     "output_type": "display_data"
    }
   ],
   "source": [
    "predictions = DataFrame({\"id\": test[\"id\"], \"label\": deberta_prediction.label_ids, \"deberta\": np.argmax(deberta_prediction.predictions, axis=1)})\n",
    "predictions.head()"
   ]
  },
  {
   "cell_type": "code",
   "execution_count": 7,
   "id": "1e08b531",
   "metadata": {},
   "outputs": [
    {
     "data": {
      "text/plain": [
       "precision:\t0.7245\n",
       "recall:\t\t0.6636\n",
       "fscore:\t\t0.6927\n",
       "accuracy:\t0.8472\n",
       "tn: 8099\t fp: 786\n",
       "fn: 1048\t tp: 2067"
      ]
     },
     "metadata": {},
     "output_type": "display_data"
    }
   ],
   "source": [
    "scores_deberta = calculate_scores(predictions[\"label\"], predictions[\"deberta\"])\n",
    "scores_deberta"
   ]
  },
  {
   "cell_type": "markdown",
   "id": "5d35450d",
   "metadata": {},
   "source": [
    "# Post-Process negative predictions\n",
    "\n",
    "## Predict if sentence is referencing a female"
   ]
  },
  {
   "cell_type": "code",
   "execution_count": 8,
   "id": "4246bbf6",
   "metadata": {
    "lines_to_next_cell": 2
   },
   "outputs": [
    {
     "data": {
      "text/html": [
       "<div><style>\n",
       ".dataframe > thead > tr,\n",
       ".dataframe > tbody > tr {\n",
       "  text-align: right;\n",
       "  white-space: pre-wrap;\n",
       "}\n",
       "</style>\n",
       "<small>shape: (5, 4)</small><table border=\"1\" class=\"dataframe\"><thead><tr><th>id</th><th>type</th><th>label</th><th>deberta</th></tr><tr><td>i64</td><td>str</td><td>i64</td><td>i64</td></tr></thead><tbody><tr><td>100</td><td>&quot;tp&quot;</td><td>1</td><td>1</td></tr><tr><td>10005</td><td>&quot;tn&quot;</td><td>0</td><td>0</td></tr><tr><td>10006</td><td>&quot;tn&quot;</td><td>0</td><td>0</td></tr><tr><td>10007</td><td>&quot;tn&quot;</td><td>0</td><td>0</td></tr><tr><td>10008</td><td>&quot;tn&quot;</td><td>0</td><td>0</td></tr></tbody></table></div>"
      ],
      "text/plain": [
       "shape: (5, 4)\n",
       "┌───────┬──────┬───────┬─────────┐\n",
       "│ id    ┆ type ┆ label ┆ deberta │\n",
       "│ ---   ┆ ---  ┆ ---   ┆ ---     │\n",
       "│ i64   ┆ str  ┆ i64   ┆ i64     │\n",
       "╞═══════╪══════╪═══════╪═════════╡\n",
       "│ 100   ┆ tp   ┆ 1     ┆ 1       │\n",
       "│ 10005 ┆ tn   ┆ 0     ┆ 0       │\n",
       "│ 10006 ┆ tn   ┆ 0     ┆ 0       │\n",
       "│ 10007 ┆ tn   ┆ 0     ┆ 0       │\n",
       "│ 10008 ┆ tn   ┆ 0     ┆ 0       │\n",
       "└───────┴──────┴───────┴─────────┘"
      ]
     },
     "metadata": {},
     "output_type": "display_data"
    }
   ],
   "source": [
    "def assign_type(prediction: int, label: str):\n",
    "    if prediction == 0:\n",
    "        if label == \"not sexist\":\n",
    "            return \"tn\"\n",
    "        return \"fn\"\n",
    "    if label == \"sexist\":\n",
    "        return \"tp\"\n",
    "    return \"fp\"\n",
    "\n",
    "\n",
    "predictions = predictions.join(test, on=\"id\").with_columns(polars.struct([\"deberta\", \"label_sexist\"]).map_elements(lambda x: assign_type(x['deberta'],x['label_sexist']), return_dtype=polars.String).alias(\"type\")).select([\"id\", \"type\", \"label\", \"deberta\"])\n",
    "\n",
    "predictions.head()"
   ]
  },
  {
   "cell_type": "markdown",
   "id": "3dc6da64",
   "metadata": {
    "lines_to_next_cell": 0
   },
   "source": [
    "Add the predictions whether a text is about a female or not:"
   ]
  },
  {
   "cell_type": "code",
   "execution_count": 9,
   "id": "3504dec2",
   "metadata": {
    "lines_to_next_cell": 2
   },
   "outputs": [
    {
     "data": {
      "text/plain": [
       "/tmp/ipykernel_281774/2309025452.py:8: MapWithoutReturnDtypeWarning: Calling `map_elements` without specifying `return_dtype` can lead to unpredictable results. Specify `return_dtype` to silence this warning.\n",
       "  predictions = predictions.join(predict_female(test), on=\"id\").with_columns(\n"
      ]
     },
     "metadata": {},
     "output_type": "display_data"
    }
   ],
   "source": [
    "def alt_on_neg_pred(prediction: int, alternative: int):\n",
    "    \"\"\"Use the alternative if prediction is negative\"\"\"\n",
    "    if prediction == 1:\n",
    "        return 1\n",
    "    return alternative\n",
    "\n",
    "\n",
    "predictions = predictions.join(predict_female(test), on=\"id\").with_columns(\n",
    "    polars.struct([\"female\", \"deberta\"]).map_elements(lambda x: alt_on_neg_pred(x[\"deberta\"], x[\"female\"])).alias(\"pred_female\"))"
   ]
  },
  {
   "cell_type": "markdown",
   "id": "104efdda",
   "metadata": {
    "lines_to_next_cell": 0
   },
   "source": [
    "We see that the prediction of most false positives is reconsidered, as those contain some female phrase. However, many of true negatives are also reconsidered, leading to a potentially worse precision. As we are focusing on increasing the recall, this is a trade-off we have to make."
   ]
  },
  {
   "cell_type": "code",
   "execution_count": 10,
   "id": "c7f4ed6c",
   "metadata": {
    "lines_to_next_cell": 0
   },
   "outputs": [
    {
     "data": {
      "text/html": [
       "<div><style>\n",
       ".dataframe > thead > tr,\n",
       ".dataframe > tbody > tr {\n",
       "  text-align: right;\n",
       "  white-space: pre-wrap;\n",
       "}\n",
       "</style>\n",
       "<small>shape: (4, 4)</small><table border=\"1\" class=\"dataframe\"><thead><tr><th>female</th><th>type</th><th>samples</th><th>perc</th></tr><tr><td>i32</td><td>str</td><td>u32</td><td>f64</td></tr></thead><tbody><tr><td>1</td><td>&quot;fp&quot;</td><td>685</td><td>0.871501</td></tr><tr><td>1</td><td>&quot;fn&quot;</td><td>934</td><td>0.891221</td></tr><tr><td>1</td><td>&quot;tp&quot;</td><td>1766</td><td>0.854378</td></tr><tr><td>1</td><td>&quot;tn&quot;</td><td>5453</td><td>0.673293</td></tr></tbody></table></div>"
      ],
      "text/plain": [
       "shape: (4, 4)\n",
       "┌────────┬──────┬─────────┬──────────┐\n",
       "│ female ┆ type ┆ samples ┆ perc     │\n",
       "│ ---    ┆ ---  ┆ ---     ┆ ---      │\n",
       "│ i32    ┆ str  ┆ u32     ┆ f64      │\n",
       "╞════════╪══════╪═════════╪══════════╡\n",
       "│ 1      ┆ fp   ┆ 685     ┆ 0.871501 │\n",
       "│ 1      ┆ fn   ┆ 934     ┆ 0.891221 │\n",
       "│ 1      ┆ tp   ┆ 1766    ┆ 0.854378 │\n",
       "│ 1      ┆ tn   ┆ 5453    ┆ 0.673293 │\n",
       "└────────┴──────┴─────────┴──────────┘"
      ]
     },
     "metadata": {},
     "output_type": "display_data"
    }
   ],
   "source": [
    "predictions.group_by(\"female\", \"type\").len().with_columns((polars.col(\"len\") / polars.sum(\"len\").over(\"type\")).alias(\"perc\")).filter(col(\"female\")==1).sort(\"len\").rename({\"len\": \"samples\"})"
   ]
  },
  {
   "cell_type": "markdown",
   "id": "dbd956d8",
   "metadata": {},
   "source": [
    "\n"
   ]
  },
  {
   "cell_type": "code",
   "execution_count": 11,
   "id": "f4bcf56b",
   "metadata": {
    "lines_to_next_cell": 2
   },
   "outputs": [
    {
     "data": {
      "text/html": [
       "<div><style>\n",
       ".dataframe > thead > tr,\n",
       ".dataframe > tbody > tr {\n",
       "  text-align: right;\n",
       "  white-space: pre-wrap;\n",
       "}\n",
       "</style>\n",
       "<small>shape: (5, 6)</small><table border=\"1\" class=\"dataframe\"><thead><tr><th>id</th><th>type</th><th>label</th><th>deberta</th><th>female</th><th>pred_female</th></tr><tr><td>i64</td><td>str</td><td>i64</td><td>i64</td><td>i32</td><td>i64</td></tr></thead><tbody><tr><td>100</td><td>&quot;tp&quot;</td><td>1</td><td>1</td><td>1</td><td>1</td></tr><tr><td>10005</td><td>&quot;tn&quot;</td><td>0</td><td>0</td><td>1</td><td>1</td></tr><tr><td>10006</td><td>&quot;tn&quot;</td><td>0</td><td>0</td><td>1</td><td>1</td></tr><tr><td>10007</td><td>&quot;tn&quot;</td><td>0</td><td>0</td><td>1</td><td>1</td></tr><tr><td>10008</td><td>&quot;tn&quot;</td><td>0</td><td>0</td><td>1</td><td>1</td></tr></tbody></table></div>"
      ],
      "text/plain": [
       "shape: (5, 6)\n",
       "┌───────┬──────┬───────┬─────────┬────────┬─────────────┐\n",
       "│ id    ┆ type ┆ label ┆ deberta ┆ female ┆ pred_female │\n",
       "│ ---   ┆ ---  ┆ ---   ┆ ---     ┆ ---    ┆ ---         │\n",
       "│ i64   ┆ str  ┆ i64   ┆ i64     ┆ i32    ┆ i64         │\n",
       "╞═══════╪══════╪═══════╪═════════╪════════╪═════════════╡\n",
       "│ 100   ┆ tp   ┆ 1     ┆ 1       ┆ 1      ┆ 1           │\n",
       "│ 10005 ┆ tn   ┆ 0     ┆ 0       ┆ 1      ┆ 1           │\n",
       "│ 10006 ┆ tn   ┆ 0     ┆ 0       ┆ 1      ┆ 1           │\n",
       "│ 10007 ┆ tn   ┆ 0     ┆ 0       ┆ 1      ┆ 1           │\n",
       "│ 10008 ┆ tn   ┆ 0     ┆ 0       ┆ 1      ┆ 1           │\n",
       "└───────┴──────┴───────┴─────────┴────────┴─────────────┘"
      ]
     },
     "metadata": {},
     "output_type": "display_data"
    }
   ],
   "source": [
    "predictions.head()"
   ]
  },
  {
   "cell_type": "markdown",
   "id": "5b4c6bb8",
   "metadata": {
    "lines_to_next_cell": 0
   },
   "source": [
    "If we would only use 'female' without some additional measurements, we would increase our recall considerably to over 95%, which comes at the cost of precision and f-score, which are drastically decreased. In order to not worsen the model that strongly overall, we add additional measurements to decide when to change a negative prediction by Deberta to a positive one."
   ]
  },
  {
   "cell_type": "code",
   "execution_count": 12,
   "id": "43641401",
   "metadata": {},
   "outputs": [
    {
     "data": {
      "text/plain": [
       "precision:\t0.3248\n",
       "recall:\t\t0.9634\n",
       "fscore:\t\t0.4858\n",
       "accuracy:\t0.4706\n",
       "tn: 2646\t fp: 6239\n",
       "fn: 114\t tp: 3001"
      ]
     },
     "metadata": {},
     "output_type": "display_data"
    }
   ],
   "source": [
    "scores_female = calculate_scores(predictions[\"label\"], predictions[\"pred_female\"])\n",
    "scores_female"
   ]
  },
  {
   "cell_type": "markdown",
   "id": "9d5fe5d2",
   "metadata": {},
   "source": [
    "## Sentiment analysis\n",
    "Predict if text has a negative connotation. If true, and also targeted towards a female, predict the sample to be sexist.\n",
    "\n",
    "\n"
   ]
  },
  {
   "cell_type": "code",
   "execution_count": 13,
   "id": "dc9b873d",
   "metadata": {},
   "outputs": [
    {
     "data": {
      "text/plain": [
       "/tmp/ipykernel_281774/120385903.py:1: MapWithoutReturnDtypeWarning: Calling `map_elements` without specifying `return_dtype` can lead to unpredictable results. Specify `return_dtype` to silence this warning.\n",
       "  predictions = predictions.join(predict_negative_sentiment(test), on=\"id\").with_columns(polars.struct([\"negative\", \"deberta\"]).map_elements(lambda x: alt_on_neg_pred(x[\"deberta\"], x[\"negative\"])).alias(\"pred_negative\"))\n"
      ]
     },
     "metadata": {},
     "output_type": "display_data"
    },
    {
     "data": {
      "text/html": [
       "<div><style>\n",
       ".dataframe > thead > tr,\n",
       ".dataframe > tbody > tr {\n",
       "  text-align: right;\n",
       "  white-space: pre-wrap;\n",
       "}\n",
       "</style>\n",
       "<small>shape: (5, 8)</small><table border=\"1\" class=\"dataframe\"><thead><tr><th>id</th><th>type</th><th>label</th><th>deberta</th><th>female</th><th>pred_female</th><th>negative</th><th>pred_negative</th></tr><tr><td>i64</td><td>str</td><td>i64</td><td>i64</td><td>i32</td><td>i64</td><td>i32</td><td>i64</td></tr></thead><tbody><tr><td>100</td><td>&quot;tp&quot;</td><td>1</td><td>1</td><td>1</td><td>1</td><td>0</td><td>1</td></tr><tr><td>10005</td><td>&quot;tn&quot;</td><td>0</td><td>0</td><td>1</td><td>1</td><td>1</td><td>1</td></tr><tr><td>10006</td><td>&quot;tn&quot;</td><td>0</td><td>0</td><td>1</td><td>1</td><td>1</td><td>1</td></tr><tr><td>10007</td><td>&quot;tn&quot;</td><td>0</td><td>0</td><td>1</td><td>1</td><td>1</td><td>1</td></tr><tr><td>10008</td><td>&quot;tn&quot;</td><td>0</td><td>0</td><td>1</td><td>1</td><td>1</td><td>1</td></tr></tbody></table></div>"
      ],
      "text/plain": [
       "shape: (5, 8)\n",
       "┌───────┬──────┬───────┬─────────┬────────┬─────────────┬──────────┬───────────────┐\n",
       "│ id    ┆ type ┆ label ┆ deberta ┆ female ┆ pred_female ┆ negative ┆ pred_negative │\n",
       "│ ---   ┆ ---  ┆ ---   ┆ ---     ┆ ---    ┆ ---         ┆ ---      ┆ ---           │\n",
       "│ i64   ┆ str  ┆ i64   ┆ i64     ┆ i32    ┆ i64         ┆ i32      ┆ i64           │\n",
       "╞═══════╪══════╪═══════╪═════════╪════════╪═════════════╪══════════╪═══════════════╡\n",
       "│ 100   ┆ tp   ┆ 1     ┆ 1       ┆ 1      ┆ 1           ┆ 0        ┆ 1             │\n",
       "│ 10005 ┆ tn   ┆ 0     ┆ 0       ┆ 1      ┆ 1           ┆ 1        ┆ 1             │\n",
       "│ 10006 ┆ tn   ┆ 0     ┆ 0       ┆ 1      ┆ 1           ┆ 1        ┆ 1             │\n",
       "│ 10007 ┆ tn   ┆ 0     ┆ 0       ┆ 1      ┆ 1           ┆ 1        ┆ 1             │\n",
       "│ 10008 ┆ tn   ┆ 0     ┆ 0       ┆ 1      ┆ 1           ┆ 1        ┆ 1             │\n",
       "└───────┴──────┴───────┴─────────┴────────┴─────────────┴──────────┴───────────────┘"
      ]
     },
     "metadata": {},
     "output_type": "display_data"
    }
   ],
   "source": [
    "predictions = predictions.join(predict_negative_sentiment(test), on=\"id\").with_columns(polars.struct([\"negative\", \"deberta\"]).map_elements(lambda x: alt_on_neg_pred(x[\"deberta\"], x[\"negative\"])).alias(\"pred_negative\"))\n",
    "predictions.head()"
   ]
  },
  {
   "cell_type": "code",
   "execution_count": 14,
   "id": "d57aa8a0",
   "metadata": {},
   "outputs": [
    {
     "data": {
      "text/html": [
       "<div><style>\n",
       ".dataframe > thead > tr,\n",
       ".dataframe > tbody > tr {\n",
       "  text-align: right;\n",
       "  white-space: pre-wrap;\n",
       "}\n",
       "</style>\n",
       "<small>shape: (8, 5)</small><table border=\"1\" class=\"dataframe\"><thead><tr><th>negative</th><th>type</th><th>female</th><th>samples</th><th>perc</th></tr><tr><td>i32</td><td>str</td><td>i32</td><td>u32</td><td>f64</td></tr></thead><tbody><tr><td>1</td><td>&quot;fn&quot;</td><td>0</td><td>50</td><td>0.04771</td></tr><tr><td>0</td><td>&quot;fn&quot;</td><td>0</td><td>64</td><td>0.061069</td></tr><tr><td>0</td><td>&quot;fn&quot;</td><td>1</td><td>445</td><td>0.424618</td></tr><tr><td>1</td><td>&quot;fn&quot;</td><td>1</td><td>489</td><td>0.466603</td></tr><tr><td>0</td><td>&quot;tn&quot;</td><td>0</td><td>1196</td><td>0.147673</td></tr><tr><td>1</td><td>&quot;tn&quot;</td><td>0</td><td>1450</td><td>0.179034</td></tr><tr><td>1</td><td>&quot;tn&quot;</td><td>1</td><td>2595</td><td>0.32041</td></tr><tr><td>0</td><td>&quot;tn&quot;</td><td>1</td><td>2858</td><td>0.352883</td></tr></tbody></table></div>"
      ],
      "text/plain": [
       "shape: (8, 5)\n",
       "┌──────────┬──────┬────────┬─────────┬──────────┐\n",
       "│ negative ┆ type ┆ female ┆ samples ┆ perc     │\n",
       "│ ---      ┆ ---  ┆ ---    ┆ ---     ┆ ---      │\n",
       "│ i32      ┆ str  ┆ i32    ┆ u32     ┆ f64      │\n",
       "╞══════════╪══════╪════════╪═════════╪══════════╡\n",
       "│ 1        ┆ fn   ┆ 0      ┆ 50      ┆ 0.04771  │\n",
       "│ 0        ┆ fn   ┆ 0      ┆ 64      ┆ 0.061069 │\n",
       "│ 0        ┆ fn   ┆ 1      ┆ 445     ┆ 0.424618 │\n",
       "│ 1        ┆ fn   ┆ 1      ┆ 489     ┆ 0.466603 │\n",
       "│ 0        ┆ tn   ┆ 0      ┆ 1196    ┆ 0.147673 │\n",
       "│ 1        ┆ tn   ┆ 0      ┆ 1450    ┆ 0.179034 │\n",
       "│ 1        ┆ tn   ┆ 1      ┆ 2595    ┆ 0.32041  │\n",
       "│ 0        ┆ tn   ┆ 1      ┆ 2858    ┆ 0.352883 │\n",
       "└──────────┴──────┴────────┴─────────┴──────────┘"
      ]
     },
     "metadata": {},
     "output_type": "display_data"
    }
   ],
   "source": [
    "predictions.group_by(\"negative\", \"type\", \"female\").len().with_columns((polars.col(\"len\") / polars.sum(\"len\").over(\"type\")).alias(\"perc\")).filter(col(\"type\").is_in([\"fn\", \"tn\"])).sort(\"len\").rename({\"len\": \"samples\"}).sort(\"type\")"
   ]
  },
  {
   "cell_type": "code",
   "execution_count": 15,
   "id": "384b16bd",
   "metadata": {},
   "outputs": [
    {
     "data": {
      "text/plain": [
       "precision:\t0.3504\n",
       "recall:\t\t0.8366\n",
       "fscore:\t\t0.4939\n",
       "accuracy:\t0.5550\n",
       "tn: 4054\t fp: 4831\n",
       "fn: 509\t tp: 2606"
      ]
     },
     "metadata": {},
     "output_type": "display_data"
    }
   ],
   "source": [
    "scores_negative = calculate_scores(predictions[\"label\"], predictions[\"pred_negative\"])\n",
    "scores_negative"
   ]
  },
  {
   "cell_type": "markdown",
   "id": "bbcb693d",
   "metadata": {
    "lines_to_next_cell": 0
   },
   "source": [
    "### Combine female & negative"
   ]
  },
  {
   "cell_type": "code",
   "execution_count": 16,
   "id": "38229baa",
   "metadata": {},
   "outputs": [
    {
     "data": {
      "text/plain": [
       "/tmp/ipykernel_281774/730595171.py:1: MapWithoutReturnDtypeWarning: Calling `map_elements` without specifying `return_dtype` can lead to unpredictable results. Specify `return_dtype` to silence this warning.\n",
       "  predictions = predictions.with_columns(polars.struct([\"pred_negative\", \"pred_female\"]).map_elements(lambda x: x[\"pred_negative\"] and x[\"pred_female\"]).alias(\"pred_female_negative\"))\n"
      ]
     },
     "metadata": {},
     "output_type": "display_data"
    }
   ],
   "source": [
    "predictions = predictions.with_columns(polars.struct([\"pred_negative\", \"pred_female\"]).map_elements(lambda x: x[\"pred_negative\"] and x[\"pred_female\"]).alias(\"pred_female_negative\"))"
   ]
  },
  {
   "cell_type": "code",
   "execution_count": 17,
   "id": "26793bef",
   "metadata": {},
   "outputs": [
    {
     "data": {
      "text/plain": [
       "precision:\t0.4305\n",
       "recall:\t\t0.8205\n",
       "fscore:\t\t0.5647\n",
       "accuracy:\t0.6717\n",
       "tn: 5504\t fp: 3381\n",
       "fn: 559\t tp: 2556"
      ]
     },
     "metadata": {},
     "output_type": "display_data"
    }
   ],
   "source": [
    "scores_female_negative = calculate_scores(predictions[\"label\"], predictions[\"pred_female_negative\"])\n",
    "scores_female_negative"
   ]
  },
  {
   "cell_type": "markdown",
   "id": "cf5b385e",
   "metadata": {},
   "source": [
    "## Bad words\n",
    "Check if text contains a 'bad word', if so, predict the sample to be sexist."
   ]
  },
  {
   "cell_type": "code",
   "execution_count": 18,
   "id": "449afdcc",
   "metadata": {},
   "outputs": [
    {
     "data": {
      "text/plain": [
       "/tmp/ipykernel_281774/1739650169.py:1: MapWithoutReturnDtypeWarning: Calling `map_elements` without specifying `return_dtype` can lead to unpredictable results. Specify `return_dtype` to silence this warning.\n",
       "  predictions = predictions.join(predict_swear(test), on=\"id\").with_columns(\n"
      ]
     },
     "metadata": {},
     "output_type": "display_data"
    }
   ],
   "source": [
    "predictions = predictions.join(predict_swear(test), on=\"id\").with_columns(\n",
    "    polars.struct([\"swear\", \"deberta\"]).map_elements(lambda x: alt_on_neg_pred(x[\"deberta\"], x[\"swear\"])).alias(\"pred_swear\"))"
   ]
  },
  {
   "cell_type": "code",
   "execution_count": 19,
   "id": "87efdd5b",
   "metadata": {},
   "outputs": [
    {
     "data": {
      "text/html": [
       "<div><style>\n",
       ".dataframe > thead > tr,\n",
       ".dataframe > tbody > tr {\n",
       "  text-align: right;\n",
       "  white-space: pre-wrap;\n",
       "}\n",
       "</style>\n",
       "<small>shape: (8, 5)</small><table border=\"1\" class=\"dataframe\"><thead><tr><th>negative</th><th>swear</th><th>type</th><th>samples</th><th>perc</th></tr><tr><td>i32</td><td>i32</td><td>str</td><td>u32</td><td>f64</td></tr></thead><tbody><tr><td>0</td><td>1</td><td>&quot;fn&quot;</td><td>152</td><td>0.145038</td></tr><tr><td>1</td><td>0</td><td>&quot;fn&quot;</td><td>246</td><td>0.234733</td></tr><tr><td>1</td><td>1</td><td>&quot;fn&quot;</td><td>293</td><td>0.27958</td></tr><tr><td>0</td><td>0</td><td>&quot;fn&quot;</td><td>357</td><td>0.340649</td></tr><tr><td>0</td><td>1</td><td>&quot;tn&quot;</td><td>1003</td><td>0.123842</td></tr><tr><td>1</td><td>1</td><td>&quot;tn&quot;</td><td>1999</td><td>0.246821</td></tr><tr><td>1</td><td>0</td><td>&quot;tn&quot;</td><td>2046</td><td>0.252624</td></tr><tr><td>0</td><td>0</td><td>&quot;tn&quot;</td><td>3051</td><td>0.376713</td></tr></tbody></table></div>"
      ],
      "text/plain": [
       "shape: (8, 5)\n",
       "┌──────────┬───────┬──────┬─────────┬──────────┐\n",
       "│ negative ┆ swear ┆ type ┆ samples ┆ perc     │\n",
       "│ ---      ┆ ---   ┆ ---  ┆ ---     ┆ ---      │\n",
       "│ i32      ┆ i32   ┆ str  ┆ u32     ┆ f64      │\n",
       "╞══════════╪═══════╪══════╪═════════╪══════════╡\n",
       "│ 0        ┆ 1     ┆ fn   ┆ 152     ┆ 0.145038 │\n",
       "│ 1        ┆ 0     ┆ fn   ┆ 246     ┆ 0.234733 │\n",
       "│ 1        ┆ 1     ┆ fn   ┆ 293     ┆ 0.27958  │\n",
       "│ 0        ┆ 0     ┆ fn   ┆ 357     ┆ 0.340649 │\n",
       "│ 0        ┆ 1     ┆ tn   ┆ 1003    ┆ 0.123842 │\n",
       "│ 1        ┆ 1     ┆ tn   ┆ 1999    ┆ 0.246821 │\n",
       "│ 1        ┆ 0     ┆ tn   ┆ 2046    ┆ 0.252624 │\n",
       "│ 0        ┆ 0     ┆ tn   ┆ 3051    ┆ 0.376713 │\n",
       "└──────────┴───────┴──────┴─────────┴──────────┘"
      ]
     },
     "metadata": {},
     "output_type": "display_data"
    }
   ],
   "source": [
    "predictions.group_by(\"negative\", \"swear\", \"type\").len().with_columns((polars.col(\"len\") / polars.sum(\"len\").over(\"type\")).alias(\"perc\")).filter(col(\"type\").is_in([\"fn\", \"tn\"])).sort(\"len\").rename({\"len\": \"samples\"})"
   ]
  },
  {
   "cell_type": "code",
   "execution_count": 20,
   "id": "6c684dfc",
   "metadata": {
    "lines_to_next_cell": 2
   },
   "outputs": [
    {
     "data": {
      "text/plain": [
       "precision:\t0.3987\n",
       "recall:\t\t0.8064\n",
       "fscore:\t\t0.5336\n",
       "accuracy:\t0.6341\n",
       "tn: 5097\t fp: 3788\n",
       "fn: 603\t tp: 2512"
      ]
     },
     "metadata": {},
     "output_type": "display_data"
    }
   ],
   "source": [
    "scores_swear = calculate_scores(predictions[\"label\"], predictions[\"pred_swear\"])\n",
    "scores_swear"
   ]
  },
  {
   "cell_type": "markdown",
   "id": "74440dae",
   "metadata": {},
   "source": [
    "## Ensemble\n",
    "Check if text is about a female AND if it contains swear words, or if text is about a female AND it is negative. If so, predict the sample to be sexist.\n"
   ]
  },
  {
   "cell_type": "code",
   "execution_count": 21,
   "id": "09b5fdc7",
   "metadata": {},
   "outputs": [
    {
     "data": {
      "text/plain": [
       "/tmp/ipykernel_281774/1595796645.py:1: MapWithoutReturnDtypeWarning: Calling `map_elements` without specifying `return_dtype` can lead to unpredictable results. Specify `return_dtype` to silence this warning.\n",
       "  predictions = predictions.with_columns(\n"
      ]
     },
     "metadata": {},
     "output_type": "display_data"
    }
   ],
   "source": [
    "predictions = predictions.with_columns(\n",
    "    polars.struct([\"pred_female_negative\", \"pred_swear\"]).map_elements(lambda x: x[\"pred_female_negative\"] and x[\"pred_swear\"]).alias(\"pred_ensemble\"))"
   ]
  },
  {
   "cell_type": "code",
   "execution_count": 22,
   "id": "c6306348",
   "metadata": {},
   "outputs": [
    {
     "data": {
      "text/plain": [
       "precision:\t0.5364\n",
       "recall:\t\t0.7470\n",
       "fscore:\t\t0.6244\n",
       "accuracy:\t0.7668\n",
       "tn: 6874\t fp: 2011\n",
       "fn: 788\t tp: 2327"
      ]
     },
     "metadata": {},
     "output_type": "display_data"
    }
   ],
   "source": [
    "scores_ensemble = calculate_scores(predictions[\"label\"], predictions[\"pred_ensemble\"])\n",
    "scores_ensemble"
   ]
  },
  {
   "cell_type": "markdown",
   "id": "60a430f2",
   "metadata": {
    "lines_to_next_cell": 0
   },
   "source": [
    "# Store results"
   ]
  },
  {
   "cell_type": "code",
   "execution_count": 23,
   "id": "529b5cb3",
   "metadata": {
    "lines_to_next_cell": 0
   },
   "outputs": [
    {
     "data": {
      "text/html": [
       "<div><style>\n",
       ".dataframe > thead > tr,\n",
       ".dataframe > tbody > tr {\n",
       "  text-align: right;\n",
       "  white-space: pre-wrap;\n",
       "}\n",
       "</style>\n",
       "<small>shape: (5, 9)</small><table border=\"1\" class=\"dataframe\"><thead><tr><th>model</th><th>precision</th><th>recall</th><th>fscore</th><th>accuracy</th><th>tp</th><th>tn</th><th>fp</th><th>fn</th></tr><tr><td>str</td><td>f64</td><td>f64</td><td>f64</td><td>f64</td><td>i64</td><td>i64</td><td>i64</td><td>i64</td></tr></thead><tbody><tr><td>&quot;deberta&quot;</td><td>0.724501</td><td>0.663563</td><td>0.692694</td><td>0.847167</td><td>2067</td><td>8099</td><td>786</td><td>1048</td></tr><tr><td>&quot;female&quot;</td><td>0.324784</td><td>0.963403</td><td>0.485795</td><td>0.470583</td><td>3001</td><td>2646</td><td>6239</td><td>114</td></tr><tr><td>&quot;negative&quot;</td><td>0.35041</td><td>0.836597</td><td>0.493935</td><td>0.555</td><td>2606</td><td>4054</td><td>4831</td><td>509</td></tr><tr><td>&quot;swear&quot;</td><td>0.39873</td><td>0.806421</td><td>0.533617</td><td>0.634083</td><td>2512</td><td>5097</td><td>3788</td><td>603</td></tr><tr><td>&quot;female_negative&quot;</td><td>0.43052</td><td>0.820546</td><td>0.564737</td><td>0.671667</td><td>2556</td><td>5504</td><td>3381</td><td>559</td></tr></tbody></table></div>"
      ],
      "text/plain": [
       "shape: (5, 9)\n",
       "┌─────────────────┬───────────┬──────────┬──────────┬───┬──────┬──────┬──────┬──────┐\n",
       "│ model           ┆ precision ┆ recall   ┆ fscore   ┆ … ┆ tp   ┆ tn   ┆ fp   ┆ fn   │\n",
       "│ ---             ┆ ---       ┆ ---      ┆ ---      ┆   ┆ ---  ┆ ---  ┆ ---  ┆ ---  │\n",
       "│ str             ┆ f64       ┆ f64      ┆ f64      ┆   ┆ i64  ┆ i64  ┆ i64  ┆ i64  │\n",
       "╞═════════════════╪═══════════╪══════════╪══════════╪═══╪══════╪══════╪══════╪══════╡\n",
       "│ deberta         ┆ 0.724501  ┆ 0.663563 ┆ 0.692694 ┆ … ┆ 2067 ┆ 8099 ┆ 786  ┆ 1048 │\n",
       "│ female          ┆ 0.324784  ┆ 0.963403 ┆ 0.485795 ┆ … ┆ 3001 ┆ 2646 ┆ 6239 ┆ 114  │\n",
       "│ negative        ┆ 0.35041   ┆ 0.836597 ┆ 0.493935 ┆ … ┆ 2606 ┆ 4054 ┆ 4831 ┆ 509  │\n",
       "│ swear           ┆ 0.39873   ┆ 0.806421 ┆ 0.533617 ┆ … ┆ 2512 ┆ 5097 ┆ 3788 ┆ 603  │\n",
       "│ female_negative ┆ 0.43052   ┆ 0.820546 ┆ 0.564737 ┆ … ┆ 2556 ┆ 5504 ┆ 3381 ┆ 559  │\n",
       "└─────────────────┴───────────┴──────────┴──────────┴───┴──────┴──────┴──────┴──────┘"
      ]
     },
     "metadata": {},
     "output_type": "display_data"
    }
   ],
   "source": [
    "scores_df = DataFrame([scores.asdict() for scores in [scores_deberta, scores_female, scores_negative, scores_swear, scores_female_negative, scores_ensemble]]).with_columns_seq(Series(name=\"model\", values=[\"deberta\", \"female\", \"negative\", \"swear\", \"female_negative\", \"ensemble\"])).select(\"model\", \"precision\", \"recall\", \"fscore\", \"accuracy\", \"tp\", \"tn\", \"fp\",\"fn\")\n",
    "scores_df.head()"
   ]
  },
  {
   "cell_type": "markdown",
   "id": "329e3f76",
   "metadata": {},
   "source": [
    "\n"
   ]
  },
  {
   "cell_type": "code",
   "execution_count": 24,
   "id": "e034d21b",
   "metadata": {},
   "outputs": [],
   "source": [
    "scores_df.write_csv(ROOT / \"resource\" / \"ensemble_scores.csv\")"
   ]
  },
  {
   "cell_type": "code",
   "execution_count": 25,
   "id": "e36416df",
   "metadata": {},
   "outputs": [],
   "source": [
    "predictions.write_csv(ROOT / \"resource\" / \"ensemble_predictions.csv\")"
   ]
  }
 ],
 "metadata": {
  "kernelspec": {
   "display_name": "base_env",
   "language": "python",
   "name": "python3"
  },
  "language_info": {
   "codemirror_mode": {
    "name": "ipython",
    "version": 3
   },
   "file_extension": ".py",
   "mimetype": "text/x-python",
   "name": "python",
   "nbconvert_exporter": "python",
   "pygments_lexer": "ipython3",
   "version": "3.12.7"
  }
 },
 "nbformat": 4,
 "nbformat_minor": 5
}
