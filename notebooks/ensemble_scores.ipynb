{
 "cells": [
  {
   "cell_type": "markdown",
   "id": "332c0b04",
   "metadata": {},
   "source": [
    "# Analyze results from the ensemble model\n",
    "This notebook loads the results from the ensemble model run \n",
    "and produces the graphs as included in the report and the presentation."
   ]
  },
  {
   "cell_type": "code",
   "execution_count": 2,
   "id": "6239836d",
   "metadata": {},
   "outputs": [
    {
     "data": {
      "text/plain": [
       "polars.config.Config"
      ]
     },
     "metadata": {},
     "output_type": "display_data"
    }
   ],
   "source": [
    "import polars as pl\n",
    "from polars import DataFrame\n",
    "from label_legends.result import calculate_scores\n",
    "from label_legends.util import ROOT\n",
    "\n",
    "import altair\n",
    "\n",
    "\n",
    "# altair.renderers.enable(\"png\") # browser\n",
    "altair.renderers.enable(\"browser\") # browser\n",
    "\n",
    "pl.Config.set_tbl_cols(20)\n",
    "pl.Config.set_tbl_rows(100)"
   ]
  },
  {
   "cell_type": "code",
   "execution_count": 3,
   "id": "17fe90fe",
   "metadata": {
    "lines_to_next_cell": 0
   },
   "outputs": [
    {
     "data": {
      "text/html": [
       "<div><style>\n",
       ".dataframe > thead > tr,\n",
       ".dataframe > tbody > tr {\n",
       "  text-align: right;\n",
       "  white-space: pre-wrap;\n",
       "}\n",
       "</style>\n",
       "<small>shape: (6, 9)</small><table border=\"1\" class=\"dataframe\"><thead><tr><th>model</th><th>precision</th><th>recall</th><th>fscore</th><th>accuracy</th><th>tp</th><th>tn</th><th>fp</th><th>fn</th></tr><tr><td>str</td><td>f64</td><td>f64</td><td>f64</td><td>f64</td><td>i64</td><td>i64</td><td>i64</td><td>i64</td></tr></thead><tbody><tr><td>&quot;female&quot;</td><td>0.714286</td><td>0.714286</td><td>0.714286</td><td>0.733333</td><td>20</td><td>24</td><td>8</td><td>8</td></tr><tr><td>&quot;negative&quot;</td><td>0.5</td><td>0.428571</td><td>0.461538</td><td>0.533333</td><td>12</td><td>20</td><td>12</td><td>16</td></tr><tr><td>&quot;female_negative&quot;</td><td>0.769231</td><td>0.357143</td><td>0.487805</td><td>0.65</td><td>10</td><td>29</td><td>3</td><td>18</td></tr><tr><td>&quot;swear&quot;</td><td>0.75</td><td>0.321429</td><td>0.45</td><td>0.633333</td><td>9</td><td>29</td><td>3</td><td>19</td></tr><tr><td>&quot;ensemble&quot;</td><td>0.888889</td><td>0.285714</td><td>0.432432</td><td>0.65</td><td>8</td><td>31</td><td>1</td><td>20</td></tr><tr><td>&quot;deberta&quot;</td><td>0.875</td><td>0.25</td><td>0.388889</td><td>0.633333</td><td>7</td><td>31</td><td>1</td><td>21</td></tr></tbody></table></div>"
      ],
      "text/plain": [
       "shape: (6, 9)\n",
       "┌─────────────────┬───────────┬──────────┬──────────┬──────────┬─────┬─────┬─────┬─────┐\n",
       "│ model           ┆ precision ┆ recall   ┆ fscore   ┆ accuracy ┆ tp  ┆ tn  ┆ fp  ┆ fn  │\n",
       "│ ---             ┆ ---       ┆ ---      ┆ ---      ┆ ---      ┆ --- ┆ --- ┆ --- ┆ --- │\n",
       "│ str             ┆ f64       ┆ f64      ┆ f64      ┆ f64      ┆ i64 ┆ i64 ┆ i64 ┆ i64 │\n",
       "╞═════════════════╪═══════════╪══════════╪══════════╪══════════╪═════╪═════╪═════╪═════╡\n",
       "│ female          ┆ 0.714286  ┆ 0.714286 ┆ 0.714286 ┆ 0.733333 ┆ 20  ┆ 24  ┆ 8   ┆ 8   │\n",
       "│ negative        ┆ 0.5       ┆ 0.428571 ┆ 0.461538 ┆ 0.533333 ┆ 12  ┆ 20  ┆ 12  ┆ 16  │\n",
       "│ female_negative ┆ 0.769231  ┆ 0.357143 ┆ 0.487805 ┆ 0.65     ┆ 10  ┆ 29  ┆ 3   ┆ 18  │\n",
       "│ swear           ┆ 0.75      ┆ 0.321429 ┆ 0.45     ┆ 0.633333 ┆ 9   ┆ 29  ┆ 3   ┆ 19  │\n",
       "│ ensemble        ┆ 0.888889  ┆ 0.285714 ┆ 0.432432 ┆ 0.65     ┆ 8   ┆ 31  ┆ 1   ┆ 20  │\n",
       "│ deberta         ┆ 0.875     ┆ 0.25     ┆ 0.388889 ┆ 0.633333 ┆ 7   ┆ 31  ┆ 1   ┆ 21  │\n",
       "└─────────────────┴───────────┴──────────┴──────────┴──────────┴─────┴─────┴─────┴─────┘"
      ]
     },
     "metadata": {},
     "output_type": "display_data"
    }
   ],
   "source": [
    "scores = pl.read_csv(ROOT / \"resource\" / \"ensemble_scores_own.csv\").sort(\"recall\", descending=True)\n",
    "scores.head(100)"
   ]
  },
  {
   "cell_type": "code",
   "execution_count": 4,
   "id": "96489010",
   "metadata": {
    "lines_to_next_cell": 2
   },
   "outputs": [
    {
     "data": {
      "text/html": [
       "<div><style>\n",
       ".dataframe > thead > tr,\n",
       ".dataframe > tbody > tr {\n",
       "  text-align: right;\n",
       "  white-space: pre-wrap;\n",
       "}\n",
       "</style>\n",
       "<small>shape: (60, 13)</small><table border=\"1\" class=\"dataframe\"><thead><tr><th>id</th><th>type</th><th>label</th><th>deberta</th><th>female</th><th>pred_female</th><th>negative</th><th>pred_negative</th><th>pred_female_negative</th><th>swear</th><th>pred_swear</th><th>pred_ensemble</th><th>pred_female_swear</th></tr><tr><td>i64</td><td>str</td><td>i64</td><td>i64</td><td>i64</td><td>i64</td><td>i64</td><td>i64</td><td>i64</td><td>i64</td><td>i64</td><td>i64</td><td>i64</td></tr></thead><tbody><tr><td>1</td><td>&quot;fn&quot;</td><td>1</td><td>0</td><td>1</td><td>1</td><td>0</td><td>0</td><td>0</td><td>0</td><td>0</td><td>0</td><td>0</td></tr><tr><td>2</td><td>&quot;fn&quot;</td><td>1</td><td>0</td><td>1</td><td>1</td><td>0</td><td>0</td><td>0</td><td>0</td><td>0</td><td>0</td><td>0</td></tr><tr><td>3</td><td>&quot;tn&quot;</td><td>0</td><td>0</td><td>0</td><td>0</td><td>1</td><td>1</td><td>0</td><td>0</td><td>0</td><td>0</td><td>0</td></tr><tr><td>4</td><td>&quot;fn&quot;</td><td>1</td><td>0</td><td>1</td><td>1</td><td>0</td><td>0</td><td>0</td><td>0</td><td>0</td><td>0</td><td>0</td></tr><tr><td>5</td><td>&quot;tn&quot;</td><td>0</td><td>0</td><td>0</td><td>0</td><td>1</td><td>1</td><td>0</td><td>0</td><td>0</td><td>0</td><td>0</td></tr><tr><td>6</td><td>&quot;tn&quot;</td><td>0</td><td>0</td><td>0</td><td>0</td><td>0</td><td>0</td><td>0</td><td>0</td><td>0</td><td>0</td><td>0</td></tr><tr><td>7</td><td>&quot;fn&quot;</td><td>1</td><td>0</td><td>1</td><td>1</td><td>1</td><td>1</td><td>1</td><td>0</td><td>0</td><td>0</td><td>0</td></tr><tr><td>8</td><td>&quot;tn&quot;</td><td>0</td><td>0</td><td>0</td><td>0</td><td>0</td><td>0</td><td>0</td><td>0</td><td>0</td><td>0</td><td>0</td></tr><tr><td>9</td><td>&quot;tn&quot;</td><td>0</td><td>0</td><td>0</td><td>0</td><td>0</td><td>0</td><td>0</td><td>0</td><td>0</td><td>0</td><td>0</td></tr><tr><td>10</td><td>&quot;fn&quot;</td><td>1</td><td>0</td><td>0</td><td>0</td><td>0</td><td>0</td><td>0</td><td>0</td><td>0</td><td>0</td><td>0</td></tr><tr><td>11</td><td>&quot;fn&quot;</td><td>1</td><td>0</td><td>0</td><td>0</td><td>1</td><td>1</td><td>0</td><td>0</td><td>0</td><td>0</td><td>0</td></tr><tr><td>12</td><td>&quot;tn&quot;</td><td>0</td><td>0</td><td>0</td><td>0</td><td>1</td><td>1</td><td>0</td><td>0</td><td>0</td><td>0</td><td>0</td></tr><tr><td>13</td><td>&quot;tn&quot;</td><td>0</td><td>0</td><td>0</td><td>0</td><td>0</td><td>0</td><td>0</td><td>0</td><td>0</td><td>0</td><td>0</td></tr><tr><td>14</td><td>&quot;fn&quot;</td><td>1</td><td>0</td><td>0</td><td>0</td><td>0</td><td>0</td><td>0</td><td>0</td><td>0</td><td>0</td><td>0</td></tr><tr><td>15</td><td>&quot;tn&quot;</td><td>0</td><td>0</td><td>0</td><td>0</td><td>1</td><td>1</td><td>0</td><td>0</td><td>0</td><td>0</td><td>0</td></tr><tr><td>16</td><td>&quot;fn&quot;</td><td>1</td><td>0</td><td>0</td><td>0</td><td>0</td><td>0</td><td>0</td><td>0</td><td>0</td><td>0</td><td>0</td></tr><tr><td>17</td><td>&quot;fn&quot;</td><td>1</td><td>0</td><td>1</td><td>1</td><td>0</td><td>0</td><td>0</td><td>0</td><td>0</td><td>0</td><td>0</td></tr><tr><td>18</td><td>&quot;fn&quot;</td><td>1</td><td>0</td><td>1</td><td>1</td><td>0</td><td>0</td><td>0</td><td>0</td><td>0</td><td>0</td><td>0</td></tr><tr><td>19</td><td>&quot;fn&quot;</td><td>1</td><td>0</td><td>1</td><td>1</td><td>0</td><td>0</td><td>0</td><td>0</td><td>0</td><td>0</td><td>0</td></tr><tr><td>20</td><td>&quot;fn&quot;</td><td>1</td><td>0</td><td>0</td><td>0</td><td>0</td><td>0</td><td>0</td><td>0</td><td>0</td><td>0</td><td>0</td></tr><tr><td>21</td><td>&quot;fn&quot;</td><td>1</td><td>0</td><td>1</td><td>1</td><td>0</td><td>0</td><td>0</td><td>1</td><td>1</td><td>0</td><td>1</td></tr><tr><td>22</td><td>&quot;fn&quot;</td><td>1</td><td>0</td><td>0</td><td>0</td><td>1</td><td>1</td><td>0</td><td>0</td><td>0</td><td>0</td><td>0</td></tr><tr><td>23</td><td>&quot;tn&quot;</td><td>0</td><td>0</td><td>1</td><td>1</td><td>0</td><td>0</td><td>0</td><td>0</td><td>0</td><td>0</td><td>0</td></tr><tr><td>24</td><td>&quot;tn&quot;</td><td>0</td><td>0</td><td>1</td><td>1</td><td>0</td><td>0</td><td>0</td><td>0</td><td>0</td><td>0</td><td>0</td></tr><tr><td>25</td><td>&quot;tn&quot;</td><td>0</td><td>0</td><td>0</td><td>0</td><td>0</td><td>0</td><td>0</td><td>0</td><td>0</td><td>0</td><td>0</td></tr><tr><td>26</td><td>&quot;tn&quot;</td><td>0</td><td>0</td><td>0</td><td>0</td><td>0</td><td>0</td><td>0</td><td>0</td><td>0</td><td>0</td><td>0</td></tr><tr><td>27</td><td>&quot;tn&quot;</td><td>0</td><td>0</td><td>0</td><td>0</td><td>0</td><td>0</td><td>0</td><td>0</td><td>0</td><td>0</td><td>0</td></tr><tr><td>28</td><td>&quot;tn&quot;</td><td>0</td><td>0</td><td>0</td><td>0</td><td>1</td><td>1</td><td>0</td><td>0</td><td>0</td><td>0</td><td>0</td></tr><tr><td>29</td><td>&quot;tn&quot;</td><td>0</td><td>0</td><td>0</td><td>0</td><td>0</td><td>0</td><td>0</td><td>0</td><td>0</td><td>0</td><td>0</td></tr><tr><td>30</td><td>&quot;tn&quot;</td><td>0</td><td>0</td><td>0</td><td>0</td><td>0</td><td>0</td><td>0</td><td>0</td><td>0</td><td>0</td><td>0</td></tr><tr><td>31</td><td>&quot;fn&quot;</td><td>1</td><td>0</td><td>1</td><td>1</td><td>0</td><td>0</td><td>0</td><td>0</td><td>0</td><td>0</td><td>0</td></tr><tr><td>32</td><td>&quot;tp&quot;</td><td>1</td><td>1</td><td>1</td><td>1</td><td>1</td><td>1</td><td>1</td><td>1</td><td>1</td><td>1</td><td>1</td></tr><tr><td>33</td><td>&quot;tn&quot;</td><td>0</td><td>0</td><td>0</td><td>0</td><td>0</td><td>0</td><td>0</td><td>0</td><td>0</td><td>0</td><td>0</td></tr><tr><td>34</td><td>&quot;tn&quot;</td><td>0</td><td>0</td><td>0</td><td>0</td><td>0</td><td>0</td><td>0</td><td>0</td><td>0</td><td>0</td><td>0</td></tr><tr><td>35</td><td>&quot;tp&quot;</td><td>1</td><td>1</td><td>1</td><td>1</td><td>1</td><td>1</td><td>1</td><td>1</td><td>1</td><td>1</td><td>1</td></tr><tr><td>36</td><td>&quot;tn&quot;</td><td>0</td><td>0</td><td>0</td><td>0</td><td>1</td><td>1</td><td>0</td><td>0</td><td>0</td><td>0</td><td>0</td></tr><tr><td>37</td><td>&quot;tn&quot;</td><td>0</td><td>0</td><td>1</td><td>1</td><td>1</td><td>1</td><td>1</td><td>0</td><td>0</td><td>0</td><td>0</td></tr><tr><td>38</td><td>&quot;fn&quot;</td><td>1</td><td>0</td><td>0</td><td>0</td><td>0</td><td>0</td><td>0</td><td>0</td><td>0</td><td>0</td><td>0</td></tr><tr><td>39</td><td>&quot;tp&quot;</td><td>1</td><td>1</td><td>1</td><td>1</td><td>1</td><td>1</td><td>1</td><td>0</td><td>1</td><td>1</td><td>1</td></tr><tr><td>40</td><td>&quot;tn&quot;</td><td>0</td><td>0</td><td>0</td><td>0</td><td>1</td><td>1</td><td>0</td><td>0</td><td>0</td><td>0</td><td>0</td></tr><tr><td>41</td><td>&quot;tn&quot;</td><td>0</td><td>0</td><td>0</td><td>0</td><td>1</td><td>1</td><td>0</td><td>0</td><td>0</td><td>0</td><td>0</td></tr><tr><td>42</td><td>&quot;tn&quot;</td><td>0</td><td>0</td><td>1</td><td>1</td><td>1</td><td>1</td><td>1</td><td>0</td><td>0</td><td>0</td><td>0</td></tr><tr><td>43</td><td>&quot;tn&quot;</td><td>0</td><td>0</td><td>0</td><td>0</td><td>0</td><td>0</td><td>0</td><td>0</td><td>0</td><td>0</td><td>0</td></tr><tr><td>44</td><td>&quot;tp&quot;</td><td>1</td><td>1</td><td>1</td><td>1</td><td>1</td><td>1</td><td>1</td><td>1</td><td>1</td><td>1</td><td>1</td></tr><tr><td>45</td><td>&quot;tn&quot;</td><td>0</td><td>0</td><td>0</td><td>0</td><td>0</td><td>0</td><td>0</td><td>1</td><td>1</td><td>0</td><td>0</td></tr><tr><td>46</td><td>&quot;tn&quot;</td><td>0</td><td>0</td><td>0</td><td>0</td><td>1</td><td>1</td><td>0</td><td>0</td><td>0</td><td>0</td><td>0</td></tr><tr><td>47</td><td>&quot;tp&quot;</td><td>1</td><td>1</td><td>1</td><td>1</td><td>0</td><td>1</td><td>1</td><td>0</td><td>1</td><td>1</td><td>1</td></tr><tr><td>48</td><td>&quot;fn&quot;</td><td>1</td><td>0</td><td>1</td><td>1</td><td>1</td><td>1</td><td>1</td><td>1</td><td>1</td><td>1</td><td>1</td></tr><tr><td>49</td><td>&quot;fn&quot;</td><td>1</td><td>0</td><td>1</td><td>1</td><td>0</td><td>0</td><td>0</td><td>0</td><td>0</td><td>0</td><td>0</td></tr><tr><td>50</td><td>&quot;fn&quot;</td><td>1</td><td>0</td><td>1</td><td>1</td><td>1</td><td>1</td><td>1</td><td>0</td><td>0</td><td>0</td><td>0</td></tr><tr><td>51</td><td>&quot;fn&quot;</td><td>1</td><td>0</td><td>1</td><td>1</td><td>0</td><td>0</td><td>0</td><td>0</td><td>0</td><td>0</td><td>0</td></tr><tr><td>52</td><td>&quot;tn&quot;</td><td>0</td><td>0</td><td>1</td><td>1</td><td>0</td><td>0</td><td>0</td><td>0</td><td>0</td><td>0</td><td>0</td></tr><tr><td>53</td><td>&quot;fn&quot;</td><td>1</td><td>0</td><td>0</td><td>0</td><td>0</td><td>0</td><td>0</td><td>0</td><td>0</td><td>0</td><td>0</td></tr><tr><td>54</td><td>&quot;tn&quot;</td><td>0</td><td>0</td><td>0</td><td>0</td><td>0</td><td>0</td><td>0</td><td>0</td><td>0</td><td>0</td><td>0</td></tr><tr><td>55</td><td>&quot;tp&quot;</td><td>1</td><td>1</td><td>1</td><td>1</td><td>0</td><td>1</td><td>1</td><td>0</td><td>1</td><td>1</td><td>1</td></tr><tr><td>56</td><td>&quot;fp&quot;</td><td>0</td><td>1</td><td>0</td><td>1</td><td>0</td><td>1</td><td>1</td><td>1</td><td>1</td><td>1</td><td>1</td></tr><tr><td>57</td><td>&quot;tn&quot;</td><td>0</td><td>0</td><td>1</td><td>1</td><td>0</td><td>0</td><td>0</td><td>0</td><td>0</td><td>0</td><td>0</td></tr><tr><td>58</td><td>&quot;tp&quot;</td><td>1</td><td>1</td><td>0</td><td>1</td><td>1</td><td>1</td><td>1</td><td>0</td><td>1</td><td>1</td><td>1</td></tr><tr><td>59</td><td>&quot;tn&quot;</td><td>0</td><td>0</td><td>1</td><td>1</td><td>0</td><td>0</td><td>0</td><td>0</td><td>0</td><td>0</td><td>0</td></tr><tr><td>60</td><td>&quot;tn&quot;</td><td>0</td><td>0</td><td>0</td><td>0</td><td>0</td><td>0</td><td>0</td><td>1</td><td>1</td><td>0</td><td>0</td></tr></tbody></table></div>"
      ],
      "text/plain": [
       "shape: (60, 13)\n",
       "┌─────┬─────┬─────┬────────┬───────┬───────┬───────┬───────┬───────┬───────┬───────┬───────┬───────┐\n",
       "│ id  ┆ typ ┆ lab ┆ debert ┆ femal ┆ pred_ ┆ negat ┆ pred_ ┆ pred_ ┆ swear ┆ pred_ ┆ pred_ ┆ pred_ │\n",
       "│ --- ┆ e   ┆ el  ┆ a      ┆ e     ┆ femal ┆ ive   ┆ negat ┆ femal ┆ ---   ┆ swear ┆ ensem ┆ femal │\n",
       "│ i64 ┆ --- ┆ --- ┆ ---    ┆ ---   ┆ e     ┆ ---   ┆ ive   ┆ e_neg ┆ i64   ┆ ---   ┆ ble   ┆ e_swe │\n",
       "│     ┆ str ┆ i64 ┆ i64    ┆ i64   ┆ ---   ┆ i64   ┆ ---   ┆ ative ┆       ┆ i64   ┆ ---   ┆ ar    │\n",
       "│     ┆     ┆     ┆        ┆       ┆ i64   ┆       ┆ i64   ┆ ---   ┆       ┆       ┆ i64   ┆ ---   │\n",
       "│     ┆     ┆     ┆        ┆       ┆       ┆       ┆       ┆ i64   ┆       ┆       ┆       ┆ i64   │\n",
       "╞═════╪═════╪═════╪════════╪═══════╪═══════╪═══════╪═══════╪═══════╪═══════╪═══════╪═══════╪═══════╡\n",
       "│ 1   ┆ fn  ┆ 1   ┆ 0      ┆ 1     ┆ 1     ┆ 0     ┆ 0     ┆ 0     ┆ 0     ┆ 0     ┆ 0     ┆ 0     │\n",
       "│ 2   ┆ fn  ┆ 1   ┆ 0      ┆ 1     ┆ 1     ┆ 0     ┆ 0     ┆ 0     ┆ 0     ┆ 0     ┆ 0     ┆ 0     │\n",
       "│ 3   ┆ tn  ┆ 0   ┆ 0      ┆ 0     ┆ 0     ┆ 1     ┆ 1     ┆ 0     ┆ 0     ┆ 0     ┆ 0     ┆ 0     │\n",
       "│ 4   ┆ fn  ┆ 1   ┆ 0      ┆ 1     ┆ 1     ┆ 0     ┆ 0     ┆ 0     ┆ 0     ┆ 0     ┆ 0     ┆ 0     │\n",
       "│ 5   ┆ tn  ┆ 0   ┆ 0      ┆ 0     ┆ 0     ┆ 1     ┆ 1     ┆ 0     ┆ 0     ┆ 0     ┆ 0     ┆ 0     │\n",
       "│ 6   ┆ tn  ┆ 0   ┆ 0      ┆ 0     ┆ 0     ┆ 0     ┆ 0     ┆ 0     ┆ 0     ┆ 0     ┆ 0     ┆ 0     │\n",
       "│ 7   ┆ fn  ┆ 1   ┆ 0      ┆ 1     ┆ 1     ┆ 1     ┆ 1     ┆ 1     ┆ 0     ┆ 0     ┆ 0     ┆ 0     │\n",
       "│ 8   ┆ tn  ┆ 0   ┆ 0      ┆ 0     ┆ 0     ┆ 0     ┆ 0     ┆ 0     ┆ 0     ┆ 0     ┆ 0     ┆ 0     │\n",
       "│ 9   ┆ tn  ┆ 0   ┆ 0      ┆ 0     ┆ 0     ┆ 0     ┆ 0     ┆ 0     ┆ 0     ┆ 0     ┆ 0     ┆ 0     │\n",
       "│ 10  ┆ fn  ┆ 1   ┆ 0      ┆ 0     ┆ 0     ┆ 0     ┆ 0     ┆ 0     ┆ 0     ┆ 0     ┆ 0     ┆ 0     │\n",
       "│ 11  ┆ fn  ┆ 1   ┆ 0      ┆ 0     ┆ 0     ┆ 1     ┆ 1     ┆ 0     ┆ 0     ┆ 0     ┆ 0     ┆ 0     │\n",
       "│ 12  ┆ tn  ┆ 0   ┆ 0      ┆ 0     ┆ 0     ┆ 1     ┆ 1     ┆ 0     ┆ 0     ┆ 0     ┆ 0     ┆ 0     │\n",
       "│ 13  ┆ tn  ┆ 0   ┆ 0      ┆ 0     ┆ 0     ┆ 0     ┆ 0     ┆ 0     ┆ 0     ┆ 0     ┆ 0     ┆ 0     │\n",
       "│ 14  ┆ fn  ┆ 1   ┆ 0      ┆ 0     ┆ 0     ┆ 0     ┆ 0     ┆ 0     ┆ 0     ┆ 0     ┆ 0     ┆ 0     │\n",
       "│ 15  ┆ tn  ┆ 0   ┆ 0      ┆ 0     ┆ 0     ┆ 1     ┆ 1     ┆ 0     ┆ 0     ┆ 0     ┆ 0     ┆ 0     │\n",
       "│ 16  ┆ fn  ┆ 1   ┆ 0      ┆ 0     ┆ 0     ┆ 0     ┆ 0     ┆ 0     ┆ 0     ┆ 0     ┆ 0     ┆ 0     │\n",
       "│ 17  ┆ fn  ┆ 1   ┆ 0      ┆ 1     ┆ 1     ┆ 0     ┆ 0     ┆ 0     ┆ 0     ┆ 0     ┆ 0     ┆ 0     │\n",
       "│ 18  ┆ fn  ┆ 1   ┆ 0      ┆ 1     ┆ 1     ┆ 0     ┆ 0     ┆ 0     ┆ 0     ┆ 0     ┆ 0     ┆ 0     │\n",
       "│ 19  ┆ fn  ┆ 1   ┆ 0      ┆ 1     ┆ 1     ┆ 0     ┆ 0     ┆ 0     ┆ 0     ┆ 0     ┆ 0     ┆ 0     │\n",
       "│ 20  ┆ fn  ┆ 1   ┆ 0      ┆ 0     ┆ 0     ┆ 0     ┆ 0     ┆ 0     ┆ 0     ┆ 0     ┆ 0     ┆ 0     │\n",
       "│ 21  ┆ fn  ┆ 1   ┆ 0      ┆ 1     ┆ 1     ┆ 0     ┆ 0     ┆ 0     ┆ 1     ┆ 1     ┆ 0     ┆ 1     │\n",
       "│ 22  ┆ fn  ┆ 1   ┆ 0      ┆ 0     ┆ 0     ┆ 1     ┆ 1     ┆ 0     ┆ 0     ┆ 0     ┆ 0     ┆ 0     │\n",
       "│ 23  ┆ tn  ┆ 0   ┆ 0      ┆ 1     ┆ 1     ┆ 0     ┆ 0     ┆ 0     ┆ 0     ┆ 0     ┆ 0     ┆ 0     │\n",
       "│ 24  ┆ tn  ┆ 0   ┆ 0      ┆ 1     ┆ 1     ┆ 0     ┆ 0     ┆ 0     ┆ 0     ┆ 0     ┆ 0     ┆ 0     │\n",
       "│ 25  ┆ tn  ┆ 0   ┆ 0      ┆ 0     ┆ 0     ┆ 0     ┆ 0     ┆ 0     ┆ 0     ┆ 0     ┆ 0     ┆ 0     │\n",
       "│ 26  ┆ tn  ┆ 0   ┆ 0      ┆ 0     ┆ 0     ┆ 0     ┆ 0     ┆ 0     ┆ 0     ┆ 0     ┆ 0     ┆ 0     │\n",
       "│ 27  ┆ tn  ┆ 0   ┆ 0      ┆ 0     ┆ 0     ┆ 0     ┆ 0     ┆ 0     ┆ 0     ┆ 0     ┆ 0     ┆ 0     │\n",
       "│ 28  ┆ tn  ┆ 0   ┆ 0      ┆ 0     ┆ 0     ┆ 1     ┆ 1     ┆ 0     ┆ 0     ┆ 0     ┆ 0     ┆ 0     │\n",
       "│ 29  ┆ tn  ┆ 0   ┆ 0      ┆ 0     ┆ 0     ┆ 0     ┆ 0     ┆ 0     ┆ 0     ┆ 0     ┆ 0     ┆ 0     │\n",
       "│ 30  ┆ tn  ┆ 0   ┆ 0      ┆ 0     ┆ 0     ┆ 0     ┆ 0     ┆ 0     ┆ 0     ┆ 0     ┆ 0     ┆ 0     │\n",
       "│ 31  ┆ fn  ┆ 1   ┆ 0      ┆ 1     ┆ 1     ┆ 0     ┆ 0     ┆ 0     ┆ 0     ┆ 0     ┆ 0     ┆ 0     │\n",
       "│ 32  ┆ tp  ┆ 1   ┆ 1      ┆ 1     ┆ 1     ┆ 1     ┆ 1     ┆ 1     ┆ 1     ┆ 1     ┆ 1     ┆ 1     │\n",
       "│ 33  ┆ tn  ┆ 0   ┆ 0      ┆ 0     ┆ 0     ┆ 0     ┆ 0     ┆ 0     ┆ 0     ┆ 0     ┆ 0     ┆ 0     │\n",
       "│ 34  ┆ tn  ┆ 0   ┆ 0      ┆ 0     ┆ 0     ┆ 0     ┆ 0     ┆ 0     ┆ 0     ┆ 0     ┆ 0     ┆ 0     │\n",
       "│ 35  ┆ tp  ┆ 1   ┆ 1      ┆ 1     ┆ 1     ┆ 1     ┆ 1     ┆ 1     ┆ 1     ┆ 1     ┆ 1     ┆ 1     │\n",
       "│ 36  ┆ tn  ┆ 0   ┆ 0      ┆ 0     ┆ 0     ┆ 1     ┆ 1     ┆ 0     ┆ 0     ┆ 0     ┆ 0     ┆ 0     │\n",
       "│ 37  ┆ tn  ┆ 0   ┆ 0      ┆ 1     ┆ 1     ┆ 1     ┆ 1     ┆ 1     ┆ 0     ┆ 0     ┆ 0     ┆ 0     │\n",
       "│ 38  ┆ fn  ┆ 1   ┆ 0      ┆ 0     ┆ 0     ┆ 0     ┆ 0     ┆ 0     ┆ 0     ┆ 0     ┆ 0     ┆ 0     │\n",
       "│ 39  ┆ tp  ┆ 1   ┆ 1      ┆ 1     ┆ 1     ┆ 1     ┆ 1     ┆ 1     ┆ 0     ┆ 1     ┆ 1     ┆ 1     │\n",
       "│ 40  ┆ tn  ┆ 0   ┆ 0      ┆ 0     ┆ 0     ┆ 1     ┆ 1     ┆ 0     ┆ 0     ┆ 0     ┆ 0     ┆ 0     │\n",
       "│ 41  ┆ tn  ┆ 0   ┆ 0      ┆ 0     ┆ 0     ┆ 1     ┆ 1     ┆ 0     ┆ 0     ┆ 0     ┆ 0     ┆ 0     │\n",
       "│ 42  ┆ tn  ┆ 0   ┆ 0      ┆ 1     ┆ 1     ┆ 1     ┆ 1     ┆ 1     ┆ 0     ┆ 0     ┆ 0     ┆ 0     │\n",
       "│ 43  ┆ tn  ┆ 0   ┆ 0      ┆ 0     ┆ 0     ┆ 0     ┆ 0     ┆ 0     ┆ 0     ┆ 0     ┆ 0     ┆ 0     │\n",
       "│ 44  ┆ tp  ┆ 1   ┆ 1      ┆ 1     ┆ 1     ┆ 1     ┆ 1     ┆ 1     ┆ 1     ┆ 1     ┆ 1     ┆ 1     │\n",
       "│ 45  ┆ tn  ┆ 0   ┆ 0      ┆ 0     ┆ 0     ┆ 0     ┆ 0     ┆ 0     ┆ 1     ┆ 1     ┆ 0     ┆ 0     │\n",
       "│ 46  ┆ tn  ┆ 0   ┆ 0      ┆ 0     ┆ 0     ┆ 1     ┆ 1     ┆ 0     ┆ 0     ┆ 0     ┆ 0     ┆ 0     │\n",
       "│ 47  ┆ tp  ┆ 1   ┆ 1      ┆ 1     ┆ 1     ┆ 0     ┆ 1     ┆ 1     ┆ 0     ┆ 1     ┆ 1     ┆ 1     │\n",
       "│ 48  ┆ fn  ┆ 1   ┆ 0      ┆ 1     ┆ 1     ┆ 1     ┆ 1     ┆ 1     ┆ 1     ┆ 1     ┆ 1     ┆ 1     │\n",
       "│ 49  ┆ fn  ┆ 1   ┆ 0      ┆ 1     ┆ 1     ┆ 0     ┆ 0     ┆ 0     ┆ 0     ┆ 0     ┆ 0     ┆ 0     │\n",
       "│ 50  ┆ fn  ┆ 1   ┆ 0      ┆ 1     ┆ 1     ┆ 1     ┆ 1     ┆ 1     ┆ 0     ┆ 0     ┆ 0     ┆ 0     │\n",
       "│ 51  ┆ fn  ┆ 1   ┆ 0      ┆ 1     ┆ 1     ┆ 0     ┆ 0     ┆ 0     ┆ 0     ┆ 0     ┆ 0     ┆ 0     │\n",
       "│ 52  ┆ tn  ┆ 0   ┆ 0      ┆ 1     ┆ 1     ┆ 0     ┆ 0     ┆ 0     ┆ 0     ┆ 0     ┆ 0     ┆ 0     │\n",
       "│ 53  ┆ fn  ┆ 1   ┆ 0      ┆ 0     ┆ 0     ┆ 0     ┆ 0     ┆ 0     ┆ 0     ┆ 0     ┆ 0     ┆ 0     │\n",
       "│ 54  ┆ tn  ┆ 0   ┆ 0      ┆ 0     ┆ 0     ┆ 0     ┆ 0     ┆ 0     ┆ 0     ┆ 0     ┆ 0     ┆ 0     │\n",
       "│ 55  ┆ tp  ┆ 1   ┆ 1      ┆ 1     ┆ 1     ┆ 0     ┆ 1     ┆ 1     ┆ 0     ┆ 1     ┆ 1     ┆ 1     │\n",
       "│ 56  ┆ fp  ┆ 0   ┆ 1      ┆ 0     ┆ 1     ┆ 0     ┆ 1     ┆ 1     ┆ 1     ┆ 1     ┆ 1     ┆ 1     │\n",
       "│ 57  ┆ tn  ┆ 0   ┆ 0      ┆ 1     ┆ 1     ┆ 0     ┆ 0     ┆ 0     ┆ 0     ┆ 0     ┆ 0     ┆ 0     │\n",
       "│ 58  ┆ tp  ┆ 1   ┆ 1      ┆ 0     ┆ 1     ┆ 1     ┆ 1     ┆ 1     ┆ 0     ┆ 1     ┆ 1     ┆ 1     │\n",
       "│ 59  ┆ tn  ┆ 0   ┆ 0      ┆ 1     ┆ 1     ┆ 0     ┆ 0     ┆ 0     ┆ 0     ┆ 0     ┆ 0     ┆ 0     │\n",
       "│ 60  ┆ tn  ┆ 0   ┆ 0      ┆ 0     ┆ 0     ┆ 0     ┆ 0     ┆ 0     ┆ 1     ┆ 1     ┆ 0     ┆ 0     │\n",
       "└─────┴─────┴─────┴────────┴───────┴───────┴───────┴───────┴───────┴───────┴───────┴───────┴───────┘"
      ]
     },
     "metadata": {},
     "output_type": "display_data"
    }
   ],
   "source": [
    "predictions = pl.read_csv(ROOT / \"resource\" / \"ensemble_predictions_own.csv\").with_columns(pl.struct([\"pred_female\", \"pred_swear\"]).map_elements(lambda x: x[\"pred_female\"] and x[\"pred_swear\"], return_dtype=pl.Int64).alias(\"pred_female_swear\"))\n",
    "\n",
    "predictions.head(100)"
   ]
  },
  {
   "cell_type": "code",
   "execution_count": 5,
   "id": "c2334ac2",
   "metadata": {},
   "outputs": [],
   "source": [
    "# scores_ensemble = calculate_scores(predictions[\"label\"], predictions[\"pred_ensemble\"])\n",
    "# scores_ensemble\n",
    "\n",
    "# scores_female_swear = calculate_scores(predictions[\"label\"], predictions[\"pred_female_swear\"])\n",
    "# scores_female_swear\n",
    "#\n",
    "# pl.concat([scores, DataFrame([s for s in [{\"model\": \"pred_ensemble\"} | scores_ensemble.asdict(), {\"model\": \"pred_female_swear\"} | scores_female_swear.asdict()]])]).write_csv(ROOT / \"resource\" / \"ensemble_scores.csv\")"
   ]
  },
  {
   "cell_type": "code",
   "execution_count": 6,
   "id": "9c588476",
   "metadata": {
    "lines_to_next_cell": 2
   },
   "outputs": [],
   "source": [
    "\n",
    "scores = scores.sort(\"fscore\", descending=True)\n",
    "def barplot(measure: str):\n",
    "    return altair.Chart(scores).mark_bar().encode(altair.X(\"model:N\", sort=altair.EncodingSortField(field=\"fscore\", order=\"descending\")), altair.Y(measure), color=\"model\")\n",
    "\n",
    "\n",
    "cols = [\"fscore\", \"recall\", \"precision\", \"fn\", \"fp\"] #, \"accuracy\"]# , \"tp\", \"tn\", \"fp\", \"fn\"]\n",
    "charts = map(barplot, cols)\n",
    "\n",
    "combined_chart = altair.hconcat(*charts, title=\"Performance metrics for ensemble models based on DeBERTa\").configure_title(fontSize=20, anchor=\"middle\").configure_axis(labelFontSize=15, titleFontSize=15).configure_legend(labelFontSize=15, titleFontSize=15).show()"
   ]
  },
  {
   "cell_type": "code",
   "execution_count": 7,
   "id": "cf2fc41e",
   "metadata": {
    "lines_to_next_cell": 0
   },
   "outputs": [],
   "source": [
    "def selectivity_ratios(model: str):\n",
    "    return (predictions.group_by(\"type\", model).len()\n",
    "        .with_columns((pl.col(\"len\") / pl.sum(\"len\").over(\"type\")).alias(\"frac\"))\n",
    "        .with_columns(pl.lit(model).alias(\"model\"))\n",
    "        .filter(pl.col(\"type\").is_in([\"fn\", \"tn\"]))\n",
    "        .filter(pl.col(model) == 1)\n",
    "        .sort(\"len\").rename({\"len\": \"samples\"})\n",
    "        .select(\"model\", \"type\", \"frac\", \"samples\")\n",
    "    )\n",
    "models = [\"female\", \"negative\", \"swear\", \"pred_female_negative\", \"pred_female_swear\", \"pred_ensemble\"]\n",
    "sel_ratios = pl.concat(map(selectivity_ratios, models))\n",
    "\n",
    "def frac_chart(model: str, scale: str = \"frac\"):\n",
    "    return altair.Chart(sel_ratios.filter(pl.col(\"model\") == model)).mark_bar().encode(altair.X(\"type\", sort=altair.EncodingSortField(field=\"frac\", order=\"descending\"), title=model), altair.Y(scale), color=\"type\")\n",
    "\n",
    "frac_charts = map(frac_chart, models)\n",
    "combined_chart = altair.hconcat(*frac_charts, title=\"Fraction of reconsidered samples\").configure_title(fontSize=20, anchor=\"middle\").configure_axis(labelFontSize=15, titleFontSize=15).configure_legend(labelFontSize=15, titleFontSize=15).show()"
   ]
  },
  {
   "cell_type": "markdown",
   "id": "bb9d8fde",
   "metadata": {},
   "source": [
    "\n",
    "\n"
   ]
  }
 ],
 "metadata": {
  "kernelspec": {
   "display_name": "nlp-ie-label-legends",
   "language": "python",
   "name": "nlp-ie-label-legends"
  },
  "language_info": {
   "codemirror_mode": {
    "name": "ipython",
    "version": 3
   },
   "file_extension": ".py",
   "mimetype": "text/x-python",
   "name": "python",
   "nbconvert_exporter": "python",
   "pygments_lexer": "ipython3",
   "version": "3.12.5"
  }
 },
 "nbformat": 4,
 "nbformat_minor": 5
}
