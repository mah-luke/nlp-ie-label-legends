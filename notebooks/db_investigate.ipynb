{
 "cells": [
  {
   "cell_type": "markdown",
   "metadata": {},
   "source": [
    "# Creating the core text dataset"
   ]
  },
  {
   "cell_type": "markdown",
   "metadata": {},
   "source": [
    "## Dependencies"
   ]
  },
  {
   "cell_type": "code",
   "execution_count": 37,
   "metadata": {},
   "outputs": [],
   "source": [
    "import pandas as pd\n",
    "import seaborn as sns\n",
    "import matplotlib.pyplot as plt\n",
    "import re\n",
    "import os"
   ]
  },
  {
   "cell_type": "markdown",
   "metadata": {},
   "source": [
    "## Investigating the .csv"
   ]
  },
  {
   "cell_type": "code",
   "execution_count": 38,
   "metadata": {},
   "outputs": [
    {
     "data": {
      "text/html": [
       "<div>\n",
       "<style scoped>\n",
       "    .dataframe tbody tr th:only-of-type {\n",
       "        vertical-align: middle;\n",
       "    }\n",
       "\n",
       "    .dataframe tbody tr th {\n",
       "        vertical-align: top;\n",
       "    }\n",
       "\n",
       "    .dataframe thead th {\n",
       "        text-align: right;\n",
       "    }\n",
       "</style>\n",
       "<table border=\"1\" class=\"dataframe\">\n",
       "  <thead>\n",
       "    <tr style=\"text-align: right;\">\n",
       "      <th></th>\n",
       "      <th>rewire_id</th>\n",
       "      <th>text</th>\n",
       "      <th>annotator</th>\n",
       "      <th>label_sexist</th>\n",
       "      <th>label_category</th>\n",
       "      <th>label_vector</th>\n",
       "      <th>split</th>\n",
       "    </tr>\n",
       "  </thead>\n",
       "  <tbody>\n",
       "    <tr>\n",
       "      <th>27</th>\n",
       "      <td>sexism2022_english-10004</td>\n",
       "      <td>Happy Birthday to your daughter GTR😊</td>\n",
       "      <td>8</td>\n",
       "      <td>not sexist</td>\n",
       "      <td>none</td>\n",
       "      <td>none</td>\n",
       "      <td>test</td>\n",
       "    </tr>\n",
       "    <tr>\n",
       "      <th>28</th>\n",
       "      <td>sexism2022_english-10004</td>\n",
       "      <td>Happy Birthday to your daughter GTR😊</td>\n",
       "      <td>9</td>\n",
       "      <td>not sexist</td>\n",
       "      <td>none</td>\n",
       "      <td>none</td>\n",
       "      <td>test</td>\n",
       "    </tr>\n",
       "    <tr>\n",
       "      <th>29</th>\n",
       "      <td>sexism2022_english-10004</td>\n",
       "      <td>Happy Birthday to your daughter GTR😊</td>\n",
       "      <td>16</td>\n",
       "      <td>not sexist</td>\n",
       "      <td>none</td>\n",
       "      <td>none</td>\n",
       "      <td>test</td>\n",
       "    </tr>\n",
       "    <tr>\n",
       "      <th>30</th>\n",
       "      <td>sexism2022_english-10005</td>\n",
       "      <td>NEGRO Baltimore mayor and NEGRO police commiss...</td>\n",
       "      <td>9</td>\n",
       "      <td>not sexist</td>\n",
       "      <td>none</td>\n",
       "      <td>none</td>\n",
       "      <td>test</td>\n",
       "    </tr>\n",
       "    <tr>\n",
       "      <th>31</th>\n",
       "      <td>sexism2022_english-10005</td>\n",
       "      <td>NEGRO Baltimore mayor and NEGRO police commiss...</td>\n",
       "      <td>17</td>\n",
       "      <td>not sexist</td>\n",
       "      <td>none</td>\n",
       "      <td>none</td>\n",
       "      <td>test</td>\n",
       "    </tr>\n",
       "    <tr>\n",
       "      <th>...</th>\n",
       "      <td>...</td>\n",
       "      <td>...</td>\n",
       "      <td>...</td>\n",
       "      <td>...</td>\n",
       "      <td>...</td>\n",
       "      <td>...</td>\n",
       "      <td>...</td>\n",
       "    </tr>\n",
       "    <tr>\n",
       "      <th>59992</th>\n",
       "      <td>sexism2022_english-9997</td>\n",
       "      <td>You can stop right there asshole, she is a mar...</td>\n",
       "      <td>1</td>\n",
       "      <td>not sexist</td>\n",
       "      <td>none</td>\n",
       "      <td>none</td>\n",
       "      <td>test</td>\n",
       "    </tr>\n",
       "    <tr>\n",
       "      <th>59993</th>\n",
       "      <td>sexism2022_english-9997</td>\n",
       "      <td>You can stop right there asshole, she is a mar...</td>\n",
       "      <td>16</td>\n",
       "      <td>not sexist</td>\n",
       "      <td>none</td>\n",
       "      <td>none</td>\n",
       "      <td>test</td>\n",
       "    </tr>\n",
       "    <tr>\n",
       "      <th>59994</th>\n",
       "      <td>sexism2022_english-9998</td>\n",
       "      <td>Since 1973, America has sanctioned the murder ...</td>\n",
       "      <td>8</td>\n",
       "      <td>sexist</td>\n",
       "      <td>4. prejudiced discussions</td>\n",
       "      <td>4.2 supporting systemic discrimination against...</td>\n",
       "      <td>test</td>\n",
       "    </tr>\n",
       "    <tr>\n",
       "      <th>59995</th>\n",
       "      <td>sexism2022_english-9998</td>\n",
       "      <td>Since 1973, America has sanctioned the murder ...</td>\n",
       "      <td>2</td>\n",
       "      <td>sexist</td>\n",
       "      <td>4. prejudiced discussions</td>\n",
       "      <td>4.2 supporting systemic discrimination against...</td>\n",
       "      <td>test</td>\n",
       "    </tr>\n",
       "    <tr>\n",
       "      <th>59996</th>\n",
       "      <td>sexism2022_english-9998</td>\n",
       "      <td>Since 1973, America has sanctioned the murder ...</td>\n",
       "      <td>16</td>\n",
       "      <td>not sexist</td>\n",
       "      <td>none</td>\n",
       "      <td>none</td>\n",
       "      <td>test</td>\n",
       "    </tr>\n",
       "  </tbody>\n",
       "</table>\n",
       "<p>12000 rows × 7 columns</p>\n",
       "</div>"
      ],
      "text/plain": [
       "                      rewire_id  \\\n",
       "27     sexism2022_english-10004   \n",
       "28     sexism2022_english-10004   \n",
       "29     sexism2022_english-10004   \n",
       "30     sexism2022_english-10005   \n",
       "31     sexism2022_english-10005   \n",
       "...                         ...   \n",
       "59992   sexism2022_english-9997   \n",
       "59993   sexism2022_english-9997   \n",
       "59994   sexism2022_english-9998   \n",
       "59995   sexism2022_english-9998   \n",
       "59996   sexism2022_english-9998   \n",
       "\n",
       "                                                    text  annotator  \\\n",
       "27                  Happy Birthday to your daughter GTR😊          8   \n",
       "28                  Happy Birthday to your daughter GTR😊          9   \n",
       "29                  Happy Birthday to your daughter GTR😊         16   \n",
       "30     NEGRO Baltimore mayor and NEGRO police commiss...          9   \n",
       "31     NEGRO Baltimore mayor and NEGRO police commiss...         17   \n",
       "...                                                  ...        ...   \n",
       "59992  You can stop right there asshole, she is a mar...          1   \n",
       "59993  You can stop right there asshole, she is a mar...         16   \n",
       "59994  Since 1973, America has sanctioned the murder ...          8   \n",
       "59995  Since 1973, America has sanctioned the murder ...          2   \n",
       "59996  Since 1973, America has sanctioned the murder ...         16   \n",
       "\n",
       "      label_sexist             label_category  \\\n",
       "27      not sexist                       none   \n",
       "28      not sexist                       none   \n",
       "29      not sexist                       none   \n",
       "30      not sexist                       none   \n",
       "31      not sexist                       none   \n",
       "...            ...                        ...   \n",
       "59992   not sexist                       none   \n",
       "59993   not sexist                       none   \n",
       "59994       sexist  4. prejudiced discussions   \n",
       "59995       sexist  4. prejudiced discussions   \n",
       "59996   not sexist                       none   \n",
       "\n",
       "                                            label_vector split  \n",
       "27                                                  none  test  \n",
       "28                                                  none  test  \n",
       "29                                                  none  test  \n",
       "30                                                  none  test  \n",
       "31                                                  none  test  \n",
       "...                                                  ...   ...  \n",
       "59992                                               none  test  \n",
       "59993                                               none  test  \n",
       "59994  4.2 supporting systemic discrimination against...  test  \n",
       "59995  4.2 supporting systemic discrimination against...  test  \n",
       "59996                                               none  test  \n",
       "\n",
       "[12000 rows x 7 columns]"
      ]
     },
     "execution_count": 38,
     "metadata": {},
     "output_type": "execute_result"
    }
   ],
   "source": [
    "csv_file_path = os.path.join(os.getcwd(), '..', 'resource', 'edos_labelled_individual_annotations.csv')\n",
    "df_nlp = pd.read_csv(csv_file_path)\n",
    "df_nlp\n",
    "\n",
    "train = df_nlp.loc[df_nlp[\"split\"] == \"train\"]\n",
    "train\n",
    "\n",
    "test = df_nlp.loc[df_nlp[\"split\"] == \"test\"]\n",
    "test"
   ]
  },
  {
   "cell_type": "markdown",
   "metadata": {},
   "source": [
    "The dataset consists of 60,000 entries across 7 columns, detailing instances of text labeled for sexism. Each row represents a unique annotator’s evaluation of a specific text and each text is evaluated three times by different annotators. The columns include identifiers (rewire_id, annotator), the text itself, and labels (label_sexist, label_category, label_vector, and split). We have columns to distinguish each annotator’s perspective on whether a text is sexist, categorize the type of sexism, and designate the dataset split (train, test, dev). For our task we only going to need the label_sexist label for binary classification."
   ]
  },
  {
   "cell_type": "code",
   "execution_count": 39,
   "metadata": {
    "scrolled": true
   },
   "outputs": [
    {
     "name": "stdout",
     "output_type": "stream",
     "text": [
      "<class 'pandas.core.frame.DataFrame'>\n",
      "RangeIndex: 60000 entries, 0 to 59999\n",
      "Data columns (total 7 columns):\n",
      " #   Column          Non-Null Count  Dtype \n",
      "---  ------          --------------  ----- \n",
      " 0   rewire_id       60000 non-null  object\n",
      " 1   text            60000 non-null  object\n",
      " 2   annotator       60000 non-null  int64 \n",
      " 3   label_sexist    60000 non-null  object\n",
      " 4   label_category  60000 non-null  object\n",
      " 5   label_vector    60000 non-null  object\n",
      " 6   split           60000 non-null  object\n",
      "dtypes: int64(1), object(6)\n",
      "memory usage: 3.2+ MB\n"
     ]
    }
   ],
   "source": [
    "df_nlp.info()\n",
    "n_all = len(df_nlp)\n",
    "n_train = len(train)\n",
    "n_test = len(test)"
   ]
  },
  {
   "cell_type": "code",
   "execution_count": 40,
   "metadata": {},
   "outputs": [
    {
     "name": "stdout",
     "output_type": "stream",
     "text": [
      "split\n",
      "train    42000\n",
      "test     12000\n",
      "dev       6000\n",
      "Name: count, dtype: int64\n"
     ]
    }
   ],
   "source": [
    "traintest = df_nlp['split'].value_counts()\n",
    "print(traintest)"
   ]
  },
  {
   "cell_type": "markdown",
   "metadata": {},
   "source": [
    "The dataset is divided into three subsets: training (42,000 entries), testing (12,000 entries), and development (6,000 entries). This distribution ensures that there is enough data for model training and validation, with a smaller portion reserved for final testing."
   ]
  },
  {
   "cell_type": "code",
   "execution_count": 41,
   "metadata": {},
   "outputs": [
    {
     "name": "stdout",
     "output_type": "stream",
     "text": [
      "label_sexist\n",
      "not sexist    44670\n",
      "sexist        15330\n",
      "Name: count, dtype: int64\n",
      "\n",
      "The rate of the sexist texts in the whole dataset: 25.55%\n",
      "\n",
      "label_sexist\n",
      "not sexist    31271\n",
      "sexist        10729\n",
      "Name: count, dtype: int64\n",
      "\n",
      "The rate of the sexist texts in the train dataset: 25.545238095238094%\n",
      "\n",
      "label_sexist\n",
      "not sexist    8885\n",
      "sexist        3115\n",
      "Name: count, dtype: int64\n",
      "\n",
      "The rate of the sexist texts in the test dataset: 25.958333333333332%\n",
      "\n"
     ]
    }
   ],
   "source": [
    "#how is the sexist / not sexist rate\n",
    "sexistornot_all = df_nlp['label_sexist'].value_counts()\n",
    "print(sexistornot_all) #this rate should be represented in the train and test dataset each\n",
    "print(f\"\\nThe rate of the sexist texts in the whole dataset: {sexistornot_all['sexist'] / n_all *100}%\\n\")\n",
    "\n",
    "sexistornot_train = train['label_sexist'].value_counts()\n",
    "print(sexistornot_train) \n",
    "print(f\"\\nThe rate of the sexist texts in the train dataset: {sexistornot_train['sexist'] / n_train *100}%\\n\")\n",
    "\n",
    "sexistornot_test = test['label_sexist'].value_counts()\n",
    "print(sexistornot_test) \n",
    "print(f\"\\nThe rate of the sexist texts in the test dataset: {sexistornot_test['sexist'] / n_test *100}%\\n\")"
   ]
  },
  {
   "cell_type": "markdown",
   "metadata": {},
   "source": [
    "Around 25.5% of the data has been labeled as sexist. This ratio is consistent across the train and test splits, indicating a balanced approach in labeling within each subset. Such balance is critical for training and evaluating a model that can accurately detect sexist language."
   ]
  },
  {
   "cell_type": "code",
   "execution_count": 42,
   "metadata": {},
   "outputs": [
    {
     "name": "stdout",
     "output_type": "stream",
     "text": [
      "Number of empty rows in text column: 0\n",
      "\n",
      "Missing values in each column:\n",
      "rewire_id         0\n",
      "text              0\n",
      "annotator         0\n",
      "label_sexist      0\n",
      "label_category    0\n",
      "label_vector      0\n",
      "split             0\n",
      "dtype: int64\n"
     ]
    }
   ],
   "source": [
    "#any missing values in the text column?\n",
    "no_text_count = df_nlp['text'].isnull().sum()\n",
    "print(f\"Number of empty rows in text column: {no_text_count}\")\n",
    "\n",
    "#missing values anywhere else\n",
    "print(\"\\nMissing values in each column:\")\n",
    "print(df_nlp.isnull().sum())"
   ]
  },
  {
   "cell_type": "markdown",
   "metadata": {},
   "source": [
    "There are no missing values in the text column or any other columns. This ensures completeness in the data, allowing us to proceed without imputing or dropping entries due to missing values."
   ]
  },
  {
   "cell_type": "code",
   "execution_count": 43,
   "metadata": {},
   "outputs": [
    {
     "name": "stdout",
     "output_type": "stream",
     "text": [
      "Texts with counts not equal to 3:\n",
      "Series([], Name: count, dtype: int64)\n"
     ]
    }
   ],
   "source": [
    "#is there a text that has not been evaluated three times?\n",
    "rewire_counts = df_nlp['rewire_id'].value_counts()\n",
    "print(\"Texts with counts not equal to 3:\")\n",
    "print(rewire_counts[rewire_counts != 3]) #no"
   ]
  },
  {
   "cell_type": "markdown",
   "metadata": {},
   "source": [
    "Each rewire_id appears exactly three times, confirming that each text has been reviewed by three different annotators. This redundancy ensures a more robust and balanced assessment, reducing the potential for subjective bias from a single annotator."
   ]
  },
  {
   "cell_type": "code",
   "execution_count": 44,
   "metadata": {},
   "outputs": [
    {
     "name": "stdout",
     "output_type": "stream",
     "text": [
      "Annotator ID range:\n",
      "Min: 0, Max: 18\n",
      "\n",
      "Unexpected annotator IDs:\n",
      "[0]\n",
      "\n",
      "Annotator IDs count:\n",
      "annotator\n",
      "13    4813\n",
      "8     4392\n",
      "2     4372\n",
      "4     4348\n",
      "3     4336\n",
      "9     4328\n",
      "6     4325\n",
      "1     4085\n",
      "14    4017\n",
      "15    3979\n",
      "5     3592\n",
      "10    3449\n",
      "17    3382\n",
      "16    3332\n",
      "11     650\n",
      "12     650\n",
      "0      650\n",
      "7      650\n",
      "18     650\n",
      "Name: count, dtype: int64\n"
     ]
    }
   ],
   "source": [
    "#annotator ID range\n",
    "print(\"Annotator ID range:\")\n",
    "print(f\"Min: {df_nlp['annotator'].min()}, Max: {df_nlp['annotator'].max()}\")\n",
    "\n",
    "#any not expected values?\n",
    "unexpected_annotators = df_nlp[(df_nlp['annotator'] < 1) | (df_nlp['annotator'] > 100)]\n",
    "print(\"\\nUnexpected annotator IDs:\")\n",
    "print(unexpected_annotators['annotator'].unique())\n",
    "\n",
    "#how many inputs from each annotator?\n",
    "annotator_counts = df_nlp['annotator'].value_counts()\n",
    "print(\"\\nAnnotator IDs count:\")\n",
    "print(annotator_counts) #might be biased because number 13 evaluated much more texts than number 18 for example"
   ]
  },
  {
   "cell_type": "markdown",
   "metadata": {},
   "source": [
    "The annotator activity shows significant variation, with some annotators having evaluated many more texts than others. For instance, annotator 13 evaluated 4,813 texts, while some annotators only evaluated 650. This could introduce bias if certain annotators have subjective tendencies, as more frequent annotators contribute more heavily to the overall dataset labeling."
   ]
  },
  {
   "cell_type": "code",
   "execution_count": 45,
   "metadata": {},
   "outputs": [
    {
     "name": "stdout",
     "output_type": "stream",
     "text": [
      "Number of duplicate rows: 0\n"
     ]
    }
   ],
   "source": [
    "#duplicate rows?\n",
    "duplicate_rows = df_nlp[df_nlp.duplicated()]\n",
    "print(f\"Number of duplicate rows: {len(duplicate_rows)}\")"
   ]
  },
  {
   "cell_type": "markdown",
   "metadata": {},
   "source": [
    "No duplicate rows were found, which means each entry is unique in terms of rewire_id, annotator, and text. This contributes to the reliability of the dataset."
   ]
  },
  {
   "cell_type": "code",
   "execution_count": 46,
   "metadata": {},
   "outputs": [
    {
     "name": "stdout",
     "output_type": "stream",
     "text": [
      "Unique bracketed texts found in the dataset:\n",
      "       match\n",
      "0      0                 [USER]\n",
      "30     0                  [URL]\n",
      "870    0                 [link]\n",
      "1065   0                 [Link]\n",
      "1227   0                 [[URL]\n",
      "                     ...       \n",
      "56232  0               [/cynic]\n",
      "56886  0        [So here it is]\n",
      "57702  0           [NSFL photo]\n",
      "58731  0            [This one?]\n",
      "59571  4               [faggot]\n",
      "Name: 0, Length: 94, dtype: object\n",
      "Counts of each unique bracketed text:\n",
      "0\n",
      "[URL]                                                                                                                                7395\n",
      "[USER]                                                                                                                               4065\n",
      "[[URL]                                                                                                                                 36\n",
      "[this]                                                                                                                                  6\n",
      "[…]                                                                                                                                     6\n",
      "                                                                                                                                     ... \n",
      "[tumblr]                                                                                                                                3\n",
      "[twitter]                                                                                                                               3\n",
      "[Perez ONE OF THE MOST CORRUPT Demorats ever to rear his/her UGLY head!!!]                                                              3\n",
      "[Man idk why I follow this sub but it’s just hilarious. The observations about women are just spot on for what I’ve seen myself.]       3\n",
      "[faggot]                                                                                                                                3\n",
      "Name: count, Length: 94, dtype: int64\n",
      "\n",
      "List of unique bracketed texts:\n",
      "['[URL]', '[USER]', '[[URL]', '[this]', '[…]', '[deleted]', '[...]', '[this girl\\\\]', '[Confessions of a reformed incel]', '[Eric Andre shoots Hannibal Buress in the chest]', '[insert retarded rationalisation here]', '[that’s right! a girl wants to play football!]', '[Zdeno Chara]', '[Brendan Gallagher]', \"[This loser's profile bio. ]\", '[post stuff like this]', '[he took her back]', '[I know someone]', '[SPOILER ALERT]', '[DJT]', \"[she's a felon.. ]\", '[She needs to break free from her scale.]', \"[I'll Help You Method]\", '[and take her to fuck clubs]', '[suicide]', '[Finish Him]', '[jewish]', '[incel.co]', '[puked in my mouth]', '[Rule]', '[This one?]', '[NSFL photo]', '[So here it is]', '[/cynic]', '[sex is bad]', '[thing]', '[Whoso]', '[dumb attention whore]', '[e]', '[shop]', \"[Here's a study]\", '[depopulation agenda]', '[you must lift]', '[trannies]', '[men get thrown in jail for this.]', '[removed]', '[big bad alfalfa Twerps]', '[female sl00ts]', '[Just one woman in prison would be too many, according to these dipshits.]', '[Also, attacks on men are actually attacks on women.]', \"[I've had this happen a lot, it's like finding twenty dollars in an old pair of jeans! $$$$]\", '[USWNT Struggles]', '[1 and 4 teen girls have STDs]', '[Nothing turns the ladies on more than the phrase \"shit mud for weeks\".]', '[GALACTUS DEVOURER OF WORLDS!]', '[About 13% of married women cheat while 20% of married men do]', '[Hitomi Harada]', '[this to fight matches]', '[Apple]', '[When Women Wanted Sex Much More Than Men - And how the stereotype flipped.]', '[ugly to hot]', '[they brewed the fucking booze]', '[directly encourage short people to kill themselves]', '[Scientific facts]', '[Lyle Lovett]', '[Alinity wants to kill herself]', '[Evil comes in male and female]', '[ [URL]', '[Dear Lord my sides]', '[Link]', '[link]', '[This is what happens if you enter one \\\\(warning lower your volume before watching it\\\\)]', '[The internet exploded in August of last year with #Gamergate, an online harassment campaign against female game developers, including Sarkeesian, Zoe Quinn and Brianna Wu.]', '[K]', '[Meanwhile there are pig women getting offers from dating sites every single day.]', '[Chivalry is dead, and women killed it]', \"[She'll leave him eventually once a guy that is as good as him looks wise and personality and all, then also has a huge dick, then he'll be sitting there with no GF because of this article. They'll all know he's small.]\", '[Treat them like you would treat a police officer]', '[emphasis added]', '[Make her chase.]', '[sex-positive feminism]', \"[MONGRELOID- THE NAME IS CATCHY ISN'T IT?]\", '[CLICK HERE]', '[mass rapes]', '[female]', \"[Elaine F'n Chao getting eviscerated on Twitter.]\", '[swedes]', '[JOKING HERE, PEOPLE!!]', '[I think this one is my favourite]', '[tumblr]', '[twitter]', '[Perez ONE OF THE MOST CORRUPT Demorats ever to rear his/her UGLY head!!!]', '[Man idk why I follow this sub but it’s just hilarious. The observations about women are just spot on for what I’ve seen myself.]', '[faggot]']\n"
     ]
    }
   ],
   "source": [
    "#rows where 'text' contains any text between square brackets\n",
    "bracketed_texts = df_nlp['text'].str.extractall(r\"(\\[.*?\\])\")[0]\n",
    "\n",
    "#unique bracketed texts\n",
    "unique_bracketed_texts = bracketed_texts.drop_duplicates()\n",
    "print(\"Unique bracketed texts found in the dataset:\")\n",
    "print(unique_bracketed_texts)\n",
    "\n",
    "#occurrences of each unique bracketed text\n",
    "bracketed_text_counts = bracketed_texts.value_counts()\n",
    "\n",
    "#counts\n",
    "print(\"Counts of each unique bracketed text:\")\n",
    "print(bracketed_text_counts)\n",
    "\n",
    "#list of unique bracketed texts\n",
    "unique_bracketed_texts = bracketed_text_counts.index.tolist()\n",
    "print(\"\\nList of unique bracketed texts:\")\n",
    "print(unique_bracketed_texts)"
   ]
  },
  {
   "cell_type": "markdown",
   "metadata": {},
   "source": [
    "Several texts contain bracketed placeholders (e.g., [URL], [USER]) representing masked information, such as links or usernames, which may obscure certain context. This information should be handled carefully, as it could affect how the text is interpreted by both human annotators and NLP models. This means we have to decide for each one of the values whether to stay in the dataset or to be deleted. \n",
    "We came to the agreement that every phrase that has no meaning or influence should be deleted from the dataset, such as [USER], [Link], [URL], [...], [twitter], [tumblr], [CLICK HERE], and so on."
   ]
  },
  {
   "cell_type": "markdown",
   "metadata": {},
   "source": [
    "## Preprocessing step"
   ]
  },
  {
   "cell_type": "code",
   "execution_count": 52,
   "metadata": {
    "scrolled": true
   },
   "outputs": [
    {
     "data": {
      "text/html": [
       "<div>\n",
       "<style scoped>\n",
       "    .dataframe tbody tr th:only-of-type {\n",
       "        vertical-align: middle;\n",
       "    }\n",
       "\n",
       "    .dataframe tbody tr th {\n",
       "        vertical-align: top;\n",
       "    }\n",
       "\n",
       "    .dataframe thead th {\n",
       "        text-align: right;\n",
       "    }\n",
       "</style>\n",
       "<table border=\"1\" class=\"dataframe\">\n",
       "  <thead>\n",
       "    <tr style=\"text-align: right;\">\n",
       "      <th></th>\n",
       "      <th>rewire_id</th>\n",
       "      <th>text</th>\n",
       "      <th>annotator</th>\n",
       "      <th>label_sexist</th>\n",
       "      <th>label_category</th>\n",
       "      <th>label_vector</th>\n",
       "      <th>split</th>\n",
       "    </tr>\n",
       "  </thead>\n",
       "  <tbody>\n",
       "    <tr>\n",
       "      <th>0</th>\n",
       "      <td>sexism2022_english-0</td>\n",
       "      <td>I wonder what keeps that witch looking quite ...</td>\n",
       "      <td>17</td>\n",
       "      <td>sexist</td>\n",
       "      <td>2. derogation</td>\n",
       "      <td>2.2 aggressive and emotive attacks</td>\n",
       "      <td>train</td>\n",
       "    </tr>\n",
       "    <tr>\n",
       "      <th>1</th>\n",
       "      <td>sexism2022_english-0</td>\n",
       "      <td>I wonder what keeps that witch looking quite ...</td>\n",
       "      <td>2</td>\n",
       "      <td>sexist</td>\n",
       "      <td>2. derogation</td>\n",
       "      <td>2.2 aggressive and emotive attacks</td>\n",
       "      <td>train</td>\n",
       "    </tr>\n",
       "    <tr>\n",
       "      <th>2</th>\n",
       "      <td>sexism2022_english-0</td>\n",
       "      <td>I wonder what keeps that witch looking quite ...</td>\n",
       "      <td>6</td>\n",
       "      <td>not sexist</td>\n",
       "      <td>none</td>\n",
       "      <td>none</td>\n",
       "      <td>train</td>\n",
       "    </tr>\n",
       "    <tr>\n",
       "      <th>3</th>\n",
       "      <td>sexism2022_english-1</td>\n",
       "      <td>What do you guys think about female \"incels\"? ...</td>\n",
       "      <td>17</td>\n",
       "      <td>not sexist</td>\n",
       "      <td>none</td>\n",
       "      <td>none</td>\n",
       "      <td>train</td>\n",
       "    </tr>\n",
       "    <tr>\n",
       "      <th>4</th>\n",
       "      <td>sexism2022_english-1</td>\n",
       "      <td>What do you guys think about female \"incels\"? ...</td>\n",
       "      <td>15</td>\n",
       "      <td>not sexist</td>\n",
       "      <td>none</td>\n",
       "      <td>none</td>\n",
       "      <td>train</td>\n",
       "    </tr>\n",
       "    <tr>\n",
       "      <th>...</th>\n",
       "      <td>...</td>\n",
       "      <td>...</td>\n",
       "      <td>...</td>\n",
       "      <td>...</td>\n",
       "      <td>...</td>\n",
       "      <td>...</td>\n",
       "      <td>...</td>\n",
       "    </tr>\n",
       "    <tr>\n",
       "      <th>59995</th>\n",
       "      <td>sexism2022_english-9998</td>\n",
       "      <td>Since 1973, America has sanctioned the murder ...</td>\n",
       "      <td>2</td>\n",
       "      <td>sexist</td>\n",
       "      <td>4. prejudiced discussions</td>\n",
       "      <td>4.2 supporting systemic discrimination against...</td>\n",
       "      <td>test</td>\n",
       "    </tr>\n",
       "    <tr>\n",
       "      <th>59996</th>\n",
       "      <td>sexism2022_english-9998</td>\n",
       "      <td>Since 1973, America has sanctioned the murder ...</td>\n",
       "      <td>16</td>\n",
       "      <td>not sexist</td>\n",
       "      <td>none</td>\n",
       "      <td>none</td>\n",
       "      <td>test</td>\n",
       "    </tr>\n",
       "    <tr>\n",
       "      <th>59997</th>\n",
       "      <td>sexism2022_english-9999</td>\n",
       "      <td>Laura Bates Lol she looks like she'd suck the ...</td>\n",
       "      <td>2</td>\n",
       "      <td>sexist</td>\n",
       "      <td>2. derogation</td>\n",
       "      <td>2.2 aggressive and emotive attacks</td>\n",
       "      <td>train</td>\n",
       "    </tr>\n",
       "    <tr>\n",
       "      <th>59998</th>\n",
       "      <td>sexism2022_english-9999</td>\n",
       "      <td>Laura Bates Lol she looks like she'd suck the ...</td>\n",
       "      <td>16</td>\n",
       "      <td>not sexist</td>\n",
       "      <td>none</td>\n",
       "      <td>none</td>\n",
       "      <td>train</td>\n",
       "    </tr>\n",
       "    <tr>\n",
       "      <th>59999</th>\n",
       "      <td>sexism2022_english-9999</td>\n",
       "      <td>Laura Bates Lol she looks like she'd suck the ...</td>\n",
       "      <td>17</td>\n",
       "      <td>sexist</td>\n",
       "      <td>2. derogation</td>\n",
       "      <td>2.2 aggressive and emotive attacks</td>\n",
       "      <td>train</td>\n",
       "    </tr>\n",
       "  </tbody>\n",
       "</table>\n",
       "<p>60000 rows × 7 columns</p>\n",
       "</div>"
      ],
      "text/plain": [
       "                     rewire_id  \\\n",
       "0         sexism2022_english-0   \n",
       "1         sexism2022_english-0   \n",
       "2         sexism2022_english-0   \n",
       "3         sexism2022_english-1   \n",
       "4         sexism2022_english-1   \n",
       "...                        ...   \n",
       "59995  sexism2022_english-9998   \n",
       "59996  sexism2022_english-9998   \n",
       "59997  sexism2022_english-9999   \n",
       "59998  sexism2022_english-9999   \n",
       "59999  sexism2022_english-9999   \n",
       "\n",
       "                                                    text  annotator  \\\n",
       "0       I wonder what keeps that witch looking quite ...         17   \n",
       "1       I wonder what keeps that witch looking quite ...          2   \n",
       "2       I wonder what keeps that witch looking quite ...          6   \n",
       "3      What do you guys think about female \"incels\"? ...         17   \n",
       "4      What do you guys think about female \"incels\"? ...         15   \n",
       "...                                                  ...        ...   \n",
       "59995  Since 1973, America has sanctioned the murder ...          2   \n",
       "59996  Since 1973, America has sanctioned the murder ...         16   \n",
       "59997  Laura Bates Lol she looks like she'd suck the ...          2   \n",
       "59998  Laura Bates Lol she looks like she'd suck the ...         16   \n",
       "59999  Laura Bates Lol she looks like she'd suck the ...         17   \n",
       "\n",
       "      label_sexist             label_category  \\\n",
       "0           sexist              2. derogation   \n",
       "1           sexist              2. derogation   \n",
       "2       not sexist                       none   \n",
       "3       not sexist                       none   \n",
       "4       not sexist                       none   \n",
       "...            ...                        ...   \n",
       "59995       sexist  4. prejudiced discussions   \n",
       "59996   not sexist                       none   \n",
       "59997       sexist              2. derogation   \n",
       "59998   not sexist                       none   \n",
       "59999       sexist              2. derogation   \n",
       "\n",
       "                                            label_vector  split  \n",
       "0                     2.2 aggressive and emotive attacks  train  \n",
       "1                     2.2 aggressive and emotive attacks  train  \n",
       "2                                                   none  train  \n",
       "3                                                   none  train  \n",
       "4                                                   none  train  \n",
       "...                                                  ...    ...  \n",
       "59995  4.2 supporting systemic discrimination against...   test  \n",
       "59996                                               none   test  \n",
       "59997                 2.2 aggressive and emotive attacks  train  \n",
       "59998                                               none  train  \n",
       "59999                 2.2 aggressive and emotive attacks  train  \n",
       "\n",
       "[60000 rows x 7 columns]"
      ]
     },
     "execution_count": 52,
     "metadata": {},
     "output_type": "execute_result"
    }
   ],
   "source": [
    "terms_to_remove = [\n",
    "    r'\\[USER\\]', r'\\[URL\\]', r'\\[deleted\\]', r'\\[\\[URL\\]', r'\\[_\\]', r'\\[Link\\]', r'\\[link\\]', \n",
    "    r'\\[twitter\\]', r'\\[tumblr\\]', r'\\[CLICK HERE\\]', r'\\[…\\]', r'\\[e\\]', r'\\[\\[URL\\]', r'\\[K\\]'\n",
    "]\n",
    "\n",
    "# Join all terms into a single regex pattern with `|` (OR), making it case-insensitive\n",
    "pattern = '|'.join(terms_to_remove)\n",
    "\n",
    "# Replace matches with an empty string\n",
    "df_nlp['text'] = df_nlp['text'].str.replace(pattern, '', regex=True, case=False) #here we should create a list for the values to be deleted\n",
    "df_nlp #final dataset"
   ]
  },
  {
   "cell_type": "markdown",
   "metadata": {},
   "source": [
    "After we deleted the words that have no meaning in the text, we are done with the necessary preprocessing steps. As the output, we now have our core text datasets preprocessed and stored in a standard format: the final dataset is saved as edos_labelled_clean in a .csv format in the *resources* folder."
   ]
  },
  {
   "cell_type": "markdown",
   "metadata": {},
   "source": [
    "## Saving the clean dataframe"
   ]
  },
  {
   "cell_type": "code",
   "execution_count": 53,
   "metadata": {},
   "outputs": [],
   "source": [
    "savepath = os.path.join(os.getcwd(), '..', 'resource', 'edos_labelled_clean.csv')\n",
    "df_nlp.to_csv(savepath)"
   ]
  },
  {
   "cell_type": "markdown",
   "metadata": {},
   "source": [
    "# Appendix"
   ]
  },
  {
   "cell_type": "markdown",
   "metadata": {},
   "source": [
    "## Try to see the balance in the sexist and not sexist labels"
   ]
  },
  {
   "cell_type": "code",
   "execution_count": 49,
   "metadata": {},
   "outputs": [
    {
     "name": "stdout",
     "output_type": "stream",
     "text": [
      "label_vector\n",
      "none                                                               44670\n",
      "2.1 descriptive attacks                                             3665\n",
      "2.2 aggressive and emotive attacks                                  2732\n",
      "3.1 casual use of gendered slurs, profanities, and insults          2671\n",
      "3.2 immutable gender differences and gender stereotypes             1506\n",
      "2.3 dehumanising attacks & overt sexual objectification             1161\n",
      "4.2 supporting systemic discrimination against women as a group     1094\n",
      "1.2 incitement and encouragement of harm                             966\n",
      "4.1 supporting mistreatment of individual women                      515\n",
      "3.4 condescending explanations or unwelcome advice                   431\n",
      "3.3 backhanded gendered compliments                                  301\n",
      "1.1 threats of harm                                                  288\n",
      "Name: count, dtype: int64\n"
     ]
    }
   ],
   "source": [
    "whatkind = df_nlp['label_vector'].value_counts()\n",
    "print(whatkind)"
   ]
  },
  {
   "cell_type": "markdown",
   "metadata": {},
   "source": [
    "## Distribution in Label Sexist Category and Label Category"
   ]
  },
  {
   "cell_type": "code",
   "execution_count": 30,
   "metadata": {},
   "outputs": [
    {
     "name": "stderr",
     "output_type": "stream",
     "text": [
      "/var/folders/b6/1mflrv1s5s9b5pj5n4cg2hjw0000gn/T/ipykernel_11760/3319808314.py:6: FutureWarning: \n",
      "\n",
      "Passing `palette` without assigning `hue` is deprecated and will be removed in v0.14.0. Assign the `x` variable to `hue` and set `legend=False` for the same effect.\n",
      "\n",
      "  sns.countplot(data=df_nlp, x='label_sexist', palette=\"viridis\", ax=axes[0])\n",
      "/var/folders/b6/1mflrv1s5s9b5pj5n4cg2hjw0000gn/T/ipykernel_11760/3319808314.py:12: FutureWarning: \n",
      "\n",
      "Passing `palette` without assigning `hue` is deprecated and will be removed in v0.14.0. Assign the `x` variable to `hue` and set `legend=False` for the same effect.\n",
      "\n",
      "  sns.countplot(data=df_nlp, x='label_category', palette=\"viridis\", order=df_nlp['label_category'].value_counts().index, ax=axes[1])\n"
     ]
    },
    {
     "data": {
      "image/png": "[encoded data removed]",
      "text/plain": [
       "<Figure size 1400x600 with 2 Axes>"
      ]
     },
     "metadata": {},
     "output_type": "display_data"
    }
   ],
   "source": [
    "\n",
    "sns.set(style=\"whitegrid\")\n",
    "\n",
    "fig, axes = plt.subplots(1, 2, figsize=(14, 6))\n",
    "\n",
    "\n",
    "sns.countplot(data=df_nlp, x='label_sexist', palette=\"viridis\", ax=axes[0])\n",
    "axes[0].set_title(\"Distribution of 'label_sexist'\")\n",
    "axes[0].set_xlabel(\"Sexist Label\")\n",
    "axes[0].set_ylabel(\"Count\")\n",
    "\n",
    "\n",
    "sns.countplot(data=df_nlp, x='label_category', palette=\"viridis\", order=df_nlp['label_category'].value_counts().index, ax=axes[1])\n",
    "axes[1].set_title(\"Distribution of 'label_category'\")\n",
    "axes[1].set_xlabel(\"Sexist Category\")\n",
    "axes[1].set_ylabel(\"Count\")\n",
    "\n",
    "plt.tight_layout()\n",
    "plt.show()"
   ]
  },
  {
   "cell_type": "markdown",
   "metadata": {},
   "source": [
    "## Print rows where label category something but label vector none"
   ]
  },
  {
   "cell_type": "code",
   "execution_count": 31,
   "metadata": {},
   "outputs": [
    {
     "name": "stdout",
     "output_type": "stream",
     "text": [
      "Empty DataFrame\n",
      "Columns: [rewire_id, text, annotator, label_sexist, label_category, label_vector, split]\n",
      "Index: []\n"
     ]
    }
   ],
   "source": [
    "notmatching = df_nlp[(df_nlp['label_sexist']==\"sexist\")&(df_nlp['label_category'] != \"none\")&(df_nlp['label_vector']==\"none\")]\n",
    "print(notmatching)\n"
   ]
  },
  {
   "cell_type": "code",
   "execution_count": 32,
   "metadata": {},
   "outputs": [
    {
     "name": "stdout",
     "output_type": "stream",
     "text": [
      "Empty DataFrame\n",
      "Columns: [rewire_id, text, annotator, label_sexist, label_category, label_vector, split]\n",
      "Index: []\n"
     ]
    }
   ],
   "source": [
    "notmatching = df_nlp[(df_nlp['label_sexist']==\"sexist\")&(df_nlp['label_vector'] != \"none\")&(df_nlp['label_category']==\"none\")]\n",
    "print(notmatching)\n"
   ]
  },
  {
   "cell_type": "markdown",
   "metadata": {},
   "source": [
    "# Appendix"
   ]
  },
  {
   "cell_type": "code",
   "execution_count": 51,
   "metadata": {},
   "outputs": [
    {
     "name": "stdout",
     "output_type": "stream",
     "text": [
      "      bad_words_found  bad_word_count\n",
      "18      [bitch, slag]               2\n",
      "19      [bitch, slag]               2\n",
      "20      [bitch, slag]               2\n",
      "42             [slut]               1\n",
      "43             [slut]               1\n",
      "...               ...             ...\n",
      "59869          [slut]               1\n",
      "59870          [slut]               1\n",
      "59925         [bitch]               1\n",
      "59926         [bitch]               1\n",
      "59927         [bitch]               1\n",
      "\n",
      "[2112 rows x 2 columns]\n"
     ]
    }
   ],
   "source": [
    "#Creating a list of what I think are the sexist words in some of the lines which were labeled sexist\n",
    "\n",
    "badwords = [\"bitch\", \"slag\", \"slut\"]\n",
    "\n",
    "def contains_badword(dfcolumn, list):\n",
    "    \n",
    "    found_words = [list for list in list if re.search(r'\\b' + re.escape(list) + r'\\b', dfcolumn.lower())]\n",
    "\n",
    "    return found_words\n",
    "\n",
    "df_app = df_nlp.copy()\n",
    "df_app['bad_words_found'] = df_app['text'].apply(lambda x: contains_badword(x, badwords))\n",
    "\n",
    "# Add a column for the count of bad words found\n",
    "df_app['bad_word_count'] = df_app['bad_words_found'].apply(len)\n",
    "\n",
    "# Filter rows where bad words are found\n",
    "bad_word_rows = df_app[df_app['bad_word_count'] > 0]\n",
    "\n",
    "print(bad_word_rows[['bad_words_found', 'bad_word_count']])\n"
   ]
  },
  {
   "cell_type": "markdown",
   "metadata": {},
   "source": [
    "## Loading the compiled list of bad words"
   ]
  },
  {
   "cell_type": "code",
   "execution_count": 34,
   "metadata": {},
   "outputs": [
    {
     "name": "stdout",
     "output_type": "stream",
     "text": [
      "['cockknocker', 'n1gger', 'f ing', 'fukker', 'nympho', 'fcuking', 'gook', 'freex', 'arschloch', 'fistfucked', 'chinc', 'raunch', 'fellatio', 'splooge', 'nutsack', 'lmfao', 'wigger', 'bastard', 'asses', 'fistfuckings', 'blue waffle', 'beeyotch', 'pissin', 'dominatrix', 'fisting', 'vullva', 'paki', 'cyberfucker', 'chuj', 'penuus', 'masturbate', 'b00b*', 'fuks', 'sucked', 'fuckingshitmotherfucker', 'feces', 'panty', 'coital', 'wh00r. whore', 'condom', 'hells', 'foreskin', 'wanker', 'hoer', 'sh1tz', 'shittings', 'wtf', 'recktum', 'dick*', 'pr0n', 'pasty', 'spik', 'phukked', 'assfuck', 'xxx', 'nigger*', 'ugly', 's_h_i_t', 'mamhoon', 'pornos', 'masterbates', 'mothafucks', 'mother fukkah', 'chink', 'pussy palace', 'azazel', 'fistfucking', 'ass-fucker', 'shag', 'chincs', 'duche', 'orgies', 'vag1na', 'molest', 'bollock', 'a-hole', 'seduce', 'cock*', 'dog-fucker', 'shitz', 'mother fucker', 'penial', 'biatch', 'junky', 'orifice', '5hit', 'kunilingus', 'cuntbag', 'hump', 'butt fuck', 'titwank', 'schaffer', 'cracker', 'f.u.c.k', 'breasts', 'd1ld0', 'polac', 'boobs', 'ritard', 'fuckup', 'rape', 'hard on', 'skanks', 'coksucka', 'cl1t', 'herpy', 's.o.b.', 'motha fucker', 'penus', 'fukker', 'p.u.s.s.y.', 'faggitt', 'b!tch', 'doosh', 'titty', 'pr1k', 'r-tard', 'gigolo', 'perse', 'lezzies', 'bollock*', 'pedophiliac', 'ass monkey', 'mothafucker', 'amcik', 'b*tch', 'beaner', 'masterbat*', 'fucka', 'phuk', 'menses', 'pedophile', 'climax', 'cocksucking', 'fingerfucked', 'asswhole', 'basterdz', 'cahone', 'ahole', 'dickflipper', 'diligaf', 'lesbian', 'sperm', 'pisser', 'dykes', 'skanky', 'puuker', 'gtfo', 'orgasim', 'd0ng', 'testicle*', 'pen1s', 'piss-off', '@$$', 'fuck trophy', 'arse*', 'fag', 'organ', 'potty', 'queerz', 'fannybandit', 'muthafuckaz', 'booger', 'pussypounder', 'titt', 'fuckoff', 'bootee', 'schlong', 'spunk', 'rumprammer', 'weed', 'bi7ch', 'pusse', 'blow job', 'kusi*', 'assbanged', 'dumbass', 'kunts', 'chraa', 'cock sucker', 'l3i+ch', 'cabron', 'arrse', 'cnut', 'how to murdep', 'fcuk', 'phuked', 'gang-bang', 'kuksuger', 'mothafuckers', 'ghey', 'clit licker', 'feg', 'ma5terbate', 'd0uche', 'pcp', 'ejaculate', 'nigur', 'clits', 'd0uch3', 'b00bs', 'fucked', 'assbang', 'mutha', 'goddamned', 'cazzo', 'lmao', 'godamn', 'kill', 'coon', 'penis-breath', 'kyke', 'heshe', 'homo', 'tawdry', 'pissing', 'cumshot', 'motherfucker', 'menstruation', 'n1gr', 'rectus', 'oral', 'twats', 'scrot', 'god damn', 'jerk', 'nigga', 'motherfuckin', 'kawk', 'homey', 'hooters', 'rump', 'dickheads', 'scrud', 'fist fuck', 'carpet muncher', 'cipa', 'cocaine', 'fanyy', 'frigga', 'massa', '5h1t', 'brassiere', 'inbred', 'spooge', 'shitface', 'tush', 'fuken', 'boiolas', 'fuckass', 'wop*', 'cuntlick', 'fucker', 'bodily', 'bullshits', 'hom0', 'sumofabiatch', 'jackass', 'dilld0', 'puuke', 'cums', 'pakie', 'cock-sucker', 'pubic', 'pron', 'puta', 'penas', 'weiner', 'vaj1na', 'mthrfucker', 'souse', 'loin', 'clitoris', 'f.ck', 'dickface', 'rectal', 'whored', 'bookie', 'chota bags', 'sh!t', 'pornography', 'spick', 'seamen', 'phukker', 'beef curtain', 'eat hair pie', 'mother fucker', 'faigt', 'yeasty', 'clit', 'kraut', 'cocksucker', 'ekrem*', 'screwing', 'scrote', 'fubar', 'knob end', 'sleazy', 'dickwhipper', 'ass fuck', 'fellate', 'lesbos', 'nobjokey', 'dogging', 'fuck hole', 'hymen', 'damn', 'dego', 'sphencter', 'queef*', 'gaylord', 'va1jina', 'a55', 'fuck', 'douchebag', 'blowjob', 'mibun', 'fucking', 'dago', 'heroin', 'tw4t', 'raper', 'muff', 'fitt*', 'wetback*', 'mo-fo', 'fuk*', 'klootzak', 'sux', 'damnit', 'pimmel', 'assh0lez', 'cntz', 'fux', 'gonads', 'bullshit', 'nigg3r', 'fack', 'weewee', 'shi+', 'shithead', 'pecker', 'shytty', 'wh0re', 'a2m', 'kkk', 'penetration', 'kike', 'naked', 'kooch', 'ejaculation', 'bang', 'hoare', 'jap', 'foad', 'queef', 'buttwipe', 'shity', 'dildo', 'dickripper', 'crackwhore', 'beaver', 'kum', 'sh!+', 'qweers', 'cocksuka', 'sexy', 'masterbating', 'peeenus', 'gays', 'cocksucks', 'b17ch', 'nad', 'j3rk0ff', 'fannyflaps', 'god-damned', 'masterbate', 'erotic', 'sadism', 'turd', 'flipping the bird', 'schizo', 'whiz', 'fagg1t', 'cop some wood', 'banger', 'shyty', 'f you', 'scag', 'soused', 'scank', 'clitorus', 'kumming', 'quim', 'penis', 'bestial', 'bimbo', 'gfy', 'spiks', 'shitings', 'phuking', 'paddy', 'mulkku', 'anal leakage', 'bestiality', 'smegma', 'bull shit', 'pillu*', 'schmuck', 'cuntsicle', 'fistfucker', 'shitdick', 'dirsa', 'm0f0', 'fukkin', 'testis', 'ejaculatings', 'phuq', 'shitty', 'crap', 'hooker', 'niggaz', 'fucknut', 'cyalis', 'anus', 'crabs', 'asswipes', 'cameltoe', 'cuntlicking', 'cuntz', 'corksucker', 'peepee', 'thug', 'jiz', 'gayz', 'fag*', 'cumstain', 'nepesaurio', 'dike*', '8ss', 'shited', 'snatch', 'dick shy', 'opiate', 'butthole', 'whores', 'boner', 'pimpis', 'motherfuckka', 'slut', 'testee', 'futkretzn', 'mothafucka', 'cyberfuckers', 'cuntlicker', 'adult', 'tramp', 'blumpkin', 'fannyfucker', 'beotch', 'flange', 'dik', 'dildos', 'nipple', 'queers', 'boink', 'shamedame', 'shitty', 'tits', 'felching', 'felcher', 'gangbangs', 'punkass', 'orgasims', 'kunt', 'boob', 'sniper', 'pussee', 'pussys', 'cunillingus', 'pula', '50 yard cunt punt', 'wad', 's t f u', 'jism', 'felcher', 'son-of-a-bitch', 'shitty', 'cocksucked', 'faen', 'basterds', 'heeb', 'hebe', 'n1gga', 'phallic', 'pube', 'fck', 'cunt hair', 'fatass', 'cunthunter', 'prig', 'phuck', 'dickbag', 'titi', 'fukken', 'balls', 'pissers', 'gooks', 'muff puff', 'ballbag', 'eat a dick', 'clit', 'kyrpa*', 'knobed', 'penetrate', 'ballsack', 'ejakulate', 'c0cks', 'bowels', 'f u c k', 'suka', 'fudge packer', 'hui', 'buttfucker', 'goatse', 'smut', 'bosom', 'fukah', 'pastie', 'assholz', 'boooobs', 'l3itch', 'lezbo', 'godamnit', 'fuckheads', 'g-spot', 'niggers', 'w00se', 'wichser', 'v14gra', 'orgasmic', 'hitler', 'helvete', 'snuff', 'master-bate', 'motherfuck', 'bust a load', 'sissy', 's-h-i-t', 'steamy', 'sucking', 'damned', 'pricks', 'fukkin', 'willies', 'erect', 'knulle', 'fistfuck', 'pisses', 'toots', 'bone', 'tinkle', 'punky', 'nads', 'goddamn', 'pimp', 'arian', 'frigg', 'f uck', 'jack-off', 'vomit', 'butt', 'peyote', 'muie', 'lust', 'dickdipper', 'goddammit', 'racy', 'v1gra', 'orgasm', 'nazism', 'flog the log', 'buttfuck', 'clitty', 'dumass', 'poonani', 'fondle', 'amateur', 'mutha fucker', 'faggit', 'bitching', 'cocksuck', 'phuk', 'puto', 'corp whore', 'kinky', 'japs', 'mother fukah', 'pussy', 'monkleigh', 'muthafucker', 'cocks', 'h0mo', 'fuckme', 'dumbasses', 'ejaculated', 'carpetmuncher', 'pollock', 'bollocks', 'honkey', 'bitchers', 'a s s', 'shitt', 'pigfucker', 'lusty', 'sleaze', 'teabagging', 'mothafucking', 'qweir', 'pawn', 'twunt', 'skurwysyn', 'motherfucking', 'muthrfucking', 'gassy ass', 'dominatrics', 'pantie', 'masterbations', 'hookah', 'bimbos', 'a55hole', 'loins', 'c-0-c-k', 'fvck', 'slave', 'masterb8', 'hore', 'cockface', 'sh1t', 'cum guzzler', 'how to kill', 'muschi', 'sluts', 'fook', 'pr1ck', 'knobjokey', 't1tt1e5', 'niggas', 'packi', 'mothafucked', 'lesbian', 'bitch', 'gangbang', 'muthafuckker', 'booooobs', 'undies', 'gay', 'goldenshower', 'cockhead', 'quicky', 'vulva', 'junkie', 'shemale', 'gai', 'shiting', 'c-u-n-t', 'beastial', 'vodka', 'lezbos', 'sh!t*', 'beardedclam', 'bitched', 'skankee', 'stiffy', 'spac', 'scroat', 'beatch', 'd*ck', 'fukkah', 'fisted', 'buceta', 'dominatricks', 'revue', 'arsehole', 'pot', 'dawgie-style', 'assfukka', 'packy', 'ash0le', 'fuckwhit', 'tosser', 'bangbros', 'lesbo', 'pierdol*', 'cuntface', 'asswipe', 'kondum', 'kuntz', 'blowjobs', 'felch', 'shyt', 'ovum', 'stfu', 'jerk0ff', 'bastardz', 'spic', 'jackoff', 'fisty', 'chodes', 'bellend', 'orgasim', 's-o-b', 'muffdiver', 'fagged', 'diddle', 'slut bucket', 'wench', 'kikes', 'moron', 'doofus', 'dinks', 'guiena', 'ar5e', 'mothafuckin', 'hotsex', 'womb', 'cocain', 'c.0.c.k', 'birdlock', 'stoned', 'nazi', 'ficken', 'beastiality', 'pussy fart', 'sodom', 'jerked', 'tubgirl', 'opium', 'fu(*', 'mthrfucking', 'fuck-ass', 'phukking', 'lipshitz', 'hootch', 'bung', 'fucknugget', 'fingerfuckers', 'shitting', 'douchebags', 'reetard', 'testes', 'dipship', 'bitch tit', 'jisim', 'poop', 'fucktard', 'tittywank', 'fanculo', 'busty', 'faggs', 'valium', 'fucks', 'fuk', 'murder', 's-h-1-t', 'crack', 'hussy', 'orafis', 'mothafuckings', 'kooches', 'vixen', 'dimwit', 'extasy', 'herpes', 'hoorem whore', 'tard', 'wang', 'foobar', 'xrated', 'c.o.c.k.', 'sharmute', 'h0m0', 'ass-hole', 'cum', 'cervix', 'azz', 'ham flap', 'pillowbiter', 'nappy', 'orifiss', 's.h.i.t.', 'knobead', 'assbangs', 'hooter', 'lipshits', 'fucktoy', 'faigs', 'ayir', 'bunny fucker', 'scantily', 'cokmuncher', 'menstruate', 'bullturds', 'enlargement', 'herp', 'scum', 'semen', 'gonad', 'dyke', 'knob', 'woody', 'm-fucking', 'cumdump', 'ninny', 'bukkake', 'rtard', 'dingle', 'uterus', 'pissed', 'teets', 'jizzed', 'arse', 'lezbians', 'assmunch', 'rapist', 'fag1t', 'h0r', 'bitchy', 'napalm', 'fagging', 'glans', 'fuckin', 'testicle', 'rum', 'mother fukker', 'preteen', 'cunt', 'bullshitted', 'fooker', 'lezzie', 'vittu', 'strip', 'cawks', 'shithouse', 'bloody', 'queaf', 't1t', 'shitfull', 'cunilingus', 'anilingus', 'ovums', 'skank', 'bitchin', 'fagot', 'scrog', 'mothafuckas', 'dziwka', 'asholes', 'whoar', 'wank*', 'mutha fukah', 'h0ar', 'cummer', 'clusterfuck', 'cunt-struck', 'cummin', 'bootie', 'dicksipper', 'whore', 'homoey', 'whoring', 'douche', 'poontang', 'blow me', 'kums', 'ruski', 'fukk', 'need the dick', 'schlampe', 'd!ck', 'cok', 'piss', 'dild0s', 'faggot', 'blow mud', 'fuckers', 'shit fucker', 'f_u_c_k', 's hit', 'lesbians', 'jizm', 'enculer', 'fagg', 'fuck puppet', 'dick-ish', 'mofo', 'hardcoresex', 'maxi', 'shitter', 'ejackulate', 'shyte', 'screwed', 'twatty', 'gangbanged', 'meth', 'dirty sanchez', 'wh0reface', 'cawk', 'cockblock', 'fistfucks', 'cyberfuc', 'teat', 'he11', 'ovary', 'zabourah', 'humped', 'boozer', 'stroke', 'len', 'andskota', 'pedophilia', 'qweerz', 'wedgie', 'smutty', 'crappy', 'sh1tter', 'commie', 'phuks', 'leper', 'autoerotic', 'tit wank', 'cockmunch', 'reich', 'b1tch', 'bong', 'motha fuker', 'fotze', 'titt*', 'masterbation', 'yed', 'coons', 'fuc', 'slutdumper', 'pubis', 'fanny', 'hooch', 'vulgar', 'a_s_s', 'babes', 'sexual', 'packie', 'fags', 'masterbat3', 'floozy', 'virgin', 'gae', 'whorealicious', 'scheiss*', 'drunk', 'mutha fuker', 'assrammer', 'klan', 'queero', 'fistfuckers', 'bod', 'cocksmoker', 'fudgepacker', 'mams', 'kock', 'ganja', 'mutherfucker', 'faget', 'clitty litter', 'sadist', 'voyeur', 'bitcher', 'doggiestyle', 'nigger', 'cyberfuck', 'pussi', 'niglet', 'nigg4h', 'fcuker', 'perversion', 'porn', 'rimming', 'areola', 'c0cksucker', 'bosomy', 'unwed', 'ass hole', 'wazoo', 'jiz', 'cock pocket', 'goddam', 'gspot', 'fuker', 'shitted', 'whoralicious', 'bitches', 'asshat', 'sh!t', 'masturbat*', 'knobjocky', 'biatch', 'buttplug', 'fukin', 'prude', 'lezbian', 'slutty', 'f4nny', 'bi+ch', 'dickweed', 'gayboy', \"bang (one's) box\", 'horniest', 'enema', 'booze', 'cumslut', 'bawdy', 'mothafuckaz', '*dyke', 'c0k', 'slope', 'bowel', 'mof0', 'cnts', 'titfuck', 'chode', 'd1ck', 'pissoff', 'booobs', 'carpet muncher', 'cornhole', 'fuck-tard', 'cocksucker', 'picka', 'cunnilingus', 'h0re', 'cunt*', 'hiv', 'jizm', 'motherfucka', 'oriface', 'omg', 'dickish', 'sh1ter', 'whorehopper', 'jerk-off', 'fu', 'h00r', 'kuk', 'dammit', 'hobag', 'zoophile', 'mother fuker', 'daygo', 'phalli', 'orgy', 'polak', 'masterbaiter', 'transsexual', 'uzi', 'flikker', 'mothafuck', 'fecker', 'assface', 'barf', 'jiss', 'sharmuta', 'humping', 'booty', 'bassterds', 'panties', 'jerkoff', 'retarded', 'boozy', 'slutkiss', 'fuckhead', 'fagz', 'cuntlick', 'slutz', 'stupid', 'wanky', 'cox', 'motherfucks', 'assmaster', 'bitch*', 'sex', 'cockholster', 'pedo', 'ghay', 'fuck yo mama', 'shagging', 'suck', 'vajina', 'dick', 'scrotum', 'phuker', 'shithole', 'booby', 'dike', 'god', 'nob jokey', 'trashy', 'lez', 'anal', 'motherfuckings', 'aeolus', 'dickhead', 'mouliewop', 'areole', '*fuck*', 'douchey', 'teste', 'cum dumpster', 'piss*', 'polack', 'masstrbate', 'niggers', 'dupa', 'phuc', 'doggin', 'thrust', 'knobend', 'cumshots', 'rectum', 'fuckface', 'assmucus', 'bum', 'tittiefucker', 'doggie style', 'whitey', 'sausage queen', 'a$$', 'beater', 'dummy', 'sandbar', 'puss', 'dagos', 'assholes', 'fagots', 'bastards', 'choade', 'guido', 'pissflaps', 'testical', 'goddamn', 'hoorm whore', 'douch3', 'dink', 'cut rope', 'dickzipper', 'moolie', 'queer', 'skanck', 'bollok', 'paky', 'labia', 'twunter', 'teez', 'pms', 'orgasms', 'breast', 'niiger', 'seaman', 'whorehouse', 'fartknocker', 'buttmuch', 'mtherfucker', 'butt-pirate', 'tit', 'ass', 'merd*', 'negro', 'peinus', 'horny', 'peeenusss', 'phonesex', 'ekto', 'vagina', 'blow job', 'd4mn', 'azzhole', 'f u c k e r', 'c0ck', 'motha fukkah', 'boobies', 'pee', 'cock', 'tittyfuck', 'muther', 'fuckwit', 'muthafecker', 'm0fo', 'wetback', 'doggie-style', 'nobhead', 'kurac', 'incest', 'assho1e', 'g00k', 'shits', 'ma5terb8', 'bugger', 'dopey', 'knobs', 'blow', 'pizda', 'weenie', 'babe', 'w t f', 'shite', 'x-rated', 'lube', 'cunts', 'toke', 'mutha fukkah', 'masochist', 'god-damned', 'motha fukker', 'niggle', 'hoer*', 'facial', 'willy', 'idi0t', 'shit', 'dild0', 'hemp', 'boffing', 'feck', '@ss', 'urinal', 'paska*', 'god damn', 'cock snot', 'aryan', 'feltch', 'mother-fucker', 'penile', 'shiz', 'fuckings', 'qahbeh', 'cockmuncher', 'god-dam', 'honky', 'orospu', 'feltcher', 'niigr', 'dlck', 'shiteater', 'fart', 'pule', 'big tits', 'masturbating', 'hoor', 'huevon', 'massterbait', 'fingerfucks', 'lezzian', 'dick hole', 'vag', 'injun', 'spierdalaj', 'orgasum', 'fuck-bitch', 'poontsee', 'ash0les', 'peenus', 'fuckwad', 'm45terbate', 'knobhead', 'b!+ch', 'dillweed', 'nut butter', 'masturbation', 'jizz', 'd1ldo', 'asshole', 'tittyfucker', 'kinky jesus', 'fingerfucker', 'yobbo', 'caca', 'handjob', 'extacy', 'lech', 'shitters', 'pussies', 'twat', 'pinko', 'pissoff', 'cocksukka', 'sh#t', 'kwif', 'fukwhit', 'motherfuckers', 'kanker*', 'fingerfucking', 'tampon', 'cum freak', 'whoreface', 'skag', 'f-u-c-k', 'shitey', 'gaygirl', 'masstrbait', 'hoar', 'penisfucker', 'fu ck', 'cum chugger', 'erection', 'ejaculates', 'cuntlicker', 'rautenberg', 'skankey', 'kummer', 'weirdo', 'p0rn', '*damn', 'fagit', 'nooky', 'bigtits', 'nimrod', 'lezzy', 'assh0le', 'booooooobs', 'jackhole', 'homoerotic', 'bra', 'nazis', 'phuck', 'bareback', 'doggy-style', 'rimjaw', 'kurwa', 'w0p', 'kootch', 'mutherfucking', 'fuckmeat', 'numbnuts', 'fukwit', 'jerk-off', 'boners', 'beer', 'raped', 'shipal', 'kondums', '*shit*', 'mafugly', 'cock-head', 'cyberfucked', 'assfucker', 'fxck', 'wop', 'nob', 'wank', 's0b', 'shagger', 'essohbee', 'anal impaler', 'boned', 'terd', 'urine', 'faig', 's.o.b', 'cyberfucking', 'titties', 'c.u.n.t', 'masokist', 'sh1ts', 'fudge packer', 'prostitute', 'nobjocky', 'nastt', 'niggah', 'skribz', 'dilld0s', 'fingerfuck', 'fat', 'shitfuck', 'analprobe', 'gey', 'motherfucked', '4r5e', 'porno', 'gringo', 'gaysex', 'mutha fukker', 'retard', 'rimjob', 'ejaculating', 'fux0r', 'knobz', 'h4x0r', 'lusting', 'tittie5', 'reefer', 'poon', 'orally', 'donkeyribber', 't1tties', 'screw', 'cunny', 'c-o-c-k', 'dong', 'cumming', 'prick', 'viagra', 'shaggin', 'vagiina', 'pr1c', 'twathead', 'hell']\n"
     ]
    }
   ],
   "source": [
    "def load_bad_words(file_path):\n",
    "    with open(file_path, 'r') as file:\n",
    "        # Read lines and strip newline characters\n",
    "        bad_words = [line.strip().lower() for line in file.readlines()]\n",
    "    return bad_words\n",
    "\n",
    "#Reading the derogatory words into list\n",
    "badwords_file_path = os.path.join(os.getcwd(), '..', 'resource', 'compiled_bad_words.txt')\n",
    "badwordstxt = load_bad_words(badwords_file_path)\n",
    "print(badwordstxt)\n"
   ]
  },
  {
   "cell_type": "markdown",
   "metadata": {},
   "source": [
    "## Searching rows for bad words"
   ]
  },
  {
   "cell_type": "code",
   "execution_count": 35,
   "metadata": {},
   "outputs": [
    {
     "name": "stdout",
     "output_type": "stream",
     "text": [
      "         bad_words_found  bad_word_count\n",
      "3                 [shit]               1\n",
      "4                 [shit]               1\n",
      "5                 [shit]               1\n",
      "6               [vagina]               1\n",
      "7               [vagina]               1\n",
      "...                  ...             ...\n",
      "59995           [murder]               1\n",
      "59996           [murder]               1\n",
      "59997  [suck, dick, god]               3\n",
      "59998  [suck, dick, god]               3\n",
      "59999  [suck, dick, god]               3\n",
      "\n",
      "[27507 rows x 2 columns]\n"
     ]
    }
   ],
   "source": [
    "badword_pattern = r'\\b(' + '|'.join(map(re.escape, badwordstxt)) + r')\\b'\n",
    "\n",
    "# Use `str.findall()` to find all occurrences of bad words in each row, then count them\n",
    "df_app = df_nlp.copy()\n",
    "df_app['bad_words_found'] = df_app['text'].str.findall(badword_pattern, flags=re.IGNORECASE)\n",
    "\n",
    "df_app['bad_word_count'] = df_app['bad_words_found'].str.len()\n",
    "\n",
    "bad_word_rows = df_app[df_app['bad_word_count'] > 0]\n",
    "\n",
    "print(bad_word_rows[['bad_words_found', 'bad_word_count']])"
   ]
  },
  {
   "cell_type": "code",
   "execution_count": 50,
   "metadata": {},
   "outputs": [],
   "source": [
    "savepath = os.path.join(os.getcwd(), '..', 'resource', 'badwordrows.csv')\n",
    "bad_word_rows.to_csv(savepath)"
   ]
  }
 ],
 "metadata": {
  "kernelspec": {
   "display_name": "nlpvenv",
   "language": "python",
   "name": "python3"
  },
  "language_info": {
   "codemirror_mode": {
    "name": "ipython",
    "version": 3
   },
   "file_extension": ".py",
   "mimetype": "text/x-python",
   "name": "python",
   "nbconvert_exporter": "python",
   "pygments_lexer": "ipython3",
   "version": "3.13.0"
  }
 },
 "nbformat": 4,
 "nbformat_minor": 2
}
