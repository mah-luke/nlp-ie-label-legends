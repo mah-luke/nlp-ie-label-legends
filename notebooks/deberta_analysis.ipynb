{
 "cells": [
  {
   "cell_type": "code",
   "execution_count": 1,
   "id": "8042c376",
   "metadata": {
    "lines_to_next_cell": 0
   },
   "outputs": [
    {
     "data": {
      "text/plain": [
       "/home/lukas/Programming/uni/nlp-ie-label-legends/.venv/lib/python3.12/site-packages/tqdm/auto.py:21: TqdmWarning: IProgress not found. Please update jupyter and ipywidgets. See https://ipywidgets.readthedocs.io/en/stable/user_install.html\n",
       "  from .autonotebook import tqdm as notebook_tqdm\n"
      ]
     },
     "metadata": {},
     "output_type": "display_data"
    }
   ],
   "source": [
    "import polars\n",
    "from polars.functions import col\n",
    "from label_legends.preprocess import load_test\n",
    "from label_legends.result import load_predictions\n",
    "from label_legends.util import RESOURCE"
   ]
  },
  {
   "cell_type": "code",
   "execution_count": 2,
   "id": "a6c8ca8f",
   "metadata": {},
   "outputs": [
    {
     "data": {
      "text/html": [
       "<div><style>\n",
       ".dataframe > thead > tr,\n",
       ".dataframe > tbody > tr {\n",
       "  text-align: right;\n",
       "  white-space: pre-wrap;\n",
       "}\n",
       "</style>\n",
       "<small>shape: (5, 2)</small><table border=\"1\" class=\"dataframe\"><thead><tr><th>id</th><th>prediction</th></tr><tr><td>i64</td><td>i64</td></tr></thead><tbody><tr><td>100</td><td>1</td></tr><tr><td>10005</td><td>0</td></tr><tr><td>10006</td><td>0</td></tr><tr><td>10007</td><td>0</td></tr><tr><td>10008</td><td>0</td></tr></tbody></table></div>"
      ],
      "text/plain": [
       "shape: (5, 2)\n",
       "┌───────┬────────────┐\n",
       "│ id    ┆ prediction │\n",
       "│ ---   ┆ ---        │\n",
       "│ i64   ┆ i64        │\n",
       "╞═══════╪════════════╡\n",
       "│ 100   ┆ 1          │\n",
       "│ 10005 ┆ 0          │\n",
       "│ 10006 ┆ 0          │\n",
       "│ 10007 ┆ 0          │\n",
       "│ 10008 ┆ 0          │\n",
       "└───────┴────────────┘"
      ]
     },
     "metadata": {},
     "output_type": "display_data"
    }
   ],
   "source": [
    "base_model = load_predictions(\"DeBERTa\")\n",
    "base_model.head()"
   ]
  },
  {
   "cell_type": "code",
   "execution_count": 3,
   "id": "f86e3e5f",
   "metadata": {
    "lines_to_next_cell": 2
   },
   "outputs": [
    {
     "data": {
      "text/html": [
       "<div><style>\n",
       ".dataframe > thead > tr,\n",
       ".dataframe > tbody > tr {\n",
       "  text-align: right;\n",
       "  white-space: pre-wrap;\n",
       "}\n",
       "</style>\n",
       "<small>shape: (100, 9)</small><table border=\"1\" class=\"dataframe\"><thead><tr><th>id</th><th>rewire_id</th><th>text</th><th>annotator</th><th>label_sexist</th><th>label_category</th><th>label_vector</th><th>split</th><th>tokens</th></tr><tr><td>i64</td><td>str</td><td>str</td><td>i64</td><td>str</td><td>str</td><td>str</td><td>str</td><td>list[str]</td></tr></thead><tbody><tr><td>100</td><td>&quot;sexism2022_english-10026&quot;</td><td>&quot;It is not insulting, it&#x27;s **ex…</td><td>14</td><td>&quot;sexist&quot;</td><td>&quot;2. derogation&quot;</td><td>&quot;2.1 descriptive attacks&quot;</td><td>&quot;test&quot;</td><td>[&quot;it&quot;, &quot;be&quot;, … &quot;.**&quot;]</td></tr><tr><td>10005</td><td>&quot;sexism2022_english-13&quot;</td><td>&quot;and if you buy into the Christ…</td><td>6</td><td>&quot;not sexist&quot;</td><td>&quot;none&quot;</td><td>&quot;none&quot;</td><td>&quot;test&quot;</td><td>[&quot;and&quot;, &quot;if&quot;, … &quot;..&quot;]</td></tr><tr><td>10006</td><td>&quot;sexism2022_english-13&quot;</td><td>&quot;and if you buy into the Christ…</td><td>4</td><td>&quot;not sexist&quot;</td><td>&quot;none&quot;</td><td>&quot;none&quot;</td><td>&quot;test&quot;</td><td>[&quot;and&quot;, &quot;if&quot;, … &quot;..&quot;]</td></tr><tr><td>10007</td><td>&quot;sexism2022_english-13&quot;</td><td>&quot;and if you buy into the Christ…</td><td>8</td><td>&quot;not sexist&quot;</td><td>&quot;none&quot;</td><td>&quot;none&quot;</td><td>&quot;test&quot;</td><td>[&quot;and&quot;, &quot;if&quot;, … &quot;..&quot;]</td></tr><tr><td>10008</td><td>&quot;sexism2022_english-130&quot;</td><td>&quot;Given the sub this is posted i…</td><td>10</td><td>&quot;not sexist&quot;</td><td>&quot;none&quot;</td><td>&quot;none&quot;</td><td>&quot;test&quot;</td><td>[&quot;give&quot;, &quot;the&quot;, … &quot;shit&quot;]</td></tr><tr><td>&hellip;</td><td>&hellip;</td><td>&hellip;</td><td>&hellip;</td><td>&hellip;</td><td>&hellip;</td><td>&hellip;</td><td>&hellip;</td><td>&hellip;</td></tr><tr><td>10410</td><td>&quot;sexism2022_english-1312&quot;</td><td>&quot;Yup. The PS Vita is filled wit…</td><td>8</td><td>&quot;not sexist&quot;</td><td>&quot;none&quot;</td><td>&quot;none&quot;</td><td>&quot;test&quot;</td><td>[&quot;yup&quot;, &quot;.&quot;, … &quot;.&quot;]</td></tr><tr><td>10411</td><td>&quot;sexism2022_english-1312&quot;</td><td>&quot;Yup. The PS Vita is filled wit…</td><td>9</td><td>&quot;not sexist&quot;</td><td>&quot;none&quot;</td><td>&quot;none&quot;</td><td>&quot;test&quot;</td><td>[&quot;yup&quot;, &quot;.&quot;, … &quot;.&quot;]</td></tr><tr><td>10412</td><td>&quot;sexism2022_english-1312&quot;</td><td>&quot;Yup. The PS Vita is filled wit…</td><td>6</td><td>&quot;not sexist&quot;</td><td>&quot;none&quot;</td><td>&quot;none&quot;</td><td>&quot;test&quot;</td><td>[&quot;yup&quot;, &quot;.&quot;, … &quot;.&quot;]</td></tr><tr><td>10425</td><td>&quot;sexism2022_english-13124&quot;</td><td>&quot;Did you see how black Viola Da…</td><td>5</td><td>&quot;not sexist&quot;</td><td>&quot;none&quot;</td><td>&quot;none&quot;</td><td>&quot;test&quot;</td><td>[&quot;do&quot;, &quot;you&quot;, … &quot;dress&quot;]</td></tr><tr><td>10426</td><td>&quot;sexism2022_english-13124&quot;</td><td>&quot;Did you see how black Viola Da…</td><td>8</td><td>&quot;not sexist&quot;</td><td>&quot;none&quot;</td><td>&quot;none&quot;</td><td>&quot;test&quot;</td><td>[&quot;do&quot;, &quot;you&quot;, … &quot;dress&quot;]</td></tr></tbody></table></div>"
      ],
      "text/plain": [
       "shape: (100, 9)\n",
       "┌───────┬─────────────┬─────────────┬───────────┬───┬────────────┬────────────┬───────┬────────────┐\n",
       "│ id    ┆ rewire_id   ┆ text        ┆ annotator ┆ … ┆ label_cate ┆ label_vect ┆ split ┆ tokens     │\n",
       "│ ---   ┆ ---         ┆ ---         ┆ ---       ┆   ┆ gory       ┆ or         ┆ ---   ┆ ---        │\n",
       "│ i64   ┆ str         ┆ str         ┆ i64       ┆   ┆ ---        ┆ ---        ┆ str   ┆ list[str]  │\n",
       "│       ┆             ┆             ┆           ┆   ┆ str        ┆ str        ┆       ┆            │\n",
       "╞═══════╪═════════════╪═════════════╪═══════════╪═══╪════════════╪════════════╪═══════╪════════════╡\n",
       "│ 100   ┆ sexism2022_ ┆ It is not   ┆ 14        ┆ … ┆ 2.         ┆ 2.1 descri ┆ test  ┆ [\"it\",     │\n",
       "│       ┆ english-100 ┆ insulting,  ┆           ┆   ┆ derogation ┆ ptive      ┆       ┆ \"be\", …    │\n",
       "│       ┆ 26          ┆ it's **ex…  ┆           ┆   ┆            ┆ attacks    ┆       ┆ \".**\"]     │\n",
       "│ 10005 ┆ sexism2022_ ┆ and if you  ┆ 6         ┆ … ┆ none       ┆ none       ┆ test  ┆ [\"and\",    │\n",
       "│       ┆ english-13  ┆ buy into    ┆           ┆   ┆            ┆            ┆       ┆ \"if\", …    │\n",
       "│       ┆             ┆ the Christ… ┆           ┆   ┆            ┆            ┆       ┆ \"..\"]      │\n",
       "│ 10006 ┆ sexism2022_ ┆ and if you  ┆ 4         ┆ … ┆ none       ┆ none       ┆ test  ┆ [\"and\",    │\n",
       "│       ┆ english-13  ┆ buy into    ┆           ┆   ┆            ┆            ┆       ┆ \"if\", …    │\n",
       "│       ┆             ┆ the Christ… ┆           ┆   ┆            ┆            ┆       ┆ \"..\"]      │\n",
       "│ 10007 ┆ sexism2022_ ┆ and if you  ┆ 8         ┆ … ┆ none       ┆ none       ┆ test  ┆ [\"and\",    │\n",
       "│       ┆ english-13  ┆ buy into    ┆           ┆   ┆            ┆            ┆       ┆ \"if\", …    │\n",
       "│       ┆             ┆ the Christ… ┆           ┆   ┆            ┆            ┆       ┆ \"..\"]      │\n",
       "│ 10008 ┆ sexism2022_ ┆ Given the   ┆ 10        ┆ … ┆ none       ┆ none       ┆ test  ┆ [\"give\",   │\n",
       "│       ┆ english-130 ┆ sub this is ┆           ┆   ┆            ┆            ┆       ┆ \"the\", …   │\n",
       "│       ┆             ┆ posted i…   ┆           ┆   ┆            ┆            ┆       ┆ \"shit\"]    │\n",
       "│ …     ┆ …           ┆ …           ┆ …         ┆ … ┆ …          ┆ …          ┆ …     ┆ …          │\n",
       "│ 10410 ┆ sexism2022_ ┆ Yup. The PS ┆ 8         ┆ … ┆ none       ┆ none       ┆ test  ┆ [\"yup\",    │\n",
       "│       ┆ english-131 ┆ Vita is     ┆           ┆   ┆            ┆            ┆       ┆ \".\", …     │\n",
       "│       ┆ 2           ┆ filled wit… ┆           ┆   ┆            ┆            ┆       ┆ \".\"]       │\n",
       "│ 10411 ┆ sexism2022_ ┆ Yup. The PS ┆ 9         ┆ … ┆ none       ┆ none       ┆ test  ┆ [\"yup\",    │\n",
       "│       ┆ english-131 ┆ Vita is     ┆           ┆   ┆            ┆            ┆       ┆ \".\", …     │\n",
       "│       ┆ 2           ┆ filled wit… ┆           ┆   ┆            ┆            ┆       ┆ \".\"]       │\n",
       "│ 10412 ┆ sexism2022_ ┆ Yup. The PS ┆ 6         ┆ … ┆ none       ┆ none       ┆ test  ┆ [\"yup\",    │\n",
       "│       ┆ english-131 ┆ Vita is     ┆           ┆   ┆            ┆            ┆       ┆ \".\", …     │\n",
       "│       ┆ 2           ┆ filled wit… ┆           ┆   ┆            ┆            ┆       ┆ \".\"]       │\n",
       "│ 10425 ┆ sexism2022_ ┆ Did you see ┆ 5         ┆ … ┆ none       ┆ none       ┆ test  ┆ [\"do\",     │\n",
       "│       ┆ english-131 ┆ how black   ┆           ┆   ┆            ┆            ┆       ┆ \"you\", …   │\n",
       "│       ┆ 24          ┆ Viola Da…   ┆           ┆   ┆            ┆            ┆       ┆ \"dress\"]   │\n",
       "│ 10426 ┆ sexism2022_ ┆ Did you see ┆ 8         ┆ … ┆ none       ┆ none       ┆ test  ┆ [\"do\",     │\n",
       "│       ┆ english-131 ┆ how black   ┆           ┆   ┆            ┆            ┆       ┆ \"you\", …   │\n",
       "│       ┆ 24          ┆ Viola Da…   ┆           ┆   ┆            ┆            ┆       ┆ \"dress\"]   │\n",
       "└───────┴─────────────┴─────────────┴───────────┴───┴────────────┴────────────┴───────┴────────────┘"
      ]
     },
     "metadata": {},
     "output_type": "display_data"
    }
   ],
   "source": [
    "test = load_test().collect()\n",
    "test.head(100)"
   ]
  },
  {
   "cell_type": "code",
   "execution_count": 13,
   "id": "84b74a6e",
   "metadata": {},
   "outputs": [
    {
     "data": {
      "text/plain": [
       "{'tokens': shape: (1_015,)\n",
       " Series: 'tokens' [list[str]]\n",
       " [\n",
       " \t[\"i\", \"be\", … \"that\"]\n",
       " \t[\"that\", \"poor\", … \".\"]\n",
       " \t[\"that\", \"create\", … \".\"]\n",
       " \t[\"if\", \"i\", … \".\"]\n",
       " \t[\"greek\", \"authority\", … \":\"]\n",
       " \t…\n",
       " \t[\"somebody\", \"be\", … \"!\"]\n",
       " \t[\"somebody\", \"be\", … \"!\"]\n",
       " \t[\"you\", \"misogynist\", … \"/s\"]\n",
       " \t[\"shudder\", \"..\", … \".\"]\n",
       " \t[\"shudder\", \"..\", … \".\"]\n",
       " ],\n",
       " 'text': shape: (1_015,)\n",
       " Series: 'text' [str]\n",
       " [\n",
       " \t\"Im actually glad they made wom…\n",
       " \t\"That poor bastard. Really scra…\n",
       " \t\"Those create your owns (As in …\n",
       " \t\"If I recall correctly, the Ice…\n",
       " \t\"Greek authorities move 400 'as…\n",
       " \t…\n",
       " \t\"Somebody be guilt trippin' and…\n",
       " \t\"Somebody be guilt trippin' and…\n",
       " \t\"You misogynist cisgendered scu…\n",
       " \t\"Shudder.. if you had to have s…\n",
       " \t\"Shudder.. if you had to have s…\n",
       " ]}"
      ]
     },
     "metadata": {},
     "output_type": "display_data"
    }
   ],
   "source": [
    "def assign_type(prediction: int, label: str):\n",
    "    if prediction == 0:\n",
    "        if label == \"not sexist\":\n",
    "            return \"tn\"\n",
    "        return \"fn\"\n",
    "    if label == \"sexist\":\n",
    "        return \"tp\"\n",
    "    return \"fp\"\n",
    "    \n",
    "joined = base_model.join(test, on=\"id\") \\\n",
    "    .with_columns(polars.struct([\"prediction\", \"label_sexist\"]) \\\n",
    "    .map_elements(lambda x: assign_type(x['prediction'],x['label_sexist']), return_dtype=polars.String).alias(\"type\")) \\\n",
    "    .select([\"id\", \"rewire_id\", \"prediction\", \"label_sexist\", \"type\", \"text\", \"tokens\"]) \\\n",
    "    .filter(col(\"type\") == \"fn\") \\\n",
    "    # .select([\"tokens\", \"text\"]).to_dicts()\n",
    "joined.head()"
   ]
  },
  {
   "cell_type": "code",
   "execution_count": 5,
   "id": "d44dc8f7",
   "metadata": {
    "lines_to_next_cell": 2
   },
   "outputs": [
    {
     "ename": "ComputeError",
     "evalue": "CSV format does not support nested data",
     "output_type": "error",
     "traceback": [
      "\u001b[0;31m---------------------------------------------------------------------------\u001b[0m",
      "\u001b[0;31mComputeError\u001b[0m                              Traceback (most recent call last)",
      "\u001b[0;32m/tmp/ipykernel_49967/1440489439.py\u001b[0m in \u001b[0;36m?\u001b[0;34m()\u001b[0m\n\u001b[1;32m      1\u001b[0m \u001b[0;34m(\u001b[0m\u001b[0mcsv_path\u001b[0m \u001b[0;34m:=\u001b[0m \u001b[0mRESOURCE\u001b[0m \u001b[0;34m/\u001b[0m \u001b[0;34m\"analysis\"\u001b[0m \u001b[0;34m/\u001b[0m \u001b[0;34m\"deberta_base_predictions.csv\"\u001b[0m\u001b[0;34m)\u001b[0m\u001b[0;34m.\u001b[0m\u001b[0mparent\u001b[0m\u001b[0;34m.\u001b[0m\u001b[0mmkdir\u001b[0m\u001b[0;34m(\u001b[0m\u001b[0mexist_ok\u001b[0m\u001b[0;34m=\u001b[0m\u001b[0;32mTrue\u001b[0m\u001b[0;34m,\u001b[0m \u001b[0mparents\u001b[0m\u001b[0;34m=\u001b[0m\u001b[0;32mTrue\u001b[0m\u001b[0;34m)\u001b[0m\u001b[0;34m\u001b[0m\u001b[0;34m\u001b[0m\u001b[0m\n\u001b[0;32m----> 2\u001b[0;31m \u001b[0mjoined\u001b[0m\u001b[0;34m.\u001b[0m\u001b[0mwrite_csv\u001b[0m\u001b[0;34m(\u001b[0m\u001b[0mcsv_path\u001b[0m\u001b[0;34m)\u001b[0m\u001b[0;34m\u001b[0m\u001b[0;34m\u001b[0m\u001b[0m\n\u001b[0m",
      "\u001b[0;32m~/Programming/uni/nlp-ie-label-legends/.venv/lib/python3.12/site-packages/polars/dataframe/frame.py\u001b[0m in \u001b[0;36m?\u001b[0;34m(self, file, include_bom, include_header, separator, line_terminator, quote_char, batch_size, datetime_format, date_format, time_format, float_scientific, float_precision, null_value, quote_style)\u001b[0m\n\u001b[1;32m   2909\u001b[0m             \u001b[0;32mreturn\u001b[0m \u001b[0;32mNone\u001b[0m\u001b[0;34m\u001b[0m\u001b[0;34m\u001b[0m\u001b[0m\n\u001b[1;32m   2910\u001b[0m         \u001b[0;32melif\u001b[0m \u001b[0misinstance\u001b[0m\u001b[0;34m(\u001b[0m\u001b[0mfile\u001b[0m\u001b[0;34m,\u001b[0m \u001b[0;34m(\u001b[0m\u001b[0mstr\u001b[0m\u001b[0;34m,\u001b[0m \u001b[0mos\u001b[0m\u001b[0;34m.\u001b[0m\u001b[0mPathLike\u001b[0m\u001b[0;34m)\u001b[0m\u001b[0;34m)\u001b[0m\u001b[0;34m:\u001b[0m\u001b[0;34m\u001b[0m\u001b[0;34m\u001b[0m\u001b[0m\n\u001b[1;32m   2911\u001b[0m             \u001b[0mfile\u001b[0m \u001b[0;34m=\u001b[0m \u001b[0mnormalize_filepath\u001b[0m\u001b[0;34m(\u001b[0m\u001b[0mfile\u001b[0m\u001b[0;34m)\u001b[0m\u001b[0;34m\u001b[0m\u001b[0;34m\u001b[0m\u001b[0m\n\u001b[1;32m   2912\u001b[0m \u001b[0;34m\u001b[0m\u001b[0m\n\u001b[0;32m-> 2913\u001b[0;31m         self._df.write_csv(\n\u001b[0m\u001b[1;32m   2914\u001b[0m             \u001b[0mfile\u001b[0m\u001b[0;34m,\u001b[0m\u001b[0;34m\u001b[0m\u001b[0;34m\u001b[0m\u001b[0m\n\u001b[1;32m   2915\u001b[0m             \u001b[0minclude_bom\u001b[0m\u001b[0;34m,\u001b[0m\u001b[0;34m\u001b[0m\u001b[0;34m\u001b[0m\u001b[0m\n\u001b[1;32m   2916\u001b[0m             \u001b[0minclude_header\u001b[0m\u001b[0;34m,\u001b[0m\u001b[0;34m\u001b[0m\u001b[0;34m\u001b[0m\u001b[0m\n",
      "\u001b[0;31mComputeError\u001b[0m: CSV format does not support nested data"
     ]
    }
   ],
   "source": [
    "(csv_path := RESOURCE / \"analysis\" / \"deberta_base_predictions.csv\").parent.mkdir(exist_ok=True, parents=True)\n",
    "joined.write_csv(csv_path)"
   ]
  },
  {
   "cell_type": "code",
   "execution_count": null,
   "id": "4b9fccd6",
   "metadata": {
    "lines_to_next_cell": 2
   },
   "outputs": [],
   "source": [
    "joined.group_by(\"type\").len()"
   ]
  },
  {
   "cell_type": "code",
   "execution_count": null,
   "id": "1c396b6e",
   "metadata": {
    "lines_to_next_cell": 0
   },
   "outputs": [],
   "source": [
    "joined.group_by(\"rewire_id\", \"label_sexist\").count().rename({\"count\": \"positive_labels\"}).filter(col(\"label_sexist\") == \"sexist\").group_by(\"positive_labels\").count()"
   ]
  },
  {
   "cell_type": "markdown",
   "id": "79b234ee",
   "metadata": {},
   "source": [
    "\n",
    "\n"
   ]
  },
  {
   "cell_type": "code",
   "execution_count": null,
   "id": "aba60568",
   "metadata": {
    "lines_to_next_cell": 2
   },
   "outputs": [],
   "source": [
    "joined.group_by(\"rewire_id\").agg(col(\"label_sexist\").filter(col(\"label_sexist\") == \"sexist\").len()).group_by(\"label_sexist\").len().sort(\"label_sexist\")"
   ]
  },
  {
   "cell_type": "code",
   "execution_count": null,
   "id": "5898889c",
   "metadata": {},
   "outputs": [],
   "source": [
    "polars.DataFrame()"
   ]
  }
 ],
 "metadata": {
  "kernelspec": {
   "display_name": "Python 3",
   "language": "python",
   "name": "python3"
  },
  "language_info": {
   "codemirror_mode": {
    "name": "ipython"
   },
   "file_extension": ".py",
   "mimetype": "text/x-python",
   "name": "python",
   "nbconvert_exporter": "python",
   "pygments_lexer": "ipython3"
  }
 },
 "nbformat": 4,
 "nbformat_minor": 5
}
