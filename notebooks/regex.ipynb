{
 "cells": [
  {
   "cell_type": "code",
   "execution_count": 32,
   "metadata": {},
   "outputs": [
    {
     "name": "stdout",
     "output_type": "stream",
     "text": [
      "The autoreload extension is already loaded. To reload it, use:\n",
      "  %reload_ext autoreload\n"
     ]
    }
   ],
   "source": [
    "%load_ext autoreload\n",
    "%autoreload 2"
   ]
  },
  {
   "cell_type": "code",
   "execution_count": 46,
   "metadata": {},
   "outputs": [],
   "source": [
    "#libraries\n",
    "from sklearn.metrics import classification_report, confusion_matrix, precision_recall_fscore_support\n",
    "import re\n",
    "import logging\n",
    "import time\n",
    "import polars as pl\n",
    "\n",
    "#setup\n",
    "logging.basicConfig(level=logging.INFO)\n",
    "\n",
    "#group library\n",
    "from label_legends.preprocess import holdout, transform, load_data\n",
    "from label_legends.util import CONLL_DIR, ROOT, RESOURCE\n",
    "from label_legends.preprocess import holdout, transform, load_data, load_test\n",
    "from label_legends.result import calculate_scores, download_predictions, get_experiment, load_predictions, client, get_current\n",
    "import json\n",
    "import mlflow\n",
    "from mlflow.models import infer_signature\n",
    "from mlflow.models.model import ModelInfo"
   ]
  },
  {
   "cell_type": "code",
   "execution_count": 34,
   "metadata": {},
   "outputs": [],
   "source": [
    "def evaluate_baseline(true_labels, predictions, baseline_name):\n",
    "    \n",
    "    logging.info(f\"Evaluating {baseline_name}...\")\n",
    "    \n",
    "    #precision, recall, F1(macro avg)\n",
    "    precision, recall, f1, _ = precision_recall_fscore_support(true_labels, predictions, average=\"binary\")\n",
    "    \n",
    "    #confusion matrix\n",
    "    cm = confusion_matrix(true_labels, predictions)\n",
    "    \n",
    "    # Print Evaluation Metrics\n",
    "    print(f\"\\n{baseline_name} Evaluation Metrics:\")\n",
    "    print(f\"Precision (Macro Avg): {precision:.4f}\")\n",
    "    print(f\"Recall (Macro Avg): {recall:.4f}\")\n",
    "    print(f\"F1 Score (Macro Avg): {f1:.4f}\")\n",
    "    print(\"\\nConfusion Matrix:\")\n",
    "    print(cm)"
   ]
  },
  {
   "cell_type": "code",
   "execution_count": 35,
   "metadata": {},
   "outputs": [
    {
     "name": "stderr",
     "output_type": "stream",
     "text": [
      "INFO:root:Loading data...\n",
      "INFO:root:Transforming data...\n",
      "INFO:root:Loading the test set...\n",
      "INFO:root:Converting labels to integers...\n"
     ]
    }
   ],
   "source": [
    "#loading the data\n",
    "logging.info(\"Loading data...\")\n",
    "load_data().collect()\n",
    "\n",
    "#transforming the data\n",
    "val, tra = holdout()\n",
    "logging.info(\"Transforming data...\")\n",
    "tra = transform(tra)\n",
    "val = transform(val)\n",
    "\n",
    "#loading the test set\n",
    "logging.info(\"Loading the test set...\")\n",
    "test = transform(load_test().collect())\n",
    "\n",
    "#converting 'label' column to integer\n",
    "logging.info(\"Converting labels to integers...\")\n",
    "tra = tra.with_columns(\n",
    "    pl.col(\"label\").cast(pl.Int32)\n",
    ")\n",
    "val = val.with_columns(\n",
    "    pl.col(\"label\").cast(pl.Int32)\n",
    ")"
   ]
  },
  {
   "cell_type": "code",
   "execution_count": 36,
   "metadata": {},
   "outputs": [
    {
     "data": {
      "text/html": [
       "<div><style>\n",
       ".dataframe > thead > tr,\n",
       ".dataframe > tbody > tr {\n",
       "  text-align: right;\n",
       "  white-space: pre-wrap;\n",
       "}\n",
       "</style>\n",
       "<small>shape: (29_400, 5)</small><table border=\"1\" class=\"dataframe\"><thead><tr><th>id</th><th>text</th><th>tokens</th><th>token_ids</th><th>label</th></tr><tr><td>i64</td><td>str</td><td>list[str]</td><td>list[i64]</td><td>i32</td></tr></thead><tbody><tr><td>26016</td><td>&quot;#VoteDemOut seditionist wanna …</td><td>[&quot;#&quot;, &quot;votedemout&quot;, … &quot;ven&quot;]</td><td>[7, 3000, … 3000]</td><td>0</td></tr><tr><td>41060</td><td>&quot;Cerno hops from wave to wave: …</td><td>[&quot;cerno&quot;, &quot;hop&quot;, … &quot;.&quot;]</td><td>[3000, 3000, … 26]</td><td>1</td></tr><tr><td>35766</td><td>&quot;think about it.. he´s called J…</td><td>[&quot;think&quot;, &quot;..&quot;, … &quot;elect&quot;]</td><td>[2688, 27, … 911]</td><td>0</td></tr><tr><td>23678</td><td>&quot;Hmm, you could rewrite this wi…</td><td>[&quot;hmm&quot;, &quot;,&quot;, … &quot;justsaying&quot;]</td><td>[1284, 22, … 3000]</td><td>0</td></tr><tr><td>52396</td><td>&quot;Every girl in a game, or on si…</td><td>[&quot;girl&quot;, &quot;game&quot;, … &quot;.&quot;]</td><td>[1164, 1135, … 26]</td><td>0</td></tr><tr><td>&hellip;</td><td>&hellip;</td><td>&hellip;</td><td>&hellip;</td><td>&hellip;</td></tr><tr><td>6785</td><td>&quot;I just think my dick couldn&#x27;t …</td><td>[&quot;just&quot;, &quot;think&quot;, … &quot;..😂😂😂&quot;]</td><td>[1482, 2688, … 3000]</td><td>0</td></tr><tr><td>31355</td><td>&quot;no he deadasss hit the nail on…</td><td>[&quot;deadass&quot;, &quot;hit&quot;, … &quot;.&quot;]</td><td>[3000, 1282, … 26]</td><td>0</td></tr><tr><td>49834</td><td>&quot;Aren&#x27;t these goblins always wh…</td><td>[&quot;goblins&quot;, &quot;whine&quot;, … &quot;hastagsarestillcool&quot;]</td><td>[3000, 2914, … 3000]</td><td>0</td></tr><tr><td>26158</td><td>&quot;1. Stop calling girls, women a…</td><td>[&quot;1.&quot;, &quot;stop&quot;, … &quot;.&quot;]</td><td>[39, 2567, … 26]</td><td>0</td></tr><tr><td>2905</td><td>&quot;Wives and nannies, but the fat…</td><td>[&quot;wife&quot;, &quot;nanny&quot;, … &quot;.&quot;]</td><td>[2920, 3000, … 26]</td><td>1</td></tr></tbody></table></div>"
      ],
      "text/plain": [
       "shape: (29_400, 5)\n",
       "┌───────┬─────────────────────────────┬─────────────────────────────┬──────────────────────┬───────┐\n",
       "│ id    ┆ text                        ┆ tokens                      ┆ token_ids            ┆ label │\n",
       "│ ---   ┆ ---                         ┆ ---                         ┆ ---                  ┆ ---   │\n",
       "│ i64   ┆ str                         ┆ list[str]                   ┆ list[i64]            ┆ i32   │\n",
       "╞═══════╪═════════════════════════════╪═════════════════════════════╪══════════════════════╪═══════╡\n",
       "│ 26016 ┆ #VoteDemOut seditionist     ┆ [\"#\", \"votedemout\", …       ┆ [7, 3000, … 3000]    ┆ 0     │\n",
       "│       ┆ wanna …                     ┆ \"ven\"]                      ┆                      ┆       │\n",
       "│ 41060 ┆ Cerno hops from wave to     ┆ [\"cerno\", \"hop\", … \".\"]     ┆ [3000, 3000, … 26]   ┆ 1     │\n",
       "│       ┆ wave: …                     ┆                             ┆                      ┆       │\n",
       "│ 35766 ┆ think about it.. he´s       ┆ [\"think\", \"..\", … \"elect\"]  ┆ [2688, 27, … 911]    ┆ 0     │\n",
       "│       ┆ called J…                   ┆                             ┆                      ┆       │\n",
       "│ 23678 ┆ Hmm, you could rewrite this ┆ [\"hmm\", \",\", …              ┆ [1284, 22, … 3000]   ┆ 0     │\n",
       "│       ┆ wi…                         ┆ \"justsaying\"]               ┆                      ┆       │\n",
       "│ 52396 ┆ Every girl in a game, or on ┆ [\"girl\", \"game\", … \".\"]     ┆ [1164, 1135, … 26]   ┆ 0     │\n",
       "│       ┆ si…                         ┆                             ┆                      ┆       │\n",
       "│ …     ┆ …                           ┆ …                           ┆ …                    ┆ …     │\n",
       "│ 6785  ┆ I just think my dick        ┆ [\"just\", \"think\", …         ┆ [1482, 2688, … 3000] ┆ 0     │\n",
       "│       ┆ couldn't …                  ┆ \"..😂😂😂\"]                 ┆                      ┆       │\n",
       "│ 31355 ┆ no he deadasss hit the nail ┆ [\"deadass\", \"hit\", … \".\"]   ┆ [3000, 1282, … 26]   ┆ 0     │\n",
       "│       ┆ on…                         ┆                             ┆                      ┆       │\n",
       "│ 49834 ┆ Aren't these goblins always ┆ [\"goblins\", \"whine\", …      ┆ [3000, 2914, … 3000] ┆ 0     │\n",
       "│       ┆ wh…                         ┆ \"hastag…                    ┆                      ┆       │\n",
       "│ 26158 ┆ 1. Stop calling girls,      ┆ [\"1.\", \"stop\", … \".\"]       ┆ [39, 2567, … 26]     ┆ 0     │\n",
       "│       ┆ women a…                    ┆                             ┆                      ┆       │\n",
       "│ 2905  ┆ Wives and nannies, but the  ┆ [\"wife\", \"nanny\", … \".\"]    ┆ [2920, 3000, … 26]   ┆ 1     │\n",
       "│       ┆ fat…                        ┆                             ┆                      ┆       │\n",
       "└───────┴─────────────────────────────┴─────────────────────────────┴──────────────────────┴───────┘"
      ]
     },
     "execution_count": 36,
     "metadata": {},
     "output_type": "execute_result"
    }
   ],
   "source": [
    "tra"
   ]
  },
  {
   "cell_type": "code",
   "execution_count": 37,
   "metadata": {},
   "outputs": [],
   "source": [
    "#putting the text and label columns into lists\n",
    "train_texts = tra['text'].to_list()\n",
    "train_labels = tra['label'].to_list()\n",
    "\n",
    "val_texts = val['text'].to_list()\n",
    "val_labels = val['label'].to_list()\n",
    "\n",
    "test_texts = test['text'].to_list()\n",
    "test_labels = test['label'].to_list()"
   ]
  },
  {
   "cell_type": "code",
   "execution_count": 38,
   "metadata": {},
   "outputs": [],
   "source": [
    "#starting the baseline\n",
    "start_train_time = time.time()\n",
    "\n",
    "def load_bad_words(file_path):\n",
    "    \"\"\"Load bad words from a .txt file, one word per line.\"\"\"\n",
    "    with open(file_path, 'r', encoding='utf-8') as file:\n",
    "        bad_words = [line.strip() for line in file.readlines()]\n",
    "    return bad_words"
   ]
  },
  {
   "cell_type": "code",
   "execution_count": 39,
   "metadata": {},
   "outputs": [],
   "source": [
    "#loading the bad words - this will implicate whether a comment is sexist or not\n",
    "bad_words = load_bad_words(RESOURCE / \"compiled_bad_words.txt\")\n",
    "bad_words\n",
    "\n",
    "#creating a regex pattern to match any bad word\n",
    "bad_words_pattern = r'\\b(' + '|'.join(re.escape(word) for word in bad_words) + r')\\b'\n",
    "\n",
    "#end of training\n",
    "train_time_regex = time.time() - start_train_time"
   ]
  },
  {
   "cell_type": "code",
   "execution_count": 40,
   "metadata": {},
   "outputs": [],
   "source": [
    "def classify_with_bad_words(text, pattern):\n",
    "    \"\"\"\n",
    "    returns 1 if the text contains bad words, else 0.\n",
    "    \"\"\"\n",
    "    return 1 if re.search(pattern, text, re.IGNORECASE) else 0"
   ]
  },
  {
   "cell_type": "code",
   "execution_count": 41,
   "metadata": {},
   "outputs": [],
   "source": [
    "#predicting the labels and timing the test time\n",
    "start_test_time = time.time()\n",
    "\n",
    "#predictions for the validation set\n",
    "test_pred_regex = [classify_with_bad_words(text, bad_words_pattern) for text in test_texts]\n",
    "\n",
    "test_time_regex = time.time() - start_test_time"
   ]
  },
  {
   "cell_type": "code",
   "execution_count": 42,
   "metadata": {},
   "outputs": [
    {
     "name": "stderr",
     "output_type": "stream",
     "text": [
      "INFO:root:Evaluating Regex Baseline...\n"
     ]
    },
    {
     "name": "stdout",
     "output_type": "stream",
     "text": [
      "\n",
      "Regex Baseline Evaluation Metrics:\n",
      "Precision (Macro Avg): 0.3414\n",
      "Recall (Macro Avg): 0.6087\n",
      "F1 Score (Macro Avg): 0.4375\n",
      "\n",
      "Confusion Matrix:\n",
      "[[5228 3657]\n",
      " [1219 1896]]\n",
      "Training Time: 3.7174 seconds\n",
      "Test Time: 6.8352 seconds\n"
     ]
    }
   ],
   "source": [
    "#evaluation\n",
    "evaluate_baseline(test_labels, test_pred_regex, \"Regex Baseline\")\n",
    "print(f\"Training Time: {train_time_regex:.4f} seconds\")\n",
    "print(f\"Test Time: {test_time_regex:.4f} seconds\")"
   ]
  },
  {
   "cell_type": "code",
   "execution_count": 43,
   "metadata": {},
   "outputs": [
    {
     "data": {
      "image/png": "[encoded data removed]",
      "text/plain": [
       "<Figure size 640x480 with 2 Axes>"
      ]
     },
     "metadata": {},
     "output_type": "display_data"
    }
   ],
   "source": [
    "from sklearn.metrics import confusion_matrix, ConfusionMatrixDisplay\n",
    "import matplotlib.pyplot as plt\n",
    "\n",
    "conf_matrix = confusion_matrix(test_labels, test_pred_regex)\n",
    "\n",
    "disp = ConfusionMatrixDisplay(confusion_matrix=conf_matrix)\n",
    "disp.plot(cmap=plt.cm.Blues)\n",
    "\n",
    "plt.title(\"Confusion Matrix\")\n",
    "plt.show()"
   ]
  },
  {
   "cell_type": "code",
   "execution_count": 44,
   "metadata": {},
   "outputs": [
    {
     "name": "stdout",
     "output_type": "stream",
     "text": [
      "precision:\t0.3414\n",
      "recall:\t\t0.6087\n",
      "fscore:\t\t0.4375\n",
      "accuracy:\t0.5937\n",
      "tn: 5228\t fp: 3657\n",
      "fn: 1219\t tp: 1896\n"
     ]
    }
   ],
   "source": [
    "scores_regex = calculate_scores(test_labels, test_pred_regex)\n",
    "print(scores_regex)"
   ]
  },
  {
   "cell_type": "code",
   "execution_count": 69,
   "metadata": {},
   "outputs": [
    {
     "name": "stderr",
     "output_type": "stream",
     "text": [
      "2024/12/12 19:51:50 WARNING mlflow.utils.validation: Param value '\\b(cockknocker|n1gger|f\\ ing|fukker|nympho|fcuking|gook|freex|arschloch|fistfucked|chinc|raunch|fell...' (11121 characters) is truncated to 6000 characters to meet the length limit.\n",
      "Registered model 'Regex' already exists. Creating a new version of this model...\n",
      "Created version '4' of model 'Regex'.\n"
     ]
    }
   ],
   "source": [
    "with mlflow.start_run(\n",
    "        experiment_id=get_experiment().experiment_id, \n",
    "        run_name=\"regex testing\"\n",
    "        ):\n",
    "    mlflow.log_params({\"regex_pattern\": bad_words_pattern})\n",
    "    mlflow.log_metrics(scores_regex.asdict())\n",
    "    mlflow.set_tag(\"model\", \"regex\")\n",
    "\n",
    "    mlflow.log_table({\"id\": test[\"id\"], \"prediction\": test_pred_regex}, \"predictions_regex.json\")\n",
    "\n",
    "    #log the model\n",
    "    prediction_data = {\n",
    "        \"columns\": [\"id\", \"prediction\"],\n",
    "        \"data\": [[id_, pred] for id_, pred in zip(test[\"id\"], test_pred_regex)]\n",
    "    }\n",
    "    # Save to a JSON file\n",
    "    predictions_file = r\"..\\\\resource\\\\mlflow\\\\Regex\\\\predictions.json\"\n",
    "    with open(predictions_file, \"w\") as f:\n",
    "        json.dump(prediction_data, f, indent=4)\n",
    "        \n",
    "    # Log the JSON file as an artifact\n",
    "    mlflow.log_artifact(predictions_file)\n",
    "        \n",
    "    # Simulate model registration\n",
    "    mlflow.set_tag(\"registered_model_name\", \"Regex\")\n",
    "    mlflow.set_tag(\"model_alias\", \"current\")\n",
    "\n",
    "    # Register the model\n",
    "    model_uri = f\"runs:/{mlflow.active_run().info.run_id}/regex_predictions.json\"\n",
    "    registered_model = mlflow.register_model(model_uri=model_uri, name=\"Regex\") \n",
    "\n",
    "\n",
    "client().set_registered_model_alias(\"Regex\", \"current\", registered_model.version)"
   ]
  },
  {
   "cell_type": "code",
   "execution_count": 70,
   "metadata": {},
   "outputs": [
    {
     "data": {
      "text/plain": [
       "<ModelVersion: aliases=['current'], creation_timestamp=1734029510961, current_stage='None', description=None, last_updated_timestamp=1734029510961, name='Regex', run_id='9cb213fb4602453fb917ab2bcb26d226', run_link=None, source='file:///c:/Users/noika/Documents/NLP%20project/label_legends/nlp-ie-label-legends/notebooks/mlruns/293497917933323667/9cb213fb4602453fb917ab2bcb26d226/artifacts/regex_predictions.json', status='READY', status_message=None, tags={}, user_id=None, version=4>"
      ]
     },
     "execution_count": 70,
     "metadata": {},
     "output_type": "execute_result"
    }
   ],
   "source": [
    "get_current(\"Regex\")"
   ]
  },
  {
   "cell_type": "code",
   "execution_count": 72,
   "metadata": {},
   "outputs": [
    {
     "data": {
      "text/html": [
       "<div><style>\n",
       ".dataframe > thead > tr,\n",
       ".dataframe > tbody > tr {\n",
       "  text-align: right;\n",
       "  white-space: pre-wrap;\n",
       "}\n",
       "</style>\n",
       "<small>shape: (5, 2)</small><table border=\"1\" class=\"dataframe\"><thead><tr><th>id</th><th>prediction</th></tr><tr><td>i64</td><td>i64</td></tr></thead><tbody><tr><td>100</td><td>0</td></tr><tr><td>10005</td><td>1</td></tr><tr><td>10006</td><td>1</td></tr><tr><td>10007</td><td>1</td></tr><tr><td>10008</td><td>1</td></tr></tbody></table></div>"
      ],
      "text/plain": [
       "shape: (5, 2)\n",
       "┌───────┬────────────┐\n",
       "│ id    ┆ prediction │\n",
       "│ ---   ┆ ---        │\n",
       "│ i64   ┆ i64        │\n",
       "╞═══════╪════════════╡\n",
       "│ 100   ┆ 0          │\n",
       "│ 10005 ┆ 1          │\n",
       "│ 10006 ┆ 1          │\n",
       "│ 10007 ┆ 1          │\n",
       "│ 10008 ┆ 1          │\n",
       "└───────┴────────────┘"
      ]
     },
     "execution_count": 72,
     "metadata": {},
     "output_type": "execute_result"
    }
   ],
   "source": [
    "load_predictions(\"Regex\").head()"
   ]
  }
 ],
 "metadata": {
  "kernelspec": {
   "display_name": ".venv",
   "language": "python",
   "name": "python3"
  },
  "language_info": {
   "codemirror_mode": {
    "name": "ipython",
    "version": 3
   },
   "file_extension": ".py",
   "mimetype": "text/x-python",
   "name": "python",
   "nbconvert_exporter": "python",
   "pygments_lexer": "ipython3",
   "version": "3.12.7"
  }
 },
 "nbformat": 4,
 "nbformat_minor": 2
}
