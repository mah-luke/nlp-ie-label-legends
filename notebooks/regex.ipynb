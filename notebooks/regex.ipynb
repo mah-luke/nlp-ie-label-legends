{
 "cells": [
  {
   "cell_type": "code",
   "execution_count": 1,
   "metadata": {},
   "outputs": [],
   "source": [
    "%load_ext autoreload\n",
    "%autoreload 2"
   ]
  },
  {
   "cell_type": "code",
   "execution_count": 3,
   "metadata": {},
   "outputs": [],
   "source": [
    "#libraries\n",
    "from sklearn.metrics import classification_report, confusion_matrix, precision_recall_fscore_support\n",
    "import re\n",
    "import logging\n",
    "import time\n",
    "import polars as pl\n",
    "\n",
    "#setup\n",
    "logging.basicConfig(level=logging.INFO)\n",
    "\n",
    "#group library\n",
    "from label_legends.preprocess import holdout, transform, load_data\n",
    "from label_legends.util import CONLL_DIR, ROOT, RESOURCE"
   ]
  },
  {
   "cell_type": "code",
   "execution_count": 4,
   "metadata": {},
   "outputs": [],
   "source": [
    "def evaluate_baseline(true_labels, predictions, baseline_name):\n",
    "    \n",
    "    logging.info(f\"Evaluating {baseline_name}...\")\n",
    "    \n",
    "    #precision, recall, F1(macro avg)\n",
    "    precision, recall, f1, _ = precision_recall_fscore_support(true_labels, predictions, average=\"macro\")\n",
    "    \n",
    "    #confusion matrix\n",
    "    cm = confusion_matrix(true_labels, predictions)\n",
    "    \n",
    "    # Print Evaluation Metrics\n",
    "    print(f\"\\n{baseline_name} Evaluation Metrics:\")\n",
    "    print(f\"Precision (Macro Avg): {precision:.4f}\")\n",
    "    print(f\"Recall (Macro Avg): {recall:.4f}\")\n",
    "    print(f\"F1 Score (Macro Avg): {f1:.4f}\")\n",
    "    print(\"\\nConfusion Matrix:\")\n",
    "    print(cm)"
   ]
  },
  {
   "cell_type": "code",
   "execution_count": 5,
   "metadata": {},
   "outputs": [
    {
     "name": "stderr",
     "output_type": "stream",
     "text": [
      "INFO:root:Loading data...\n",
      "INFO:root:Transforming data...\n",
      "c:\\Users\\noika\\Documents\\NLP project\\label_legends\\nlp-ie-label-legends\\.venv\\Lib\\site-packages\\sklearn\\feature_extraction\\text.py:521: UserWarning: The parameter 'token_pattern' will not be used since 'tokenizer' is not None'\n",
      "  warnings.warn(\n",
      "INFO:root:Converting labels to integers...\n"
     ]
    }
   ],
   "source": [
    "#loading the data\n",
    "logging.info(\"Loading data...\")\n",
    "load_data().collect()\n",
    "\n",
    "#transforming the data\n",
    "val, tra = holdout()\n",
    "logging.info(\"Transforming data...\")\n",
    "tra = transform(tra)\n",
    "val = transform(val)\n",
    "\n",
    "#converting 'label' column to integer\n",
    "logging.info(\"Converting labels to integers...\")\n",
    "tra = tra.with_columns(\n",
    "    pl.col(\"label\").cast(pl.Int32)\n",
    ")\n",
    "val = val.with_columns(\n",
    "    pl.col(\"label\").cast(pl.Int32)\n",
    ")"
   ]
  },
  {
   "cell_type": "code",
   "execution_count": 6,
   "metadata": {},
   "outputs": [
    {
     "data": {
      "text/html": [
       "<div><style>\n",
       ".dataframe > thead > tr,\n",
       ".dataframe > tbody > tr {\n",
       "  text-align: right;\n",
       "  white-space: pre-wrap;\n",
       "}\n",
       "</style>\n",
       "<small>shape: (29_400, 5)</small><table border=\"1\" class=\"dataframe\"><thead><tr><th>id</th><th>text</th><th>tokens</th><th>token_ids</th><th>label</th></tr><tr><td>i64</td><td>str</td><td>list[str]</td><td>list[i64]</td><td>i32</td></tr></thead><tbody><tr><td>26016</td><td>&quot;#VoteDemOut seditionist wanna …</td><td>[&quot;#&quot;, &quot;votedemout&quot;, … &quot;ven&quot;]</td><td>[7, 3000, … 3000]</td><td>0</td></tr><tr><td>41060</td><td>&quot;Cerno hops from wave to wave: …</td><td>[&quot;cerno&quot;, &quot;hop&quot;, … &quot;.&quot;]</td><td>[3000, 3000, … 26]</td><td>1</td></tr><tr><td>35766</td><td>&quot;think about it.. he´s called J…</td><td>[&quot;think&quot;, &quot;..&quot;, … &quot;elect&quot;]</td><td>[2688, 27, … 911]</td><td>0</td></tr><tr><td>23678</td><td>&quot;Hmm, you could rewrite this wi…</td><td>[&quot;hmm&quot;, &quot;,&quot;, … &quot;justsaying&quot;]</td><td>[1284, 22, … 3000]</td><td>0</td></tr><tr><td>52396</td><td>&quot;Every girl in a game, or on si…</td><td>[&quot;girl&quot;, &quot;game&quot;, … &quot;.&quot;]</td><td>[1164, 1135, … 26]</td><td>0</td></tr><tr><td>&hellip;</td><td>&hellip;</td><td>&hellip;</td><td>&hellip;</td><td>&hellip;</td></tr><tr><td>6785</td><td>&quot;I just think my dick couldn&#x27;t …</td><td>[&quot;just&quot;, &quot;think&quot;, … &quot;..😂😂😂&quot;]</td><td>[1482, 2688, … 3000]</td><td>0</td></tr><tr><td>31355</td><td>&quot;no he deadasss hit the nail on…</td><td>[&quot;deadass&quot;, &quot;hit&quot;, … &quot;.&quot;]</td><td>[3000, 1282, … 26]</td><td>0</td></tr><tr><td>49834</td><td>&quot;Aren&#x27;t these goblins always wh…</td><td>[&quot;goblins&quot;, &quot;whine&quot;, … &quot;hastagsarestillcool&quot;]</td><td>[3000, 2914, … 3000]</td><td>0</td></tr><tr><td>26158</td><td>&quot;1. Stop calling girls, women a…</td><td>[&quot;1.&quot;, &quot;stop&quot;, … &quot;.&quot;]</td><td>[39, 2567, … 26]</td><td>0</td></tr><tr><td>2905</td><td>&quot;Wives and nannies, but the fat…</td><td>[&quot;wife&quot;, &quot;nanny&quot;, … &quot;.&quot;]</td><td>[2920, 3000, … 26]</td><td>1</td></tr></tbody></table></div>"
      ],
      "text/plain": [
       "shape: (29_400, 5)\n",
       "┌───────┬─────────────────────────────┬─────────────────────────────┬──────────────────────┬───────┐\n",
       "│ id    ┆ text                        ┆ tokens                      ┆ token_ids            ┆ label │\n",
       "│ ---   ┆ ---                         ┆ ---                         ┆ ---                  ┆ ---   │\n",
       "│ i64   ┆ str                         ┆ list[str]                   ┆ list[i64]            ┆ i32   │\n",
       "╞═══════╪═════════════════════════════╪═════════════════════════════╪══════════════════════╪═══════╡\n",
       "│ 26016 ┆ #VoteDemOut seditionist     ┆ [\"#\", \"votedemout\", …       ┆ [7, 3000, … 3000]    ┆ 0     │\n",
       "│       ┆ wanna …                     ┆ \"ven\"]                      ┆                      ┆       │\n",
       "│ 41060 ┆ Cerno hops from wave to     ┆ [\"cerno\", \"hop\", … \".\"]     ┆ [3000, 3000, … 26]   ┆ 1     │\n",
       "│       ┆ wave: …                     ┆                             ┆                      ┆       │\n",
       "│ 35766 ┆ think about it.. he´s       ┆ [\"think\", \"..\", … \"elect\"]  ┆ [2688, 27, … 911]    ┆ 0     │\n",
       "│       ┆ called J…                   ┆                             ┆                      ┆       │\n",
       "│ 23678 ┆ Hmm, you could rewrite this ┆ [\"hmm\", \",\", …              ┆ [1284, 22, … 3000]   ┆ 0     │\n",
       "│       ┆ wi…                         ┆ \"justsaying\"]               ┆                      ┆       │\n",
       "│ 52396 ┆ Every girl in a game, or on ┆ [\"girl\", \"game\", … \".\"]     ┆ [1164, 1135, … 26]   ┆ 0     │\n",
       "│       ┆ si…                         ┆                             ┆                      ┆       │\n",
       "│ …     ┆ …                           ┆ …                           ┆ …                    ┆ …     │\n",
       "│ 6785  ┆ I just think my dick        ┆ [\"just\", \"think\", …         ┆ [1482, 2688, … 3000] ┆ 0     │\n",
       "│       ┆ couldn't …                  ┆ \"..😂😂😂\"]                 ┆                      ┆       │\n",
       "│ 31355 ┆ no he deadasss hit the nail ┆ [\"deadass\", \"hit\", … \".\"]   ┆ [3000, 1282, … 26]   ┆ 0     │\n",
       "│       ┆ on…                         ┆                             ┆                      ┆       │\n",
       "│ 49834 ┆ Aren't these goblins always ┆ [\"goblins\", \"whine\", …      ┆ [3000, 2914, … 3000] ┆ 0     │\n",
       "│       ┆ wh…                         ┆ \"hastag…                    ┆                      ┆       │\n",
       "│ 26158 ┆ 1. Stop calling girls,      ┆ [\"1.\", \"stop\", … \".\"]       ┆ [39, 2567, … 26]     ┆ 0     │\n",
       "│       ┆ women a…                    ┆                             ┆                      ┆       │\n",
       "│ 2905  ┆ Wives and nannies, but the  ┆ [\"wife\", \"nanny\", … \".\"]    ┆ [2920, 3000, … 26]   ┆ 1     │\n",
       "│       ┆ fat…                        ┆                             ┆                      ┆       │\n",
       "└───────┴─────────────────────────────┴─────────────────────────────┴──────────────────────┴───────┘"
      ]
     },
     "execution_count": 6,
     "metadata": {},
     "output_type": "execute_result"
    }
   ],
   "source": [
    "tra"
   ]
  },
  {
   "cell_type": "code",
   "execution_count": 12,
   "metadata": {},
   "outputs": [],
   "source": [
    "#putting the text and label columns into lists\n",
    "train_texts = tra['text'].to_list()\n",
    "train_labels = tra['label'].to_list()\n",
    "\n",
    "val_texts = val['text'].to_list()\n",
    "val_labels = val['label'].to_list()"
   ]
  },
  {
   "cell_type": "code",
   "execution_count": 13,
   "metadata": {},
   "outputs": [],
   "source": [
    "#starting the baseline\n",
    "start_train_time = time.time()\n",
    "\n",
    "def load_bad_words(file_path):\n",
    "    \"\"\"Load bad words from a .txt file, one word per line.\"\"\"\n",
    "    with open(file_path, 'r', encoding='utf-8') as file:\n",
    "        bad_words = [line.strip() for line in file.readlines()]\n",
    "    return bad_words"
   ]
  },
  {
   "cell_type": "code",
   "execution_count": 14,
   "metadata": {},
   "outputs": [],
   "source": [
    "#loading the bad words - this will implicate whether a comment is sexist or not\n",
    "bad_words = load_bad_words(RESOURCE / \"compiled_bad_words.txt\")\n",
    "bad_words\n",
    "\n",
    "#creating a regex pattern to match any bad word\n",
    "bad_words_pattern = r'\\b(' + '|'.join(re.escape(word) for word in bad_words) + r')\\b'\n",
    "\n",
    "#end of training\n",
    "train_time_regex = time.time() - start_train_time"
   ]
  },
  {
   "cell_type": "code",
   "execution_count": 15,
   "metadata": {},
   "outputs": [],
   "source": [
    "def classify_with_bad_words(text, pattern):\n",
    "    \"\"\"\n",
    "    returns 1 if the text contains bad words, else 0.\n",
    "    \"\"\"\n",
    "    return 1 if re.search(pattern, text, re.IGNORECASE) else 0"
   ]
  },
  {
   "cell_type": "code",
   "execution_count": 16,
   "metadata": {},
   "outputs": [],
   "source": [
    "#predicting the labels and timing the test time\n",
    "start_test_time = time.time()\n",
    "\n",
    "#predictions for the validation set\n",
    "val_pred_regex = [classify_with_bad_words(text, bad_words_pattern) for text in val_texts]\n",
    "\n",
    "test_time_regex = time.time() - start_test_time"
   ]
  },
  {
   "cell_type": "code",
   "execution_count": 17,
   "metadata": {},
   "outputs": [
    {
     "name": "stderr",
     "output_type": "stream",
     "text": [
      "INFO:root:Evaluating Regex Baseline...\n"
     ]
    },
    {
     "name": "stdout",
     "output_type": "stream",
     "text": [
      "\n",
      "Regex Baseline Evaluation Metrics:\n",
      "Precision (Macro Avg): 0.5782\n",
      "Recall (Macro Avg): 0.6022\n",
      "F1 Score (Macro Avg): 0.5606\n",
      "\n",
      "Confusion Matrix:\n",
      "[[5503 3873]\n",
      " [1233 1991]]\n",
      "Training Time: 3.4549 seconds\n",
      "Test Time: 6.8328 seconds\n"
     ]
    }
   ],
   "source": [
    "#evaluation\n",
    "evaluate_baseline(val_labels, val_pred_regex, \"Regex Baseline\")\n",
    "print(f\"Training Time: {train_time_regex:.4f} seconds\")\n",
    "print(f\"Test Time: {test_time_regex:.4f} seconds\")"
   ]
  }
 ],
 "metadata": {
  "kernelspec": {
   "display_name": ".venv",
   "language": "python",
   "name": "python3"
  },
  "language_info": {
   "codemirror_mode": {
    "name": "ipython",
    "version": 3
   },
   "file_extension": ".py",
   "mimetype": "text/x-python",
   "name": "python",
   "nbconvert_exporter": "python",
   "pygments_lexer": "ipython3",
   "version": "3.12.7"
  }
 },
 "nbformat": 4,
 "nbformat_minor": 2
}
