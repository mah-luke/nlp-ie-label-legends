{
 "cells": [
  {
   "cell_type": "code",
   "execution_count": 1,
   "metadata": {},
   "outputs": [],
   "source": [
    "%load_ext autoreload\n",
    "%autoreload 2"
   ]
  },
  {
   "cell_type": "code",
   "execution_count": 2,
   "metadata": {},
   "outputs": [
    {
     "data": {
      "text/plain": [
       "/home/lukas/Programming/uni/nlp-ie-label-legends/.venv/lib/python3.12/site-packages/tqdm/auto.py:21: TqdmWarning: IProgress not found. Please update jupyter and ipywidgets. See https://ipywidgets.readthedocs.io/en/stable/user_install.html\n",
       "  from .autonotebook import tqdm as notebook_tqdm\n"
      ]
     },
     "metadata": {},
     "output_type": "display_data"
    }
   ],
   "source": [
    "from label_legends.preprocess import load_test, transform, holdout\n",
    "from label_legends.result import calculate_scores, get_experiment, load_predictions, client, get_current\n",
    "from transformers import DistilBertTokenizer, DistilBertForSequenceClassification, AutoConfig, EvalPrediction, TrainingArguments, Trainer\n",
    "from sklearn.metrics import accuracy_score, precision_recall_fscore_support, confusion_matrix, ConfusionMatrixDisplay\n",
    "import matplotlib.pyplot as plt\n",
    "\n",
    "import json\n",
    "import torch\n",
    "import mlflow\n",
    "import polars as pl\n",
    "import logging\n",
    "import time\n",
    "import numpy as np\n",
    "\n",
    "from label_legends.util import RESOURCE\n",
    "\n",
    "logging.basicConfig(level=logging.INFO)"
   ]
  },
  {
   "cell_type": "code",
   "execution_count": 3,
   "metadata": {},
   "outputs": [
    {
     "data": {
      "text/plain": [
       "/home/lukas/Programming/uni/nlp-ie-label-legends/.venv/lib/python3.12/site-packages/sklearn/feature_extraction/text.py:521: UserWarning: The parameter 'token_pattern' will not be used since 'tokenizer' is not None'\n",
       "  warnings.warn(\n"
      ]
     },
     "metadata": {},
     "output_type": "display_data"
    }
   ],
   "source": [
    "test = transform(load_test().collect())\n",
    "val, tra = holdout()\n",
    "tra = transform(tra)\n",
    "val = transform(val)\n",
    "\n",
    "device = \"cuda\""
   ]
  },
  {
   "cell_type": "code",
   "execution_count": 4,
   "metadata": {},
   "outputs": [
    {
     "data": {
      "text/plain": [
       "Some weights of DistilBertForSequenceClassification were not initialized from the model checkpoint at distilbert-base-uncased and are newly initialized: ['classifier.bias', 'classifier.weight', 'pre_classifier.bias', 'pre_classifier.weight']\n",
       "You should probably TRAIN this model on a down-stream task to be able to use it for predictions and inference.\n"
      ]
     },
     "metadata": {},
     "output_type": "display_data"
    }
   ],
   "source": [
    "MODEL_NAME = 'distilbert-base-uncased'\n",
    "model = DistilBertForSequenceClassification.from_pretrained(MODEL_NAME, num_labels=2)\n",
    "config = AutoConfig.from_pretrained(MODEL_NAME)\n",
    "tokenizer =DistilBertTokenizer.from_pretrained(MODEL_NAME)"
   ]
  },
  {
   "cell_type": "code",
   "execution_count": 5,
   "metadata": {
    "lines_to_next_cell": 2
   },
   "outputs": [],
   "source": [
    "class SexistDataset(torch.utils.data.Dataset):\n",
    "    def __init__(self, encodings, labels):\n",
    "        self.encodings = encodings\n",
    "        self.labels = labels\n",
    "\n",
    "    def __getitem__(self, idx):\n",
    "        item = {key: torch.tensor(val[idx]).to(device=device) for key, val in self.encodings.items()}\n",
    "        item['labels'] = torch.tensor(self.labels[idx]).to(device=device)\n",
    "        return item\n",
    "\n",
    "    def __len__(self):\n",
    "        return len(self.labels)\n",
    "    \n",
    "\n",
    "train_texts = tra['text'].to_list()\n",
    "train_labels = tra['label'].to_list()\n",
    "\n",
    "val_texts = val['text'].to_list()\n",
    "val_labels = val['label'].to_list()\n",
    "\n",
    "test_texts = test['text'].to_list()\n",
    "test_labels = test['label'].to_list()\n",
    "\n",
    "train_encodings = tokenizer(train_texts, truncation=True, padding=True, return_tensors=\"pt\",)\n",
    "val_encodings = tokenizer(val_texts, truncation=True, padding=True, return_tensors=\"pt\",)\n",
    "test_encodings = tokenizer(test_texts, truncation=True, padding=True, return_tensors=\"pt\",)\n",
    "\n",
    "train_dataset = SexistDataset(train_encodings, train_labels)\n",
    "val_dataset = SexistDataset(val_encodings, val_labels)\n",
    "test_dataset = SexistDataset(test_encodings, test_labels)"
   ]
  },
  {
   "cell_type": "code",
   "execution_count": 6,
   "metadata": {},
   "outputs": [],
   "source": [
    "def compute_metrics(pred: EvalPrediction):\n",
    "    labels = pred.label_ids\n",
    "    preds = pred.predictions.argmax(-1)\n",
    "    scores = calculate_scores(labels, preds)\n",
    "    # precision, recall, f1, _ = precision_recall_fscore_support(labels, preds, average=\"binary\")\n",
    "    # acc = accuracy_score(labels, preds)\n",
    "    return scores.asdict()\n",
    "\n",
    "# Define the Training Arguments\n",
    "training_args = TrainingArguments(\n",
    "    output_dir='./results_distil',\n",
    "    learning_rate=5e-5,\n",
    "    per_device_train_batch_size=100 if device == \"cuda\" else 8,\n",
    "    per_device_eval_batch_size=100 if device == \"cuda\" else 8,\n",
    "    num_train_epochs=3,\n",
    "    # weight_decay=0.01,\n",
    "    logging_dir='./logs',\n",
    "    dataloader_pin_memory=False if device == \"cuda\" else True,\n",
    "    # save_total_limit=2,\n",
    "    eval_strategy=\"epoch\",\n",
    "    logging_steps=100,\n",
    "    save_strategy=\"epoch\",\n",
    "    load_best_model_at_end=True,\n",
    "    metric_for_best_model='fscore',\n",
    ")\n",
    "\n",
    "# Define the Trainer\n",
    "trainer = Trainer(\n",
    "    model=model,\n",
    "    args=training_args,\n",
    "    train_dataset=train_dataset,\n",
    "    eval_dataset=val_dataset,\n",
    "    compute_metrics=compute_metrics,\n",
    ")"
   ]
  },
  {
   "cell_type": "code",
   "execution_count": 7,
   "metadata": {},
   "outputs": [
    {
     "data": {
      "text/plain": [
       "/tmp/ipykernel_1362532/4018420611.py:7: UserWarning: To copy construct from a tensor, it is recommended to use sourceTensor.clone().detach() or sourceTensor.clone().detach().requires_grad_(True), rather than torch.tensor(sourceTensor).\n",
       "  item = {key: torch.tensor(val[idx]).to(device=device) for key, val in self.encodings.items()}\n"
      ]
     },
     "metadata": {},
     "output_type": "display_data"
    },
    {
     "data": {
      "text/html": [
       "\n",
       "    <div>\n",
       "      \n",
       "      <progress value='2' max='882' style='width:300px; height:20px; vertical-align: middle;'></progress>\n",
       "      [  2/882 : < :, Epoch 0.00/3]\n",
       "    </div>\n",
       "    <table border=\"1\" class=\"dataframe\">\n",
       "  <thead>\n",
       " <tr style=\"text-align: left;\">\n",
       "      <th>Epoch</th>\n",
       "      <th>Training Loss</th>\n",
       "      <th>Validation Loss</th>\n",
       "    </tr>\n",
       "  </thead>\n",
       "  <tbody>\n",
       "  </tbody>\n",
       "</table><p>"
      ],
      "text/plain": [
       "<IPython.core.display.HTML object>"
      ]
     },
     "metadata": {},
     "output_type": "display_data"
    },
    {
     "data": {
      "text/plain": [
       "/tmp/ipykernel_1362532/4018420611.py:7: UserWarning: To copy construct from a tensor, it is recommended to use sourceTensor.clone().detach() or sourceTensor.clone().detach().requires_grad_(True), rather than torch.tensor(sourceTensor).\n",
       "  item = {key: torch.tensor(val[idx]).to(device=device) for key, val in self.encodings.items()}\n"
      ]
     },
     "metadata": {},
     "output_type": "display_data"
    },
    {
     "data": {
      "text/plain": [
       "/tmp/ipykernel_1362532/4018420611.py:7: UserWarning: To copy construct from a tensor, it is recommended to use sourceTensor.clone().detach() or sourceTensor.clone().detach().requires_grad_(True), rather than torch.tensor(sourceTensor).\n",
       "  item = {key: torch.tensor(val[idx]).to(device=device) for key, val in self.encodings.items()}\n"
      ]
     },
     "metadata": {},
     "output_type": "display_data"
    },
    {
     "data": {
      "text/plain": [
       "/tmp/ipykernel_1362532/4018420611.py:7: UserWarning: To copy construct from a tensor, it is recommended to use sourceTensor.clone().detach() or sourceTensor.clone().detach().requires_grad_(True), rather than torch.tensor(sourceTensor).\n",
       "  item = {key: torch.tensor(val[idx]).to(device=device) for key, val in self.encodings.items()}\n"
      ]
     },
     "metadata": {},
     "output_type": "display_data"
    },
    {
     "data": {
      "text/plain": [
       "🏃 View run ./results_distil at: https://mlflow.mahluke.page/#/experiments/0/runs/1014ce752bda40a1aaba2a5be1c94463\n",
       "🧪 View experiment at: https://mlflow.mahluke.page/#/experiments/0\n"
      ]
     },
     "metadata": {},
     "output_type": "display_data"
    },
    {
     "data": {
      "text/plain": [
       "/tmp/ipykernel_1362532/4018420611.py:7: UserWarning: To copy construct from a tensor, it is recommended to use sourceTensor.clone().detach() or sourceTensor.clone().detach().requires_grad_(True), rather than torch.tensor(sourceTensor).\n",
       "  item = {key: torch.tensor(val[idx]).to(device=device) for key, val in self.encodings.items()}\n"
      ]
     },
     "metadata": {},
     "output_type": "display_data"
    },
    {
     "data": {
      "text/html": [
       "\n",
       "    <div>\n",
       "      \n",
       "      <progress value='1' max='126' style='width:300px; height:20px; vertical-align: middle;'></progress>\n",
       "      [  1/126 : < :]\n",
       "    </div>\n",
       "    "
      ],
      "text/plain": [
       "<IPython.core.display.HTML object>"
      ]
     },
     "metadata": {},
     "output_type": "display_data"
    },
    {
     "data": {
      "text/html": [
       "<div><style>\n",
       ".dataframe > thead > tr,\n",
       ".dataframe > tbody > tr {\n",
       "  text-align: right;\n",
       "  white-space: pre-wrap;\n",
       "}\n",
       "</style>\n",
       "<small>shape: (1, 13)</small><table border=\"1\" class=\"dataframe\"><thead><tr><th>eval_loss</th><th>eval_precision</th><th>eval_recall</th><th>eval_fscore</th><th>eval_accuracy</th><th>eval_tp</th><th>eval_tn</th><th>eval_fp</th><th>eval_fn</th><th>eval_runtime</th><th>eval_samples_per_second</th><th>eval_steps_per_second</th><th>epoch</th></tr><tr><td>f64</td><td>f64</td><td>f64</td><td>f64</td><td>f64</td><td>i64</td><td>i64</td><td>i64</td><td>i64</td><td>f64</td><td>f64</td><td>f64</td><td>f64</td></tr></thead><tbody><tr><td>0.356572</td><td>0.743793</td><td>0.69696</td><td>0.719616</td><td>0.861032</td><td>2247</td><td>8602</td><td>774</td><td>977</td><td>29.9618</td><td>420.536</td><td>4.205</td><td>3.0</td></tr></tbody></table></div>"
      ],
      "text/plain": [
       "shape: (1, 13)\n",
       "┌───────────┬────────────┬────────────┬────────────┬───┬───────────┬───────────┬───────────┬───────┐\n",
       "│ eval_loss ┆ eval_preci ┆ eval_recal ┆ eval_fscor ┆ … ┆ eval_runt ┆ eval_samp ┆ eval_step ┆ epoch │\n",
       "│ ---       ┆ sion       ┆ l          ┆ e          ┆   ┆ ime       ┆ les_per_s ┆ s_per_sec ┆ ---   │\n",
       "│ f64       ┆ ---        ┆ ---        ┆ ---        ┆   ┆ ---       ┆ econd     ┆ ond       ┆ f64   │\n",
       "│           ┆ f64        ┆ f64        ┆ f64        ┆   ┆ f64       ┆ ---       ┆ ---       ┆       │\n",
       "│           ┆            ┆            ┆            ┆   ┆           ┆ f64       ┆ f64       ┆       │\n",
       "╞═══════════╪════════════╪════════════╪════════════╪═══╪═══════════╪═══════════╪═══════════╪═══════╡\n",
       "│ 0.356572  ┆ 0.743793   ┆ 0.69696    ┆ 0.719616   ┆ … ┆ 29.9618   ┆ 420.536   ┆ 4.205     ┆ 3.0   │\n",
       "└───────────┴────────────┴────────────┴────────────┴───┴───────────┴───────────┴───────────┴───────┘"
      ]
     },
     "metadata": {},
     "output_type": "display_data"
    }
   ],
   "source": [
    "start_time = time.time()\n",
    "train_output = trainer.train()  # Returns a TrainOutput object\n",
    "training_time_manual = time.time() - start_time\n",
    "train_metrics = train_output.metrics  # Contains train_runtime, train_loss, etc.\n",
    "\n",
    "# Assume trainer.evaluate() has been run and returned results\n",
    "eval_results = trainer.evaluate()  # Contains eval_runtime, eval_accuracy, etc.\n",
    "\n",
    "# Combine training and evaluation metrics\n",
    "all_metrics = {**train_metrics, **eval_results}\n",
    "metrics = {**eval_results}\n",
    "\n",
    "# Create a Polars DataFrame\n",
    "df = pl.DataFrame(metrics)\n",
    "df"
   ]
  },
  {
   "cell_type": "code",
   "execution_count": 8,
   "metadata": {},
   "outputs": [
    {
     "data": {
      "text/plain": [
       "/tmp/ipykernel_1362532/4018420611.py:7: UserWarning: To copy construct from a tensor, it is recommended to use sourceTensor.clone().detach() or sourceTensor.clone().detach().requires_grad_(True), rather than torch.tensor(sourceTensor).\n",
       "  item = {key: torch.tensor(val[idx]).to(device=device) for key, val in self.encodings.items()}\n"
      ]
     },
     "metadata": {},
     "output_type": "display_data"
    },
    {
     "data": {
      "text/plain": [
       "43.41483950614929\n"
      ]
     },
     "metadata": {},
     "output_type": "display_data"
    }
   ],
   "source": [
    "start_time_test = time.time()\n",
    "predicted_test = trainer.predict(test_dataset)\n",
    "testing_time_manual = time.time() - start_time_test\n",
    "print(testing_time_manual)\n",
    "\n",
    "y_pred = predicted_test.predictions.argmax(-1)\n",
    "y_true = predicted_test.label_ids"
   ]
  },
  {
   "cell_type": "code",
   "execution_count": 9,
   "metadata": {},
   "outputs": [
    {
     "data": {
      "text/plain": [
       "653.7506744861603\n"
      ]
     },
     "metadata": {},
     "output_type": "display_data"
    }
   ],
   "source": [
    "print(training_time_manual)"
   ]
  },
  {
   "cell_type": "code",
   "execution_count": 10,
   "metadata": {},
   "outputs": [
    {
     "data": {
      "image/png": "[encoded data removed]",
      "text/plain": [
       "<Figure size 640x480 with 2 Axes>"
      ]
     },
     "metadata": {},
     "output_type": "display_data"
    }
   ],
   "source": [
    "\n",
    "scores = calculate_scores(y_true, y_pred)\n",
    "\n",
    "disp = ConfusionMatrixDisplay(confusion_matrix=scores.confusion_matrix())\n",
    "disp.plot(cmap=plt.cm.Blues)\n",
    "\n",
    "plt.title(\"Confusion Matrix\")\n",
    "plt.show()"
   ]
  },
  {
   "cell_type": "code",
   "execution_count": 12,
   "metadata": {},
   "outputs": [
    {
     "data": {
      "text/plain": [
       "precision:\t0.7277\n",
       "recall:\t\t0.6048\n",
       "fscore:\t\t0.6606\n",
       "accuracy:\t0.8387\n",
       "tn: 8180\t fp: 705\n",
       "fn: 1231\t tp: 1884\n"
      ]
     },
     "metadata": {},
     "output_type": "display_data"
    }
   ],
   "source": [
    "print(scores)"
   ]
  },
  {
   "cell_type": "code",
   "execution_count": 13,
   "metadata": {},
   "outputs": [
    {
     "data": {
      "text/plain": [
       "🏃 View run likeable-penguin-521 at: https://mlflow.mahluke.page/#/experiments/0/runs/4bdbda98529f4f2eb862ee73763e366c\n",
       "🧪 View experiment at: https://mlflow.mahluke.page/#/experiments/0\n"
      ]
     },
     "metadata": {},
     "output_type": "display_data"
    },
    {
     "data": {
      "text/plain": [
       "Registered model 'distilbert' already exists. Creating a new version of this model...\n"
      ]
     },
     "metadata": {},
     "output_type": "display_data"
    },
    {
     "data": {
      "text/plain": [
       "2024/12/15 22:40:27 INFO mlflow.store.model_registry.abstract_store: Waiting up to 300 seconds for model version to finish creation. Model name: distilbert, version 2\n"
      ]
     },
     "metadata": {},
     "output_type": "display_data"
    },
    {
     "data": {
      "text/plain": [
       "Created version '2' of model 'distilbert'.\n"
      ]
     },
     "metadata": {},
     "output_type": "display_data"
    },
    {
     "data": {
      "text/plain": [
       "🏃 View run distilbert 3 epochs at: https://mlflow.mahluke.page/#/experiments/769295261228132607/runs/876fb0d28126429fbd7c402e7f63722b\n",
       "🧪 View experiment at: https://mlflow.mahluke.page/#/experiments/769295261228132607\n"
      ]
     },
     "metadata": {},
     "output_type": "display_data"
    }
   ],
   "source": [
    "mlflow.end_run()\n",
    "with mlflow.start_run(\n",
    "        experiment_id=get_experiment().experiment_id, \n",
    "        run_name=\"distilbert 3 epochs\"\n",
    "        ):\n",
    "    mlflow.log_param(\"model_name\", MODEL_NAME)\n",
    "    mlflow.log_params(training_args.to_dict())\n",
    "\n",
    "    mlflow.log_metrics(scores.asdict())\n",
    "    mlflow.set_tag(\"model\", \"distilbert\")\n",
    "\n",
    "    mlflow.log_table({\"id\": test[\"id\"], \"prediction\": y_pred}, \"predictions.json\")\n",
    "\n",
    "    # Register the model\n",
    "    model_uri = f\"runs:/{mlflow.active_run().info.run_id}/predictions_distilbert.json\"\n",
    "    registered_model = mlflow.register_model(model_uri=model_uri, name=\"distilbert\") \n",
    "\n",
    "\n",
    "client().set_registered_model_alias(\"distilbert\", \"current\", registered_model.version)"
   ]
  }
 ],
 "metadata": {
  "kernelspec": {
   "display_name": ".venv",
   "language": "python",
   "name": "python3"
  },
  "language_info": {
   "codemirror_mode": {
    "name": "ipython",
    "version": 3
   },
   "file_extension": ".py",
   "mimetype": "text/x-python",
   "name": "python",
   "nbconvert_exporter": "python",
   "pygments_lexer": "ipython3",
   "version": "3.12.7"
  }
 },
 "nbformat": 4,
 "nbformat_minor": 2
}
