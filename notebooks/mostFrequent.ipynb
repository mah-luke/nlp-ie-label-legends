{
 "cells": [
  {
   "cell_type": "code",
   "execution_count": 1,
   "id": "e9db65ce-5479-41de-88e9-8c3ea4e3c970",
   "metadata": {},
   "outputs": [],
   "source": [
    "%load_ext autoreload\n",
    "%autoreload 2"
   ]
  },
  {
   "cell_type": "code",
   "execution_count": 2,
   "id": "8bc579d2-c03e-4847-b681-9187cc2018bc",
   "metadata": {},
   "outputs": [
    {
     "name": "stderr",
     "output_type": "stream",
     "text": [
      "c:\\Users\\noika\\Documents\\NLP project\\label_legends\\nlp-ie-label-legends\\.venv\\Lib\\site-packages\\tqdm\\auto.py:21: TqdmWarning: IProgress not found. Please update jupyter and ipywidgets. See https://ipywidgets.readthedocs.io/en/stable/user_install.html\n",
      "  from .autonotebook import tqdm as notebook_tqdm\n"
     ]
    }
   ],
   "source": [
    "#libraries\n",
    "from sklearn.metrics import classification_report, confusion_matrix, precision_recall_fscore_support\n",
    "import re\n",
    "import logging\n",
    "import time\n",
    "import polars as pl\n",
    "\n",
    "#setup\n",
    "logging.basicConfig(level=logging.INFO)\n",
    "\n",
    "#group library\n",
    "from label_legends.preprocess import holdout, transform, load_data\n",
    "from label_legends.preprocess import holdout, transform, load_data, load_test\n",
    "from label_legends.result import calculate_scores, download_predictions, get_experiment, load_predictions, client, get_current\n",
    "import json\n",
    "import mlflow\n"
   ]
  },
  {
   "cell_type": "code",
   "execution_count": 12,
   "id": "12107ae7-c535-46be-8085-b5afa889b57a",
   "metadata": {},
   "outputs": [],
   "source": [
    "def evaluate_baseline(true_labels, predictions, baseline_name):\n",
    "    \n",
    "    logging.info(f\"Evaluating {baseline_name}...\")\n",
    "    \n",
    "    #precision, recall, F1(macro avg)\n",
    "    precision, recall, f1, _ = precision_recall_fscore_support(true_labels, predictions, average=\"binary\")\n",
    "    \n",
    "    #confusion matrix\n",
    "    cm = confusion_matrix(true_labels, predictions)\n",
    "    \n",
    "    # Print Evaluation Metrics\n",
    "    print(f\"\\n{baseline_name} Evaluation Metrics:\")\n",
    "    print(f\"Precision (Macro Avg): {precision:.4f}\")\n",
    "    print(f\"Recall (Macro Avg): {recall:.4f}\")\n",
    "    print(f\"F1 Score (Macro Avg): {f1:.4f}\")\n",
    "    print(\"\\nConfusion Matrix:\")\n",
    "    print(cm)"
   ]
  },
  {
   "cell_type": "code",
   "execution_count": 4,
   "id": "7a821729-b506-485a-ba47-3acd572a2ae3",
   "metadata": {},
   "outputs": [
    {
     "name": "stderr",
     "output_type": "stream",
     "text": [
      "INFO:root:Loading data...\n",
      "INFO:root:Transforming data...\n",
      "c:\\Users\\noika\\Documents\\NLP project\\label_legends\\nlp-ie-label-legends\\.venv\\Lib\\site-packages\\sklearn\\feature_extraction\\text.py:521: UserWarning: The parameter 'token_pattern' will not be used since 'tokenizer' is not None'\n",
      "  warnings.warn(\n",
      "INFO:root:Loading the test set...\n",
      "INFO:root:Converting labels to integers...\n"
     ]
    }
   ],
   "source": [
    "#loading the data\n",
    "logging.info(\"Loading data...\")\n",
    "load_data().collect()\n",
    "\n",
    "#transforming the data\n",
    "val, tra = holdout()\n",
    "logging.info(\"Transforming data...\")\n",
    "tra = transform(tra)\n",
    "val = transform(val)\n",
    "\n",
    "#loading the test set\n",
    "logging.info(\"Loading the test set...\")\n",
    "test = transform(load_test().collect())\n",
    "\n",
    "#converting 'label' column to integer\n",
    "logging.info(\"Converting labels to integers...\")\n",
    "tra = tra.with_columns(\n",
    "    pl.col(\"label\").cast(pl.Int32)\n",
    ")\n",
    "val = val.with_columns(\n",
    "    pl.col(\"label\").cast(pl.Int32)\n",
    ")"
   ]
  },
  {
   "cell_type": "code",
   "execution_count": 5,
   "id": "f88cec99",
   "metadata": {},
   "outputs": [
    {
     "data": {
      "text/html": [
       "<div><style>\n",
       ".dataframe > thead > tr,\n",
       ".dataframe > tbody > tr {\n",
       "  text-align: right;\n",
       "  white-space: pre-wrap;\n",
       "}\n",
       "</style>\n",
       "<small>shape: (29_400, 5)</small><table border=\"1\" class=\"dataframe\"><thead><tr><th>id</th><th>text</th><th>tokens</th><th>token_ids</th><th>label</th></tr><tr><td>i64</td><td>str</td><td>list[str]</td><td>list[i64]</td><td>i32</td></tr></thead><tbody><tr><td>26016</td><td>&quot;#VoteDemOut seditionist wanna …</td><td>[&quot;#&quot;, &quot;votedemout&quot;, … &quot;ven&quot;]</td><td>[7, 3000, … 3000]</td><td>0</td></tr><tr><td>41060</td><td>&quot;Cerno hops from wave to wave: …</td><td>[&quot;cerno&quot;, &quot;hop&quot;, … &quot;.&quot;]</td><td>[3000, 3000, … 26]</td><td>1</td></tr><tr><td>35766</td><td>&quot;think about it.. he´s called J…</td><td>[&quot;think&quot;, &quot;..&quot;, … &quot;elect&quot;]</td><td>[2688, 27, … 911]</td><td>0</td></tr><tr><td>23678</td><td>&quot;Hmm, you could rewrite this wi…</td><td>[&quot;hmm&quot;, &quot;,&quot;, … &quot;justsaying&quot;]</td><td>[1284, 22, … 3000]</td><td>0</td></tr><tr><td>52396</td><td>&quot;Every girl in a game, or on si…</td><td>[&quot;girl&quot;, &quot;game&quot;, … &quot;.&quot;]</td><td>[1164, 1135, … 26]</td><td>0</td></tr><tr><td>&hellip;</td><td>&hellip;</td><td>&hellip;</td><td>&hellip;</td><td>&hellip;</td></tr><tr><td>6785</td><td>&quot;I just think my dick couldn&#x27;t …</td><td>[&quot;just&quot;, &quot;think&quot;, … &quot;..😂😂😂&quot;]</td><td>[1482, 2688, … 3000]</td><td>0</td></tr><tr><td>31355</td><td>&quot;no he deadasss hit the nail on…</td><td>[&quot;deadass&quot;, &quot;hit&quot;, … &quot;.&quot;]</td><td>[3000, 1282, … 26]</td><td>0</td></tr><tr><td>49834</td><td>&quot;Aren&#x27;t these goblins always wh…</td><td>[&quot;goblins&quot;, &quot;whine&quot;, … &quot;hastagsarestillcool&quot;]</td><td>[3000, 2914, … 3000]</td><td>0</td></tr><tr><td>26158</td><td>&quot;1. Stop calling girls, women a…</td><td>[&quot;1.&quot;, &quot;stop&quot;, … &quot;.&quot;]</td><td>[39, 2567, … 26]</td><td>0</td></tr><tr><td>2905</td><td>&quot;Wives and nannies, but the fat…</td><td>[&quot;wife&quot;, &quot;nanny&quot;, … &quot;.&quot;]</td><td>[2920, 3000, … 26]</td><td>1</td></tr></tbody></table></div>"
      ],
      "text/plain": [
       "shape: (29_400, 5)\n",
       "┌───────┬─────────────────────────────┬─────────────────────────────┬──────────────────────┬───────┐\n",
       "│ id    ┆ text                        ┆ tokens                      ┆ token_ids            ┆ label │\n",
       "│ ---   ┆ ---                         ┆ ---                         ┆ ---                  ┆ ---   │\n",
       "│ i64   ┆ str                         ┆ list[str]                   ┆ list[i64]            ┆ i32   │\n",
       "╞═══════╪═════════════════════════════╪═════════════════════════════╪══════════════════════╪═══════╡\n",
       "│ 26016 ┆ #VoteDemOut seditionist     ┆ [\"#\", \"votedemout\", …       ┆ [7, 3000, … 3000]    ┆ 0     │\n",
       "│       ┆ wanna …                     ┆ \"ven\"]                      ┆                      ┆       │\n",
       "│ 41060 ┆ Cerno hops from wave to     ┆ [\"cerno\", \"hop\", … \".\"]     ┆ [3000, 3000, … 26]   ┆ 1     │\n",
       "│       ┆ wave: …                     ┆                             ┆                      ┆       │\n",
       "│ 35766 ┆ think about it.. he´s       ┆ [\"think\", \"..\", … \"elect\"]  ┆ [2688, 27, … 911]    ┆ 0     │\n",
       "│       ┆ called J…                   ┆                             ┆                      ┆       │\n",
       "│ 23678 ┆ Hmm, you could rewrite this ┆ [\"hmm\", \",\", …              ┆ [1284, 22, … 3000]   ┆ 0     │\n",
       "│       ┆ wi…                         ┆ \"justsaying\"]               ┆                      ┆       │\n",
       "│ 52396 ┆ Every girl in a game, or on ┆ [\"girl\", \"game\", … \".\"]     ┆ [1164, 1135, … 26]   ┆ 0     │\n",
       "│       ┆ si…                         ┆                             ┆                      ┆       │\n",
       "│ …     ┆ …                           ┆ …                           ┆ …                    ┆ …     │\n",
       "│ 6785  ┆ I just think my dick        ┆ [\"just\", \"think\", …         ┆ [1482, 2688, … 3000] ┆ 0     │\n",
       "│       ┆ couldn't …                  ┆ \"..😂😂😂\"]                 ┆                      ┆       │\n",
       "│ 31355 ┆ no he deadasss hit the nail ┆ [\"deadass\", \"hit\", … \".\"]   ┆ [3000, 1282, … 26]   ┆ 0     │\n",
       "│       ┆ on…                         ┆                             ┆                      ┆       │\n",
       "│ 49834 ┆ Aren't these goblins always ┆ [\"goblins\", \"whine\", …      ┆ [3000, 2914, … 3000] ┆ 0     │\n",
       "│       ┆ wh…                         ┆ \"hastag…                    ┆                      ┆       │\n",
       "│ 26158 ┆ 1. Stop calling girls,      ┆ [\"1.\", \"stop\", … \".\"]       ┆ [39, 2567, … 26]     ┆ 0     │\n",
       "│       ┆ women a…                    ┆                             ┆                      ┆       │\n",
       "│ 2905  ┆ Wives and nannies, but the  ┆ [\"wife\", \"nanny\", … \".\"]    ┆ [2920, 3000, … 26]   ┆ 1     │\n",
       "│       ┆ fat…                        ┆                             ┆                      ┆       │\n",
       "└───────┴─────────────────────────────┴─────────────────────────────┴──────────────────────┴───────┘"
      ]
     },
     "execution_count": 5,
     "metadata": {},
     "output_type": "execute_result"
    }
   ],
   "source": [
    "tra"
   ]
  },
  {
   "cell_type": "code",
   "execution_count": 6,
   "id": "1dd95e7a-d1ff-41a9-9ba2-0920d63f6452",
   "metadata": {},
   "outputs": [],
   "source": [
    "#putting the text and label columns into lists\n",
    "train_texts = tra['text'].to_list()\n",
    "train_labels = tra['label'].to_list()\n",
    "\n",
    "val_texts = val['text'].to_list()\n",
    "val_labels = val['label'].to_list()\n",
    "\n",
    "test_texts = test['text'].to_list()\n",
    "test_labels = test['label'].to_list()"
   ]
  },
  {
   "cell_type": "code",
   "execution_count": 7,
   "id": "78fa4fad-d6a6-44eb-86b1-c92788e5f2c1",
   "metadata": {},
   "outputs": [
    {
     "name": "stderr",
     "output_type": "stream",
     "text": [
      "INFO:root:Calculating most frequent class...\n"
     ]
    }
   ],
   "source": [
    "#calculating the most frequent class\n",
    "logging.info(\"Calculating most frequent class...\")\n",
    "mf_class = max(set(val_labels), key=val_labels.count)"
   ]
  },
  {
   "cell_type": "code",
   "execution_count": 8,
   "id": "75f0f71c-19c9-41c9-927d-fa358b7dd211",
   "metadata": {},
   "outputs": [
    {
     "name": "stderr",
     "output_type": "stream",
     "text": [
      "INFO:root:Most frequent class: 0\n"
     ]
    }
   ],
   "source": [
    "#predict the most frequent class\n",
    "\n",
    "#timing the test time\n",
    "start_time = time.time()\n",
    "\n",
    "#redict and evaluate\n",
    "logging.info(f\"Most frequent class: {mf_class}\")\n",
    "test_pred_mf = [mf_class] * len(test_labels)\n",
    "\n",
    "train_time_mf = 0  # No training time for most frequent baseline\n",
    "test_time_mf = time.time() - start_time"
   ]
  },
  {
   "cell_type": "code",
   "execution_count": 13,
   "id": "2a8befe4-9416-4884-94cd-6ff9019e5206",
   "metadata": {},
   "outputs": [
    {
     "name": "stderr",
     "output_type": "stream",
     "text": [
      "INFO:root:Evaluating Most Frequent Baseline...\n"
     ]
    },
    {
     "name": "stdout",
     "output_type": "stream",
     "text": [
      "\n",
      "Most Frequent Baseline Evaluation Metrics:\n",
      "Precision (Macro Avg): 0.0000\n",
      "Recall (Macro Avg): 0.0000\n",
      "F1 Score (Macro Avg): 0.0000\n",
      "\n",
      "Confusion Matrix:\n",
      "[[8885    0]\n",
      " [3115    0]]\n",
      "Training Time: 0.0000 seconds\n",
      "Test Time: 0.0000 seconds\n"
     ]
    },
    {
     "name": "stderr",
     "output_type": "stream",
     "text": [
      "c:\\Users\\noika\\Documents\\NLP project\\label_legends\\nlp-ie-label-legends\\.venv\\Lib\\site-packages\\sklearn\\metrics\\_classification.py:1531: UndefinedMetricWarning: Precision is ill-defined and being set to 0.0 due to no predicted samples. Use `zero_division` parameter to control this behavior.\n",
      "  _warn_prf(average, modifier, f\"{metric.capitalize()} is\", len(result))\n"
     ]
    }
   ],
   "source": [
    "#evaluation\n",
    "evaluate_baseline(test_labels, test_pred_mf, \"Most Frequent Baseline\")\n",
    "print(f\"Training Time: {train_time_mf:.4f} seconds\")\n",
    "print(f\"Test Time: {test_time_mf:.4f} seconds\")"
   ]
  },
  {
   "cell_type": "code",
   "execution_count": 10,
   "id": "ace7505f",
   "metadata": {},
   "outputs": [
    {
     "data": {
      "image/png": "[encoded data removed]",
      "text/plain": [
       "<Figure size 640x480 with 2 Axes>"
      ]
     },
     "metadata": {},
     "output_type": "display_data"
    }
   ],
   "source": [
    "from sklearn.metrics import confusion_matrix, ConfusionMatrixDisplay\n",
    "import matplotlib.pyplot as plt\n",
    "\n",
    "conf_matrix = confusion_matrix(test_labels, test_pred_mf)\n",
    "\n",
    "disp = ConfusionMatrixDisplay(confusion_matrix=conf_matrix)\n",
    "disp.plot(cmap=plt.cm.Blues)\n",
    "\n",
    "plt.title(\"Confusion Matrix\")\n",
    "plt.show()"
   ]
  },
  {
   "cell_type": "code",
   "execution_count": 11,
   "id": "255688d6",
   "metadata": {},
   "outputs": [
    {
     "name": "stdout",
     "output_type": "stream",
     "text": [
      "precision:\t0.0000\n",
      "recall:\t\t0.0000\n",
      "fscore:\t\t0.0000\n",
      "accuracy:\t0.7404\n",
      "tn: 8885\t fp: 0\n",
      "fn: 3115\t tp: 0\n"
     ]
    },
    {
     "name": "stderr",
     "output_type": "stream",
     "text": [
      "c:\\Users\\noika\\Documents\\NLP project\\label_legends\\nlp-ie-label-legends\\.venv\\Lib\\site-packages\\sklearn\\metrics\\_classification.py:1531: UndefinedMetricWarning: Precision is ill-defined and being set to 0.0 due to no predicted samples. Use `zero_division` parameter to control this behavior.\n",
      "  _warn_prf(average, modifier, f\"{metric.capitalize()} is\", len(result))\n"
     ]
    }
   ],
   "source": [
    "scores_mf = calculate_scores(test_labels, test_pred_mf)\n",
    "print(scores_mf)"
   ]
  },
  {
   "cell_type": "code",
   "execution_count": 15,
   "id": "1660c323",
   "metadata": {},
   "outputs": [
    {
     "name": "stderr",
     "output_type": "stream",
     "text": [
      "Successfully registered model 'mostfrequent'.\n",
      "Created version '1' of model 'mostfrequent'.\n"
     ]
    }
   ],
   "source": [
    "with mlflow.start_run(\n",
    "        experiment_id=get_experiment().experiment_id, \n",
    "        run_name=\"most frequent testing\"\n",
    "        ):\n",
    "    mlflow.log_params({\"most_frequent_class\": mf_class})\n",
    "    mlflow.log_metrics(scores_mf.asdict())\n",
    "    mlflow.set_tag(\"model\", \"most frequent\")\n",
    "\n",
    "    mlflow.log_table({\"id\": test[\"id\"], \"prediction\": test_pred_mf}, \"predictions_mf.json\")\n",
    "\n",
    "    #log the model\n",
    "    prediction_data = {\n",
    "        \"columns\": [\"id\", \"prediction\"],\n",
    "        \"data\": [[id_, pred] for id_, pred in zip(test[\"id\"], test_pred_mf)]\n",
    "    }\n",
    "    # Save to a JSON file\n",
    "    predictions_file = r\"..\\\\resource\\\\mlflow\\\\mostfrequent\\\\predictions.json\"\n",
    "    with open(predictions_file, \"w\") as f:\n",
    "        json.dump(prediction_data, f, indent=4)\n",
    "        \n",
    "    # Log the JSON file as an artifact\n",
    "    mlflow.log_artifact(predictions_file)\n",
    "        \n",
    "    # Simulate model registration\n",
    "    mlflow.set_tag(\"registered_model_name\", \"mostfrequent\")\n",
    "    mlflow.set_tag(\"model_alias\", \"current\")\n",
    "\n",
    "    # Register the model\n",
    "    model_uri = f\"runs:/{mlflow.active_run().info.run_id}/mf_predictions.json\"\n",
    "    registered_model = mlflow.register_model(model_uri=model_uri, name=\"mostfrequent\") \n",
    "\n",
    "\n",
    "client().set_registered_model_alias(\"mostfrequent\", \"current\", registered_model.version)"
   ]
  },
  {
   "cell_type": "code",
   "execution_count": 16,
   "id": "63ddcbf7",
   "metadata": {},
   "outputs": [
    {
     "data": {
      "text/plain": [
       "<ModelVersion: aliases=['current'], creation_timestamp=1734030429563, current_stage='None', description=None, last_updated_timestamp=1734030429563, name='mostfrequent', run_id='2629ed6b6f424ece95a3565a2c820454', run_link=None, source='file:///c:/Users/noika/Documents/NLP%20project/label_legends/nlp-ie-label-legends/notebooks/mlruns/293497917933323667/2629ed6b6f424ece95a3565a2c820454/artifacts/mf_predictions.json', status='READY', status_message=None, tags={}, user_id=None, version=1>"
      ]
     },
     "execution_count": 16,
     "metadata": {},
     "output_type": "execute_result"
    }
   ],
   "source": [
    "get_current(\"mostfrequent\")"
   ]
  },
  {
   "cell_type": "code",
   "execution_count": 17,
   "id": "3450159d",
   "metadata": {},
   "outputs": [
    {
     "data": {
      "text/html": [
       "<div><style>\n",
       ".dataframe > thead > tr,\n",
       ".dataframe > tbody > tr {\n",
       "  text-align: right;\n",
       "  white-space: pre-wrap;\n",
       "}\n",
       "</style>\n",
       "<small>shape: (5, 2)</small><table border=\"1\" class=\"dataframe\"><thead><tr><th>id</th><th>prediction</th></tr><tr><td>i64</td><td>i64</td></tr></thead><tbody><tr><td>100</td><td>0</td></tr><tr><td>10005</td><td>0</td></tr><tr><td>10006</td><td>0</td></tr><tr><td>10007</td><td>0</td></tr><tr><td>10008</td><td>0</td></tr></tbody></table></div>"
      ],
      "text/plain": [
       "shape: (5, 2)\n",
       "┌───────┬────────────┐\n",
       "│ id    ┆ prediction │\n",
       "│ ---   ┆ ---        │\n",
       "│ i64   ┆ i64        │\n",
       "╞═══════╪════════════╡\n",
       "│ 100   ┆ 0          │\n",
       "│ 10005 ┆ 0          │\n",
       "│ 10006 ┆ 0          │\n",
       "│ 10007 ┆ 0          │\n",
       "│ 10008 ┆ 0          │\n",
       "└───────┴────────────┘"
      ]
     },
     "execution_count": 17,
     "metadata": {},
     "output_type": "execute_result"
    }
   ],
   "source": [
    "load_predictions(\"mostfrequent\").head()"
   ]
  }
 ],
 "metadata": {
  "kernelspec": {
   "display_name": ".venv",
   "language": "python",
   "name": "python3"
  },
  "language_info": {
   "codemirror_mode": {
    "name": "ipython",
    "version": 3
   },
   "file_extension": ".py",
   "mimetype": "text/x-python",
   "name": "python",
   "nbconvert_exporter": "python",
   "pygments_lexer": "ipython3",
   "version": "3.12.7"
  }
 },
 "nbformat": 4,
 "nbformat_minor": 5
}
