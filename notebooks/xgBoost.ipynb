{
 "cells": [
  {
   "cell_type": "markdown",
   "id": "a4818c36",
   "metadata": {
    "lines_to_next_cell": 0
   },
   "source": []
  },
  {
   "cell_type": "code",
   "execution_count": 2,
   "id": "a57fa4d1",
   "metadata": {
    "lines_to_next_cell": 2
   },
   "outputs": [],
   "source": [
    "%load_ext autoreload\n",
    "%autoreload 2"
   ]
  },
  {
   "cell_type": "code",
   "execution_count": 20,
   "id": "c5c14631",
   "metadata": {
    "lines_to_next_cell": 2
   },
   "outputs": [],
   "source": [
    "from mlflow.models import infer_signature\n",
    "from mlflow.models.model import ModelInfo\n",
    "from sklearn.metrics import ConfusionMatrixDisplay\n",
    "from label_legends.preprocess import holdout, load_test, tfidf_pipeline, token_lists, transform, load_test\n",
    "from xgboost import XGBClassifier\n",
    "import logging\n",
    "import numpy as np\n",
    "import mlflow\n",
    "import smac\n",
    "from smac import HyperparameterOptimizationFacade, Scenario\n",
    "from ConfigSpace import ConfigurationSpace, Configuration\n",
    "from label_legends.util import SEED\n",
    "\n",
    "from label_legends.result import calculate_scores, download_conf_mat, download_predictions, get_experiment, load_predictions, client, get_current\n",
    "\n",
    "np.set_printoptions(threshold=1000)\n",
    "logging.basicConfig(level=logging.INFO)"
   ]
  },
  {
   "cell_type": "markdown",
   "id": "178bdb7b",
   "metadata": {},
   "source": [
    "# Load dataset"
   ]
  },
  {
   "cell_type": "code",
   "execution_count": 4,
   "id": "79b8aa6f",
   "metadata": {},
   "outputs": [
    {
     "data": {
      "text/plain": [
       "/home/lukas/Programming/uni/nlp-ie-label-legends/.venv/lib/python3.12/site-packages/sklearn/feature_extraction/text.py:521: UserWarning: The parameter 'token_pattern' will not be used since 'tokenizer' is not None'\n",
       "  warnings.warn(\n"
      ]
     },
     "metadata": {},
     "output_type": "display_data"
    }
   ],
   "source": [
    "val, tra = holdout()\n",
    "tra = transform(tra)\n",
    "val = transform(val)\n",
    "\n",
    "test = transform(load_test().collect())"
   ]
  },
  {
   "cell_type": "code",
   "execution_count": 5,
   "id": "a76bba5b",
   "metadata": {
    "lines_to_next_cell": 2
   },
   "outputs": [
    {
     "data": {
      "text/html": [
       "<div><style>\n",
       ".dataframe > thead > tr,\n",
       ".dataframe > tbody > tr {\n",
       "  text-align: right;\n",
       "  white-space: pre-wrap;\n",
       "}\n",
       "</style>\n",
       "<small>shape: (5, 5)</small><table border=\"1\" class=\"dataframe\"><thead><tr><th>id</th><th>text</th><th>tokens</th><th>token_ids</th><th>label</th></tr><tr><td>i64</td><td>str</td><td>list[str]</td><td>list[i64]</td><td>i64</td></tr></thead><tbody><tr><td>26016</td><td>&quot;#VoteDemOut seditionist wanna …</td><td>[&quot;#&quot;, &quot;votedemout&quot;, … &quot;ven&quot;]</td><td>[7, 3000, … 3000]</td><td>0</td></tr><tr><td>41060</td><td>&quot;Cerno hops from wave to wave: …</td><td>[&quot;cerno&quot;, &quot;hop&quot;, … &quot;.&quot;]</td><td>[3000, 3000, … 26]</td><td>1</td></tr><tr><td>35766</td><td>&quot;think about it.. he´s called J…</td><td>[&quot;think&quot;, &quot;..&quot;, … &quot;elect&quot;]</td><td>[2690, 27, … 912]</td><td>0</td></tr><tr><td>23678</td><td>&quot;Hmm, you could rewrite this wi…</td><td>[&quot;hmm&quot;, &quot;,&quot;, … &quot;justsaying&quot;]</td><td>[1286, 22, … 3000]</td><td>0</td></tr><tr><td>52396</td><td>&quot;Every girl in a game, or on si…</td><td>[&quot;girl&quot;, &quot;game&quot;, … &quot;.&quot;]</td><td>[1166, 1137, … 26]</td><td>0</td></tr></tbody></table></div>"
      ],
      "text/plain": [
       "shape: (5, 5)\n",
       "┌───────┬──────────────────────────────┬──────────────────────────────┬────────────────────┬───────┐\n",
       "│ id    ┆ text                         ┆ tokens                       ┆ token_ids          ┆ label │\n",
       "│ ---   ┆ ---                          ┆ ---                          ┆ ---                ┆ ---   │\n",
       "│ i64   ┆ str                          ┆ list[str]                    ┆ list[i64]          ┆ i64   │\n",
       "╞═══════╪══════════════════════════════╪══════════════════════════════╪════════════════════╪═══════╡\n",
       "│ 26016 ┆ #VoteDemOut seditionist      ┆ [\"#\", \"votedemout\", … \"ven\"] ┆ [7, 3000, … 3000]  ┆ 0     │\n",
       "│       ┆ wanna …                      ┆                              ┆                    ┆       │\n",
       "│ 41060 ┆ Cerno hops from wave to      ┆ [\"cerno\", \"hop\", … \".\"]      ┆ [3000, 3000, … 26] ┆ 1     │\n",
       "│       ┆ wave: …                      ┆                              ┆                    ┆       │\n",
       "│ 35766 ┆ think about it.. he´s called ┆ [\"think\", \"..\", … \"elect\"]   ┆ [2690, 27, … 912]  ┆ 0     │\n",
       "│       ┆ J…                           ┆                              ┆                    ┆       │\n",
       "│ 23678 ┆ Hmm, you could rewrite this  ┆ [\"hmm\", \",\", … \"justsaying\"] ┆ [1286, 22, … 3000] ┆ 0     │\n",
       "│       ┆ wi…                          ┆                              ┆                    ┆       │\n",
       "│ 52396 ┆ Every girl in a game, or on  ┆ [\"girl\", \"game\", … \".\"]      ┆ [1166, 1137, … 26] ┆ 0     │\n",
       "│       ┆ si…                          ┆                              ┆                    ┆       │\n",
       "└───────┴──────────────────────────────┴──────────────────────────────┴────────────────────┴───────┘"
      ]
     },
     "metadata": {},
     "output_type": "display_data"
    }
   ],
   "source": [
    "tra.head()"
   ]
  },
  {
   "cell_type": "markdown",
   "id": "fa7ba485",
   "metadata": {},
   "source": [
    "# Generate Features\n",
    "As we are using a traditional machine learning approach, we have to create features. For XGBoost we are creating tf-idf, representing a value for each word in the text which is also in the vocabulary.\n",
    "We are reusing the already created vocabulary and with our corpus we are creating the tf-idf values."
   ]
  },
  {
   "cell_type": "code",
   "execution_count": 6,
   "id": "f0e69782",
   "metadata": {
    "lines_to_next_cell": 0
   },
   "outputs": [
    {
     "data": {
      "text/plain": [
       "/home/lukas/Programming/uni/nlp-ie-label-legends/.venv/lib/python3.12/site-packages/sklearn/feature_extraction/text.py:521: UserWarning: The parameter 'token_pattern' will not be used since 'tokenizer' is not None'\n",
       "  warnings.warn(\n"
      ]
     },
     "metadata": {},
     "output_type": "display_data"
    },
    {
     "data": {
      "text/html": [
       "<style>#sk-container-id-1 {\n",
       "  /* Definition of color scheme common for light and dark mode */\n",
       "  --sklearn-color-text: black;\n",
       "  --sklearn-color-line: gray;\n",
       "  /* Definition of color scheme for unfitted estimators */\n",
       "  --sklearn-color-unfitted-level-0: #fff5e6;\n",
       "  --sklearn-color-unfitted-level-1: #f6e4d2;\n",
       "  --sklearn-color-unfitted-level-2: #ffe0b3;\n",
       "  --sklearn-color-unfitted-level-3: chocolate;\n",
       "  /* Definition of color scheme for fitted estimators */\n",
       "  --sklearn-color-fitted-level-0: #f0f8ff;\n",
       "  --sklearn-color-fitted-level-1: #d4ebff;\n",
       "  --sklearn-color-fitted-level-2: #b3dbfd;\n",
       "  --sklearn-color-fitted-level-3: cornflowerblue;\n",
       "\n",
       "  /* Specific color for light theme */\n",
       "  --sklearn-color-text-on-default-background: var(--sg-text-color, var(--theme-code-foreground, var(--jp-content-font-color1, black)));\n",
       "  --sklearn-color-background: var(--sg-background-color, var(--theme-background, var(--jp-layout-color0, white)));\n",
       "  --sklearn-color-border-box: var(--sg-text-color, var(--theme-code-foreground, var(--jp-content-font-color1, black)));\n",
       "  --sklearn-color-icon: #696969;\n",
       "\n",
       "  @media (prefers-color-scheme: dark) {\n",
       "    /* Redefinition of color scheme for dark theme */\n",
       "    --sklearn-color-text-on-default-background: var(--sg-text-color, var(--theme-code-foreground, var(--jp-content-font-color1, white)));\n",
       "    --sklearn-color-background: var(--sg-background-color, var(--theme-background, var(--jp-layout-color0, #111)));\n",
       "    --sklearn-color-border-box: var(--sg-text-color, var(--theme-code-foreground, var(--jp-content-font-color1, white)));\n",
       "    --sklearn-color-icon: #878787;\n",
       "  }\n",
       "}\n",
       "\n",
       "#sk-container-id-1 {\n",
       "  color: var(--sklearn-color-text);\n",
       "}\n",
       "\n",
       "#sk-container-id-1 pre {\n",
       "  padding: 0;\n",
       "}\n",
       "\n",
       "#sk-container-id-1 input.sk-hidden--visually {\n",
       "  border: 0;\n",
       "  clip: rect(1px 1px 1px 1px);\n",
       "  clip: rect(1px, 1px, 1px, 1px);\n",
       "  height: 1px;\n",
       "  margin: -1px;\n",
       "  overflow: hidden;\n",
       "  padding: 0;\n",
       "  position: absolute;\n",
       "  width: 1px;\n",
       "}\n",
       "\n",
       "#sk-container-id-1 div.sk-dashed-wrapped {\n",
       "  border: 1px dashed var(--sklearn-color-line);\n",
       "  margin: 0 0.4em 0.5em 0.4em;\n",
       "  box-sizing: border-box;\n",
       "  padding-bottom: 0.4em;\n",
       "  background-color: var(--sklearn-color-background);\n",
       "}\n",
       "\n",
       "#sk-container-id-1 div.sk-container {\n",
       "  /* jupyter's `normalize.less` sets `[hidden] { display: none; }`\n",
       "     but bootstrap.min.css set `[hidden] { display: none !important; }`\n",
       "     so we also need the `!important` here to be able to override the\n",
       "     default hidden behavior on the sphinx rendered scikit-learn.org.\n",
       "     See: https://github.com/scikit-learn/scikit-learn/issues/21755 */\n",
       "  display: inline-block !important;\n",
       "  position: relative;\n",
       "}\n",
       "\n",
       "#sk-container-id-1 div.sk-text-repr-fallback {\n",
       "  display: none;\n",
       "}\n",
       "\n",
       "div.sk-parallel-item,\n",
       "div.sk-serial,\n",
       "div.sk-item {\n",
       "  /* draw centered vertical line to link estimators */\n",
       "  background-image: linear-gradient(var(--sklearn-color-text-on-default-background), var(--sklearn-color-text-on-default-background));\n",
       "  background-size: 2px 100%;\n",
       "  background-repeat: no-repeat;\n",
       "  background-position: center center;\n",
       "}\n",
       "\n",
       "/* Parallel-specific style estimator block */\n",
       "\n",
       "#sk-container-id-1 div.sk-parallel-item::after {\n",
       "  content: \"\";\n",
       "  width: 100%;\n",
       "  border-bottom: 2px solid var(--sklearn-color-text-on-default-background);\n",
       "  flex-grow: 1;\n",
       "}\n",
       "\n",
       "#sk-container-id-1 div.sk-parallel {\n",
       "  display: flex;\n",
       "  align-items: stretch;\n",
       "  justify-content: center;\n",
       "  background-color: var(--sklearn-color-background);\n",
       "  position: relative;\n",
       "}\n",
       "\n",
       "#sk-container-id-1 div.sk-parallel-item {\n",
       "  display: flex;\n",
       "  flex-direction: column;\n",
       "}\n",
       "\n",
       "#sk-container-id-1 div.sk-parallel-item:first-child::after {\n",
       "  align-self: flex-end;\n",
       "  width: 50%;\n",
       "}\n",
       "\n",
       "#sk-container-id-1 div.sk-parallel-item:last-child::after {\n",
       "  align-self: flex-start;\n",
       "  width: 50%;\n",
       "}\n",
       "\n",
       "#sk-container-id-1 div.sk-parallel-item:only-child::after {\n",
       "  width: 0;\n",
       "}\n",
       "\n",
       "/* Serial-specific style estimator block */\n",
       "\n",
       "#sk-container-id-1 div.sk-serial {\n",
       "  display: flex;\n",
       "  flex-direction: column;\n",
       "  align-items: center;\n",
       "  background-color: var(--sklearn-color-background);\n",
       "  padding-right: 1em;\n",
       "  padding-left: 1em;\n",
       "}\n",
       "\n",
       "\n",
       "/* Toggleable style: style used for estimator/Pipeline/ColumnTransformer box that is\n",
       "clickable and can be expanded/collapsed.\n",
       "- Pipeline and ColumnTransformer use this feature and define the default style\n",
       "- Estimators will overwrite some part of the style using the `sk-estimator` class\n",
       "*/\n",
       "\n",
       "/* Pipeline and ColumnTransformer style (default) */\n",
       "\n",
       "#sk-container-id-1 div.sk-toggleable {\n",
       "  /* Default theme specific background. It is overwritten whether we have a\n",
       "  specific estimator or a Pipeline/ColumnTransformer */\n",
       "  background-color: var(--sklearn-color-background);\n",
       "}\n",
       "\n",
       "/* Toggleable label */\n",
       "#sk-container-id-1 label.sk-toggleable__label {\n",
       "  cursor: pointer;\n",
       "  display: block;\n",
       "  width: 100%;\n",
       "  margin-bottom: 0;\n",
       "  padding: 0.5em;\n",
       "  box-sizing: border-box;\n",
       "  text-align: center;\n",
       "}\n",
       "\n",
       "#sk-container-id-1 label.sk-toggleable__label-arrow:before {\n",
       "  /* Arrow on the left of the label */\n",
       "  content: \"▸\";\n",
       "  float: left;\n",
       "  margin-right: 0.25em;\n",
       "  color: var(--sklearn-color-icon);\n",
       "}\n",
       "\n",
       "#sk-container-id-1 label.sk-toggleable__label-arrow:hover:before {\n",
       "  color: var(--sklearn-color-text);\n",
       "}\n",
       "\n",
       "/* Toggleable content - dropdown */\n",
       "\n",
       "#sk-container-id-1 div.sk-toggleable__content {\n",
       "  max-height: 0;\n",
       "  max-width: 0;\n",
       "  overflow: hidden;\n",
       "  text-align: left;\n",
       "  /* unfitted */\n",
       "  background-color: var(--sklearn-color-unfitted-level-0);\n",
       "}\n",
       "\n",
       "#sk-container-id-1 div.sk-toggleable__content.fitted {\n",
       "  /* fitted */\n",
       "  background-color: var(--sklearn-color-fitted-level-0);\n",
       "}\n",
       "\n",
       "#sk-container-id-1 div.sk-toggleable__content pre {\n",
       "  margin: 0.2em;\n",
       "  border-radius: 0.25em;\n",
       "  color: var(--sklearn-color-text);\n",
       "  /* unfitted */\n",
       "  background-color: var(--sklearn-color-unfitted-level-0);\n",
       "}\n",
       "\n",
       "#sk-container-id-1 div.sk-toggleable__content.fitted pre {\n",
       "  /* unfitted */\n",
       "  background-color: var(--sklearn-color-fitted-level-0);\n",
       "}\n",
       "\n",
       "#sk-container-id-1 input.sk-toggleable__control:checked~div.sk-toggleable__content {\n",
       "  /* Expand drop-down */\n",
       "  max-height: 200px;\n",
       "  max-width: 100%;\n",
       "  overflow: auto;\n",
       "}\n",
       "\n",
       "#sk-container-id-1 input.sk-toggleable__control:checked~label.sk-toggleable__label-arrow:before {\n",
       "  content: \"▾\";\n",
       "}\n",
       "\n",
       "/* Pipeline/ColumnTransformer-specific style */\n",
       "\n",
       "#sk-container-id-1 div.sk-label input.sk-toggleable__control:checked~label.sk-toggleable__label {\n",
       "  color: var(--sklearn-color-text);\n",
       "  background-color: var(--sklearn-color-unfitted-level-2);\n",
       "}\n",
       "\n",
       "#sk-container-id-1 div.sk-label.fitted input.sk-toggleable__control:checked~label.sk-toggleable__label {\n",
       "  background-color: var(--sklearn-color-fitted-level-2);\n",
       "}\n",
       "\n",
       "/* Estimator-specific style */\n",
       "\n",
       "/* Colorize estimator box */\n",
       "#sk-container-id-1 div.sk-estimator input.sk-toggleable__control:checked~label.sk-toggleable__label {\n",
       "  /* unfitted */\n",
       "  background-color: var(--sklearn-color-unfitted-level-2);\n",
       "}\n",
       "\n",
       "#sk-container-id-1 div.sk-estimator.fitted input.sk-toggleable__control:checked~label.sk-toggleable__label {\n",
       "  /* fitted */\n",
       "  background-color: var(--sklearn-color-fitted-level-2);\n",
       "}\n",
       "\n",
       "#sk-container-id-1 div.sk-label label.sk-toggleable__label,\n",
       "#sk-container-id-1 div.sk-label label {\n",
       "  /* The background is the default theme color */\n",
       "  color: var(--sklearn-color-text-on-default-background);\n",
       "}\n",
       "\n",
       "/* On hover, darken the color of the background */\n",
       "#sk-container-id-1 div.sk-label:hover label.sk-toggleable__label {\n",
       "  color: var(--sklearn-color-text);\n",
       "  background-color: var(--sklearn-color-unfitted-level-2);\n",
       "}\n",
       "\n",
       "/* Label box, darken color on hover, fitted */\n",
       "#sk-container-id-1 div.sk-label.fitted:hover label.sk-toggleable__label.fitted {\n",
       "  color: var(--sklearn-color-text);\n",
       "  background-color: var(--sklearn-color-fitted-level-2);\n",
       "}\n",
       "\n",
       "/* Estimator label */\n",
       "\n",
       "#sk-container-id-1 div.sk-label label {\n",
       "  font-family: monospace;\n",
       "  font-weight: bold;\n",
       "  display: inline-block;\n",
       "  line-height: 1.2em;\n",
       "}\n",
       "\n",
       "#sk-container-id-1 div.sk-label-container {\n",
       "  text-align: center;\n",
       "}\n",
       "\n",
       "/* Estimator-specific */\n",
       "#sk-container-id-1 div.sk-estimator {\n",
       "  font-family: monospace;\n",
       "  border: 1px dotted var(--sklearn-color-border-box);\n",
       "  border-radius: 0.25em;\n",
       "  box-sizing: border-box;\n",
       "  margin-bottom: 0.5em;\n",
       "  /* unfitted */\n",
       "  background-color: var(--sklearn-color-unfitted-level-0);\n",
       "}\n",
       "\n",
       "#sk-container-id-1 div.sk-estimator.fitted {\n",
       "  /* fitted */\n",
       "  background-color: var(--sklearn-color-fitted-level-0);\n",
       "}\n",
       "\n",
       "/* on hover */\n",
       "#sk-container-id-1 div.sk-estimator:hover {\n",
       "  /* unfitted */\n",
       "  background-color: var(--sklearn-color-unfitted-level-2);\n",
       "}\n",
       "\n",
       "#sk-container-id-1 div.sk-estimator.fitted:hover {\n",
       "  /* fitted */\n",
       "  background-color: var(--sklearn-color-fitted-level-2);\n",
       "}\n",
       "\n",
       "/* Specification for estimator info (e.g. \"i\" and \"?\") */\n",
       "\n",
       "/* Common style for \"i\" and \"?\" */\n",
       "\n",
       ".sk-estimator-doc-link,\n",
       "a:link.sk-estimator-doc-link,\n",
       "a:visited.sk-estimator-doc-link {\n",
       "  float: right;\n",
       "  font-size: smaller;\n",
       "  line-height: 1em;\n",
       "  font-family: monospace;\n",
       "  background-color: var(--sklearn-color-background);\n",
       "  border-radius: 1em;\n",
       "  height: 1em;\n",
       "  width: 1em;\n",
       "  text-decoration: none !important;\n",
       "  margin-left: 1ex;\n",
       "  /* unfitted */\n",
       "  border: var(--sklearn-color-unfitted-level-1) 1pt solid;\n",
       "  color: var(--sklearn-color-unfitted-level-1);\n",
       "}\n",
       "\n",
       ".sk-estimator-doc-link.fitted,\n",
       "a:link.sk-estimator-doc-link.fitted,\n",
       "a:visited.sk-estimator-doc-link.fitted {\n",
       "  /* fitted */\n",
       "  border: var(--sklearn-color-fitted-level-1) 1pt solid;\n",
       "  color: var(--sklearn-color-fitted-level-1);\n",
       "}\n",
       "\n",
       "/* On hover */\n",
       "div.sk-estimator:hover .sk-estimator-doc-link:hover,\n",
       ".sk-estimator-doc-link:hover,\n",
       "div.sk-label-container:hover .sk-estimator-doc-link:hover,\n",
       ".sk-estimator-doc-link:hover {\n",
       "  /* unfitted */\n",
       "  background-color: var(--sklearn-color-unfitted-level-3);\n",
       "  color: var(--sklearn-color-background);\n",
       "  text-decoration: none;\n",
       "}\n",
       "\n",
       "div.sk-estimator.fitted:hover .sk-estimator-doc-link.fitted:hover,\n",
       ".sk-estimator-doc-link.fitted:hover,\n",
       "div.sk-label-container:hover .sk-estimator-doc-link.fitted:hover,\n",
       ".sk-estimator-doc-link.fitted:hover {\n",
       "  /* fitted */\n",
       "  background-color: var(--sklearn-color-fitted-level-3);\n",
       "  color: var(--sklearn-color-background);\n",
       "  text-decoration: none;\n",
       "}\n",
       "\n",
       "/* Span, style for the box shown on hovering the info icon */\n",
       ".sk-estimator-doc-link span {\n",
       "  display: none;\n",
       "  z-index: 9999;\n",
       "  position: relative;\n",
       "  font-weight: normal;\n",
       "  right: .2ex;\n",
       "  padding: .5ex;\n",
       "  margin: .5ex;\n",
       "  width: min-content;\n",
       "  min-width: 20ex;\n",
       "  max-width: 50ex;\n",
       "  color: var(--sklearn-color-text);\n",
       "  box-shadow: 2pt 2pt 4pt #999;\n",
       "  /* unfitted */\n",
       "  background: var(--sklearn-color-unfitted-level-0);\n",
       "  border: .5pt solid var(--sklearn-color-unfitted-level-3);\n",
       "}\n",
       "\n",
       ".sk-estimator-doc-link.fitted span {\n",
       "  /* fitted */\n",
       "  background: var(--sklearn-color-fitted-level-0);\n",
       "  border: var(--sklearn-color-fitted-level-3);\n",
       "}\n",
       "\n",
       ".sk-estimator-doc-link:hover span {\n",
       "  display: block;\n",
       "}\n",
       "\n",
       "/* \"?\"-specific style due to the `<a>` HTML tag */\n",
       "\n",
       "#sk-container-id-1 a.estimator_doc_link {\n",
       "  float: right;\n",
       "  font-size: 1rem;\n",
       "  line-height: 1em;\n",
       "  font-family: monospace;\n",
       "  background-color: var(--sklearn-color-background);\n",
       "  border-radius: 1rem;\n",
       "  height: 1rem;\n",
       "  width: 1rem;\n",
       "  text-decoration: none;\n",
       "  /* unfitted */\n",
       "  color: var(--sklearn-color-unfitted-level-1);\n",
       "  border: var(--sklearn-color-unfitted-level-1) 1pt solid;\n",
       "}\n",
       "\n",
       "#sk-container-id-1 a.estimator_doc_link.fitted {\n",
       "  /* fitted */\n",
       "  border: var(--sklearn-color-fitted-level-1) 1pt solid;\n",
       "  color: var(--sklearn-color-fitted-level-1);\n",
       "}\n",
       "\n",
       "/* On hover */\n",
       "#sk-container-id-1 a.estimator_doc_link:hover {\n",
       "  /* unfitted */\n",
       "  background-color: var(--sklearn-color-unfitted-level-3);\n",
       "  color: var(--sklearn-color-background);\n",
       "  text-decoration: none;\n",
       "}\n",
       "\n",
       "#sk-container-id-1 a.estimator_doc_link.fitted:hover {\n",
       "  /* fitted */\n",
       "  background-color: var(--sklearn-color-fitted-level-3);\n",
       "}\n",
       "</style><div id=\"sk-container-id-1\" class=\"sk-top-container\"><div class=\"sk-text-repr-fallback\"><pre>Pipeline(steps=[(&#x27;count&#x27;,\n",
       "                 CountVectorizer(lowercase=False, max_features=3000,\n",
       "                                 stop_words=&#x27;english&#x27;,\n",
       "                                 tokenizer=&lt;label_legends.preprocess.ConlluTokenizer object at 0x770d9a7050a0&gt;,\n",
       "                                 vocabulary={&#x27;!&#x27;: 0, &#x27;!!&#x27;: 1, &#x27;!!!&#x27;: 2,\n",
       "                                             &#x27;!!!!&#x27;: 3, &#x27;!!!!!&#x27;: 4, &#x27;!?&#x27;: 5,\n",
       "                                             &#x27;&quot;&#x27;: 6, &#x27;#&#x27;: 7, &#x27;#trump&#x27;: 8,\n",
       "                                             &#x27;#x200b&#x27;: 9, &#x27;$&#x27;: 10, &#x27;%&#x27;: 11,\n",
       "                                             &#x27;&amp;&#x27;: 12, &quot;&#x27;&quot;: 13, &quot;&#x27;&#x27;&quot;: 14,\n",
       "                                             &quot;&#x27;s&quot;: 15, &#x27;(&#x27;: 16, &#x27;)&#x27;: 17,\n",
       "                                             &#x27;*&#x27;: 18, &#x27;**&#x27;: 19, &#x27;**.&#x27;: 20,\n",
       "                                             &#x27;+&#x27;: 21, &#x27;,&#x27;: 22, &#x27;-&#x27;: 23,\n",
       "                                             &#x27;--&#x27;: 24, &#x27;---&#x27;: 25, &#x27;.&#x27;: 26,\n",
       "                                             &#x27;..&#x27;: 27, &#x27;...&#x27;: 28, &#x27;....&#x27;: 29, ...})),\n",
       "                (&#x27;tfidf&#x27;, TfidfTransformer())])</pre><b>In a Jupyter environment, please rerun this cell to show the HTML representation or trust the notebook. <br />On GitHub, the HTML representation is unable to render, please try loading this page with nbviewer.org.</b></div><div class=\"sk-container\" hidden><div class=\"sk-item sk-dashed-wrapped\"><div class=\"sk-label-container\"><div class=\"sk-label fitted sk-toggleable\"><input class=\"sk-toggleable__control sk-hidden--visually\" id=\"sk-estimator-id-1\" type=\"checkbox\" ><label for=\"sk-estimator-id-1\" class=\"sk-toggleable__label fitted sk-toggleable__label-arrow fitted\">&nbsp;&nbsp;Pipeline<a class=\"sk-estimator-doc-link fitted\" rel=\"noreferrer\" target=\"_blank\" href=\"https://scikit-learn.org/1.5/modules/generated/sklearn.pipeline.Pipeline.html\">?<span>Documentation for Pipeline</span></a><span class=\"sk-estimator-doc-link fitted\">i<span>Fitted</span></span></label><div class=\"sk-toggleable__content fitted\"><pre>Pipeline(steps=[(&#x27;count&#x27;,\n",
       "                 CountVectorizer(lowercase=False, max_features=3000,\n",
       "                                 stop_words=&#x27;english&#x27;,\n",
       "                                 tokenizer=&lt;label_legends.preprocess.ConlluTokenizer object at 0x770d9a7050a0&gt;,\n",
       "                                 vocabulary={&#x27;!&#x27;: 0, &#x27;!!&#x27;: 1, &#x27;!!!&#x27;: 2,\n",
       "                                             &#x27;!!!!&#x27;: 3, &#x27;!!!!!&#x27;: 4, &#x27;!?&#x27;: 5,\n",
       "                                             &#x27;&quot;&#x27;: 6, &#x27;#&#x27;: 7, &#x27;#trump&#x27;: 8,\n",
       "                                             &#x27;#x200b&#x27;: 9, &#x27;$&#x27;: 10, &#x27;%&#x27;: 11,\n",
       "                                             &#x27;&amp;&#x27;: 12, &quot;&#x27;&quot;: 13, &quot;&#x27;&#x27;&quot;: 14,\n",
       "                                             &quot;&#x27;s&quot;: 15, &#x27;(&#x27;: 16, &#x27;)&#x27;: 17,\n",
       "                                             &#x27;*&#x27;: 18, &#x27;**&#x27;: 19, &#x27;**.&#x27;: 20,\n",
       "                                             &#x27;+&#x27;: 21, &#x27;,&#x27;: 22, &#x27;-&#x27;: 23,\n",
       "                                             &#x27;--&#x27;: 24, &#x27;---&#x27;: 25, &#x27;.&#x27;: 26,\n",
       "                                             &#x27;..&#x27;: 27, &#x27;...&#x27;: 28, &#x27;....&#x27;: 29, ...})),\n",
       "                (&#x27;tfidf&#x27;, TfidfTransformer())])</pre></div> </div></div><div class=\"sk-serial\"><div class=\"sk-item\"><div class=\"sk-estimator fitted sk-toggleable\"><input class=\"sk-toggleable__control sk-hidden--visually\" id=\"sk-estimator-id-2\" type=\"checkbox\" ><label for=\"sk-estimator-id-2\" class=\"sk-toggleable__label fitted sk-toggleable__label-arrow fitted\">&nbsp;CountVectorizer<a class=\"sk-estimator-doc-link fitted\" rel=\"noreferrer\" target=\"_blank\" href=\"https://scikit-learn.org/1.5/modules/generated/sklearn.feature_extraction.text.CountVectorizer.html\">?<span>Documentation for CountVectorizer</span></a></label><div class=\"sk-toggleable__content fitted\"><pre>CountVectorizer(lowercase=False, max_features=3000, stop_words=&#x27;english&#x27;,\n",
       "                tokenizer=&lt;label_legends.preprocess.ConlluTokenizer object at 0x770d9a7050a0&gt;,\n",
       "                vocabulary={&#x27;!&#x27;: 0, &#x27;!!&#x27;: 1, &#x27;!!!&#x27;: 2, &#x27;!!!!&#x27;: 3, &#x27;!!!!!&#x27;: 4,\n",
       "                            &#x27;!?&#x27;: 5, &#x27;&quot;&#x27;: 6, &#x27;#&#x27;: 7, &#x27;#trump&#x27;: 8, &#x27;#x200b&#x27;: 9,\n",
       "                            &#x27;$&#x27;: 10, &#x27;%&#x27;: 11, &#x27;&amp;&#x27;: 12, &quot;&#x27;&quot;: 13, &quot;&#x27;&#x27;&quot;: 14,\n",
       "                            &quot;&#x27;s&quot;: 15, &#x27;(&#x27;: 16, &#x27;)&#x27;: 17, &#x27;*&#x27;: 18, &#x27;**&#x27;: 19,\n",
       "                            &#x27;**.&#x27;: 20, &#x27;+&#x27;: 21, &#x27;,&#x27;: 22, &#x27;-&#x27;: 23, &#x27;--&#x27;: 24,\n",
       "                            &#x27;---&#x27;: 25, &#x27;.&#x27;: 26, &#x27;..&#x27;: 27, &#x27;...&#x27;: 28, &#x27;....&#x27;: 29, ...})</pre></div> </div></div><div class=\"sk-item\"><div class=\"sk-estimator fitted sk-toggleable\"><input class=\"sk-toggleable__control sk-hidden--visually\" id=\"sk-estimator-id-3\" type=\"checkbox\" ><label for=\"sk-estimator-id-3\" class=\"sk-toggleable__label fitted sk-toggleable__label-arrow fitted\">&nbsp;TfidfTransformer<a class=\"sk-estimator-doc-link fitted\" rel=\"noreferrer\" target=\"_blank\" href=\"https://scikit-learn.org/1.5/modules/generated/sklearn.feature_extraction.text.TfidfTransformer.html\">?<span>Documentation for TfidfTransformer</span></a></label><div class=\"sk-toggleable__content fitted\"><pre>TfidfTransformer()</pre></div> </div></div></div></div></div></div>"
      ],
      "text/plain": [
       "Pipeline(steps=[('count',\n",
       "                 CountVectorizer(lowercase=False, max_features=3000,\n",
       "                                 stop_words='english',\n",
       "                                 tokenizer=<label_legends.preprocess.ConlluTokenizer object at 0x770d9a7050a0>,\n",
       "                                 vocabulary={'!': 0, '!!': 1, '!!!': 2,\n",
       "                                             '!!!!': 3, '!!!!!': 4, '!?': 5,\n",
       "                                             '\"': 6, '#': 7, '#trump': 8,\n",
       "                                             '#x200b': 9, '$': 10, '%': 11,\n",
       "                                             '&': 12, \"'\": 13, \"''\": 14,\n",
       "                                             \"'s\": 15, '(': 16, ')': 17,\n",
       "                                             '*': 18, '**': 19, '**.': 20,\n",
       "                                             '+': 21, ',': 22, '-': 23,\n",
       "                                             '--': 24, '---': 25, '.': 26,\n",
       "                                             '..': 27, '...': 28, '....': 29, ...})),\n",
       "                ('tfidf', TfidfTransformer())])"
      ]
     },
     "metadata": {},
     "output_type": "display_data"
    }
   ],
   "source": [
    "tfidf_pipeline().fit(token_lists(tra))"
   ]
  },
  {
   "cell_type": "code",
   "execution_count": 7,
   "id": "6d791d26",
   "metadata": {},
   "outputs": [],
   "source": [
    "X_train = tfidf_pipeline().transform(token_lists(tra))\n",
    "X_test = tfidf_pipeline().transform(token_lists(test))\n",
    "y_true = test[\"label\"].to_list()"
   ]
  },
  {
   "cell_type": "markdown",
   "id": "213c8b5e",
   "metadata": {},
   "source": [
    "# Fit model and predict\n",
    "\n",
    "Create a XGBClassifier object, fit it to the training data, optimize its hyperparameters based on the validation results.\n",
    "Once we decided on a parameter configuration, we test the model against the test set."
   ]
  },
  {
   "cell_type": "code",
   "execution_count": 8,
   "id": "e4fcd166",
   "metadata": {},
   "outputs": [],
   "source": [
    "def train(config: Configuration, seed: int = 0):\n",
    "    clf = XGBClassifier(\n",
    "        **dict(config),\n",
    "        seed=seed,\n",
    "        device=\"cuda\",\n",
    "        nthread=16)\n",
    "    clf.fit(X_train, tra.select(\"label\").to_series().to_torch().to(device=\"cuda\"))\n",
    "    y_pred = clf.predict(X_test)\n",
    "    scores = calculate_scores(y_true, y_pred)\n",
    "    return -scores.fscore"
   ]
  },
  {
   "cell_type": "code",
   "execution_count": 9,
   "id": "b9dc1a22",
   "metadata": {
    "lines_to_next_cell": 2
   },
   "outputs": [
    {
     "data": {
      "text/plain": [
       "[INFO][abstract_initial_design.py:147] Using 40 initial design configurations and 0 additional configurations.\n"
      ]
     },
     "metadata": {},
     "output_type": "display_data"
    },
    {
     "data": {
      "text/plain": [
       "[INFO][abstract_intensifier.py:516] Added config 40b74e as new incumbent because there are no incumbents yet.\n"
      ]
     },
     "metadata": {},
     "output_type": "display_data"
    },
    {
     "data": {
      "text/plain": [
       "/home/lukas/Programming/uni/nlp-ie-label-legends/.venv/lib/python3.12/site-packages/xgboost/core.py:158: UserWarning: [00:16:49] WARNING: /workspace/src/common/error_msg.cc:58: Falling back to prediction using DMatrix due to mismatched devices. This might lead to higher memory usage and slower performance. XGBoost is running on: cuda:0, while the input data is on: cpu.\n",
       "Potential solutions:\n",
       "- Use a data structure that matches the device ordinal in the booster.\n",
       "- Set the device for booster before call to inplace_predict.\n",
       "\n",
       "This warning will only be shown once.\n",
       "\n",
       "  warnings.warn(smsg, UserWarning)\n"
      ]
     },
     "metadata": {},
     "output_type": "display_data"
    },
    {
     "data": {
      "text/plain": [
       "[INFO][smbo.py:320] Finished 50 trials.\n"
      ]
     },
     "metadata": {},
     "output_type": "display_data"
    },
    {
     "data": {
      "text/plain": [
       "[INFO][smbo.py:320] Finished 100 trials.\n"
      ]
     },
     "metadata": {},
     "output_type": "display_data"
    },
    {
     "data": {
      "text/plain": [
       "[INFO][abstract_intensifier.py:595] Added config 4e3c28 and rejected config 40b74e as incumbent because it is not better than the incumbents on 3 instances:\n"
      ]
     },
     "metadata": {},
     "output_type": "display_data"
    },
    {
     "data": {
      "text/plain": [
       "[INFO][abstract_intensifier.py:595] Added config 97b425 and rejected config 4e3c28 as incumbent because it is not better than the incumbents on 3 instances:\n"
      ]
     },
     "metadata": {},
     "output_type": "display_data"
    },
    {
     "data": {
      "text/plain": [
       "[INFO][smbo.py:320] Finished 150 trials.\n"
      ]
     },
     "metadata": {},
     "output_type": "display_data"
    },
    {
     "data": {
      "text/plain": [
       "[INFO][smbo.py:320] Finished 200 trials.\n"
      ]
     },
     "metadata": {},
     "output_type": "display_data"
    },
    {
     "data": {
      "text/plain": [
       "[INFO][abstract_intensifier.py:595] Added config fc991c and rejected config 97b425 as incumbent because it is not better than the incumbents on 3 instances:\n"
      ]
     },
     "metadata": {},
     "output_type": "display_data"
    },
    {
     "data": {
      "text/plain": [
       "[INFO][abstract_intensifier.py:595] Added config 6b0e06 and rejected config fc991c as incumbent because it is not better than the incumbents on 3 instances:\n"
      ]
     },
     "metadata": {},
     "output_type": "display_data"
    },
    {
     "data": {
      "text/plain": [
       "[INFO][smbo.py:320] Finished 250 trials.\n"
      ]
     },
     "metadata": {},
     "output_type": "display_data"
    },
    {
     "data": {
      "text/plain": [
       "[INFO][abstract_intensifier.py:595] Added config 70cb16 and rejected config 6b0e06 as incumbent because it is not better than the incumbents on 3 instances:\n"
      ]
     },
     "metadata": {},
     "output_type": "display_data"
    },
    {
     "data": {
      "text/plain": [
       "[INFO][smbo.py:320] Finished 300 trials.\n"
      ]
     },
     "metadata": {},
     "output_type": "display_data"
    },
    {
     "data": {
      "text/plain": [
       "[INFO][abstract_intensifier.py:595] Added config a76584 and rejected config 70cb16 as incumbent because it is not better than the incumbents on 3 instances:\n"
      ]
     },
     "metadata": {},
     "output_type": "display_data"
    },
    {
     "data": {
      "text/plain": [
       "[INFO][smbo.py:320] Finished 350 trials.\n"
      ]
     },
     "metadata": {},
     "output_type": "display_data"
    },
    {
     "data": {
      "text/plain": [
       "[INFO][abstract_intensifier.py:595] Added config 5a5da5 and rejected config a76584 as incumbent because it is not better than the incumbents on 3 instances:\n"
      ]
     },
     "metadata": {},
     "output_type": "display_data"
    },
    {
     "data": {
      "text/plain": [
       "[INFO][smbo.py:320] Finished 400 trials.\n"
      ]
     },
     "metadata": {},
     "output_type": "display_data"
    },
    {
     "data": {
      "text/plain": [
       "[INFO][smbo.py:320] Finished 450 trials.\n"
      ]
     },
     "metadata": {},
     "output_type": "display_data"
    },
    {
     "data": {
      "text/plain": [
       "[INFO][smbo.py:320] Finished 500 trials.\n"
      ]
     },
     "metadata": {},
     "output_type": "display_data"
    },
    {
     "data": {
      "text/plain": [
       "[INFO][smbo.py:320] Finished 550 trials.\n"
      ]
     },
     "metadata": {},
     "output_type": "display_data"
    },
    {
     "data": {
      "text/plain": [
       "[INFO][smbo.py:320] Finished 600 trials.\n"
      ]
     },
     "metadata": {},
     "output_type": "display_data"
    },
    {
     "data": {
      "text/plain": [
       "[INFO][smbo.py:320] Finished 650 trials.\n"
      ]
     },
     "metadata": {},
     "output_type": "display_data"
    },
    {
     "data": {
      "text/plain": [
       "[INFO][smbo.py:320] Finished 700 trials.\n"
      ]
     },
     "metadata": {},
     "output_type": "display_data"
    },
    {
     "data": {
      "text/plain": [
       "[INFO][smbo.py:320] Finished 750 trials.\n"
      ]
     },
     "metadata": {},
     "output_type": "display_data"
    },
    {
     "data": {
      "text/plain": [
       "[INFO][smbo.py:320] Finished 800 trials.\n"
      ]
     },
     "metadata": {},
     "output_type": "display_data"
    },
    {
     "data": {
      "text/plain": [
       "[INFO][smbo.py:320] Finished 850 trials.\n"
      ]
     },
     "metadata": {},
     "output_type": "display_data"
    },
    {
     "data": {
      "text/plain": [
       "[INFO][smbo.py:320] Finished 900 trials.\n"
      ]
     },
     "metadata": {},
     "output_type": "display_data"
    },
    {
     "data": {
      "text/plain": [
       "[INFO][smbo.py:320] Finished 950 trials.\n"
      ]
     },
     "metadata": {},
     "output_type": "display_data"
    },
    {
     "data": {
      "text/plain": [
       "[INFO][smbo.py:320] Finished 1000 trials.\n"
      ]
     },
     "metadata": {},
     "output_type": "display_data"
    },
    {
     "data": {
      "text/plain": [
       "[INFO][smbo.py:320] Finished 1050 trials.\n"
      ]
     },
     "metadata": {},
     "output_type": "display_data"
    },
    {
     "data": {
      "text/plain": [
       "[INFO][abstract_intensifier.py:595] Added config 39e110 and rejected config 5a5da5 as incumbent because it is not better than the incumbents on 3 instances:\n"
      ]
     },
     "metadata": {},
     "output_type": "display_data"
    },
    {
     "data": {
      "text/plain": [
       "[INFO][smbo.py:320] Finished 1100 trials.\n"
      ]
     },
     "metadata": {},
     "output_type": "display_data"
    },
    {
     "data": {
      "text/plain": [
       "[INFO][smbo.py:320] Finished 1150 trials.\n"
      ]
     },
     "metadata": {},
     "output_type": "display_data"
    },
    {
     "data": {
      "text/plain": [
       "[INFO][smbo.py:320] Finished 1200 trials.\n"
      ]
     },
     "metadata": {},
     "output_type": "display_data"
    },
    {
     "data": {
      "text/plain": [
       "[INFO][abstract_intensifier.py:595] Added config 1231dc and rejected config 39e110 as incumbent because it is not better than the incumbents on 3 instances:\n"
      ]
     },
     "metadata": {},
     "output_type": "display_data"
    },
    {
     "data": {
      "text/plain": [
       "[INFO][smbo.py:320] Finished 1250 trials.\n"
      ]
     },
     "metadata": {},
     "output_type": "display_data"
    },
    {
     "data": {
      "text/plain": [
       "[INFO][smbo.py:328] Configuration budget is exhausted:\n"
      ]
     },
     "metadata": {},
     "output_type": "display_data"
    },
    {
     "data": {
      "text/plain": [
       "[INFO][smbo.py:329] --- Remaining wallclock time: -2.754801034927368\n"
      ]
     },
     "metadata": {},
     "output_type": "display_data"
    },
    {
     "data": {
      "text/plain": [
       "[INFO][smbo.py:330] --- Remaining cpu time: inf\n"
      ]
     },
     "metadata": {},
     "output_type": "display_data"
    },
    {
     "data": {
      "text/plain": [
       "[INFO][smbo.py:331] --- Remaining trials: 25\n"
      ]
     },
     "metadata": {},
     "output_type": "display_data"
    }
   ],
   "source": [
    "configspace = ConfigurationSpace({\n",
    "    \"booster\": [\"gbtree\", \"dart\"], \n",
    "    \"eta\": (0.1, 0.6),\n",
    "    \"gamma\": (0.0, 100.0),\n",
    "    \"max_depth\": (6, 12)\n",
    "})\n",
    "scenario = Scenario(configspace, deterministic=False, n_trials=1300,n_workers=1, seed=SEED, walltime_limit=1800, cputime_limit=float(\"inf\"))\n",
    "smac = HyperparameterOptimizationFacade(scenario, train)\n",
    "incumbent = smac.optimize()"
   ]
  },
  {
   "cell_type": "code",
   "execution_count": 15,
   "id": "67063a05",
   "metadata": {},
   "outputs": [
    {
     "data": {
      "text/plain": [
       "-0.5569620253164557"
      ]
     },
     "metadata": {},
     "output_type": "display_data"
    }
   ],
   "source": [
    "smac.validate(incumbent)"
   ]
  },
  {
   "cell_type": "code",
   "execution_count": 16,
   "id": "68251885",
   "metadata": {},
   "outputs": [
    {
     "data": {
      "text/plain": [
       "Configuration(values={\n",
       "  'booster': 'dart',\n",
       "  'eta': 0.5306648303854,\n",
       "  'gamma': 2.9471280917046,\n",
       "  'max_depth': 12,\n",
       "})"
      ]
     },
     "metadata": {},
     "output_type": "display_data"
    }
   ],
   "source": [
    "incumbent"
   ]
  },
  {
   "cell_type": "markdown",
   "id": "17aeed79",
   "metadata": {
    "lines_to_next_cell": 0
   },
   "source": [
    "Train the model based on the optimized parameters:"
   ]
  },
  {
   "cell_type": "code",
   "execution_count": 17,
   "id": "1cef43fe",
   "metadata": {
    "lines_to_next_cell": 0
   },
   "outputs": [
    {
     "data": {
      "text/plain": [
       "precision:\t0.7254\n",
       "recall:\t\t0.4520\n",
       "fscore:\t\t0.5570\n",
       "accuracy:\t0.8133\n",
       "tn: 8352\t fp: 533\n",
       "fn: 1707\t tp: 1408\n"
      ]
     },
     "metadata": {},
     "output_type": "display_data"
    }
   ],
   "source": [
    "clf = XGBClassifier(**dict(incumbent), device=\"gpu\", seed=SEED)\n",
    "clf.fit(X_train, tra[\"label\"].to_torch())\n",
    "y_pred = clf.predict(X_test)\n",
    "scores = calculate_scores(y_true, y_pred)\n",
    "print(scores)"
   ]
  },
  {
   "cell_type": "markdown",
   "id": "8d7fb9a5",
   "metadata": {},
   "source": [
    "\n",
    "\n"
   ]
  },
  {
   "cell_type": "code",
   "execution_count": 18,
   "id": "9bb0557b",
   "metadata": {},
   "outputs": [
    {
     "data": {
      "image/png": "[encoded data removed]",
      "text/plain": [
       "<Figure size 640x480 with 2 Axes>"
      ]
     },
     "metadata": {},
     "output_type": "display_data"
    }
   ],
   "source": [
    "disp = ConfusionMatrixDisplay(confusion_matrix=scores.confusion_matrix(), display_labels=[\"Not Sexist\", \"Sexist\"]).plot(cmap=\"Blues\")"
   ]
  },
  {
   "cell_type": "markdown",
   "id": "52803c3f",
   "metadata": {
    "lines_to_next_cell": 0
   },
   "source": [
    "We improve with the hyperoptimization from a fscore of 51.5% for the default configuration to a fscore of 55.7% for the best found parameter configuration. Both the test set and the validation yield very similar performance metrics, indictating that no overfit by the optimization process is present.\n",
    "\n",
    "# Report model to MLflow\n",
    "The optimized model is uploaded to our [self hosted mlflow](https://mlflow.mahluke.page) for documentation purposes."
   ]
  },
  {
   "cell_type": "code",
   "execution_count": 19,
   "id": "a749fff7",
   "metadata": {},
   "outputs": [
    {
     "data": {
      "text/plain": [
       "/home/lukas/Programming/uni/nlp-ie-label-legends/.venv/lib/python3.12/site-packages/xgboost/core.py:158: UserWarning: [00:48:07] WARNING: /workspace/src/c_api/c_api.cc:1374: Saving model in the UBJSON format as default.  You can use file extension: `json`, `ubj` or `deprecated` to choose between formats.\n",
       "  warnings.warn(smsg, UserWarning)\n"
      ]
     },
     "metadata": {},
     "output_type": "display_data"
    },
    {
     "data": {
      "text/plain": [
       "2024/12/15 00:48:09 WARNING mlflow.utils.environment: Failed to resolve installed pip version. ``pip`` will be added to conda.yaml environment spec without a version specifier.\n"
      ]
     },
     "metadata": {},
     "output_type": "display_data"
    },
    {
     "data": {
      "text/plain": [
       "Registered model 'xgboost' already exists. Creating a new version of this model...\n"
      ]
     },
     "metadata": {},
     "output_type": "display_data"
    },
    {
     "data": {
      "text/plain": [
       "2024/12/15 00:48:12 INFO mlflow.store.model_registry.abstract_store: Waiting up to 300 seconds for model version to finish creation. Model name: xgboost, version 4\n"
      ]
     },
     "metadata": {},
     "output_type": "display_data"
    },
    {
     "data": {
      "text/plain": [
       "Created version '4' of model 'xgboost'.\n"
      ]
     },
     "metadata": {},
     "output_type": "display_data"
    },
    {
     "data": {
      "text/plain": [
       "🏃 View run xgboost hyperopt at: https://mlflow.mahluke.page/#/experiments/769295261228132607/runs/629244bc27484e8baaa34e8ffb5dea18\n",
       "🧪 View experiment at: https://mlflow.mahluke.page/#/experiments/769295261228132607\n"
      ]
     },
     "metadata": {},
     "output_type": "display_data"
    }
   ],
   "source": [
    "with mlflow.start_run(\n",
    "        experiment_id=get_experiment().experiment_id, \n",
    "        run_name=\"xgboost hyperopt\"\n",
    "        ):\n",
    "    mlflow.log_params(clf.get_xgb_params())\n",
    "    mlflow.log_metrics(scores.asdict())\n",
    "    mlflow.set_tag(\"model\", \"XGBoost\")\n",
    "    signature = infer_signature(X_train, clf.predict(X_train))\n",
    "    mlflow.log_table({\"id\": test[\"id\"], \"prediction\": y_pred}, \"predictions.json\")\n",
    "    mlflow.log_figure(disp.figure_, \"confusion_matrix.png\")\n",
    "\n",
    "    # log the model\n",
    "    model_info: ModelInfo = mlflow.xgboost.log_model(\n",
    "        clf,\n",
    "        \"\",\n",
    "        signature=signature,\n",
    "        registered_model_name=\"xgboost\",\n",
    "    )\n",
    "client().set_registered_model_alias(\"xgboost\", \"current\", model_info.registered_model_version)"
   ]
  },
  {
   "cell_type": "markdown",
   "id": "399ea699",
   "metadata": {},
   "source": [
    "# Load predictions from MLflow\n",
    "The following cells show how we can interact with mlflow to download the predictions and load them into polars."
   ]
  },
  {
   "cell_type": "code",
   "execution_count": 17,
   "id": "2fea726d",
   "metadata": {
    "lines_to_next_cell": 0
   },
   "outputs": [
    {
     "data": {
      "text/plain": [
       "<ModelVersion: aliases=['current'], creation_timestamp=1734211663455, current_stage='None', description='', last_updated_timestamp=1734211663455, name='xgboost', run_id='0bf1017dcd3f4639825f044f082aa851', run_link='', source='mlflow-artifacts:/769295261228132607/0bf1017dcd3f4639825f044f082aa851/artifacts', status='READY', status_message='', tags={}, user_id='', version='2'>"
      ]
     },
     "metadata": {},
     "output_type": "display_data"
    }
   ],
   "source": [
    "get_current(\"xgboost\")"
   ]
  },
  {
   "cell_type": "code",
   "execution_count": 21,
   "id": "5c582931",
   "metadata": {
    "lines_to_next_cell": 0
   },
   "outputs": [
    {
     "data": {
      "text/plain": [
       "Downloading artifacts: 100%|██████████| 1/1 [00:00<00:00,  1.83it/s]"
      ]
     },
     "metadata": {},
     "output_type": "display_data"
    },
    {
     "data": {
      "text/plain": [
       "\n"
      ]
     },
     "metadata": {},
     "output_type": "display_data"
    }
   ],
   "source": [
    "download_conf_mat(\"xgboost\")"
   ]
  },
  {
   "cell_type": "code",
   "execution_count": 18,
   "id": "0bf5dae3",
   "metadata": {
    "lines_to_next_cell": 0
   },
   "outputs": [
    {
     "data": {
      "text/plain": [
       "Downloading artifacts: 100%|██████████| 1/1 [00:00<00:00,  2.73it/s]"
      ]
     },
     "metadata": {},
     "output_type": "display_data"
    },
    {
     "data": {
      "text/plain": [
       "\n"
      ]
     },
     "metadata": {},
     "output_type": "display_data"
    }
   ],
   "source": [
    "# Download the most recent predictions of the model\n",
    "download_predictions(\"xgboost\")\n"
   ]
  },
  {
   "cell_type": "code",
   "execution_count": 19,
   "id": "dcfea7ec",
   "metadata": {},
   "outputs": [
    {
     "data": {
      "text/html": [
       "<div><style>\n",
       ".dataframe > thead > tr,\n",
       ".dataframe > tbody > tr {\n",
       "  text-align: right;\n",
       "  white-space: pre-wrap;\n",
       "}\n",
       "</style>\n",
       "<small>shape: (5, 2)</small><table border=\"1\" class=\"dataframe\"><thead><tr><th>id</th><th>prediction</th></tr><tr><td>i64</td><td>i64</td></tr></thead><tbody><tr><td>100</td><td>0</td></tr><tr><td>10005</td><td>1</td></tr><tr><td>10006</td><td>1</td></tr><tr><td>10007</td><td>1</td></tr><tr><td>10008</td><td>0</td></tr></tbody></table></div>"
      ],
      "text/plain": [
       "shape: (5, 2)\n",
       "┌───────┬────────────┐\n",
       "│ id    ┆ prediction │\n",
       "│ ---   ┆ ---        │\n",
       "│ i64   ┆ i64        │\n",
       "╞═══════╪════════════╡\n",
       "│ 100   ┆ 0          │\n",
       "│ 10005 ┆ 1          │\n",
       "│ 10006 ┆ 1          │\n",
       "│ 10007 ┆ 1          │\n",
       "│ 10008 ┆ 0          │\n",
       "└───────┴────────────┘"
      ]
     },
     "metadata": {},
     "output_type": "display_data"
    }
   ],
   "source": [
    "load_predictions(\"xgboost\").head()"
   ]
  }
 ],
 "metadata": {
  "kernelspec": {
   "display_name": "Python 3",
   "language": "python",
   "name": "python3"
  },
  "language_info": {
   "codemirror_mode": {
    "name": "ipython"
   },
   "file_extension": ".py",
   "mimetype": "text/x-python",
   "name": "python",
   "nbconvert_exporter": "python",
   "pygments_lexer": "ipython3"
  }
 },
 "nbformat": 4,
 "nbformat_minor": 5
}
