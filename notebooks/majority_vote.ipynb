{
 "cells": [
  {
   "cell_type": "markdown",
   "metadata": {},
   "source": [
    "# Majority vote labeling"
   ]
  },
  {
   "cell_type": "code",
   "execution_count": 80,
   "metadata": {},
   "outputs": [
    {
     "ename": "ImportError",
     "evalue": "cannot import name 'majority' from 'label_legends.preprocess' (/Users/retipeter/Documents/TU Wien/NLP/nlp-ie-label-legends/src/label_legends/preprocess.py)",
     "output_type": "error",
     "traceback": [
      "\u001b[0;31m---------------------------------------------------------------------------\u001b[0m",
      "\u001b[0;31mImportError\u001b[0m                               Traceback (most recent call last)",
      "Cell \u001b[0;32mIn[80], line 1\u001b[0m\n\u001b[0;32m----> 1\u001b[0m \u001b[38;5;28;01mfrom\u001b[39;00m \u001b[38;5;21;01mlabel_legends\u001b[39;00m\u001b[38;5;21;01m.\u001b[39;00m\u001b[38;5;21;01mpreprocess\u001b[39;00m \u001b[38;5;28;01mimport\u001b[39;00m load_data, transform, majority\n\u001b[1;32m      2\u001b[0m \u001b[38;5;28;01mfrom\u001b[39;00m \u001b[38;5;21;01mcollections\u001b[39;00m \u001b[38;5;28;01mimport\u001b[39;00m Counter\n\u001b[1;32m      3\u001b[0m \u001b[38;5;28;01mimport\u001b[39;00m \u001b[38;5;21;01mpolars\u001b[39;00m \u001b[38;5;28;01mas\u001b[39;00m \u001b[38;5;21;01mpl\u001b[39;00m\n",
      "\u001b[0;31mImportError\u001b[0m: cannot import name 'majority' from 'label_legends.preprocess' (/Users/retipeter/Documents/TU Wien/NLP/nlp-ie-label-legends/src/label_legends/preprocess.py)"
     ]
    }
   ],
   "source": [
    "from label_legends.preprocess import load_data, transform, majority\n",
    "from collections import Counter\n",
    "import polars as pl"
   ]
  },
  {
   "cell_type": "code",
   "execution_count": 75,
   "metadata": {},
   "outputs": [
    {
     "data": {
      "text/html": [
       "<div><style>\n",
       ".dataframe > thead > tr,\n",
       ".dataframe > tbody > tr {\n",
       "  text-align: right;\n",
       "  white-space: pre-wrap;\n",
       "}\n",
       "</style>\n",
       "<small>shape: (20_000, 6)</small><table border=\"1\" class=\"dataframe\"><thead><tr><th>rewire_id_number</th><th>label_sum</th><th>text</th><th>tokens</th><th>token_ids</th><th>label</th></tr><tr><td>i64</td><td>i64</td><td>str</td><td>list[str]</td><td>list[i64]</td><td>i32</td></tr></thead><tbody><tr><td>10784</td><td>1</td><td>&quot;♫ #NowPlaying ♫ &gt; Marina and T…</td><td>[&quot;♫&quot;, &quot;#&quot;, … &quot;gaogirl&quot;]</td><td>[3000, 7, … 3000]</td><td>0</td></tr><tr><td>8021</td><td>2</td><td>&quot;She could just be an A) attent…</td><td>[&quot;just&quot;, &quot;)&quot;, … &quot;.&quot;]</td><td>[1483, 17, … 26]</td><td>1</td></tr><tr><td>14422</td><td>0</td><td>&quot;/u/xQueen-Bx Atlas, you need t…</td><td>[&quot;/u/xqueen&quot;, &quot;-&quot;, … &quot;!&quot;]</td><td>[3000, 23, … 0]</td><td>0</td></tr><tr><td>17045</td><td>0</td><td>&quot;Yet it isn&#x27;t over for abusers …</td><td>[&quot;abuser&quot;, &quot;serial&quot;, … &quot;.&quot;]</td><td>[116, 2369, … 26]</td><td>0</td></tr><tr><td>11022</td><td>0</td><td>&quot;🚨 IMPORTANT MESSAGE 🚨 Higher P…</td><td>[&quot;🚨&quot;, &quot;important&quot;, … &quot;unitethewhite&quot;]</td><td>[3000, 1363, … 3000]</td><td>0</td></tr><tr><td>&hellip;</td><td>&hellip;</td><td>&hellip;</td><td>&hellip;</td><td>&hellip;</td><td>&hellip;</td></tr><tr><td>6523</td><td>0</td><td>&quot;I’m losing weight to make girl…</td><td>[&quot;lose&quot;, &quot;weight&quot;, … &quot;pretty&quot;]</td><td>[1612, 2904, … 2071]</td><td>0</td></tr><tr><td>17798</td><td>1</td><td>&quot;She sounds insecure , Sounds l…</td><td>[&quot;sound&quot;, &quot;insecure&quot;, … &quot;.&quot;]</td><td>[2504, 1400, … 26]</td><td>0</td></tr><tr><td>5633</td><td>0</td><td>&quot;what did she say? you remind m…</td><td>[&quot;say&quot;, &quot;?&quot;, … &quot;?&quot;]</td><td>[2331, 98, … 98]</td><td>0</td></tr><tr><td>11763</td><td>3</td><td>&quot;you have to realize that in to…</td><td>[&quot;realize&quot;, &quot;today&quot;, … &quot;.&quot;]</td><td>[2193, 2716, … 26]</td><td>1</td></tr><tr><td>1956</td><td>0</td><td>&quot; No shit she has AIDS. What do…</td><td>[&quot;shit&quot;, &quot;aids&quot;, … &quot;micdrop&quot;]</td><td>[2401, 3000, … 3000]</td><td>0</td></tr></tbody></table></div>"
      ],
      "text/plain": [
       "shape: (20_000, 6)\n",
       "┌──────────────────┬───────────┬───────────────────┬───────────────────┬───────────────────┬───────┐\n",
       "│ rewire_id_number ┆ label_sum ┆ text              ┆ tokens            ┆ token_ids         ┆ label │\n",
       "│ ---              ┆ ---       ┆ ---               ┆ ---               ┆ ---               ┆ ---   │\n",
       "│ i64              ┆ i64       ┆ str               ┆ list[str]         ┆ list[i64]         ┆ i32   │\n",
       "╞══════════════════╪═══════════╪═══════════════════╪═══════════════════╪═══════════════════╪═══════╡\n",
       "│ 10784            ┆ 1         ┆ ♫ #NowPlaying ♫ > ┆ [\"♫\", \"#\", …      ┆ [3000, 7, … 3000] ┆ 0     │\n",
       "│                  ┆           ┆ Marina and T…     ┆ \"gaogirl\"]        ┆                   ┆       │\n",
       "│ 8021             ┆ 2         ┆ She could just be ┆ [\"just\", \")\", …   ┆ [1483, 17, … 26]  ┆ 1     │\n",
       "│                  ┆           ┆ an A) attent…     ┆ \".\"]              ┆                   ┆       │\n",
       "│ 14422            ┆ 0         ┆ /u/xQueen-Bx      ┆ [\"/u/xqueen\",     ┆ [3000, 23, … 0]   ┆ 0     │\n",
       "│                  ┆           ┆ Atlas, you need   ┆ \"-\", … \"!\"]       ┆                   ┆       │\n",
       "│                  ┆           ┆ t…                ┆                   ┆                   ┆       │\n",
       "│ 17045            ┆ 0         ┆ Yet it isn't over ┆ [\"abuser\",        ┆ [116, 2369, … 26] ┆ 0     │\n",
       "│                  ┆           ┆ for abusers …     ┆ \"serial\", … \".\"]  ┆                   ┆       │\n",
       "│ 11022            ┆ 0         ┆ 🚨 IMPORTANT      ┆ [\"🚨\",            ┆ [3000, 1363, …    ┆ 0     │\n",
       "│                  ┆           ┆ MESSAGE 🚨 Higher ┆ \"important\", …    ┆ 3000]             ┆       │\n",
       "│                  ┆           ┆ P…                ┆ \"unitethe…        ┆                   ┆       │\n",
       "│ …                ┆ …         ┆ …                 ┆ …                 ┆ …                 ┆ …     │\n",
       "│ 6523             ┆ 0         ┆ I’m losing weight ┆ [\"lose\",          ┆ [1612, 2904, …    ┆ 0     │\n",
       "│                  ┆           ┆ to make girl…     ┆ \"weight\", …       ┆ 2071]             ┆       │\n",
       "│                  ┆           ┆                   ┆ \"pretty\"]         ┆                   ┆       │\n",
       "│ 17798            ┆ 1         ┆ She sounds        ┆ [\"sound\",         ┆ [2504, 1400, …    ┆ 0     │\n",
       "│                  ┆           ┆ insecure , Sounds ┆ \"insecure\", …     ┆ 26]               ┆       │\n",
       "│                  ┆           ┆ l…                ┆ \".\"]              ┆                   ┆       │\n",
       "│ 5633             ┆ 0         ┆ what did she say? ┆ [\"say\", \"?\", …    ┆ [2331, 98, … 98]  ┆ 0     │\n",
       "│                  ┆           ┆ you remind m…     ┆ \"?\"]              ┆                   ┆       │\n",
       "│ 11763            ┆ 3         ┆ you have to       ┆ [\"realize\",       ┆ [2193, 2716, …    ┆ 1     │\n",
       "│                  ┆           ┆ realize that in   ┆ \"today\", … \".\"]   ┆ 26]               ┆       │\n",
       "│                  ┆           ┆ to…               ┆                   ┆                   ┆       │\n",
       "│ 1956             ┆ 0         ┆ No shit she has   ┆ [\"shit\", \"aids\",  ┆ [2401, 3000, …    ┆ 0     │\n",
       "│                  ┆           ┆ AIDS. What do…    ┆ … \"micdrop\"]      ┆ 3000]             ┆       │\n",
       "└──────────────────┴───────────┴───────────────────┴───────────────────┴───────────────────┴───────┘"
      ]
     },
     "execution_count": 75,
     "metadata": {},
     "output_type": "execute_result"
    }
   ],
   "source": [
    "df1 = load_data().collect()\n",
    "df2 = transform(df1)\n",
    "df2 = df2.with_columns(df1.select(\"rewire_id\"))\n",
    "df2 = df2.with_columns(\n",
    "    pl.col(\"rewire_id\").str.extract(r\"(\\d+)$\", 1).cast(pl.Int64).alias(\"rewire_id_number\")\n",
    ")\n",
    "set_label = df2.group_by(\"rewire_id_number\").agg([\n",
    "    pl.col(\"label\").sum().alias(\"label_sum\"),\n",
    "    pl.col(\"text\").first().alias(\"text\"),\n",
    "    pl.col(\"tokens\").first().alias(\"tokens\"),\n",
    "    pl.col(\"token_ids\").first().alias(\"token_ids\")\n",
    "    ]\n",
    ")\n",
    "set_label = set_label.with_columns(\n",
    "    pl.when(pl.col(\"label_sum\") >= 2).then(1).otherwise(0).alias(\"label\")  # Conditional update for 'label'\n",
    ")\n",
    "set_label"
   ]
  },
  {
   "cell_type": "code",
   "execution_count": 76,
   "metadata": {},
   "outputs": [
    {
     "ename": "NameError",
     "evalue": "name 'majority' is not defined",
     "output_type": "error",
     "traceback": [
      "\u001b[0;31m---------------------------------------------------------------------------\u001b[0m",
      "\u001b[0;31mNameError\u001b[0m                                 Traceback (most recent call last)",
      "Cell \u001b[0;32mIn[76], line 1\u001b[0m\n\u001b[0;32m----> 1\u001b[0m \u001b[43mmajority\u001b[49m\n",
      "\u001b[0;31mNameError\u001b[0m: name 'majority' is not defined"
     ]
    }
   ],
   "source": [
    "majority"
   ]
  }
 ],
 "metadata": {
  "kernelspec": {
   "display_name": ".venv",
   "language": "python",
   "name": "python3"
  },
  "language_info": {
   "codemirror_mode": {
    "name": "ipython",
    "version": 3
   },
   "file_extension": ".py",
   "mimetype": "text/x-python",
   "name": "python",
   "nbconvert_exporter": "python",
   "pygments_lexer": "ipython3",
   "version": "3.12.7"
  }
 },
 "nbformat": 4,
 "nbformat_minor": 2
}
