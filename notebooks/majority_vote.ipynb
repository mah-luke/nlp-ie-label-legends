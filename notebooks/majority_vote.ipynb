{
 "cells": [
  {
   "cell_type": "markdown",
   "metadata": {},
   "source": [
    "# Majority vote labeling"
   ]
  },
  {
   "cell_type": "code",
   "execution_count": 1,
   "metadata": {},
   "outputs": [
    {
     "name": "stderr",
     "output_type": "stream",
     "text": [
      "/Users/retipeter/Documents/TU Wien/NLP/nlp-ie-label-legends/.venv/lib/python3.12/site-packages/tqdm/auto.py:21: TqdmWarning: IProgress not found. Please update jupyter and ipywidgets. See https://ipywidgets.readthedocs.io/en/stable/user_install.html\n",
      "  from .autonotebook import tqdm as notebook_tqdm\n"
     ]
    }
   ],
   "source": [
    "from label_legends.preprocess import load_data, transform, majority\n",
    "import polars as pl"
   ]
  },
  {
   "cell_type": "markdown",
   "metadata": {},
   "source": [
    "## Function that is basically the majority in the preprocessing.py"
   ]
  },
  {
   "cell_type": "code",
   "execution_count": 2,
   "metadata": {},
   "outputs": [
    {
     "name": "stderr",
     "output_type": "stream",
     "text": [
      "/Users/retipeter/Documents/TU Wien/NLP/nlp-ie-label-legends/.venv/lib/python3.12/site-packages/sklearn/feature_extraction/text.py:521: UserWarning: The parameter 'token_pattern' will not be used since 'tokenizer' is not None'\n",
      "  warnings.warn(\n"
     ]
    },
    {
     "data": {
      "text/html": [
       "<div><style>\n",
       ".dataframe > thead > tr,\n",
       ".dataframe > tbody > tr {\n",
       "  text-align: right;\n",
       "  white-space: pre-wrap;\n",
       "}\n",
       "</style>\n",
       "<small>shape: (20_000, 6)</small><table border=\"1\" class=\"dataframe\"><thead><tr><th>rewire_id_number</th><th>label_sum</th><th>text</th><th>tokens</th><th>token_ids</th><th>label</th></tr><tr><td>i64</td><td>i64</td><td>str</td><td>list[str]</td><td>list[i64]</td><td>i32</td></tr></thead><tbody><tr><td>16804</td><td>0</td><td>&quot;This boomer seems very angry a…</td><td>[&quot;boomer&quot;, &quot;angry&quot;, … &quot;.&quot;]</td><td>[394, 201, … 26]</td><td>0</td></tr><tr><td>17334</td><td>2</td><td>&quot;get a thick book and cut a hol…</td><td>[&quot;book&quot;, &quot;cut&quot;, … &quot;.&quot;]</td><td>[393, 726, … 26]</td><td>1</td></tr><tr><td>10120</td><td>1</td><td>&quot;Exactly, it was a non harmful …</td><td>[&quot;exactly&quot;, &quot;,&quot;, … &quot;.&quot;]</td><td>[975, 22, … 26]</td><td>0</td></tr><tr><td>14711</td><td>3</td><td>&quot;The vast majority of my friend…</td><td>[&quot;vast&quot;, &quot;majority&quot;, … &quot;bang&quot;]</td><td>[2849, 1647, … 307]</td><td>1</td></tr><tr><td>155</td><td>1</td><td>&quot;sure can be... look at the For…</td><td>[&quot;sure&quot;, &quot;...&quot;, … &quot;.&quot;]</td><td>[2621, 28, … 26]</td><td>0</td></tr><tr><td>&hellip;</td><td>&hellip;</td><td>&hellip;</td><td>&hellip;</td><td>&hellip;</td><td>&hellip;</td></tr><tr><td>5886</td><td>2</td><td>&quot;do a stone ole stunna on may t…</td><td>[&quot;stone&quot;, &quot;ole&quot;, … &quot;fuka&quot;]</td><td>[2567, 1891, … 3000]</td><td>1</td></tr><tr><td>6928</td><td>0</td><td>&quot;Got any advice on getting rid …</td><td>[&quot;advice&quot;, &quot;rid&quot;, … &quot;haha&quot;]</td><td>[154, 2271, … 1224]</td><td>0</td></tr><tr><td>12710</td><td>0</td><td>&quot;. wants a federal court to blo…</td><td>[&quot;.&quot;, &quot;want&quot;, … &quot;.&quot;]</td><td>[26, 2881, … 26]</td><td>0</td></tr><tr><td>13761</td><td>1</td><td>&quot;I am okay with sterilize of ni…</td><td>[&quot;okay&quot;, &quot;sterilize&quot;, … &quot;.&quot;]</td><td>[1889, 3000, … 26]</td><td>0</td></tr><tr><td>10721</td><td>0</td><td>&quot;I&#x27;m a mgtow bro no one stealin…</td><td>[&quot;mgtow&quot;, &quot;bro&quot;, … &quot;bad&quot;]</td><td>[1714, 432, … 298]</td><td>0</td></tr></tbody></table></div>"
      ],
      "text/plain": [
       "shape: (20_000, 6)\n",
       "┌──────────────────┬───────────┬───────────────────┬───────────────────┬───────────────────┬───────┐\n",
       "│ rewire_id_number ┆ label_sum ┆ text              ┆ tokens            ┆ token_ids         ┆ label │\n",
       "│ ---              ┆ ---       ┆ ---               ┆ ---               ┆ ---               ┆ ---   │\n",
       "│ i64              ┆ i64       ┆ str               ┆ list[str]         ┆ list[i64]         ┆ i32   │\n",
       "╞══════════════════╪═══════════╪═══════════════════╪═══════════════════╪═══════════════════╪═══════╡\n",
       "│ 16804            ┆ 0         ┆ This boomer seems ┆ [\"boomer\",        ┆ [394, 201, … 26]  ┆ 0     │\n",
       "│                  ┆           ┆ very angry a…     ┆ \"angry\", … \".\"]   ┆                   ┆       │\n",
       "│ 17334            ┆ 2         ┆ get a thick book  ┆ [\"book\", \"cut\", … ┆ [393, 726, … 26]  ┆ 1     │\n",
       "│                  ┆           ┆ and cut a hol…    ┆ \".\"]              ┆                   ┆       │\n",
       "│ 10120            ┆ 1         ┆ Exactly, it was a ┆ [\"exactly\", \",\",  ┆ [975, 22, … 26]   ┆ 0     │\n",
       "│                  ┆           ┆ non harmful …     ┆ … \".\"]            ┆                   ┆       │\n",
       "│ 14711            ┆ 3         ┆ The vast majority ┆ [\"vast\",          ┆ [2849, 1647, …    ┆ 1     │\n",
       "│                  ┆           ┆ of my friend…     ┆ \"majority\", …     ┆ 307]              ┆       │\n",
       "│                  ┆           ┆                   ┆ \"bang\"]           ┆                   ┆       │\n",
       "│ 155              ┆ 1         ┆ sure can be...    ┆ [\"sure\", \"...\", … ┆ [2621, 28, … 26]  ┆ 0     │\n",
       "│                  ┆           ┆ look at the For…  ┆ \".\"]              ┆                   ┆       │\n",
       "│ …                ┆ …         ┆ …                 ┆ …                 ┆ …                 ┆ …     │\n",
       "│ 5886             ┆ 2         ┆ do a stone ole    ┆ [\"stone\", \"ole\",  ┆ [2567, 1891, …    ┆ 1     │\n",
       "│                  ┆           ┆ stunna on may t…  ┆ … \"fuka\"]         ┆ 3000]             ┆       │\n",
       "│ 6928             ┆ 0         ┆ Got any advice on ┆ [\"advice\", \"rid\", ┆ [154, 2271, …     ┆ 0     │\n",
       "│                  ┆           ┆ getting rid …     ┆ … \"haha\"]         ┆ 1224]             ┆       │\n",
       "│ 12710            ┆ 0         ┆ . wants a federal ┆ [\".\", \"want\", …   ┆ [26, 2881, … 26]  ┆ 0     │\n",
       "│                  ┆           ┆ court to blo…     ┆ \".\"]              ┆                   ┆       │\n",
       "│ 13761            ┆ 1         ┆ I am okay with    ┆ [\"okay\",          ┆ [1889, 3000, …    ┆ 0     │\n",
       "│                  ┆           ┆ sterilize of ni…  ┆ \"sterilize\", …    ┆ 26]               ┆       │\n",
       "│                  ┆           ┆                   ┆ \".\"]              ┆                   ┆       │\n",
       "│ 10721            ┆ 0         ┆ I'm a mgtow bro   ┆ [\"mgtow\", \"bro\",  ┆ [1714, 432, …     ┆ 0     │\n",
       "│                  ┆           ┆ no one stealin…   ┆ … \"bad\"]          ┆ 298]              ┆       │\n",
       "└──────────────────┴───────────┴───────────────────┴───────────────────┴───────────────────┴───────┘"
      ]
     },
     "execution_count": 2,
     "metadata": {},
     "output_type": "execute_result"
    }
   ],
   "source": [
    "df1 = load_data().collect()\n",
    "df2 = transform(df1)\n",
    "df2 = df2.with_columns(df1.select(\"rewire_id\"))\n",
    "df2 = df2.with_columns(\n",
    "    pl.col(\"rewire_id\").str.extract(r\"(\\d+)$\", 1).cast(pl.Int64).alias(\"rewire_id_number\")\n",
    ")\n",
    "set_label = df2.group_by(\"rewire_id_number\").agg([\n",
    "    pl.col(\"label\").sum().alias(\"label_sum\"),\n",
    "    pl.col(\"text\").first().alias(\"text\"),\n",
    "    pl.col(\"tokens\").first().alias(\"tokens\"),\n",
    "    pl.col(\"token_ids\").first().alias(\"token_ids\")\n",
    "    ]\n",
    ")\n",
    "set_label = set_label.with_columns(\n",
    "    pl.when(pl.col(\"label_sum\") >= 2).then(1).otherwise(0).alias(\"label\")  # Conditional update for 'label'\n",
    ")\n",
    "set_label"
   ]
  },
  {
   "cell_type": "code",
   "execution_count": 3,
   "metadata": {},
   "outputs": [
    {
     "data": {
      "text/html": [
       "<div><style>\n",
       ".dataframe > thead > tr,\n",
       ".dataframe > tbody > tr {\n",
       "  text-align: right;\n",
       "  white-space: pre-wrap;\n",
       "}\n",
       "</style>\n",
       "<small>shape: (20_000, 6)</small><table border=\"1\" class=\"dataframe\"><thead><tr><th>rewire_id_number</th><th>label_sum</th><th>text</th><th>tokens</th><th>token_ids</th><th>label</th></tr><tr><td>i64</td><td>i64</td><td>str</td><td>list[str]</td><td>list[i64]</td><td>i32</td></tr></thead><tbody><tr><td>16405</td><td>2</td><td>&quot;If you were born male you lost…</td><td>[&quot;bear&quot;, &quot;male&quot;, … &quot;.&quot;]</td><td>[325, 1650, … 26]</td><td>1</td></tr><tr><td>8816</td><td>0</td><td>&quot;Good, let&#x27;s start with her.&quot;</td><td>[&quot;good&quot;, &quot;,&quot;, … &quot;.&quot;]</td><td>[1181, 22, … 26]</td><td>0</td></tr><tr><td>14446</td><td>3</td><td>&quot;Trump&#x27;s America where police t…</td><td>[&quot;trump&quot;, &quot;&#x27;s&quot;, … &quot;😂&quot;]</td><td>[2778, 15, … 2994]</td><td>1</td></tr><tr><td>7229</td><td>0</td><td>&quot;Nothing wrong with being a str…</td><td>[&quot;wrong&quot;, &quot;stripper&quot;, … &quot;.&quot;]</td><td>[2959, 3000, … 26]</td><td>0</td></tr><tr><td>16140</td><td>0</td><td>&quot;#NRA spokeswoman #DanaLoesch s…</td><td>[&quot;#&quot;, &quot;nra&quot;, … &quot;:&quot;]</td><td>[7, 3000, … 86]</td><td>0</td></tr><tr><td>&hellip;</td><td>&hellip;</td><td>&hellip;</td><td>&hellip;</td><td>&hellip;</td><td>&hellip;</td></tr><tr><td>9685</td><td>0</td><td>&quot;Stands by her man! &quot;</td><td>[&quot;stand&quot;, &quot;man&quot;, &quot;!&quot;]</td><td>[2544, 1652, 0]</td><td>0</td></tr><tr><td>15961</td><td>2</td><td>&quot;Well, women do have high AF se…</td><td>[&quot;,&quot;, &quot;woman&quot;, … &quot;case&quot;]</td><td>[22, 2939, … 493]</td><td>1</td></tr><tr><td>14660</td><td>0</td><td>&quot;You&#x27;re the one saying your pol…</td><td>[&quot;say&quot;, &quot;political&quot;, … &quot;?&quot;]</td><td>[2331, 2025, … 98]</td><td>0</td></tr><tr><td>9956</td><td>0</td><td>&quot;Nazi faggots?? what literate p…</td><td>[&quot;nazi&quot;, &quot;faggot&quot;, … &quot;??&quot;]</td><td>[1813, 1009, … 101]</td><td>0</td></tr><tr><td>363</td><td>0</td><td>&quot;I think that&#x27;s probably correc…</td><td>[&quot;think&quot;, &quot;probably&quot;, … &quot;.&quot;]</td><td>[2690, 2089, … 26]</td><td>0</td></tr></tbody></table></div>"
      ],
      "text/plain": [
       "shape: (20_000, 6)\n",
       "┌──────────────────┬───────────┬───────────────────┬───────────────────┬───────────────────┬───────┐\n",
       "│ rewire_id_number ┆ label_sum ┆ text              ┆ tokens            ┆ token_ids         ┆ label │\n",
       "│ ---              ┆ ---       ┆ ---               ┆ ---               ┆ ---               ┆ ---   │\n",
       "│ i64              ┆ i64       ┆ str               ┆ list[str]         ┆ list[i64]         ┆ i32   │\n",
       "╞══════════════════╪═══════════╪═══════════════════╪═══════════════════╪═══════════════════╪═══════╡\n",
       "│ 16405            ┆ 2         ┆ If you were born  ┆ [\"bear\", \"male\",  ┆ [325, 1650, … 26] ┆ 1     │\n",
       "│                  ┆           ┆ male you lost…    ┆ … \".\"]            ┆                   ┆       │\n",
       "│ 8816             ┆ 0         ┆ Good, let's start ┆ [\"good\", \",\", …   ┆ [1181, 22, … 26]  ┆ 0     │\n",
       "│                  ┆           ┆ with her.         ┆ \".\"]              ┆                   ┆       │\n",
       "│ 14446            ┆ 3         ┆ Trump's America   ┆ [\"trump\", \"'s\", … ┆ [2778, 15, …      ┆ 1     │\n",
       "│                  ┆           ┆ where police t…   ┆ \"😂\"]             ┆ 2994]             ┆       │\n",
       "│ 7229             ┆ 0         ┆ Nothing wrong     ┆ [\"wrong\",         ┆ [2959, 3000, …    ┆ 0     │\n",
       "│                  ┆           ┆ with being a str… ┆ \"stripper\", …     ┆ 26]               ┆       │\n",
       "│                  ┆           ┆                   ┆ \".\"]              ┆                   ┆       │\n",
       "│ 16140            ┆ 0         ┆ #NRA spokeswoman  ┆ [\"#\", \"nra\", …    ┆ [7, 3000, … 86]   ┆ 0     │\n",
       "│                  ┆           ┆ #DanaLoesch s…    ┆ \":\"]              ┆                   ┆       │\n",
       "│ …                ┆ …         ┆ …                 ┆ …                 ┆ …                 ┆ …     │\n",
       "│ 9685             ┆ 0         ┆ Stands by her     ┆ [\"stand\", \"man\",  ┆ [2544, 1652, 0]   ┆ 0     │\n",
       "│                  ┆           ┆ man!              ┆ \"!\"]              ┆                   ┆       │\n",
       "│ 15961            ┆ 2         ┆ Well, women do    ┆ [\",\", \"woman\", …  ┆ [22, 2939, … 493] ┆ 1     │\n",
       "│                  ┆           ┆ have high AF se…  ┆ \"case\"]           ┆                   ┆       │\n",
       "│ 14660            ┆ 0         ┆ You're the one    ┆ [\"say\",           ┆ [2331, 2025, …    ┆ 0     │\n",
       "│                  ┆           ┆ saying your pol…  ┆ \"political\", …    ┆ 98]               ┆       │\n",
       "│                  ┆           ┆                   ┆ \"?\"]              ┆                   ┆       │\n",
       "│ 9956             ┆ 0         ┆ Nazi faggots??    ┆ [\"nazi\",          ┆ [1813, 1009, …    ┆ 0     │\n",
       "│                  ┆           ┆ what literate p…  ┆ \"faggot\", … \"??\"] ┆ 101]              ┆       │\n",
       "│ 363              ┆ 0         ┆ I think that's    ┆ [\"think\",         ┆ [2690, 2089, …    ┆ 0     │\n",
       "│                  ┆           ┆ probably correc…  ┆ \"probably\", …     ┆ 26]               ┆       │\n",
       "│                  ┆           ┆                   ┆ \".\"]              ┆                   ┆       │\n",
       "└──────────────────┴───────────┴───────────────────┴───────────────────┴───────────────────┴───────┘"
      ]
     },
     "execution_count": 3,
     "metadata": {},
     "output_type": "execute_result"
    }
   ],
   "source": [
    "majority()"
   ]
  }
 ],
 "metadata": {
  "kernelspec": {
   "display_name": ".venv",
   "language": "python",
   "name": "python3"
  },
  "language_info": {
   "codemirror_mode": {
    "name": "ipython",
    "version": 3
   },
   "file_extension": ".py",
   "mimetype": "text/x-python",
   "name": "python",
   "nbconvert_exporter": "python",
   "pygments_lexer": "ipython3",
   "version": "3.12.7"
  }
 },
 "nbformat": 4,
 "nbformat_minor": 2
}
