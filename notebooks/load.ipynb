{
 "cells": [
  {
   "cell_type": "code",
   "execution_count": 1,
   "id": "56bd27b5",
   "metadata": {
    "lines_to_next_cell": 0
   },
   "outputs": [],
   "source": [
    "%load_ext autoreload\n",
    "%autoreload 2"
   ]
  },
  {
   "cell_type": "markdown",
   "id": "124bfc41",
   "metadata": {},
   "source": [
    "\n"
   ]
  },
  {
   "cell_type": "code",
   "execution_count": 3,
   "id": "c19e5a24",
   "metadata": {
    "lines_to_next_cell": 2
   },
   "outputs": [
    {
     "data": {
      "text/plain": [
       "PosixPath('/home/lukas/Programming/uni/nlp-ie-label-legends/resource')"
      ]
     },
     "metadata": {},
     "output_type": "display_data"
    }
   ],
   "source": [
    "from pathlib import Path\n",
    "import polars as pl\n",
    "from polars.functions import col\n",
    "from stanza.pipeline.core import Pipeline\n",
    "from stanza.utils.conll import CoNLL, Document\n",
    "\n",
    "# from label_legends.preprocess import load_data, preprocess\n",
    "from label_legends.util import CONLL_DIR, ROOT, RESOURCE\n",
    "\n",
    "RESOURCE"
   ]
  },
  {
   "cell_type": "markdown",
   "id": "b69b3c1f",
   "metadata": {
    "lines_to_next_cell": 0
   },
   "source": [
    "# Download files"
   ]
  },
  {
   "cell_type": "code",
   "execution_count": null,
   "id": "383de949",
   "metadata": {},
   "outputs": [],
   "source": [
    "# ! wget --output-document resource/edos_labelled_individual_annotations.csv https://github.com/rewire-online/edos/raw/refs/heads/main/data/edos_labelled_individual_annotations.csv "
   ]
  },
  {
   "cell_type": "markdown",
   "id": "6ff633fa",
   "metadata": {
    "lines_to_next_cell": 0
   },
   "source": [
    "# Load file"
   ]
  },
  {
   "cell_type": "code",
   "execution_count": 4,
   "id": "8798c599",
   "metadata": {
    "lines_to_next_cell": 2
   },
   "outputs": [
    {
     "data": {
      "text/html": [
       "<div><style>\n",
       ".dataframe > thead > tr,\n",
       ".dataframe > tbody > tr {\n",
       "  text-align: right;\n",
       "  white-space: pre-wrap;\n",
       "}\n",
       "</style>\n",
       "<small>shape: (60_000, 7)</small><table border=\"1\" class=\"dataframe\"><thead><tr><th>rewire_id</th><th>text</th><th>annotator</th><th>label_sexist</th><th>label_category</th><th>label_vector</th><th>split</th></tr><tr><td>str</td><td>str</td><td>i64</td><td>str</td><td>str</td><td>str</td><td>str</td></tr></thead><tbody><tr><td>&quot;sexism2022_english-0&quot;</td><td>&quot;[USER] I wonder what keeps tha…</td><td>17</td><td>&quot;sexist&quot;</td><td>&quot;2. derogation&quot;</td><td>&quot;2.2 aggressive and emotive att…</td><td>&quot;train&quot;</td></tr><tr><td>&quot;sexism2022_english-0&quot;</td><td>&quot;[USER] I wonder what keeps tha…</td><td>2</td><td>&quot;sexist&quot;</td><td>&quot;2. derogation&quot;</td><td>&quot;2.2 aggressive and emotive att…</td><td>&quot;train&quot;</td></tr><tr><td>&quot;sexism2022_english-0&quot;</td><td>&quot;[USER] I wonder what keeps tha…</td><td>6</td><td>&quot;not sexist&quot;</td><td>&quot;none&quot;</td><td>&quot;none&quot;</td><td>&quot;train&quot;</td></tr><tr><td>&quot;sexism2022_english-1&quot;</td><td>&quot;What do you guys think about f…</td><td>17</td><td>&quot;not sexist&quot;</td><td>&quot;none&quot;</td><td>&quot;none&quot;</td><td>&quot;train&quot;</td></tr><tr><td>&quot;sexism2022_english-1&quot;</td><td>&quot;What do you guys think about f…</td><td>15</td><td>&quot;not sexist&quot;</td><td>&quot;none&quot;</td><td>&quot;none&quot;</td><td>&quot;train&quot;</td></tr><tr><td>&hellip;</td><td>&hellip;</td><td>&hellip;</td><td>&hellip;</td><td>&hellip;</td><td>&hellip;</td><td>&hellip;</td></tr><tr><td>&quot;sexism2022_english-9998&quot;</td><td>&quot;Since 1973, America has sancti…</td><td>2</td><td>&quot;sexist&quot;</td><td>&quot;4. prejudiced discussions&quot;</td><td>&quot;4.2 supporting systemic discri…</td><td>&quot;test&quot;</td></tr><tr><td>&quot;sexism2022_english-9998&quot;</td><td>&quot;Since 1973, America has sancti…</td><td>16</td><td>&quot;not sexist&quot;</td><td>&quot;none&quot;</td><td>&quot;none&quot;</td><td>&quot;test&quot;</td></tr><tr><td>&quot;sexism2022_english-9999&quot;</td><td>&quot;Laura Bates Lol she looks like…</td><td>2</td><td>&quot;sexist&quot;</td><td>&quot;2. derogation&quot;</td><td>&quot;2.2 aggressive and emotive att…</td><td>&quot;train&quot;</td></tr><tr><td>&quot;sexism2022_english-9999&quot;</td><td>&quot;Laura Bates Lol she looks like…</td><td>16</td><td>&quot;not sexist&quot;</td><td>&quot;none&quot;</td><td>&quot;none&quot;</td><td>&quot;train&quot;</td></tr><tr><td>&quot;sexism2022_english-9999&quot;</td><td>&quot;Laura Bates Lol she looks like…</td><td>17</td><td>&quot;sexist&quot;</td><td>&quot;2. derogation&quot;</td><td>&quot;2.2 aggressive and emotive att…</td><td>&quot;train&quot;</td></tr></tbody></table></div>"
      ],
      "text/plain": [
       "shape: (60_000, 7)\n",
       "┌───────────────┬───────────────┬───────────┬──────────────┬───────────────┬───────────────┬───────┐\n",
       "│ rewire_id     ┆ text          ┆ annotator ┆ label_sexist ┆ label_categor ┆ label_vector  ┆ split │\n",
       "│ ---           ┆ ---           ┆ ---       ┆ ---          ┆ y             ┆ ---           ┆ ---   │\n",
       "│ str           ┆ str           ┆ i64       ┆ str          ┆ ---           ┆ str           ┆ str   │\n",
       "│               ┆               ┆           ┆              ┆ str           ┆               ┆       │\n",
       "╞═══════════════╪═══════════════╪═══════════╪══════════════╪═══════════════╪═══════════════╪═══════╡\n",
       "│ sexism2022_en ┆ [USER] I      ┆ 17        ┆ sexist       ┆ 2. derogation ┆ 2.2           ┆ train │\n",
       "│ glish-0       ┆ wonder what   ┆           ┆              ┆               ┆ aggressive    ┆       │\n",
       "│               ┆ keeps tha…    ┆           ┆              ┆               ┆ and emotive   ┆       │\n",
       "│               ┆               ┆           ┆              ┆               ┆ att…          ┆       │\n",
       "│ sexism2022_en ┆ [USER] I      ┆ 2         ┆ sexist       ┆ 2. derogation ┆ 2.2           ┆ train │\n",
       "│ glish-0       ┆ wonder what   ┆           ┆              ┆               ┆ aggressive    ┆       │\n",
       "│               ┆ keeps tha…    ┆           ┆              ┆               ┆ and emotive   ┆       │\n",
       "│               ┆               ┆           ┆              ┆               ┆ att…          ┆       │\n",
       "│ sexism2022_en ┆ [USER] I      ┆ 6         ┆ not sexist   ┆ none          ┆ none          ┆ train │\n",
       "│ glish-0       ┆ wonder what   ┆           ┆              ┆               ┆               ┆       │\n",
       "│               ┆ keeps tha…    ┆           ┆              ┆               ┆               ┆       │\n",
       "│ sexism2022_en ┆ What do you   ┆ 17        ┆ not sexist   ┆ none          ┆ none          ┆ train │\n",
       "│ glish-1       ┆ guys think    ┆           ┆              ┆               ┆               ┆       │\n",
       "│               ┆ about f…      ┆           ┆              ┆               ┆               ┆       │\n",
       "│ sexism2022_en ┆ What do you   ┆ 15        ┆ not sexist   ┆ none          ┆ none          ┆ train │\n",
       "│ glish-1       ┆ guys think    ┆           ┆              ┆               ┆               ┆       │\n",
       "│               ┆ about f…      ┆           ┆              ┆               ┆               ┆       │\n",
       "│ …             ┆ …             ┆ …         ┆ …            ┆ …             ┆ …             ┆ …     │\n",
       "│ sexism2022_en ┆ Since 1973,   ┆ 2         ┆ sexist       ┆ 4. prejudiced ┆ 4.2           ┆ test  │\n",
       "│ glish-9998    ┆ America has   ┆           ┆              ┆ discussions   ┆ supporting    ┆       │\n",
       "│               ┆ sancti…       ┆           ┆              ┆               ┆ systemic      ┆       │\n",
       "│               ┆               ┆           ┆              ┆               ┆ discri…       ┆       │\n",
       "│ sexism2022_en ┆ Since 1973,   ┆ 16        ┆ not sexist   ┆ none          ┆ none          ┆ test  │\n",
       "│ glish-9998    ┆ America has   ┆           ┆              ┆               ┆               ┆       │\n",
       "│               ┆ sancti…       ┆           ┆              ┆               ┆               ┆       │\n",
       "│ sexism2022_en ┆ Laura Bates   ┆ 2         ┆ sexist       ┆ 2. derogation ┆ 2.2           ┆ train │\n",
       "│ glish-9999    ┆ Lol she looks ┆           ┆              ┆               ┆ aggressive    ┆       │\n",
       "│               ┆ like…         ┆           ┆              ┆               ┆ and emotive   ┆       │\n",
       "│               ┆               ┆           ┆              ┆               ┆ att…          ┆       │\n",
       "│ sexism2022_en ┆ Laura Bates   ┆ 16        ┆ not sexist   ┆ none          ┆ none          ┆ train │\n",
       "│ glish-9999    ┆ Lol she looks ┆           ┆              ┆               ┆               ┆       │\n",
       "│               ┆ like…         ┆           ┆              ┆               ┆               ┆       │\n",
       "│ sexism2022_en ┆ Laura Bates   ┆ 17        ┆ sexist       ┆ 2. derogation ┆ 2.2           ┆ train │\n",
       "│ glish-9999    ┆ Lol she looks ┆           ┆              ┆               ┆ aggressive    ┆       │\n",
       "│               ┆ like…         ┆           ┆              ┆               ┆ and emotive   ┆       │\n",
       "│               ┆               ┆           ┆              ┆               ┆ att…          ┆       │\n",
       "└───────────────┴───────────────┴───────────┴──────────────┴───────────────┴───────────────┴───────┘"
      ]
     },
     "metadata": {},
     "output_type": "display_data"
    }
   ],
   "source": [
    "df = pl.scan_csv(RESOURCE / \"edos_labelled_individual_annotations.csv\")\n",
    "df.collect()"
   ]
  },
  {
   "cell_type": "code",
   "execution_count": 5,
   "id": "a944fbff",
   "metadata": {
    "lines_to_next_cell": 0
   },
   "outputs": [
    {
     "data": {
      "text/html": [
       "<div><style>\n",
       ".dataframe > thead > tr,\n",
       ".dataframe > tbody > tr {\n",
       "  text-align: right;\n",
       "  white-space: pre-wrap;\n",
       "}\n",
       "</style>\n",
       "<small>shape: (42_000, 7)</small><table border=\"1\" class=\"dataframe\"><thead><tr><th>rewire_id</th><th>text</th><th>annotator</th><th>label_sexist</th><th>label_category</th><th>label_vector</th><th>split</th></tr><tr><td>str</td><td>str</td><td>i64</td><td>str</td><td>str</td><td>str</td><td>str</td></tr></thead><tbody><tr><td>&quot;sexism2022_english-0&quot;</td><td>&quot;[USER] I wonder what keeps tha…</td><td>17</td><td>&quot;sexist&quot;</td><td>&quot;2. derogation&quot;</td><td>&quot;2.2 aggressive and emotive att…</td><td>&quot;train&quot;</td></tr><tr><td>&quot;sexism2022_english-0&quot;</td><td>&quot;[USER] I wonder what keeps tha…</td><td>2</td><td>&quot;sexist&quot;</td><td>&quot;2. derogation&quot;</td><td>&quot;2.2 aggressive and emotive att…</td><td>&quot;train&quot;</td></tr><tr><td>&quot;sexism2022_english-0&quot;</td><td>&quot;[USER] I wonder what keeps tha…</td><td>6</td><td>&quot;not sexist&quot;</td><td>&quot;none&quot;</td><td>&quot;none&quot;</td><td>&quot;train&quot;</td></tr><tr><td>&quot;sexism2022_english-1&quot;</td><td>&quot;What do you guys think about f…</td><td>17</td><td>&quot;not sexist&quot;</td><td>&quot;none&quot;</td><td>&quot;none&quot;</td><td>&quot;train&quot;</td></tr><tr><td>&quot;sexism2022_english-1&quot;</td><td>&quot;What do you guys think about f…</td><td>15</td><td>&quot;not sexist&quot;</td><td>&quot;none&quot;</td><td>&quot;none&quot;</td><td>&quot;train&quot;</td></tr><tr><td>&hellip;</td><td>&hellip;</td><td>&hellip;</td><td>&hellip;</td><td>&hellip;</td><td>&hellip;</td><td>&hellip;</td></tr><tr><td>&quot;sexism2022_english-9995&quot;</td><td>&quot;[USER] *nod* i try to balance …</td><td>15</td><td>&quot;not sexist&quot;</td><td>&quot;none&quot;</td><td>&quot;none&quot;</td><td>&quot;train&quot;</td></tr><tr><td>&quot;sexism2022_english-9995&quot;</td><td>&quot;[USER] *nod* i try to balance …</td><td>14</td><td>&quot;not sexist&quot;</td><td>&quot;none&quot;</td><td>&quot;none&quot;</td><td>&quot;train&quot;</td></tr><tr><td>&quot;sexism2022_english-9999&quot;</td><td>&quot;Laura Bates Lol she looks like…</td><td>2</td><td>&quot;sexist&quot;</td><td>&quot;2. derogation&quot;</td><td>&quot;2.2 aggressive and emotive att…</td><td>&quot;train&quot;</td></tr><tr><td>&quot;sexism2022_english-9999&quot;</td><td>&quot;Laura Bates Lol she looks like…</td><td>16</td><td>&quot;not sexist&quot;</td><td>&quot;none&quot;</td><td>&quot;none&quot;</td><td>&quot;train&quot;</td></tr><tr><td>&quot;sexism2022_english-9999&quot;</td><td>&quot;Laura Bates Lol she looks like…</td><td>17</td><td>&quot;sexist&quot;</td><td>&quot;2. derogation&quot;</td><td>&quot;2.2 aggressive and emotive att…</td><td>&quot;train&quot;</td></tr></tbody></table></div>"
      ],
      "text/plain": [
       "shape: (42_000, 7)\n",
       "┌───────────────┬───────────────┬───────────┬──────────────┬───────────────┬───────────────┬───────┐\n",
       "│ rewire_id     ┆ text          ┆ annotator ┆ label_sexist ┆ label_categor ┆ label_vector  ┆ split │\n",
       "│ ---           ┆ ---           ┆ ---       ┆ ---          ┆ y             ┆ ---           ┆ ---   │\n",
       "│ str           ┆ str           ┆ i64       ┆ str          ┆ ---           ┆ str           ┆ str   │\n",
       "│               ┆               ┆           ┆              ┆ str           ┆               ┆       │\n",
       "╞═══════════════╪═══════════════╪═══════════╪══════════════╪═══════════════╪═══════════════╪═══════╡\n",
       "│ sexism2022_en ┆ [USER] I      ┆ 17        ┆ sexist       ┆ 2. derogation ┆ 2.2           ┆ train │\n",
       "│ glish-0       ┆ wonder what   ┆           ┆              ┆               ┆ aggressive    ┆       │\n",
       "│               ┆ keeps tha…    ┆           ┆              ┆               ┆ and emotive   ┆       │\n",
       "│               ┆               ┆           ┆              ┆               ┆ att…          ┆       │\n",
       "│ sexism2022_en ┆ [USER] I      ┆ 2         ┆ sexist       ┆ 2. derogation ┆ 2.2           ┆ train │\n",
       "│ glish-0       ┆ wonder what   ┆           ┆              ┆               ┆ aggressive    ┆       │\n",
       "│               ┆ keeps tha…    ┆           ┆              ┆               ┆ and emotive   ┆       │\n",
       "│               ┆               ┆           ┆              ┆               ┆ att…          ┆       │\n",
       "│ sexism2022_en ┆ [USER] I      ┆ 6         ┆ not sexist   ┆ none          ┆ none          ┆ train │\n",
       "│ glish-0       ┆ wonder what   ┆           ┆              ┆               ┆               ┆       │\n",
       "│               ┆ keeps tha…    ┆           ┆              ┆               ┆               ┆       │\n",
       "│ sexism2022_en ┆ What do you   ┆ 17        ┆ not sexist   ┆ none          ┆ none          ┆ train │\n",
       "│ glish-1       ┆ guys think    ┆           ┆              ┆               ┆               ┆       │\n",
       "│               ┆ about f…      ┆           ┆              ┆               ┆               ┆       │\n",
       "│ sexism2022_en ┆ What do you   ┆ 15        ┆ not sexist   ┆ none          ┆ none          ┆ train │\n",
       "│ glish-1       ┆ guys think    ┆           ┆              ┆               ┆               ┆       │\n",
       "│               ┆ about f…      ┆           ┆              ┆               ┆               ┆       │\n",
       "│ …             ┆ …             ┆ …         ┆ …            ┆ …             ┆ …             ┆ …     │\n",
       "│ sexism2022_en ┆ [USER] *nod*  ┆ 15        ┆ not sexist   ┆ none          ┆ none          ┆ train │\n",
       "│ glish-9995    ┆ i try to      ┆           ┆              ┆               ┆               ┆       │\n",
       "│               ┆ balance …     ┆           ┆              ┆               ┆               ┆       │\n",
       "│ sexism2022_en ┆ [USER] *nod*  ┆ 14        ┆ not sexist   ┆ none          ┆ none          ┆ train │\n",
       "│ glish-9995    ┆ i try to      ┆           ┆              ┆               ┆               ┆       │\n",
       "│               ┆ balance …     ┆           ┆              ┆               ┆               ┆       │\n",
       "│ sexism2022_en ┆ Laura Bates   ┆ 2         ┆ sexist       ┆ 2. derogation ┆ 2.2           ┆ train │\n",
       "│ glish-9999    ┆ Lol she looks ┆           ┆              ┆               ┆ aggressive    ┆       │\n",
       "│               ┆ like…         ┆           ┆              ┆               ┆ and emotive   ┆       │\n",
       "│               ┆               ┆           ┆              ┆               ┆ att…          ┆       │\n",
       "│ sexism2022_en ┆ Laura Bates   ┆ 16        ┆ not sexist   ┆ none          ┆ none          ┆ train │\n",
       "│ glish-9999    ┆ Lol she looks ┆           ┆              ┆               ┆               ┆       │\n",
       "│               ┆ like…         ┆           ┆              ┆               ┆               ┆       │\n",
       "│ sexism2022_en ┆ Laura Bates   ┆ 17        ┆ sexist       ┆ 2. derogation ┆ 2.2           ┆ train │\n",
       "│ glish-9999    ┆ Lol she looks ┆           ┆              ┆               ┆ aggressive    ┆       │\n",
       "│               ┆ like…         ┆           ┆              ┆               ┆ and emotive   ┆       │\n",
       "│               ┆               ┆           ┆              ┆               ┆ att…          ┆       │\n",
       "└───────────────┴───────────────┴───────────┴──────────────┴───────────────┴───────────────┴───────┘"
      ]
     },
     "metadata": {},
     "output_type": "display_data"
    }
   ],
   "source": [
    "df.filter( col(\"split\") == \"train\").collect()"
   ]
  },
  {
   "cell_type": "markdown",
   "id": "a38a5258",
   "metadata": {},
   "source": []
  }
 ],
 "metadata": {
  "kernelspec": {
   "display_name": "Python 3",
   "language": "python",
   "name": "python3"
  },
  "language_info": {
   "codemirror_mode": {
    "name": "ipython"
   },
   "file_extension": ".py",
   "mimetype": "text/x-python",
   "name": "python",
   "nbconvert_exporter": "python",
   "pygments_lexer": "ipython3"
  }
 },
 "nbformat": 4,
 "nbformat_minor": 5
}
